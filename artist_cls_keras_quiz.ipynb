{
  "cells": [
    {
      "cell_type": "markdown",
      "metadata": {
        "id": "view-in-github",
        "colab_type": "text"
      },
      "source": [
        "<a href=\"https://colab.research.google.com/github/jihyeon602/DeepLearning_practice/blob/main/artist_cls_keras_quiz.ipynb\" target=\"_parent\"><img src=\"https://colab.research.google.com/assets/colab-badge.svg\" alt=\"Open In Colab\"/></a>"
      ]
    },
    {
      "cell_type": "code",
      "execution_count": 2,
      "metadata": {
        "id": "aZin1aZE05UZ"
      },
      "outputs": [],
      "source": [
        "# Import libraries\n",
        "import pandas as pd\n",
        "import numpy as np\n",
        "import matplotlib.pyplot as plt\n",
        "import json\n",
        "import os\n",
        "from tqdm import tqdm, tqdm_notebook\n",
        "import random\n",
        "\n",
        "import tensorflow as tf\n",
        "from tensorflow.keras.preprocessing.image import ImageDataGenerator\n",
        "from tensorflow.keras.models import Model, Sequential\n",
        "from tensorflow.keras.layers import *\n",
        "from tensorflow.keras.optimizers import *\n",
        "from tensorflow.keras.applications import *\n",
        "from tensorflow.keras.callbacks import *\n",
        "from tensorflow.keras.initializers import *\n",
        "from tensorflow.keras import layers\n",
        "from tensorflow.keras.models import Sequential\n",
        "\n",
        "#You can import other libraries if you want"
      ]
    },
    {
      "cell_type": "code",
      "source": [
        "!pip install tensorflow"
      ],
      "metadata": {
        "colab": {
          "base_uri": "https://localhost:8080/"
        },
        "collapsed": true,
        "id": "MO9S4TnFqNto",
        "outputId": "12a5e6da-e956-41da-f3ac-fdb3dd2f07c4"
      },
      "execution_count": 3,
      "outputs": [
        {
          "output_type": "stream",
          "name": "stdout",
          "text": [
            "Requirement already satisfied: tensorflow in /usr/local/lib/python3.11/dist-packages (2.18.0)\n",
            "Requirement already satisfied: absl-py>=1.0.0 in /usr/local/lib/python3.11/dist-packages (from tensorflow) (1.4.0)\n",
            "Requirement already satisfied: astunparse>=1.6.0 in /usr/local/lib/python3.11/dist-packages (from tensorflow) (1.6.3)\n",
            "Requirement already satisfied: flatbuffers>=24.3.25 in /usr/local/lib/python3.11/dist-packages (from tensorflow) (25.2.10)\n",
            "Requirement already satisfied: gast!=0.5.0,!=0.5.1,!=0.5.2,>=0.2.1 in /usr/local/lib/python3.11/dist-packages (from tensorflow) (0.6.0)\n",
            "Requirement already satisfied: google-pasta>=0.1.1 in /usr/local/lib/python3.11/dist-packages (from tensorflow) (0.2.0)\n",
            "Requirement already satisfied: libclang>=13.0.0 in /usr/local/lib/python3.11/dist-packages (from tensorflow) (18.1.1)\n",
            "Requirement already satisfied: opt-einsum>=2.3.2 in /usr/local/lib/python3.11/dist-packages (from tensorflow) (3.4.0)\n",
            "Requirement already satisfied: packaging in /usr/local/lib/python3.11/dist-packages (from tensorflow) (24.2)\n",
            "Requirement already satisfied: protobuf!=4.21.0,!=4.21.1,!=4.21.2,!=4.21.3,!=4.21.4,!=4.21.5,<6.0.0dev,>=3.20.3 in /usr/local/lib/python3.11/dist-packages (from tensorflow) (5.29.4)\n",
            "Requirement already satisfied: requests<3,>=2.21.0 in /usr/local/lib/python3.11/dist-packages (from tensorflow) (2.32.3)\n",
            "Requirement already satisfied: setuptools in /usr/local/lib/python3.11/dist-packages (from tensorflow) (75.2.0)\n",
            "Requirement already satisfied: six>=1.12.0 in /usr/local/lib/python3.11/dist-packages (from tensorflow) (1.17.0)\n",
            "Requirement already satisfied: termcolor>=1.1.0 in /usr/local/lib/python3.11/dist-packages (from tensorflow) (3.0.1)\n",
            "Requirement already satisfied: typing-extensions>=3.6.6 in /usr/local/lib/python3.11/dist-packages (from tensorflow) (4.13.1)\n",
            "Requirement already satisfied: wrapt>=1.11.0 in /usr/local/lib/python3.11/dist-packages (from tensorflow) (1.17.2)\n",
            "Requirement already satisfied: grpcio<2.0,>=1.24.3 in /usr/local/lib/python3.11/dist-packages (from tensorflow) (1.71.0)\n",
            "Requirement already satisfied: tensorboard<2.19,>=2.18 in /usr/local/lib/python3.11/dist-packages (from tensorflow) (2.18.0)\n",
            "Requirement already satisfied: keras>=3.5.0 in /usr/local/lib/python3.11/dist-packages (from tensorflow) (3.8.0)\n",
            "Requirement already satisfied: numpy<2.1.0,>=1.26.0 in /usr/local/lib/python3.11/dist-packages (from tensorflow) (2.0.2)\n",
            "Requirement already satisfied: h5py>=3.11.0 in /usr/local/lib/python3.11/dist-packages (from tensorflow) (3.13.0)\n",
            "Requirement already satisfied: ml-dtypes<0.5.0,>=0.4.0 in /usr/local/lib/python3.11/dist-packages (from tensorflow) (0.4.1)\n",
            "Requirement already satisfied: tensorflow-io-gcs-filesystem>=0.23.1 in /usr/local/lib/python3.11/dist-packages (from tensorflow) (0.37.1)\n",
            "Requirement already satisfied: wheel<1.0,>=0.23.0 in /usr/local/lib/python3.11/dist-packages (from astunparse>=1.6.0->tensorflow) (0.45.1)\n",
            "Requirement already satisfied: rich in /usr/local/lib/python3.11/dist-packages (from keras>=3.5.0->tensorflow) (13.9.4)\n",
            "Requirement already satisfied: namex in /usr/local/lib/python3.11/dist-packages (from keras>=3.5.0->tensorflow) (0.0.8)\n",
            "Requirement already satisfied: optree in /usr/local/lib/python3.11/dist-packages (from keras>=3.5.0->tensorflow) (0.15.0)\n",
            "Requirement already satisfied: charset-normalizer<4,>=2 in /usr/local/lib/python3.11/dist-packages (from requests<3,>=2.21.0->tensorflow) (3.4.1)\n",
            "Requirement already satisfied: idna<4,>=2.5 in /usr/local/lib/python3.11/dist-packages (from requests<3,>=2.21.0->tensorflow) (3.10)\n",
            "Requirement already satisfied: urllib3<3,>=1.21.1 in /usr/local/lib/python3.11/dist-packages (from requests<3,>=2.21.0->tensorflow) (2.3.0)\n",
            "Requirement already satisfied: certifi>=2017.4.17 in /usr/local/lib/python3.11/dist-packages (from requests<3,>=2.21.0->tensorflow) (2025.1.31)\n",
            "Requirement already satisfied: markdown>=2.6.8 in /usr/local/lib/python3.11/dist-packages (from tensorboard<2.19,>=2.18->tensorflow) (3.7)\n",
            "Requirement already satisfied: tensorboard-data-server<0.8.0,>=0.7.0 in /usr/local/lib/python3.11/dist-packages (from tensorboard<2.19,>=2.18->tensorflow) (0.7.2)\n",
            "Requirement already satisfied: werkzeug>=1.0.1 in /usr/local/lib/python3.11/dist-packages (from tensorboard<2.19,>=2.18->tensorflow) (3.1.3)\n",
            "Requirement already satisfied: MarkupSafe>=2.1.1 in /usr/local/lib/python3.11/dist-packages (from werkzeug>=1.0.1->tensorboard<2.19,>=2.18->tensorflow) (3.0.2)\n",
            "Requirement already satisfied: markdown-it-py>=2.2.0 in /usr/local/lib/python3.11/dist-packages (from rich->keras>=3.5.0->tensorflow) (3.0.0)\n",
            "Requirement already satisfied: pygments<3.0.0,>=2.13.0 in /usr/local/lib/python3.11/dist-packages (from rich->keras>=3.5.0->tensorflow) (2.18.0)\n",
            "Requirement already satisfied: mdurl~=0.1 in /usr/local/lib/python3.11/dist-packages (from markdown-it-py>=2.2.0->rich->keras>=3.5.0->tensorflow) (0.1.2)\n"
          ]
        }
      ]
    },
    {
      "cell_type": "code",
      "execution_count": 8,
      "metadata": {
        "id": "QUdVCNV6CgHq"
      },
      "outputs": [],
      "source": [
        "#If it is not installed in your environment"
      ]
    },
    {
      "cell_type": "code",
      "execution_count": 4,
      "metadata": {
        "id": "NfzZLyLT1tlA"
      },
      "outputs": [],
      "source": [
        "###### DO NOT MODIFY THIS PART\n",
        "seed = 2024\n",
        "os.environ['PYTHONHASHSEED'] = str(seed) # fix your random seed : In same model, you produce the same result\n",
        "np.random.seed(seed)\n",
        "tf.random.set_seed(seed)\n",
        "random.seed(seed)\n",
        "######"
      ]
    },
    {
      "cell_type": "code",
      "execution_count": 5,
      "metadata": {
        "id": "Fpn-atMu12ew"
      },
      "outputs": [],
      "source": [
        "artists = pd.read_csv('/content/artists_train.csv') # your own directory, artists.csv\n",
        "# Sort artists by number of paintings\n",
        "artists = artists.sort_values(by=['paintings'], ascending=False)\n",
        "\n",
        "# Create a dataframe\n",
        "artists_top = artists[artists['paintings'] >= 0].reset_index()\n",
        "artists_top = artists_top[['name', 'paintings']]\n",
        "\n",
        "updated_name = \"Albrecht_Dürer\".replace(\"_\", \" \")\n",
        "artists_top.iloc[4, 0] = updated_name"
      ]
    },
    {
      "cell_type": "code",
      "source": [
        "!unzip -q /content/art-20250418T021045Z-001.zip -d /content/art/"
      ],
      "metadata": {
        "id": "zkNcKSxjr7bw"
      },
      "execution_count": 11,
      "outputs": []
    },
    {
      "cell_type": "code",
      "execution_count": 12,
      "metadata": {
        "colab": {
          "base_uri": "https://localhost:8080/"
        },
        "id": "NbNEFv1y13TA",
        "outputId": "ac63d97a-70a1-4f66-e302-faae18758b1c"
      },
      "outputs": [
        {
          "output_type": "stream",
          "name": "stdout",
          "text": [
            "find --> /content/art/art/train/Vincent_van_Gogh\n",
            "find --> /content/art/art/train/Edgar_Degas\n",
            "find --> /content/art/art/train/Pablo_Picasso\n",
            "find --> /content/art/art/train/Pierre-Auguste_Renoir\n",
            "find --> /content/art/art/train/Albrecht_Durer\n",
            "find --> /content/art/art/train/Paul_Gauguin\n",
            "find --> /content/art/art/train/Francisco_Goya\n",
            "find --> /content/art/art/train/Rembrandt\n",
            "find --> /content/art/art/train/Alfred_Sisley\n",
            "find --> /content/art/art/train/Titian\n",
            "find --> /content/art/art/train/Marc_Chagall\n"
          ]
        }
      ],
      "source": [
        "# Explore images of top artists\n",
        "images_dir =  '/content/art/art/train'\n",
        "artists_dirs = os.listdir(images_dir)\n",
        "artists_top_name = artists_top['name'].str.replace(' ', '_').str.replace('ü', 'u').values\n",
        "\n",
        "# See if all directories exist\n",
        "for name in artists_top_name:\n",
        "    if os.path.exists(os.path.join(images_dir, name)):  # images_idr: directory folder // name: label (y)\n",
        "        print(\"find -->\", os.path.join(images_dir, name))\n",
        "    else:\n",
        "        print(\"Did not find -->\", os.path.join(images_dir, name))"
      ]
    },
    {
      "cell_type": "code",
      "execution_count": 13,
      "metadata": {
        "colab": {
          "base_uri": "https://localhost:8080/"
        },
        "id": "Cxvahvbi2PLu",
        "outputId": "3ec2cd65-9c2d-4721-9e61-c080f0b741d1"
      },
      "outputs": [
        {
          "output_type": "stream",
          "name": "stdout",
          "text": [
            "Found 2470 images belonging to 11 classes.\n",
            "Found 152 images belonging to 11 classes.\n",
            "Total number of batches = 38 and 2\n"
          ]
        }
      ],
      "source": [
        "batch_size = 64\n",
        "img_height = 244\n",
        "img_width = 244\n",
        "input_shape = (img_height, img_width)\n",
        "n_classes = 11\n",
        "classes = ['Vincent_van_Gogh', 'Edgar_Degas', 'Pablo_Picasso', 'Pierre-Auguste_Renoir',\n",
        "    'Albrecht_Durer', 'Paul_Gauguin', 'Francisco_Goya', 'Rembrandt',\n",
        "    'Alfred_Sisley', 'Titian', 'Marc_Chagall']\n",
        "\n",
        "#Image data generate with validation data fraction of 0.2 and data rescale 1/255.\n",
        "train_datagen = ImageDataGenerator(rescale=1./255, validation_split=0.2,\n",
        "                                  )  #데이터 실시간 로딩\n",
        "val_datagen = ImageDataGenerator(rescale=1./255)\n",
        "\n",
        "train_generator = train_datagen.flow_from_directory(directory='/content/art/art/train',\n",
        "                                                    class_mode='categorical',\n",
        "                                                    target_size=input_shape,\n",
        "                                                    batch_size=batch_size,\n",
        "                                                    subset=\"training\",\n",
        "                                                    shuffle=True,\n",
        "                                                    classes=artists_top_name.tolist()\n",
        "                                                   )\n",
        "\n",
        "valid_generator = train_datagen.flow_from_directory(directory='/content/art/art/val',\n",
        "                                                    class_mode='categorical',\n",
        "                                                    target_size=input_shape,\n",
        "                                                    batch_size=batch_size,\n",
        "                                                    subset=\"validation\",\n",
        "                                                    shuffle=False,\n",
        "                                                    classes=artists_top_name.tolist()\n",
        "                                                   )\n",
        "\n",
        "STEP_SIZE_TRAIN = train_generator.n//train_generator.batch_size\n",
        "STEP_SIZE_VALID = valid_generator.n//valid_generator.batch_size\n",
        "print(\"Total number of batches =\", STEP_SIZE_TRAIN, \"and\", STEP_SIZE_VALID)"
      ]
    },
    {
      "cell_type": "code",
      "execution_count": 14,
      "metadata": {
        "colab": {
          "base_uri": "https://localhost:8080/"
        },
        "id": "PWAd6QHOAHu5",
        "outputId": "7311e324-fd36-488f-8c4b-16c584fbe39f"
      },
      "outputs": [
        {
          "output_type": "execute_result",
          "data": {
            "text/plain": [
              "((64, 244, 244, 3), (64, 11))"
            ]
          },
          "metadata": {},
          "execution_count": 14
        }
      ],
      "source": [
        "image, label = next(iter(train_generator))\n",
        "image.shape, label.shape"
      ]
    },
    {
      "cell_type": "code",
      "execution_count": 15,
      "metadata": {
        "id": "7YQsWavO2QhT"
      },
      "outputs": [],
      "source": [
        "#######################\n",
        "# Make your own model #\n",
        "#######################\n",
        "from tensorflow import keras\n",
        "from tensorflow.keras import layers\n",
        "from tensorflow.keras.models import Sequential\n",
        "from tensorflow.keras.layers import Flatten\n",
        "from tensorflow.keras.layers import Dense\n",
        "from tensorflow.keras.layers import Dropout\n",
        "from tensorflow.keras.applications import VGG16\n",
        "\n",
        "img_height = 244\n",
        "img_width = 244\n",
        "#num_classes = len(classes) # img_height, img_width\n",
        "num_classes = 11\n"
      ]
    },
    {
      "cell_type": "code",
      "execution_count": null,
      "metadata": {
        "id": "ninGvMCV2Rw7"
      },
      "outputs": [],
      "source": [
        "'''\n",
        "과적합\n",
        "from tensorflow.keras.callbacks import EarlyStopping\n",
        "\n",
        "# 모델 정의\n",
        "model = tf.keras.models.Sequential([\n",
        "    tf.keras.layers.Conv2D(32, (3, 3), activation='relu', input_shape=(img_height, img_width, 3)),\n",
        "    tf.keras.layers.MaxPooling2D(pool_size=(2, 2)),\n",
        "    tf.keras.layers.Conv2D(64, (3, 3), activation='relu'),\n",
        "    tf.keras.layers.MaxPooling2D(pool_size=(2, 2)),\n",
        "    tf.keras.layers.Flatten(),\n",
        "    tf.keras.layers.Dense(128, activation='relu'),\n",
        "    tf.keras.layers.Dense(num_classes, activation='softmax')  # num_classes는 11\n",
        "])\n",
        "\n",
        "model.compile(optimizer='adam', loss='categorical_crossentropy', metrics=['accuracy'])\n",
        "\n",
        "# EarlyStopping 설정\n",
        "early_stop = EarlyStopping(\n",
        "    monitor='val_loss',        # 검증 손실 기준\n",
        "    patience=5,                # 개선 없으면 5 epoch 후 중단\n",
        "    restore_best_weights=True # 가장 성능 좋았던 가중치 복원\n",
        ")\n",
        "\n",
        "#training\n",
        "n_epoch = 15 #10~15로 줄이기\n",
        "history = model.fit(train_generator, steps_per_epoch=len(train_generator),\n",
        "                              validation_data=valid_generator, validation_steps=len(valid_generator),\n",
        "                              epochs=n_epoch, callbacks=[early_stop]) #you can add kwargs if you want\n",
        "\n",
        "print(f\"Training complete with final accuracy: {history.history['accuracy'][-1]}\")\n",
        "'''"
      ]
    },
    {
      "cell_type": "code",
      "source": [
        "import tensorflow as tf\n",
        "from tensorflow.keras import layers, Model\n",
        "from tensorflow.keras.callbacks import EarlyStopping\n",
        "import pickle\n",
        "import os\n",
        "\n",
        "# Residual Block 정의\n",
        "class ResidualBlock(Model):\n",
        "    def __init__(self, num_kernels, kernel_size):\n",
        "        super(ResidualBlock, self).__init__()\n",
        "        self.num_kernels = num_kernels\n",
        "        self.kernel_size = kernel_size\n",
        "\n",
        "        self.conv1 = layers.Conv2D(num_kernels, kernel_size=kernel_size, padding=\"same\", activation=\"relu\")\n",
        "        self.conv2 = layers.Conv2D(num_kernels, kernel_size=kernel_size, padding=\"same\", activation=\"relu\")\n",
        "        self.add = layers.Add()\n",
        "        self.relu = layers.Activation(\"relu\")\n",
        "        self.projection = None\n",
        "\n",
        "    def build(self, input_shape):\n",
        "        input_channels = input_shape[-1]\n",
        "        if input_channels != self.num_kernels:\n",
        "            # 입력 채널과 출력 채널이 다르면 1x1 conv로 projection\n",
        "            self.projection = layers.Conv2D(self.num_kernels, kernel_size=(1, 1), padding=\"same\")\n",
        "        else:\n",
        "            # 같으면 그대로 통과\n",
        "            self.projection = lambda x: x\n",
        "\n",
        "    def call(self, input_tensor):\n",
        "        x = self.conv1(input_tensor)\n",
        "        x = self.conv2(x)\n",
        "        shortcut = self.projection(input_tensor)\n",
        "        x = self.add([x, shortcut])\n",
        "        return self.relu(x)\n",
        "\n",
        "#  ResNet 모델 빌드 함수\n",
        "def build_resnet(input_shape, num_classes):\n",
        "    model = tf.keras.Sequential()\n",
        "    model.add(layers.Conv2D(64, (3, 3), padding=\"same\", activation=\"relu\", input_shape=input_shape))\n",
        "    model.add(layers.MaxPooling2D(pool_size=(2, 2)))\n",
        "\n",
        "    model.add(ResidualBlock(128, (3, 3)))\n",
        "    model.add(ResidualBlock(128, (3, 3)))\n",
        "    model.add(ResidualBlock(128, (3, 3)))\n",
        "\n",
        "    model.add(layers.GlobalAveragePooling2D())\n",
        "    model.add(layers.Dense(128, activation='relu'))\n",
        "    model.add(layers.Dense(num_classes, activation='softmax'))\n",
        "    return model\n",
        "\n",
        "#  전체 학습 파이프라인\n",
        "def main():\n",
        "    input_shape = (244, 244, 3)  # Example input shape\n",
        "    num_classes = 11\n",
        "    n_epoch = 40\n",
        "\n",
        "    model = build_resnet(input_shape, num_classes)\n",
        "    model.compile(optimizer='adam', loss='categorical_crossentropy', metrics=['accuracy'])\n",
        "\n",
        "    # EarlyStopping 설정(정확도 5번 연속 개선이 안되면 학습 멈추기)\n",
        "    early_stop = EarlyStopping(monitor='val_loss', patience=5, restore_best_weights=True)\n",
        "\n",
        "    # 학습\n",
        "    history = model.fit(\n",
        "        train_generator,\n",
        "        steps_per_epoch=len(train_generator),\n",
        "        validation_data=valid_generator,\n",
        "        validation_steps=len(valid_generator),\n",
        "        epochs=n_epoch,\n",
        "        callbacks=[early_stop]\n",
        "    )\n",
        "\n",
        "    # 모델 저장 경로\n",
        "    model_dir = '/content/keras_clf'\n",
        "    os.makedirs(model_dir, exist_ok=True)\n",
        "\n",
        "    # 모델 저장\n",
        "    model.save(os.path.join(model_dir, 'my_model.keras'))\n",
        "\n",
        "    # history 저장\n",
        "    with open('/content/keras_clf/history.pkl', 'wb') as f:\n",
        "        pickle.dump(history.history, f)\n",
        "\n",
        "    print(f\"Training complete with final accuracy: {history.history['accuracy'][-1]:.4f}\")\n",
        "\n",
        "    # history 출력 (훈련 과정 확인)\n",
        "    print(\"History keys:\", history.history.keys())\n",
        "    print(\"Final training history:\", history.history)\n",
        "\n",
        "if __name__ == \"__main__\":\n",
        "    main()"
      ],
      "metadata": {
        "colab": {
          "base_uri": "https://localhost:8080/"
        },
        "id": "16ojWJZY7rHj",
        "outputId": "05add04d-4bb7-4851-c1b1-7d85447c04cb"
      },
      "execution_count": null,
      "outputs": [
        {
          "output_type": "stream",
          "name": "stderr",
          "text": [
            "/usr/local/lib/python3.11/dist-packages/keras/src/layers/convolutional/base_conv.py:107: UserWarning: Do not pass an `input_shape`/`input_dim` argument to a layer. When using Sequential models, prefer using an `Input(shape)` object as the first layer in the model instead.\n",
            "  super().__init__(activity_regularizer=activity_regularizer, **kwargs)\n",
            "/usr/local/lib/python3.11/dist-packages/keras/src/trainers/data_adapters/py_dataset_adapter.py:121: UserWarning: Your `PyDataset` class should call `super().__init__(**kwargs)` in its constructor. `**kwargs` can include `workers`, `use_multiprocessing`, `max_queue_size`. Do not pass these arguments to `fit()`, as they will be ignored.\n",
            "  self._warn_if_super_not_called()\n"
          ]
        },
        {
          "output_type": "stream",
          "name": "stdout",
          "text": [
            "Epoch 1/40\n",
            "\u001b[1m14/39\u001b[0m \u001b[32m━━━━━━━\u001b[0m\u001b[37m━━━━━━━━━━━━━\u001b[0m \u001b[1m46:36\u001b[0m 112s/step - accuracy: 0.1698 - loss: 2.3237"
          ]
        }
      ]
    },
    {
      "cell_type": "code",
      "source": [
        "from google.colab import drive\n",
        "drive.mount('/content/art')\n",
        "drive.mount('/content/keras_clf')"
      ],
      "metadata": {
        "id": "Fco_i293AKHv"
      },
      "execution_count": null,
      "outputs": []
    },
    {
      "cell_type": "code",
      "source": [
        "import matplotlib.pyplot as plt\n",
        "\n",
        "history_file_path = '/content/keras_clf/history.pkl'\n",
        "with open(history_file_path, 'rb') as f:\n",
        "    history = pickle.load(f)\n",
        "\n",
        "his = history.keys()\n",
        "print(his)\n",
        "\n",
        "his = dict()\n",
        "\n",
        "his['loss'] = history['loss']\n",
        "his['accuracy'] = history['accuracy']\n",
        "his['val_loss'] = history['val_loss']\n",
        "his['val_accuracy'] = history['val_accuracy']\n",
        "\n",
        "# 학습 결과 그래프 그리기\n",
        "def plot_training(history):\n",
        "    acc = history['accuracy']\n",
        "    val_acc = history['val_accuracy']\n",
        "    loss = history['loss']\n",
        "    val_loss = history['val_loss']\n",
        "    epochs = range(len(acc))\n",
        "\n",
        "    fig, axes = plt.subplots(1, 2, figsize=(15, 5))\n",
        "\n",
        "    # Training and Validation Accuracy\n",
        "    axes[0].plot(epochs, acc, 'r-', label='Training Accuracy')\n",
        "    axes[0].plot(epochs, val_acc, 'b--', label='Validation Accuracy')\n",
        "    axes[0].set_title('Training and Validation Accuracy')\n",
        "    axes[0].legend(loc='best')\n",
        "\n",
        "    # Training and Validation Loss\n",
        "    axes[1].plot(epochs, loss, 'r-', label='Training Loss')\n",
        "    axes[1].plot(epochs, val_loss, 'b--', label='Validation Loss')\n",
        "    axes[1].set_title('Training and Validation Loss')\n",
        "    axes[1].legend(loc='best')\n",
        "\n",
        "    plt.show()\n",
        "\n",
        "# 그래프 그리기\n",
        "plot_training(his)"
      ],
      "metadata": {
        "colab": {
          "base_uri": "https://localhost:8080/",
          "height": 486
        },
        "id": "0L8oRD2K3X8C",
        "outputId": "42944abe-69be-4d10-d713-73ee88151a18"
      },
      "execution_count": 19,
      "outputs": [
        {
          "output_type": "stream",
          "name": "stdout",
          "text": [
            "dict_keys(['accuracy', 'loss', 'val_accuracy', 'val_loss'])\n"
          ]
        },
        {
          "output_type": "display_data",
          "data": {
            "text/plain": [
              "<Figure size 1500x500 with 2 Axes>"
            ],
            "image/png": "[encoded data removed]"
          },
          "metadata": {}
        }
      ]
    },
    {
      "cell_type": "markdown",
      "metadata": {
        "id": "O-cssbL2P_uh"
      },
      "source": [
        "# TEST"
      ]
    },
    {
      "cell_type": "code",
      "execution_count": 7,
      "metadata": {
        "id": "eS5jFcBBQCOX"
      },
      "outputs": [],
      "source": [
        "# Import libraries\n",
        "import pandas as pd\n",
        "import numpy as np\n",
        "import matplotlib.pyplot as plt\n",
        "import json\n",
        "import os\n",
        "from tqdm import tqdm, tqdm_notebook\n",
        "import random\n",
        "\n",
        "import tensorflow as tf\n",
        "\n",
        "from tensorflow.keras.preprocessing.image import ImageDataGenerator\n",
        "from tensorflow.keras.models import Model, Sequential\n",
        "from tensorflow.keras.layers import *\n",
        "from tensorflow.keras.optimizers import *\n",
        "from tensorflow.keras.applications import *\n",
        "from tensorflow.keras.callbacks import *\n",
        "from tensorflow.keras.initializers import *\n",
        "\n",
        "#You can import other libraries if you want"
      ]
    },
    {
      "cell_type": "code",
      "execution_count": 8,
      "metadata": {
        "id": "zKgqxpwuQFeq"
      },
      "outputs": [],
      "source": [
        "###### DO NOT MODIFY THIS PART\n",
        "seed = 2024\n",
        "os.environ['PYTHONHASHSEED'] = str(seed)  # fix your random seed : In same model, you produce the same result\n",
        "np.random.seed(seed)\n",
        "tf.random.set_seed(seed)\n",
        "random.seed(seed)\n",
        "\n",
        "######"
      ]
    },
    {
      "cell_type": "code",
      "execution_count": 9,
      "metadata": {
        "id": "KAxsxSJoQHFn"
      },
      "outputs": [],
      "source": [
        "artists = pd.read_csv('/content/artists_test.csv') # type your directory, artists_test.csv\n",
        "# Sort artists by number of paintings\n",
        "artists = artists.sort_values(by=['paintings'], ascending=False)\n",
        "\n",
        "# Create a dataframe\n",
        "artists_top = artists[artists['paintings'] >= 0].reset_index()\n",
        "artists_top = artists_top[['name', 'paintings']]\n",
        "\n",
        "updated_name = \"Albrecht_Dürer\".replace(\"_\", \" \")\n",
        "artists_top.iloc[4, 0] = updated_name"
      ]
    },
    {
      "cell_type": "code",
      "source": [
        "!unzip -q /content/test-20250418T021044Z-001.zip -d /content/test/"
      ],
      "metadata": {
        "id": "1tPFuhSy0G-q"
      },
      "execution_count": 10,
      "outputs": []
    },
    {
      "cell_type": "code",
      "execution_count": 27,
      "metadata": {
        "colab": {
          "base_uri": "https://localhost:8080/"
        },
        "id": "kNRg5vuNQIiM",
        "outputId": "6fc40a74-e4fe-46af-9357-0c431afc7906"
      },
      "outputs": [
        {
          "output_type": "stream",
          "name": "stdout",
          "text": [
            "1\n",
            "11\n",
            "Found 0 images belonging to 11 classes.\n",
            "0\n"
          ]
        }
      ],
      "source": [
        "### DO NOT EXCUTE THIS SHELL ###\n",
        "#Test set load\n",
        "test_images_dir =  '/content/test/test/test' # type your directory, test images folder\n",
        "artists_dirs = os.listdir(test_images_dir)\n",
        "print(len(artists_dirs))\n",
        "artists_top_name = artists_top['name'].str.replace(' ', '_').str.replace('ü', 'u').values\n",
        "\n",
        "input_shape = (img_height, img_width)\n",
        "n_classes = artists_top.shape[0]\n",
        "print(n_classes)\n",
        "classes=artists_top_name.tolist() #\n",
        "\n",
        "test_datagen = ImageDataGenerator()\n",
        "\n",
        "test_generator = test_datagen.flow_from_directory(directory=test_images_dir,\n",
        "                                                    class_mode='categorical',\n",
        "                                                    target_size=input_shape,\n",
        "                                                    batch_size=1,\n",
        "                                                    shuffle=False,\n",
        "                                                    seed=seed,\n",
        "                                                    classes=artists_top_name.tolist()\n",
        "                                                   )\n",
        "print(test_generator.n)"
      ]
    },
    {
      "cell_type": "code",
      "execution_count": null,
      "metadata": {
        "id": "eV4Kp7ciGdRB"
      },
      "outputs": [],
      "source": [
        "import os\n",
        "import pandas as pd\n",
        "from tensorflow.keras.preprocessing.image import ImageDataGenerator\n",
        "\n",
        "img_height = 244\n",
        "img_width = 244\n",
        "\n",
        "test_images_dir = '/content/test/test/test' # test images folder\n",
        "\n",
        "\n",
        "test_image_files = os.listdir(test_images_dir)"
      ]
    },
    {
      "cell_type": "code",
      "execution_count": null,
      "metadata": {
        "colab": {
          "base_uri": "https://localhost:8080/"
        },
        "id": "8gZgpRmkQJ7l",
        "outputId": "398ccafe-5915-418f-8e2e-bcf6640d0866"
      },
      "outputs": [
        {
          "name": "stdout",
          "output_type": "stream",
          "text": [
            "220/220 [==============================] - 6s 21ms/step\n"
          ]
        }
      ],
      "source": [
        "model = tf.keras.models.load_model() # model fole path\n",
        "\n",
        "test_generator.reset()\n",
        "output = model.predict(test_generator, steps=test_generator.n)\n",
        "output = np.argmax(output, axis=-1)\n",
        "prediction = pd.DataFrame(output, index=test_generator.filenames, columns=['predictions']).sort_index().to_csv() # Type your student ID"
      ]
    },
    {
      "cell_type": "markdown",
      "source": [
        "# YOLO"
      ],
      "metadata": {
        "id": "t2JFz366gXnt"
      }
    },
    {
      "cell_type": "code",
      "source": [
        "#프로젝트 클론\n",
        "!git clone https://github.com/ultralytics/ultralytics.git"
      ],
      "metadata": {
        "id": "Of_Uy-PSgcl2"
      },
      "execution_count": null,
      "outputs": []
    },
    {
      "cell_type": "code",
      "source": [
        " # 라이브러리 설치\n",
        "\n",
        "!pip install ultralytics"
      ],
      "metadata": {
        "id": "cbq_ikeOgny0"
      },
      "execution_count": null,
      "outputs": []
    },
    {
      "cell_type": "code",
      "source": [
        "#학습 cli\n",
        "!yolo classify train data=/content/art/art/train model = yolo11s-cls epochs=50"
      ],
      "metadata": {
        "id": "aecaKq1agpjI"
      },
      "execution_count": null,
      "outputs": []
    }
  ],
  "metadata": {
    "accelerator": "GPU",
    "colab": {
      "gpuType": "T4",
      "provenance": [],
      "include_colab_link": true
    },
    "kernelspec": {
      "display_name": "Python 3",
      "name": "python3"
    },
    "language_info": {
      "name": "python"
    }
  },
  "nbformat": 4,
  "nbformat_minor": 0
}