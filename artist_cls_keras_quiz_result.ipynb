{
  "cells": [
    {
      "cell_type": "markdown",
      "metadata": {
        "id": "view-in-github",
        "colab_type": "text"
      },
      "source": [
        "<a href=\"https://colab.research.google.com/github/jihyeon602/DeepLearning_practice/blob/main/artist_cls_keras_quiz_result.ipynb\" target=\"_parent\"><img src=\"https://colab.research.google.com/assets/colab-badge.svg\" alt=\"Open In Colab\"/></a>"
      ]
    },
    {
      "cell_type": "code",
      "execution_count": null,
      "metadata": {
        "id": "aZin1aZE05UZ"
      },
      "outputs": [],
      "source": [
        "# Import libraries\n",
        "import pandas as pd\n",
        "import numpy as np\n",
        "import matplotlib.pyplot as plt\n",
        "import json\n",
        "import os\n",
        "from tqdm import tqdm, tqdm_notebook\n",
        "import random\n",
        "\n",
        "import tensorflow as tf\n",
        "from tensorflow.keras.preprocessing.image import ImageDataGenerator\n",
        "from tensorflow.keras.models import Model, Sequential\n",
        "from tensorflow.keras.layers import *\n",
        "from tensorflow.keras.optimizers import *\n",
        "from tensorflow.keras.applications import *\n",
        "from tensorflow.keras.callbacks import *\n",
        "from tensorflow.keras.initializers import *\n",
        "from tensorflow.keras import layers\n",
        "from tensorflow.keras.models import Sequential\n",
        "\n",
        "#You can import other libraries if you want"
      ]
    },
    {
      "cell_type": "code",
      "source": [
        "!pip install tensorflow"
      ],
      "metadata": {
        "colab": {
          "base_uri": "https://localhost:8080/"
        },
        "collapsed": true,
        "id": "MO9S4TnFqNto",
        "outputId": "2a683581-811a-4197-db2b-1d10b13ddf67"
      },
      "execution_count": null,
      "outputs": [
        {
          "output_type": "stream",
          "name": "stdout",
          "text": [
            "Requirement already satisfied: tensorflow in /usr/local/lib/python3.11/dist-packages (2.18.0)\n",
            "Requirement already satisfied: absl-py>=1.0.0 in /usr/local/lib/python3.11/dist-packages (from tensorflow) (1.4.0)\n",
            "Requirement already satisfied: astunparse>=1.6.0 in /usr/local/lib/python3.11/dist-packages (from tensorflow) (1.6.3)\n",
            "Requirement already satisfied: flatbuffers>=24.3.25 in /usr/local/lib/python3.11/dist-packages (from tensorflow) (25.2.10)\n",
            "Requirement already satisfied: gast!=0.5.0,!=0.5.1,!=0.5.2,>=0.2.1 in /usr/local/lib/python3.11/dist-packages (from tensorflow) (0.6.0)\n",
            "Requirement already satisfied: google-pasta>=0.1.1 in /usr/local/lib/python3.11/dist-packages (from tensorflow) (0.2.0)\n",
            "Requirement already satisfied: libclang>=13.0.0 in /usr/local/lib/python3.11/dist-packages (from tensorflow) (18.1.1)\n",
            "Requirement already satisfied: opt-einsum>=2.3.2 in /usr/local/lib/python3.11/dist-packages (from tensorflow) (3.4.0)\n",
            "Requirement already satisfied: packaging in /usr/local/lib/python3.11/dist-packages (from tensorflow) (24.2)\n",
            "Requirement already satisfied: protobuf!=4.21.0,!=4.21.1,!=4.21.2,!=4.21.3,!=4.21.4,!=4.21.5,<6.0.0dev,>=3.20.3 in /usr/local/lib/python3.11/dist-packages (from tensorflow) (5.29.4)\n",
            "Requirement already satisfied: requests<3,>=2.21.0 in /usr/local/lib/python3.11/dist-packages (from tensorflow) (2.32.3)\n",
            "Requirement already satisfied: setuptools in /usr/local/lib/python3.11/dist-packages (from tensorflow) (75.2.0)\n",
            "Requirement already satisfied: six>=1.12.0 in /usr/local/lib/python3.11/dist-packages (from tensorflow) (1.17.0)\n",
            "Requirement already satisfied: termcolor>=1.1.0 in /usr/local/lib/python3.11/dist-packages (from tensorflow) (3.0.1)\n",
            "Requirement already satisfied: typing-extensions>=3.6.6 in /usr/local/lib/python3.11/dist-packages (from tensorflow) (4.13.2)\n",
            "Requirement already satisfied: wrapt>=1.11.0 in /usr/local/lib/python3.11/dist-packages (from tensorflow) (1.17.2)\n",
            "Requirement already satisfied: grpcio<2.0,>=1.24.3 in /usr/local/lib/python3.11/dist-packages (from tensorflow) (1.71.0)\n",
            "Requirement already satisfied: tensorboard<2.19,>=2.18 in /usr/local/lib/python3.11/dist-packages (from tensorflow) (2.18.0)\n",
            "Requirement already satisfied: keras>=3.5.0 in /usr/local/lib/python3.11/dist-packages (from tensorflow) (3.8.0)\n",
            "Requirement already satisfied: numpy<2.1.0,>=1.26.0 in /usr/local/lib/python3.11/dist-packages (from tensorflow) (2.0.2)\n",
            "Requirement already satisfied: h5py>=3.11.0 in /usr/local/lib/python3.11/dist-packages (from tensorflow) (3.13.0)\n",
            "Requirement already satisfied: ml-dtypes<0.5.0,>=0.4.0 in /usr/local/lib/python3.11/dist-packages (from tensorflow) (0.4.1)\n",
            "Requirement already satisfied: tensorflow-io-gcs-filesystem>=0.23.1 in /usr/local/lib/python3.11/dist-packages (from tensorflow) (0.37.1)\n",
            "Requirement already satisfied: wheel<1.0,>=0.23.0 in /usr/local/lib/python3.11/dist-packages (from astunparse>=1.6.0->tensorflow) (0.45.1)\n",
            "Requirement already satisfied: rich in /usr/local/lib/python3.11/dist-packages (from keras>=3.5.0->tensorflow) (13.9.4)\n",
            "Requirement already satisfied: namex in /usr/local/lib/python3.11/dist-packages (from keras>=3.5.0->tensorflow) (0.0.8)\n",
            "Requirement already satisfied: optree in /usr/local/lib/python3.11/dist-packages (from keras>=3.5.0->tensorflow) (0.15.0)\n",
            "Requirement already satisfied: charset-normalizer<4,>=2 in /usr/local/lib/python3.11/dist-packages (from requests<3,>=2.21.0->tensorflow) (3.4.1)\n",
            "Requirement already satisfied: idna<4,>=2.5 in /usr/local/lib/python3.11/dist-packages (from requests<3,>=2.21.0->tensorflow) (3.10)\n",
            "Requirement already satisfied: urllib3<3,>=1.21.1 in /usr/local/lib/python3.11/dist-packages (from requests<3,>=2.21.0->tensorflow) (2.3.0)\n",
            "Requirement already satisfied: certifi>=2017.4.17 in /usr/local/lib/python3.11/dist-packages (from requests<3,>=2.21.0->tensorflow) (2025.1.31)\n",
            "Requirement already satisfied: markdown>=2.6.8 in /usr/local/lib/python3.11/dist-packages (from tensorboard<2.19,>=2.18->tensorflow) (3.8)\n",
            "Requirement already satisfied: tensorboard-data-server<0.8.0,>=0.7.0 in /usr/local/lib/python3.11/dist-packages (from tensorboard<2.19,>=2.18->tensorflow) (0.7.2)\n",
            "Requirement already satisfied: werkzeug>=1.0.1 in /usr/local/lib/python3.11/dist-packages (from tensorboard<2.19,>=2.18->tensorflow) (3.1.3)\n",
            "Requirement already satisfied: MarkupSafe>=2.1.1 in /usr/local/lib/python3.11/dist-packages (from werkzeug>=1.0.1->tensorboard<2.19,>=2.18->tensorflow) (3.0.2)\n",
            "Requirement already satisfied: markdown-it-py>=2.2.0 in /usr/local/lib/python3.11/dist-packages (from rich->keras>=3.5.0->tensorflow) (3.0.0)\n",
            "Requirement already satisfied: pygments<3.0.0,>=2.13.0 in /usr/local/lib/python3.11/dist-packages (from rich->keras>=3.5.0->tensorflow) (2.18.0)\n",
            "Requirement already satisfied: mdurl~=0.1 in /usr/local/lib/python3.11/dist-packages (from markdown-it-py>=2.2.0->rich->keras>=3.5.0->tensorflow) (0.1.2)\n"
          ]
        }
      ]
    },
    {
      "cell_type": "code",
      "execution_count": null,
      "metadata": {
        "id": "QUdVCNV6CgHq"
      },
      "outputs": [],
      "source": [
        "#If it is not installed in your environment"
      ]
    },
    {
      "cell_type": "code",
      "execution_count": null,
      "metadata": {
        "id": "NfzZLyLT1tlA"
      },
      "outputs": [],
      "source": [
        "###### DO NOT MODIFY THIS PART\n",
        "seed = 2024\n",
        "os.environ['PYTHONHASHSEED'] = str(seed) # fix your random seed : In same model, you produce the same result\n",
        "np.random.seed(seed)\n",
        "tf.random.set_seed(seed)\n",
        "random.seed(seed)\n",
        "######"
      ]
    },
    {
      "cell_type": "code",
      "execution_count": null,
      "metadata": {
        "id": "Fpn-atMu12ew"
      },
      "outputs": [],
      "source": [
        "artists = pd.read_csv('/content/artists_train.csv') # your own directory, artists.csv\n",
        "# Sort artists by number of paintings\n",
        "artists = artists.sort_values(by=['paintings'], ascending=False)\n",
        "\n",
        "# Create a dataframe\n",
        "artists_top = artists[artists['paintings'] >= 0].reset_index()\n",
        "artists_top = artists_top[['name', 'paintings']]\n",
        "\n",
        "updated_name = \"Albrecht_Dürer\".replace(\"_\", \" \")\n",
        "artists_top.iloc[4, 0] = updated_name"
      ]
    },
    {
      "cell_type": "code",
      "source": [
        "!unzip -q /content/art-20250420T141430Z-001.zip -d /content/art/"
      ],
      "metadata": {
        "id": "zkNcKSxjr7bw"
      },
      "execution_count": null,
      "outputs": []
    },
    {
      "cell_type": "code",
      "source": [
        "from google.colab import drive\n",
        "drive.mount('/content/drive')"
      ],
      "metadata": {
        "colab": {
          "base_uri": "https://localhost:8080/"
        },
        "id": "cPVxMVLgl2R5",
        "outputId": "35ea50a5-d18b-48a0-ec67-a87ea5927a01"
      },
      "execution_count": null,
      "outputs": [
        {
          "output_type": "stream",
          "name": "stdout",
          "text": [
            "Mounted at /content/drive\n"
          ]
        }
      ]
    },
    {
      "cell_type": "code",
      "execution_count": null,
      "metadata": {
        "colab": {
          "base_uri": "https://localhost:8080/"
        },
        "id": "NbNEFv1y13TA",
        "outputId": "c25352fc-bf92-42d0-f925-4db898fe3363"
      },
      "outputs": [
        {
          "output_type": "stream",
          "name": "stdout",
          "text": [
            "find --> /content/art/art/train/Vincent_van_Gogh\n",
            "find --> /content/art/art/train/Edgar_Degas\n",
            "find --> /content/art/art/train/Pablo_Picasso\n",
            "find --> /content/art/art/train/Pierre-Auguste_Renoir\n",
            "find --> /content/art/art/train/Albrecht_Durer\n",
            "find --> /content/art/art/train/Paul_Gauguin\n",
            "find --> /content/art/art/train/Francisco_Goya\n",
            "find --> /content/art/art/train/Rembrandt\n",
            "find --> /content/art/art/train/Alfred_Sisley\n",
            "find --> /content/art/art/train/Titian\n",
            "find --> /content/art/art/train/Marc_Chagall\n"
          ]
        }
      ],
      "source": [
        "# Explore images of top artists\n",
        "images_dir =  '/content/art/art/train'\n",
        "artists_dirs = os.listdir(images_dir)\n",
        "artists_top_name = artists_top['name'].str.replace(' ', '_').str.replace('ü', 'u').values\n",
        "\n",
        "# See if all directories exist\n",
        "for name in artists_top_name:\n",
        "    if os.path.exists(os.path.join(images_dir, name)):  # images_idr: directory folder // name: label (y)\n",
        "        print(\"find -->\", os.path.join(images_dir, name))\n",
        "    else:\n",
        "        print(\"Did not find -->\", os.path.join(images_dir, name))"
      ]
    },
    {
      "cell_type": "code",
      "execution_count": null,
      "metadata": {
        "colab": {
          "base_uri": "https://localhost:8080/"
        },
        "id": "Cxvahvbi2PLu",
        "outputId": "a922b58f-f2e8-487e-f126-34a921f42a00"
      },
      "outputs": [
        {
          "output_type": "stream",
          "name": "stdout",
          "text": [
            "Found 2470 images belonging to 11 classes.\n",
            "Found 152 images belonging to 11 classes.\n",
            "Total number of batches = 38 and 2\n"
          ]
        }
      ],
      "source": [
        "batch_size = 64\n",
        "img_height = 244\n",
        "img_width = 244\n",
        "input_shape = (img_height, img_width)\n",
        "n_classes = 11\n",
        "classes = ['Vincent_van_Gogh', 'Edgar_Degas', 'Pablo_Picasso', 'Pierre-Auguste_Renoir',\n",
        "    'Albrecht_Durer', 'Paul_Gauguin', 'Francisco_Goya', 'Rembrandt',\n",
        "    'Alfred_Sisley', 'Titian', 'Marc_Chagall']\n",
        "\n",
        "#Image data generate with validation data fraction of 0.2 and data rescale 1/255.\n",
        "train_datagen = ImageDataGenerator(rescale=1./255, validation_split=0.2,\n",
        "                                  )  #데이터 실시간 로딩\n",
        "val_datagen = ImageDataGenerator(rescale=1./255)\n",
        "\n",
        "train_generator = train_datagen.flow_from_directory(directory='/content/art/art/train',\n",
        "                                                    class_mode='categorical',\n",
        "                                                    target_size=input_shape,\n",
        "                                                    batch_size=batch_size,\n",
        "                                                    subset=\"training\",\n",
        "                                                    shuffle=True,\n",
        "                                                    classes=artists_top_name.tolist()\n",
        "                                                   )\n",
        "\n",
        "valid_generator = train_datagen.flow_from_directory(directory='/content/art/art/val',\n",
        "                                                    class_mode='categorical',\n",
        "                                                    target_size=input_shape,\n",
        "                                                    batch_size=batch_size,\n",
        "                                                    subset=\"validation\",\n",
        "                                                    shuffle=False,\n",
        "                                                    classes=artists_top_name.tolist()\n",
        "                                                   )\n",
        "\n",
        "STEP_SIZE_TRAIN = train_generator.n//train_generator.batch_size\n",
        "STEP_SIZE_VALID = valid_generator.n//valid_generator.batch_size\n",
        "print(\"Total number of batches =\", STEP_SIZE_TRAIN, \"and\", STEP_SIZE_VALID)"
      ]
    },
    {
      "cell_type": "code",
      "execution_count": null,
      "metadata": {
        "colab": {
          "base_uri": "https://localhost:8080/"
        },
        "id": "PWAd6QHOAHu5",
        "outputId": "dae2a3fd-df66-4e1e-deba-4b29fbc2bef2"
      },
      "outputs": [
        {
          "output_type": "execute_result",
          "data": {
            "text/plain": [
              "((64, 244, 244, 3), (64, 11))"
            ]
          },
          "metadata": {},
          "execution_count": 26
        }
      ],
      "source": [
        "image, label = next(iter(train_generator))\n",
        "image.shape, label.shape"
      ]
    },
    {
      "cell_type": "code",
      "execution_count": null,
      "metadata": {
        "id": "7YQsWavO2QhT"
      },
      "outputs": [],
      "source": [
        "#######################\n",
        "# Make your own model #\n",
        "#######################\n",
        "from tensorflow import keras\n",
        "from tensorflow.keras import layers\n",
        "from tensorflow.keras.models import Sequential\n",
        "from tensorflow.keras.layers import Flatten\n",
        "from tensorflow.keras.layers import Dense\n",
        "from tensorflow.keras.layers import Dropout\n",
        "from tensorflow.keras.applications import VGG16\n",
        "\n",
        "img_height = 244\n",
        "img_width = 244\n",
        "#num_classes = len(classes) # img_height, img_width\n",
        "num_classes = 11\n"
      ]
    },
    {
      "cell_type": "code",
      "execution_count": null,
      "metadata": {
        "id": "ninGvMCV2Rw7"
      },
      "outputs": [],
      "source": [
        "'''\n",
        "과적합\n",
        "from tensorflow.keras.callbacks import EarlyStopping\n",
        "\n",
        "# 모델 정의\n",
        "model = tf.keras.models.Sequential([\n",
        "    tf.keras.layers.Conv2D(32, (3, 3), activation='relu', input_shape=(img_height, img_width, 3)),\n",
        "    tf.keras.layers.MaxPooling2D(pool_size=(2, 2)),\n",
        "    tf.keras.layers.Conv2D(64, (3, 3), activation='relu'),\n",
        "    tf.keras.layers.MaxPooling2D(pool_size=(2, 2)),\n",
        "    tf.keras.layers.Flatten(),\n",
        "    tf.keras.layers.Dense(128, activation='relu'),\n",
        "    tf.keras.layers.Dense(num_classes, activation='softmax')  # num_classes는 11\n",
        "])\n",
        "\n",
        "model.compile(optimizer='adam', loss='categorical_crossentropy', metrics=['accuracy'])\n",
        "\n",
        "# EarlyStopping 설정\n",
        "early_stop = EarlyStopping(\n",
        "    monitor='val_loss',        # 검증 손실 기준\n",
        "    patience=5,                # 개선 없으면 5 epoch 후 중단\n",
        "    restore_best_weights=True # 가장 성능 좋았던 가중치 복원\n",
        ")\n",
        "\n",
        "#training\n",
        "n_epoch = 15 #10~15로 줄이기\n",
        "history = model.fit(train_generator, steps_per_epoch=len(train_generator),\n",
        "                              validation_data=valid_generator, validation_steps=len(valid_generator),\n",
        "                              epochs=n_epoch, callbacks=[early_stop]) #you can add kwargs if you want\n",
        "\n",
        "print(f\"Training complete with final accuracy: {history.history['accuracy'][-1]}\")\n",
        "'''"
      ]
    },
    {
      "cell_type": "code",
      "source": [
        "import tensorflow as tf\n",
        "from tensorflow.keras import layers, Model\n",
        "from tensorflow.keras.callbacks import EarlyStopping\n",
        "from tensorflow.keras.saving import register_keras_serializable\n",
        "import pickle\n",
        "import os\n",
        "\n",
        "from google.colab import drive\n",
        "drive.mount('/content/drive')\n",
        "\n",
        "# Residual Block\n",
        "@register_keras_serializable()  # 로딩\n",
        "class ResidualBlock(Model):\n",
        "    def __init__(self, num_kernels, kernel_size, **kwargs):\n",
        "        super(ResidualBlock, self).__init__(**kwargs)\n",
        "        self.num_kernels = num_kernels\n",
        "        self.kernel_size = kernel_size\n",
        "\n",
        "        self.conv1 = layers.Conv2D(num_kernels, kernel_size=kernel_size, padding=\"same\", activation=\"relu\")\n",
        "        self.conv2 = layers.Conv2D(num_kernels, kernel_size=kernel_size, padding=\"same\", activation=\"relu\")\n",
        "        self.add = layers.Add()\n",
        "        self.relu = layers.Activation(\"relu\")\n",
        "        self.projection = None\n",
        "\n",
        "    def build(self, input_shape):\n",
        "        input_channels = input_shape[-1]\n",
        "        if input_channels != self.num_kernels:\n",
        "            self.projection = layers.Conv2D(self.num_kernels, kernel_size=(1, 1), padding=\"same\")\n",
        "        else:\n",
        "            self.projection = lambda x: x\n",
        "\n",
        "    def call(self, input_tensor):\n",
        "        x = self.conv1(input_tensor)\n",
        "        x = self.conv2(x)\n",
        "        shortcut = self.projection(input_tensor)\n",
        "        x = self.add([x, shortcut])\n",
        "        return self.relu(x)\n",
        "\n",
        "    def get_config(self):\n",
        "        config = super().get_config()\n",
        "        config.update({\n",
        "            \"num_kernels\": self.num_kernels,\n",
        "            \"kernel_size\": self.kernel_size,\n",
        "        })\n",
        "        return config\n",
        "\n",
        "    @classmethod\n",
        "    def from_config(cls, config):\n",
        "        return cls(**config)\n",
        "\n",
        "# ResNet 모델\n",
        "def build_resnet(input_shape, num_classes):\n",
        "    model = tf.keras.Sequential()\n",
        "    model.add(layers.Conv2D(64, (3, 3), padding=\"same\", activation=\"relu\", input_shape=input_shape))\n",
        "    model.add(layers.MaxPooling2D(pool_size=(2, 2)))\n",
        "\n",
        "    model.add(ResidualBlock(128, (3, 3)))\n",
        "    model.add(ResidualBlock(128, (3, 3)))\n",
        "    model.add(ResidualBlock(128, (3, 3)))\n",
        "\n",
        "    model.add(layers.GlobalAveragePooling2D())\n",
        "    model.add(layers.Dense(128, activation='relu'))\n",
        "    model.add(layers.Dense(num_classes, activation='softmax'))\n",
        "    return model\n",
        "\n",
        "def main():\n",
        "    input_shape = (244, 244, 3)\n",
        "    num_classes = 11\n",
        "    n_epoch = 50\n",
        "\n",
        "    model = build_resnet(input_shape, num_classes)\n",
        "    model.compile(optimizer='adam', loss='categorical_crossentropy', metrics=['accuracy'])\n",
        "\n",
        "    early_stop = EarlyStopping(monitor='val_loss', patience=5, restore_best_weights=True)\n",
        "\n",
        "    history = model.fit(\n",
        "        train_generator,\n",
        "        steps_per_epoch=len(train_generator),\n",
        "        validation_data=valid_generator,\n",
        "        validation_steps=len(valid_generator),\n",
        "        epochs=n_epoch,\n",
        "        callbacks=[early_stop]\n",
        "    )\n",
        "\n",
        "    model_dir = '/content/drive/MyDrive/keras_clf2'\n",
        "    os.makedirs(model_dir, exist_ok=True)\n",
        "\n",
        "    model.save(os.path.join(model_dir, 'my_model.keras'))\n",
        "\n",
        "    with open(os.path.join(model_dir, 'history.pkl'), 'wb') as f:\n",
        "        pickle.dump(history.history, f)\n",
        "\n",
        "    print(f\"Training complete with final accuracy: {history.history['accuracy'][-1]:.4f}\")\n",
        "    print(\"History keys:\", history.history.keys())\n",
        "    print(\"Final training history:\", history.history)\n",
        "\n",
        "if __name__ == \"__main__\":\n",
        "    main()\n"
      ],
      "metadata": {
        "colab": {
          "base_uri": "https://localhost:8080/"
        },
        "id": "16ojWJZY7rHj",
        "outputId": "5e174eb2-5b79-4c17-b307-8a153118a9f0"
      },
      "execution_count": null,
      "outputs": [
        {
          "output_type": "stream",
          "name": "stdout",
          "text": [
            "Drive already mounted at /content/drive; to attempt to forcibly remount, call drive.mount(\"/content/drive\", force_remount=True).\n",
            "Epoch 1/50\n",
            "\u001b[1m39/39\u001b[0m \u001b[32m━━━━━━━━━━━━━━━━━━━━\u001b[0m\u001b[37m\u001b[0m \u001b[1m45s\u001b[0m 1s/step - accuracy: 0.2061 - loss: 2.2476 - val_accuracy: 0.2566 - val_loss: 2.0541\n",
            "Epoch 2/50\n",
            "\u001b[1m39/39\u001b[0m \u001b[32m━━━━━━━━━━━━━━━━━━━━\u001b[0m\u001b[37m\u001b[0m \u001b[1m75s\u001b[0m 888ms/step - accuracy: 0.2924 - loss: 1.9368 - val_accuracy: 0.3158 - val_loss: 1.9292\n",
            "Epoch 3/50\n",
            "\u001b[1m39/39\u001b[0m \u001b[32m━━━━━━━━━━━━━━━━━━━━\u001b[0m\u001b[37m\u001b[0m \u001b[1m36s\u001b[0m 924ms/step - accuracy: 0.3549 - loss: 1.7873 - val_accuracy: 0.3816 - val_loss: 1.8717\n",
            "Epoch 4/50\n",
            "\u001b[1m39/39\u001b[0m \u001b[32m━━━━━━━━━━━━━━━━━━━━\u001b[0m\u001b[37m\u001b[0m \u001b[1m40s\u001b[0m 905ms/step - accuracy: 0.3679 - loss: 1.7725 - val_accuracy: 0.3158 - val_loss: 1.8203\n",
            "Epoch 5/50\n",
            "\u001b[1m39/39\u001b[0m \u001b[32m━━━━━━━━━━━━━━━━━━━━\u001b[0m\u001b[37m\u001b[0m \u001b[1m35s\u001b[0m 910ms/step - accuracy: 0.3887 - loss: 1.6859 - val_accuracy: 0.3289 - val_loss: 1.8084\n",
            "Epoch 6/50\n",
            "\u001b[1m39/39\u001b[0m \u001b[32m━━━━━━━━━━━━━━━━━━━━\u001b[0m\u001b[37m\u001b[0m \u001b[1m42s\u001b[0m 926ms/step - accuracy: 0.3985 - loss: 1.6522 - val_accuracy: 0.4737 - val_loss: 1.6092\n",
            "Epoch 7/50\n",
            "\u001b[1m39/39\u001b[0m \u001b[32m━━━━━━━━━━━━━━━━━━━━\u001b[0m\u001b[37m\u001b[0m \u001b[1m41s\u001b[0m 927ms/step - accuracy: 0.4509 - loss: 1.5813 - val_accuracy: 0.4539 - val_loss: 1.5955\n",
            "Epoch 8/50\n",
            "\u001b[1m39/39\u001b[0m \u001b[32m━━━━━━━━━━━━━━━━━━━━\u001b[0m\u001b[37m\u001b[0m \u001b[1m40s\u001b[0m 906ms/step - accuracy: 0.4409 - loss: 1.5669 - val_accuracy: 0.4276 - val_loss: 1.6436\n",
            "Epoch 9/50\n",
            "\u001b[1m39/39\u001b[0m \u001b[32m━━━━━━━━━━━━━━━━━━━━\u001b[0m\u001b[37m\u001b[0m \u001b[1m35s\u001b[0m 895ms/step - accuracy: 0.4419 - loss: 1.5577 - val_accuracy: 0.4474 - val_loss: 1.6144\n",
            "Epoch 10/50\n",
            "\u001b[1m39/39\u001b[0m \u001b[32m━━━━━━━━━━━━━━━━━━━━\u001b[0m\u001b[37m\u001b[0m \u001b[1m36s\u001b[0m 906ms/step - accuracy: 0.4642 - loss: 1.4951 - val_accuracy: 0.4605 - val_loss: 1.5561\n",
            "Epoch 11/50\n",
            "\u001b[1m39/39\u001b[0m \u001b[32m━━━━━━━━━━━━━━━━━━━━\u001b[0m\u001b[37m\u001b[0m \u001b[1m36s\u001b[0m 901ms/step - accuracy: 0.4874 - loss: 1.4153 - val_accuracy: 0.4474 - val_loss: 1.4696\n",
            "Epoch 12/50\n",
            "\u001b[1m39/39\u001b[0m \u001b[32m━━━━━━━━━━━━━━━━━━━━\u001b[0m\u001b[37m\u001b[0m \u001b[1m41s\u001b[0m 899ms/step - accuracy: 0.5203 - loss: 1.3616 - val_accuracy: 0.4868 - val_loss: 1.4838\n",
            "Epoch 13/50\n",
            "\u001b[1m39/39\u001b[0m \u001b[32m━━━━━━━━━━━━━━━━━━━━\u001b[0m\u001b[37m\u001b[0m \u001b[1m37s\u001b[0m 927ms/step - accuracy: 0.4922 - loss: 1.3980 - val_accuracy: 0.5000 - val_loss: 1.5064\n",
            "Epoch 14/50\n",
            "\u001b[1m39/39\u001b[0m \u001b[32m━━━━━━━━━━━━━━━━━━━━\u001b[0m\u001b[37m\u001b[0m \u001b[1m40s\u001b[0m 909ms/step - accuracy: 0.5008 - loss: 1.3834 - val_accuracy: 0.4276 - val_loss: 1.5202\n",
            "Epoch 15/50\n",
            "\u001b[1m39/39\u001b[0m \u001b[32m━━━━━━━━━━━━━━━━━━━━\u001b[0m\u001b[37m\u001b[0m \u001b[1m35s\u001b[0m 895ms/step - accuracy: 0.5232 - loss: 1.3608 - val_accuracy: 0.4408 - val_loss: 1.5325\n",
            "Epoch 16/50\n",
            "\u001b[1m39/39\u001b[0m \u001b[32m━━━━━━━━━━━━━━━━━━━━\u001b[0m\u001b[37m\u001b[0m \u001b[1m35s\u001b[0m 893ms/step - accuracy: 0.5314 - loss: 1.3420 - val_accuracy: 0.5263 - val_loss: 1.4292\n",
            "Epoch 17/50\n",
            "\u001b[1m39/39\u001b[0m \u001b[32m━━━━━━━━━━━━━━━━━━━━\u001b[0m\u001b[37m\u001b[0m \u001b[1m37s\u001b[0m 926ms/step - accuracy: 0.5191 - loss: 1.3567 - val_accuracy: 0.5329 - val_loss: 1.3677\n",
            "Epoch 18/50\n",
            "\u001b[1m39/39\u001b[0m \u001b[32m━━━━━━━━━━━━━━━━━━━━\u001b[0m\u001b[37m\u001b[0m \u001b[1m41s\u001b[0m 932ms/step - accuracy: 0.5467 - loss: 1.3037 - val_accuracy: 0.5395 - val_loss: 1.3793\n",
            "Epoch 19/50\n",
            "\u001b[1m39/39\u001b[0m \u001b[32m━━━━━━━━━━━━━━━━━━━━\u001b[0m\u001b[37m\u001b[0m \u001b[1m35s\u001b[0m 899ms/step - accuracy: 0.5698 - loss: 1.2412 - val_accuracy: 0.4868 - val_loss: 1.4174\n",
            "Epoch 20/50\n",
            "\u001b[1m39/39\u001b[0m \u001b[32m━━━━━━━━━━━━━━━━━━━━\u001b[0m\u001b[37m\u001b[0m \u001b[1m35s\u001b[0m 894ms/step - accuracy: 0.5680 - loss: 1.2690 - val_accuracy: 0.5526 - val_loss: 1.3676\n",
            "Epoch 21/50\n",
            "\u001b[1m39/39\u001b[0m \u001b[32m━━━━━━━━━━━━━━━━━━━━\u001b[0m\u001b[37m\u001b[0m \u001b[1m41s\u001b[0m 902ms/step - accuracy: 0.5801 - loss: 1.2386 - val_accuracy: 0.5855 - val_loss: 1.3924\n",
            "Epoch 22/50\n",
            "\u001b[1m39/39\u001b[0m \u001b[32m━━━━━━━━━━━━━━━━━━━━\u001b[0m\u001b[37m\u001b[0m \u001b[1m41s\u001b[0m 896ms/step - accuracy: 0.5798 - loss: 1.1801 - val_accuracy: 0.5592 - val_loss: 1.3109\n",
            "Epoch 23/50\n",
            "\u001b[1m39/39\u001b[0m \u001b[32m━━━━━━━━━━━━━━━━━━━━\u001b[0m\u001b[37m\u001b[0m \u001b[1m41s\u001b[0m 900ms/step - accuracy: 0.5894 - loss: 1.1795 - val_accuracy: 0.4934 - val_loss: 1.4435\n",
            "Epoch 24/50\n",
            "\u001b[1m39/39\u001b[0m \u001b[32m━━━━━━━━━━━━━━━━━━━━\u001b[0m\u001b[37m\u001b[0m \u001b[1m35s\u001b[0m 896ms/step - accuracy: 0.5736 - loss: 1.2265 - val_accuracy: 0.5592 - val_loss: 1.3216\n",
            "Epoch 25/50\n",
            "\u001b[1m39/39\u001b[0m \u001b[32m━━━━━━━━━━━━━━━━━━━━\u001b[0m\u001b[37m\u001b[0m \u001b[1m41s\u001b[0m 899ms/step - accuracy: 0.5854 - loss: 1.1297 - val_accuracy: 0.5789 - val_loss: 1.3906\n",
            "Epoch 26/50\n",
            "\u001b[1m39/39\u001b[0m \u001b[32m━━━━━━━━━━━━━━━━━━━━\u001b[0m\u001b[37m\u001b[0m \u001b[1m41s\u001b[0m 896ms/step - accuracy: 0.5797 - loss: 1.1847 - val_accuracy: 0.5395 - val_loss: 1.3786\n",
            "Epoch 27/50\n",
            "\u001b[1m39/39\u001b[0m \u001b[32m━━━━━━━━━━━━━━━━━━━━\u001b[0m\u001b[37m\u001b[0m \u001b[1m41s\u001b[0m 897ms/step - accuracy: 0.6019 - loss: 1.1407 - val_accuracy: 0.5658 - val_loss: 1.3933\n",
            "Training complete with final accuracy: 0.5943\n",
            "History keys: dict_keys(['accuracy', 'loss', 'val_accuracy', 'val_loss'])\n",
            "Final training history: {'accuracy': [0.22793522477149963, 0.31012144684791565, 0.3676113486289978, 0.37246963381767273, 0.397165983915329, 0.40890687704086304, 0.45020243525505066, 0.44372469186782837, 0.4522267282009125, 0.47044533491134644, 0.47813764214515686, 0.49392712116241455, 0.4870445430278778, 0.49109312891960144, 0.5238866209983826, 0.535627543926239, 0.5307692289352417, 0.5348178148269653, 0.5595141649246216, 0.5587044358253479, 0.5631579160690308, 0.5886639952659607, 0.5842105150222778, 0.585425078868866, 0.5914979577064514, 0.5765182375907898, 0.5943319797515869], 'loss': [2.170543909072876, 1.8953900337219238, 1.770132064819336, 1.7584317922592163, 1.6786656379699707, 1.6354937553405762, 1.5613932609558105, 1.5724889039993286, 1.5621483325958252, 1.4969213008880615, 1.4370551109313965, 1.413564682006836, 1.4191101789474487, 1.4252517223358154, 1.3503351211547852, 1.3206748962402344, 1.3310418128967285, 1.3254921436309814, 1.2747610807418823, 1.28057861328125, 1.2554614543914795, 1.1982133388519287, 1.1878117322921753, 1.1722725629806519, 1.1256741285324097, 1.1811517477035522, 1.152579426765442], 'val_accuracy': [0.2565789520740509, 0.31578946113586426, 0.3815789520740509, 0.31578946113586426, 0.32894736528396606, 0.4736842215061188, 0.45394736528396606, 0.42763158679008484, 0.44736841320991516, 0.46052631735801697, 0.44736841320991516, 0.4868420958518982, 0.5, 0.42763158679008484, 0.44078946113586426, 0.5263158082962036, 0.5328947305679321, 0.5394737124443054, 0.4868420958518982, 0.5526315569877625, 0.5855262875556946, 0.5592105388641357, 0.4934210479259491, 0.5592105388641357, 0.5789473652839661, 0.5394737124443054, 0.5657894611358643], 'val_loss': [2.054136276245117, 1.9292293787002563, 1.8717103004455566, 1.8202860355377197, 1.8084121942520142, 1.609204888343811, 1.595476746559143, 1.643624186515808, 1.6144495010375977, 1.5560630559921265, 1.4695571660995483, 1.4837751388549805, 1.5064417123794556, 1.5201632976531982, 1.532451868057251, 1.4292328357696533, 1.3676561117172241, 1.3793083429336548, 1.4174102544784546, 1.3676258325576782, 1.3923542499542236, 1.3108872175216675, 1.4434561729431152, 1.3216127157211304, 1.3905998468399048, 1.3785500526428223, 1.3933032751083374]}\n"
          ]
        }
      ]
    },
    {
      "cell_type": "code",
      "source": [
        "import matplotlib.pyplot as plt\n",
        "\n",
        "history_file_path = '/content/drive/MyDrive/keras_clf2/history.pkl'\n",
        "with open(history_file_path, 'rb') as f:\n",
        "    history = pickle.load(f)\n",
        "\n",
        "his = history.keys()\n",
        "print(his)\n",
        "\n",
        "his = dict()\n",
        "\n",
        "his['loss'] = history['loss']\n",
        "his['accuracy'] = history['accuracy']\n",
        "his['val_loss'] = history['val_loss']\n",
        "his['val_accuracy'] = history['val_accuracy']\n",
        "\n",
        "# 학습 결과 그래프 그리기\n",
        "def plot_training(history):\n",
        "    acc = history['accuracy']\n",
        "    val_acc = history['val_accuracy']\n",
        "    loss = history['loss']\n",
        "    val_loss = history['val_loss']\n",
        "    epochs = range(len(acc))\n",
        "\n",
        "    fig, axes = plt.subplots(1, 2, figsize=(15, 5))\n",
        "\n",
        "    # Training and Validation Accuracy\n",
        "    axes[0].plot(epochs, acc, 'r-', label='Training Accuracy')\n",
        "    axes[0].plot(epochs, val_acc, 'b--', label='Validation Accuracy')\n",
        "    axes[0].set_title('Training and Validation Accuracy')\n",
        "    axes[0].legend(loc='best')\n",
        "\n",
        "    # Training and Validation Loss\n",
        "    axes[1].plot(epochs, loss, 'r-', label='Training Loss')\n",
        "    axes[1].plot(epochs, val_loss, 'b--', label='Validation Loss')\n",
        "    axes[1].set_title('Training and Validation Loss')\n",
        "    axes[1].legend(loc='best')\n",
        "\n",
        "    plt.show()\n",
        "\n",
        "# 그래프 그리기\n",
        "plot_training(his)"
      ],
      "metadata": {
        "colab": {
          "base_uri": "https://localhost:8080/",
          "height": 487
        },
        "id": "0L8oRD2K3X8C",
        "outputId": "a5886130-b284-49cb-ca74-2b03b2b2be29"
      },
      "execution_count": null,
      "outputs": [
        {
          "output_type": "stream",
          "name": "stdout",
          "text": [
            "dict_keys(['accuracy', 'loss', 'val_accuracy', 'val_loss'])\n"
          ]
        },
        {
          "output_type": "display_data",
          "data": {
            "text/plain": [
              "<Figure size 1500x500 with 2 Axes>"
            ],
            "image/png": "[encoded data removed]"
          },
          "metadata": {}
        }
      ]
    },
    {
      "cell_type": "markdown",
      "metadata": {
        "id": "O-cssbL2P_uh"
      },
      "source": [
        "# TEST"
      ]
    },
    {
      "cell_type": "code",
      "execution_count": null,
      "metadata": {
        "id": "eS5jFcBBQCOX"
      },
      "outputs": [],
      "source": [
        "# Import libraries\n",
        "import pandas as pd\n",
        "import numpy as np\n",
        "import matplotlib.pyplot as plt\n",
        "import json\n",
        "import os\n",
        "from tqdm import tqdm, tqdm_notebook\n",
        "import random\n",
        "\n",
        "import tensorflow as tf\n",
        "\n",
        "from tensorflow.keras.preprocessing.image import ImageDataGenerator\n",
        "from tensorflow.keras.models import Model, Sequential\n",
        "from tensorflow.keras.layers import *\n",
        "from tensorflow.keras.optimizers import *\n",
        "from tensorflow.keras.applications import *\n",
        "from tensorflow.keras.callbacks import *\n",
        "from tensorflow.keras.initializers import *\n",
        "\n",
        "#You can import other libraries if you want"
      ]
    },
    {
      "cell_type": "code",
      "execution_count": null,
      "metadata": {
        "id": "zKgqxpwuQFeq"
      },
      "outputs": [],
      "source": [
        "###### DO NOT MODIFY THIS PART\n",
        "seed = 2024\n",
        "os.environ['PYTHONHASHSEED'] = str(seed)  # fix your random seed : In same model, you produce the same result\n",
        "np.random.seed(seed)\n",
        "tf.random.set_seed(seed)\n",
        "random.seed(seed)\n",
        "\n",
        "######"
      ]
    },
    {
      "cell_type": "code",
      "execution_count": null,
      "metadata": {
        "id": "KAxsxSJoQHFn"
      },
      "outputs": [],
      "source": [
        "artists = pd.read_csv('/content/artists_test.csv') # type your directory, artists_test.csv\n",
        "# Sort artists by number of paintings\n",
        "artists = artists.sort_values(by=['paintings'], ascending=False)\n",
        "\n",
        "# Create a dataframe\n",
        "artists_top = artists[artists['paintings'] >= 0].reset_index()\n",
        "artists_top = artists_top[['name', 'paintings']]\n",
        "\n",
        "updated_name = \"Albrecht_Dürer\".replace(\"_\", \" \")\n",
        "artists_top.iloc[4, 0] = updated_name"
      ]
    },
    {
      "cell_type": "code",
      "source": [
        "!unzip -q /content/test-20250420T141430Z-001.zip -d /content/test/"
      ],
      "metadata": {
        "id": "1tPFuhSy0G-q"
      },
      "execution_count": null,
      "outputs": []
    },
    {
      "cell_type": "code",
      "execution_count": null,
      "metadata": {
        "colab": {
          "base_uri": "https://localhost:8080/"
        },
        "id": "kNRg5vuNQIiM",
        "outputId": "1db34189-3e35-4637-b4d3-e547e7eb2c68"
      },
      "outputs": [
        {
          "output_type": "stream",
          "name": "stdout",
          "text": [
            "220\n",
            "11\n",
            "Found 0 images belonging to 11 classes.\n",
            "0\n"
          ]
        }
      ],
      "source": [
        "### DO NOT EXCUTE THIS SHELL ###\n",
        "#Test set load\n",
        "test_images_dir =  '/content/test/test/test/images/images' # type your directory, test images folder\n",
        "artists_dirs = os.listdir(test_images_dir)\n",
        "print(len(artists_dirs))\n",
        "artists_top_name = artists_top['name'].str.replace(' ', '_').str.replace('ü', 'u').values\n",
        "\n",
        "input_shape = (img_height, img_width)\n",
        "n_classes = artists_top.shape[0]\n",
        "print(n_classes)\n",
        "classes=artists_top_name.tolist() #\n",
        "\n",
        "test_datagen = ImageDataGenerator()\n",
        "\n",
        "test_generator = test_datagen.flow_from_directory(directory=test_images_dir,\n",
        "                                                    class_mode='categorical',\n",
        "                                                    target_size=input_shape,\n",
        "                                                    batch_size=1,\n",
        "                                                    shuffle=False,\n",
        "                                                    seed=seed,\n",
        "                                                    classes=artists_top_name.tolist()\n",
        "                                                   )\n",
        "print(test_generator.n)"
      ]
    },
    {
      "cell_type": "code",
      "execution_count": null,
      "metadata": {
        "id": "eV4Kp7ciGdRB"
      },
      "outputs": [],
      "source": [
        "import os\n",
        "import pandas as pd\n",
        "from tensorflow.keras.preprocessing.image import ImageDataGenerator\n",
        "\n",
        "img_height = 244\n",
        "img_width = 244\n",
        "\n",
        "test_images_dir = '/content/test/test/test/images/images' # test images folder\n",
        "\n",
        "\n",
        "test_image_files = os.listdir(test_images_dir)"
      ]
    },
    {
      "cell_type": "code",
      "source": [
        "from tensorflow.keras.preprocessing.image import load_img, img_to_array\n",
        "\n",
        "@register_keras_serializable()\n",
        "class ResidualBlock(Model):\n",
        "    def __init__(self, num_kernels, kernel_size, **kwargs):\n",
        "        super(ResidualBlock, self).__init__(**kwargs)\n",
        "        self.num_kernels = num_kernels\n",
        "        self.kernel_size = kernel_size\n",
        "\n",
        "        self.conv1 = layers.Conv2D(num_kernels, kernel_size=kernel_size, padding=\"same\", activation=\"relu\")\n",
        "        self.conv2 = layers.Conv2D(num_kernels, kernel_size=kernel_size, padding=\"same\", activation=\"relu\")\n",
        "        self.add = layers.Add()\n",
        "        self.relu = layers.Activation(\"relu\")\n",
        "        self.projection = None\n",
        "\n",
        "    def build(self, input_shape):\n",
        "        input_channels = input_shape[-1]\n",
        "        if input_channels != self.num_kernels:\n",
        "            self.projection = layers.Conv2D(self.num_kernels, kernel_size=(1, 1), padding=\"same\")\n",
        "        else:\n",
        "            self.projection = lambda x: x\n",
        "\n",
        "    def call(self, input_tensor):\n",
        "        x = self.conv1(input_tensor)\n",
        "        x = self.conv2(x)\n",
        "        shortcut = self.projection(input_tensor)\n",
        "        x = self.add([x, shortcut])\n",
        "        return self.relu(x)\n",
        "\n",
        "    def get_config(self):\n",
        "        config = super().get_config()\n",
        "        config.update({\n",
        "            \"num_kernels\": self.num_kernels,\n",
        "            \"kernel_size\": self.kernel_size\n",
        "        })\n",
        "        return config\n",
        "\n",
        "    @classmethod\n",
        "    def from_config(cls, config):\n",
        "        return cls(\n",
        "            num_kernels=config['num_kernels'],\n",
        "            kernel_size=tuple(config['kernel_size']),\n",
        "            **{k: v for k, v in config.items() if k not in ['num_kernels', 'kernel_size']}\n",
        "        )\n",
        "\n",
        "\n",
        "model = tf.keras.models.load_model('/content/drive/MyDrive/keras_clf2/my_model.keras',custom_objects={'ResidualBlock': ResidualBlock})\n",
        "\n",
        "test_image_files = sorted([f for f in os.listdir(test_images_dir) if f.lower().endswith(('.jpg', '.jpeg', '.png'))])\n",
        "\n",
        "# 이미지 전처리\n",
        "X_test = []\n",
        "for fname in test_image_files:\n",
        "    img = load_img(os.path.join(test_images_dir, fname), target_size=(img_height, img_width))\n",
        "    img = img_to_array(img) / 255.0\n",
        "    X_test.append(img)\n",
        "\n",
        "X_test = np.array(X_test)\n",
        "\n",
        "# 예측\n",
        "preds = model.predict(X_test, verbose=1)\n",
        "pred_classes = np.argmax(preds, axis=1)\n",
        "predicted_class_names = [artists_top_name[i] for i in pred_classes]\n",
        "\n",
        "# 저장\n",
        "df_result = pd.DataFrame({\n",
        "    'filename': test_image_files,\n",
        "    'predicted_class': predicted_class_names\n",
        "})\n",
        "df_result.to_csv('/content/drive/MyDrive/keras_clf2/test_predictions.csv', index=False)\n",
        "\n",
        "print(\"완료\")"
      ],
      "metadata": {
        "colab": {
          "base_uri": "https://localhost:8080/"
        },
        "id": "AHdQrHz34G4Y",
        "outputId": "4a88fc87-efe4-42bf-e41f-3a7ec93049b6"
      },
      "execution_count": null,
      "outputs": [
        {
          "output_type": "stream",
          "name": "stderr",
          "text": [
            "WARNING:tensorflow:5 out of the last 15 calls to <function TensorFlowTrainer.make_predict_function.<locals>.one_step_on_data_distributed at 0x7c1afc743380> triggered tf.function retracing. Tracing is expensive and the excessive number of tracings could be due to (1) creating @tf.function repeatedly in a loop, (2) passing tensors with different shapes, (3) passing Python objects instead of tensors. For (1), please define your @tf.function outside of the loop. For (2), @tf.function has reduce_retracing=True option that can avoid unnecessary retracing. For (3), please refer to https://www.tensorflow.org/guide/function#controlling_retracing and https://www.tensorflow.org/api_docs/python/tf/function for  more details.\n"
          ]
        },
        {
          "output_type": "stream",
          "name": "stdout",
          "text": [
            "\u001b[1m7/7\u001b[0m \u001b[32m━━━━━━━━━━━━━━━━━━━━\u001b[0m\u001b[37m\u001b[0m \u001b[1m2s\u001b[0m 208ms/step\n",
            "완료\n"
          ]
        }
      ]
    },
    {
      "cell_type": "markdown",
      "source": [
        "# YOLO"
      ],
      "metadata": {
        "id": "t2JFz366gXnt"
      }
    },
    {
      "cell_type": "code",
      "source": [
        "#프로젝트 클론\n",
        "!git clone https://github.com/ultralytics/ultralytics.git"
      ],
      "metadata": {
        "id": "Of_Uy-PSgcl2",
        "colab": {
          "base_uri": "https://localhost:8080/"
        },
        "outputId": "71e3f14e-86d2-4373-d50f-1d8cef8d501e"
      },
      "execution_count": null,
      "outputs": [
        {
          "output_type": "stream",
          "name": "stdout",
          "text": [
            "Cloning into 'ultralytics'...\n",
            "remote: Enumerating objects: 57000, done.\u001b[K\n",
            "remote: Counting objects: 100% (221/221), done.\u001b[K\n",
            "remote: Compressing objects: 100% (112/112), done.\u001b[K\n",
            "remote: Total 57000 (delta 121), reused 184 (delta 109), pack-reused 56779 (from 1)\u001b[K\n",
            "Receiving objects: 100% (57000/57000), 31.77 MiB | 27.73 MiB/s, done.\n",
            "Resolving deltas: 100% (42262/42262), done.\n"
          ]
        }
      ]
    },
    {
      "cell_type": "code",
      "source": [
        " # 라이브러리 설치\n",
        "\n",
        "!pip install ultralytics"
      ],
      "metadata": {
        "id": "cbq_ikeOgny0"
      },
      "execution_count": null,
      "outputs": []
    },
    {
      "cell_type": "code",
      "source": [
        "#학습 cli\n",
        "!yolo classify train data=/content/art/art/train model = yolo11s-cls epochs=50"
      ],
      "metadata": {
        "id": "aecaKq1agpjI"
      },
      "execution_count": null,
      "outputs": []
    }
  ],
  "metadata": {
    "accelerator": "GPU",
    "colab": {
      "gpuType": "T4",
      "provenance": [],
      "include_colab_link": true
    },
    "kernelspec": {
      "display_name": "Python 3",
      "name": "python3"
    },
    "language_info": {
      "name": "python"
    }
  },
  "nbformat": 4,
  "nbformat_minor": 0
}