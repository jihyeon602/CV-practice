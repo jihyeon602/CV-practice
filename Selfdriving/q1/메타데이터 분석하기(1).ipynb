{
 "cells": [
  {
   "cell_type": "markdown",
   "metadata": {},
   "source": [
    "#  메타데이터 분석하기 (1)"
   ]
  },
  {
   "cell_type": "markdown",
   "metadata": {},
   "source": [
    "**[목차]**\n",
    "* 1개의 주행 데이터 파싱하기 \n",
    "\n",
    "## 1. 1개의 주행 데이터 파싱하기\n",
    "주행 데이터는 JSON,  Image 등 다양한 파일로 구성되어 있으며 이러한 파일들은 주행 시나리오 하나에 1개의 폴더에 저장되어 있음\n",
    "\n",
    "특히, JSON 파일은 자료를 유연하게 저장할 수 있는 장점으로 인해 **\"메타데이터(MetaData)\"** 와 **\"어노테이션 데이터(Annotation Data)\"** 로 구성되어 있음\n",
    "* **메타데이터(MetaData) :** 차량의 센서 데이터, 위치, 주변 환경의 특성 등 차량의 운행 상황과 관련된 데이터\n",
    "* **어노테이션 데이터(Annotation Data) :** 촬영된 이미지 내의 다양한 개체들(차량, 표지판 등)에 대한 위치, 유형, 크기 등과 관련된 데이터\n",
    "\n",
    "\n",
    "### 1.1 JSON 데이터 불러오기\n",
    "해당 실습에서는 1개의 주행 데이터(JSON)를 파싱하고 데이터가 정확한지 혹은 어떤 의미를 찾을 수 있는지 확인하기 위해 다양한 라이브러리를 활용하여 간단한 검증을 진행하는 실습을 진행\n",
    "\n",
    "분석하고자 하는 주행 데이터는 실제 수집된 주행 데이터 중에서 임의로 하나를 선정하였음"
   ]
  },
  {
   "cell_type": "code",
   "execution_count": 7,
   "metadata": {},
   "outputs": [],
   "source": [
    "path = \"./data/driving_data.json\""
   ]
  },
  {
   "cell_type": "code",
   "execution_count": 8,
   "metadata": {},
   "outputs": [
    {
     "data": {
      "text/plain": [
       "{'filename': '1656041450209_Merged-LDR-AR+Near',\n",
       " 'parent_path': 'batch_02_data/2022-06-24_12-30-50_ADCV1-ADP1/source_pointcloud/Merged-LDR-AR+Near',\n",
       " 'unix_timestamp': 1656041450209,\n",
       " 'file_format': 'pcd',\n",
       " 'capacity': 6.78,\n",
       " 'vehicle_id': 'AIMMO-ADCV1',\n",
       " 'region_name': '경기 성남시 분당구',\n",
       " 'location': '야탑동 487-1',\n",
       " 'length': 11,\n",
       " 'framerate': 10,\n",
       " 'size': '403584pts',\n",
       " 'data_purpose': 'train',\n",
       " 'time': 'day',\n",
       " 'road_feature': 'r_cityroad',\n",
       " 'road_type': 'normal',\n",
       " 'location_feature': 'other',\n",
       " 'driving_scenario': 'lane_following',\n",
       " 'ego_long_vel_level': 'low',\n",
       " 'season': 'summer',\n",
       " 'crowd_level': 'high',\n",
       " 'scene_att': 'scenario',\n",
       " 'weather': 'clear',\n",
       " 'contamination': 'reflection_from_dashboard-quarter',\n",
       " 'cloudiness': 'broken',\n",
       " 'darkness_level': 'bright',\n",
       " 'backlight': 'no',\n",
       " 'road_surface_type': 'asphalt',\n",
       " 'road_surface_features': 'clear',\n",
       " 'road_surface_condition': 'clear',\n",
       " 'shadow_in_line': 'no',\n",
       " 'damaged_line': 'no',\n",
       " 'sensor_name': 'Merged-LDR-AR+Near',\n",
       " 'sensor_hfov': 360,\n",
       " 'sensor_vfov': 40,\n",
       " 'gps_mode': 'rtk_float',\n",
       " 'gps_latitude': 37.41472742888345,\n",
       " 'gps_longitude': 127.1287126458741,\n",
       " 'long_velocity': 14.89,\n",
       " 'lat_velocity': -0.15,\n",
       " 'long_accel': -0.12,\n",
       " 'lat_accel': -0.0,\n",
       " 'yaw': 91.11,\n",
       " 'roll': 0.31,\n",
       " 'pitch': 2.27,\n",
       " 'rel_x': 0.0,\n",
       " 'rel_y': 0.0,\n",
       " 'annotations': [{'id': '1-f9dc5ae0-7743-41be-8603-9289655fc7d8',\n",
       "   'type': '3dbb',\n",
       "   'label': 'car',\n",
       "   'position': [11.32, -0.07, 0.97],\n",
       "   'geometry': [4.5, 2.2, 1.78],\n",
       "   'rotation': [0, 0, 0.0],\n",
       "   'point_count': 5090,\n",
       "   'track_id': 1,\n",
       "   'occlusion': '0',\n",
       "   'scenario': '0',\n",
       "   'volume': 17.62},\n",
       "  {'id': '2-f8738ccf-59d9-4bf3-8cec-6602a3ac754e',\n",
       "   'type': '3dbb',\n",
       "   'label': 'car',\n",
       "   'position': [7.67, 3.36, 0.9],\n",
       "   'geometry': [4.38, 2.1, 1.72],\n",
       "   'rotation': [0, 0, 0.0],\n",
       "   'point_count': 11881,\n",
       "   'track_id': 2,\n",
       "   'occlusion': '0',\n",
       "   'scenario': '0',\n",
       "   'volume': 15.82},\n",
       "  {'id': '3-368aa01b-118b-4cd2-85a4-336100055888',\n",
       "   'type': '3dbb',\n",
       "   'label': 'car',\n",
       "   'position': [11.27, -3.39, 0.85],\n",
       "   'geometry': [4.5, 1.96, 1.58],\n",
       "   'rotation': [-0.01, 0, 0.0],\n",
       "   'point_count': 5325,\n",
       "   'track_id': 3,\n",
       "   'occlusion': '0',\n",
       "   'scenario': '0',\n",
       "   'volume': 13.94},\n",
       "  {'id': '4-ec32bb68-5097-4b9a-be29-fa6229240f30',\n",
       "   'type': '3dbb',\n",
       "   'label': 'truck',\n",
       "   'position': [10.08, 6.6, 1.14],\n",
       "   'geometry': [5.0, 1.82, 2.2],\n",
       "   'rotation': [-0.01, 0, -0.01],\n",
       "   'point_count': 4079,\n",
       "   'track_id': 4,\n",
       "   'occlusion': '1',\n",
       "   'scenario': '0',\n",
       "   'volume': 20.02},\n",
       "  {'id': '5-86590289-e376-4539-9eff-58bbdaf98af0',\n",
       "   'type': '3dbb',\n",
       "   'label': 'car',\n",
       "   'position': [-0.75, -3.61, 0.82],\n",
       "   'geometry': [4.84, 1.8, 1.44],\n",
       "   'rotation': [0, 0.01, 0.0],\n",
       "   'point_count': 4575,\n",
       "   'track_id': 5,\n",
       "   'occlusion': '0',\n",
       "   'scenario': '0',\n",
       "   'volume': 12.55},\n",
       "  {'id': '6-7d012ef0-95ec-46ad-a6af-ebca27010fc8',\n",
       "   'type': '3dbb',\n",
       "   'label': 'car',\n",
       "   'position': [-10.22, -1.45, 0.83],\n",
       "   'geometry': [4.5, 1.86, 1.38],\n",
       "   'rotation': [0, 0, -0.18],\n",
       "   'point_count': 299,\n",
       "   'track_id': 6,\n",
       "   'occlusion': '0',\n",
       "   'scenario': '0',\n",
       "   'volume': 11.55},\n",
       "  {'id': '7-438b37e9-8988-4d39-8ff9-ba6c774ccbb8',\n",
       "   'type': '3dbb',\n",
       "   'label': 'car',\n",
       "   'position': [-8.65, 3.45, 0.94],\n",
       "   'geometry': [4.5, 2, 1.68],\n",
       "   'rotation': [0, 0, 0.01],\n",
       "   'point_count': 540,\n",
       "   'track_id': 7,\n",
       "   'occlusion': '0',\n",
       "   'scenario': '0',\n",
       "   'volume': 15.12},\n",
       "  {'id': '8-f573d031-4684-4639-a7e2-c98894cbc227',\n",
       "   'type': '3dbb',\n",
       "   'label': 'car',\n",
       "   'position': [-14.31, 13.52, 0.9],\n",
       "   'geometry': [4.5, 1.8, 1.6],\n",
       "   'rotation': [0, 0, 3.14],\n",
       "   'point_count': 639,\n",
       "   'track_id': 8,\n",
       "   'occlusion': '1',\n",
       "   'scenario': '0',\n",
       "   'volume': 12.96},\n",
       "  {'id': '9-52861d08-7b07-4c33-9f95-67c350a9cc01',\n",
       "   'type': '3dbb',\n",
       "   'label': 'car',\n",
       "   'position': [-5.18, 17.3, 0.58],\n",
       "   'geometry': [3.46, 1.7, 1.4],\n",
       "   'rotation': [0, 0, 3.14],\n",
       "   'point_count': 1109,\n",
       "   'track_id': 9,\n",
       "   'occlusion': '1',\n",
       "   'scenario': '0',\n",
       "   'volume': 8.23},\n",
       "  {'id': '10-f10ead00-bf22-4607-be9f-6b9c0498e279',\n",
       "   'type': '3dbb',\n",
       "   'label': 'car',\n",
       "   'position': [-22.56, 10.69, 1.02],\n",
       "   'geometry': [4.5, 1.8, 1.68],\n",
       "   'rotation': [0, 0, 3.12],\n",
       "   'point_count': 277,\n",
       "   'track_id': 10,\n",
       "   'occlusion': '1',\n",
       "   'scenario': '0',\n",
       "   'volume': 13.61},\n",
       "  {'id': '11-e300fcc2-6ce0-4142-9e7d-4eb23859207e',\n",
       "   'type': '3dbb',\n",
       "   'label': 'car',\n",
       "   'position': [-30.08, 10.68, 1.18],\n",
       "   'geometry': [4.5, 1.8, 1.6],\n",
       "   'rotation': [0, 0, 3.14],\n",
       "   'point_count': 144,\n",
       "   'track_id': 11,\n",
       "   'occlusion': '1',\n",
       "   'scenario': '0',\n",
       "   'volume': 12.96},\n",
       "  {'id': '12-9d42048b-f7f4-4f46-bb11-6b3f3dd39ffa',\n",
       "   'type': '3dbb',\n",
       "   'label': 'car',\n",
       "   'position': [-25.53, 7.38, 1.11],\n",
       "   'geometry': [4.5, 1.8, 1.66],\n",
       "   'rotation': [0, 0, 0.02],\n",
       "   'point_count': 125,\n",
       "   'track_id': 12,\n",
       "   'occlusion': '1',\n",
       "   'scenario': '0',\n",
       "   'volume': 13.45},\n",
       "  {'id': '13-60fceb93-321a-4180-8e04-0257d9835ae0',\n",
       "   'type': '3dbb',\n",
       "   'label': 'car',\n",
       "   'position': [-31.55, 4.03, 1.07],\n",
       "   'geometry': [4.5, 1.8, 1.46],\n",
       "   'rotation': [0, 0, 0.0],\n",
       "   'point_count': 76,\n",
       "   'track_id': 13,\n",
       "   'occlusion': '0',\n",
       "   'scenario': '0',\n",
       "   'volume': 11.83},\n",
       "  {'id': '14-79d3b013-4cad-4e78-8055-f84f58d21861',\n",
       "   'type': '3dbb',\n",
       "   'label': 'car',\n",
       "   'position': [-29.55, 0.24, 1.09],\n",
       "   'geometry': [4.5, 1.9, 1.5],\n",
       "   'rotation': [0, 0, 0.0],\n",
       "   'point_count': 84,\n",
       "   'track_id': 14,\n",
       "   'occlusion': '0',\n",
       "   'scenario': '0',\n",
       "   'volume': 12.83},\n",
       "  {'id': '15-ec39d899-b635-4aba-a506-5449484541e4',\n",
       "   'type': '3dbb',\n",
       "   'label': 'car',\n",
       "   'position': [4.71, 13.33, 0.67],\n",
       "   'geometry': [4.86, 1.9, 1.46],\n",
       "   'rotation': [0.03, 0, 3.14],\n",
       "   'point_count': 4246,\n",
       "   'track_id': 15,\n",
       "   'occlusion': '1',\n",
       "   'scenario': '0',\n",
       "   'volume': 13.48},\n",
       "  {'id': '16-56236fcb-2a7a-4470-8f40-58d951cf644d',\n",
       "   'type': '3dbb',\n",
       "   'label': 'car',\n",
       "   'position': [28.11, -3.04, 0.86],\n",
       "   'geometry': [4.5, 1.94, 1.88],\n",
       "   'rotation': [0, 0, 0.0],\n",
       "   'point_count': 467,\n",
       "   'track_id': 16,\n",
       "   'occlusion': '1',\n",
       "   'scenario': '0',\n",
       "   'volume': 16.41},\n",
       "  {'id': '17-eaeb3ac0-4b47-4dde-bc8e-eb8cec1668ac',\n",
       "   'type': '3dbb',\n",
       "   'label': 'car',\n",
       "   'position': [34.76, 2.74, 0.56],\n",
       "   'geometry': [4.5, 1.8, 1.4],\n",
       "   'rotation': [0, 0, 0.0],\n",
       "   'point_count': 193,\n",
       "   'track_id': 17,\n",
       "   'occlusion': '1',\n",
       "   'scenario': '0',\n",
       "   'volume': 11.34},\n",
       "  {'id': '18-818583ab-5fb0-4ac9-891e-f8c7df62b47b',\n",
       "   'type': '3dbb',\n",
       "   'label': 'car',\n",
       "   'position': [32.96, 12.48, 0.85],\n",
       "   'geometry': [4.5, 1.88, 2.06],\n",
       "   'rotation': [0, 0, 3.14],\n",
       "   'point_count': 276,\n",
       "   'track_id': 18,\n",
       "   'occlusion': '1',\n",
       "   'scenario': '0',\n",
       "   'volume': 17.43},\n",
       "  {'id': '19-ceb4d5a3-90be-4e41-8445-e2e0f2797ab4',\n",
       "   'type': '3dbb',\n",
       "   'label': 'car',\n",
       "   'position': [16.91, 20.25, 0.29],\n",
       "   'geometry': [4.5, 1.8, 1.34],\n",
       "   'rotation': [0, 0, 3.12],\n",
       "   'point_count': 841,\n",
       "   'track_id': 19,\n",
       "   'occlusion': '1',\n",
       "   'scenario': '0',\n",
       "   'volume': 10.85},\n",
       "  {'id': '20-60abfa51-eaf6-403f-bb24-cd971255dbe6',\n",
       "   'type': '3dbb',\n",
       "   'label': 'unknown_vehicle',\n",
       "   'position': [6.85, 26.54, 0.91],\n",
       "   'geometry': [7.06, 2.36, 2.72],\n",
       "   'rotation': [0, 0, 3.09],\n",
       "   'point_count': 2117,\n",
       "   'track_id': 20,\n",
       "   'occlusion': '1',\n",
       "   'scenario': '0',\n",
       "   'volume': 45.32},\n",
       "  {'id': '21-dbb14973-0d01-4f12-bc6f-a704d623d634',\n",
       "   'type': '3dbb',\n",
       "   'label': 'truck',\n",
       "   'position': [-18.32, 25.64, 0.88],\n",
       "   'geometry': [7.56, 2.22, 2.28],\n",
       "   'rotation': [0, 0, 3.09],\n",
       "   'point_count': 929,\n",
       "   'track_id': 21,\n",
       "   'occlusion': '1',\n",
       "   'scenario': '0',\n",
       "   'volume': 38.27},\n",
       "  {'id': '22-c28be7b6-8ab8-42cc-b8e1-9f2bff492b83',\n",
       "   'type': '3dbb',\n",
       "   'label': 'car',\n",
       "   'position': [-30.0, 20.71, 0.72],\n",
       "   'geometry': [4.62, 1.84, 1.36],\n",
       "   'rotation': [0, 0, -3.13],\n",
       "   'point_count': 220,\n",
       "   'track_id': 22,\n",
       "   'occlusion': '1',\n",
       "   'scenario': '0',\n",
       "   'volume': 11.56},\n",
       "  {'id': '23-faa2661f-a172-43fe-8e3a-0d4ce54a5a88',\n",
       "   'type': '3dbb',\n",
       "   'label': 'bus',\n",
       "   'position': [-47.87, 24.72, 1.79],\n",
       "   'geometry': [12, 2.74, 3.3],\n",
       "   'rotation': [0, 0, 3.13],\n",
       "   'point_count': 726,\n",
       "   'track_id': 23,\n",
       "   'occlusion': '1',\n",
       "   'scenario': '0',\n",
       "   'volume': 108.5},\n",
       "  {'id': '24-7d29f81c-07ba-42ed-b935-2d9360b4ced5',\n",
       "   'type': '3dbb',\n",
       "   'label': 'car',\n",
       "   'position': [-55.26, 4.44, 1.48],\n",
       "   'geometry': [4.5, 2.14, 1.6],\n",
       "   'rotation': [0, 0, 0.01],\n",
       "   'point_count': 75,\n",
       "   'track_id': 24,\n",
       "   'occlusion': '1',\n",
       "   'scenario': '0',\n",
       "   'volume': 15.41},\n",
       "  {'id': '25-b5e9fe0e-c2d1-4cc6-83b0-cd60f0801ff1',\n",
       "   'type': '3dbb',\n",
       "   'label': 'car',\n",
       "   'position': [-48.16, 7.81, 1.29],\n",
       "   'geometry': [4.5, 1.9, 1.42],\n",
       "   'rotation': [0, 0, -0.02],\n",
       "   'point_count': 76,\n",
       "   'track_id': 25,\n",
       "   'occlusion': '1',\n",
       "   'scenario': '0',\n",
       "   'volume': 12.14},\n",
       "  {'id': '27-18822544-c641-4206-bcff-abb53f93172b',\n",
       "   'type': '3dbb',\n",
       "   'label': 'motorcyclist',\n",
       "   'position': [30.09, 5.96, 0.8],\n",
       "   'geometry': [1.64, 1, 1.8],\n",
       "   'rotation': [-0.01, 0, -0.12],\n",
       "   'point_count': 109,\n",
       "   'track_id': 27,\n",
       "   'occlusion': '1',\n",
       "   'scenario': '0',\n",
       "   'volume': 2.95}]}"
      ]
     },
     "execution_count": 8,
     "metadata": {},
     "output_type": "execute_result"
    }
   ],
   "source": [
    "import json\n",
    "\n",
    "with open(path, \"r\") as f :\n",
    "    data = json.load(f)\n",
    "\n",
    "data"
   ]
  },
  {
   "cell_type": "markdown",
   "metadata": {},
   "source": [
    "### 1.2 데이터 분리하기\n",
    "메타데이터와 어노테이션 데이터가 같이있어서 보기가 복잡하고 불필요할 수도 있기 때문에 해당 데이터를 분리하는 작업을 진행\n",
    "\n",
    "불러온 JSON 데이터(data)는 `dictionary(dict)` 타입이므로 이 특성을 이용"
   ]
  },
  {
   "cell_type": "code",
   "execution_count": 9,
   "metadata": {},
   "outputs": [
    {
     "data": {
      "text/plain": [
       "dict"
      ]
     },
     "execution_count": 9,
     "metadata": {},
     "output_type": "execute_result"
    }
   ],
   "source": [
    "type(data)"
   ]
  },
  {
   "cell_type": "code",
   "execution_count": 10,
   "metadata": {},
   "outputs": [
    {
     "data": {
      "text/plain": [
       "[{'id': '1-f9dc5ae0-7743-41be-8603-9289655fc7d8',\n",
       "  'type': '3dbb',\n",
       "  'label': 'car',\n",
       "  'position': [11.32, -0.07, 0.97],\n",
       "  'geometry': [4.5, 2.2, 1.78],\n",
       "  'rotation': [0, 0, 0.0],\n",
       "  'point_count': 5090,\n",
       "  'track_id': 1,\n",
       "  'occlusion': '0',\n",
       "  'scenario': '0',\n",
       "  'volume': 17.62},\n",
       " {'id': '2-f8738ccf-59d9-4bf3-8cec-6602a3ac754e',\n",
       "  'type': '3dbb',\n",
       "  'label': 'car',\n",
       "  'position': [7.67, 3.36, 0.9],\n",
       "  'geometry': [4.38, 2.1, 1.72],\n",
       "  'rotation': [0, 0, 0.0],\n",
       "  'point_count': 11881,\n",
       "  'track_id': 2,\n",
       "  'occlusion': '0',\n",
       "  'scenario': '0',\n",
       "  'volume': 15.82},\n",
       " {'id': '3-368aa01b-118b-4cd2-85a4-336100055888',\n",
       "  'type': '3dbb',\n",
       "  'label': 'car',\n",
       "  'position': [11.27, -3.39, 0.85],\n",
       "  'geometry': [4.5, 1.96, 1.58],\n",
       "  'rotation': [-0.01, 0, 0.0],\n",
       "  'point_count': 5325,\n",
       "  'track_id': 3,\n",
       "  'occlusion': '0',\n",
       "  'scenario': '0',\n",
       "  'volume': 13.94},\n",
       " {'id': '4-ec32bb68-5097-4b9a-be29-fa6229240f30',\n",
       "  'type': '3dbb',\n",
       "  'label': 'truck',\n",
       "  'position': [10.08, 6.6, 1.14],\n",
       "  'geometry': [5.0, 1.82, 2.2],\n",
       "  'rotation': [-0.01, 0, -0.01],\n",
       "  'point_count': 4079,\n",
       "  'track_id': 4,\n",
       "  'occlusion': '1',\n",
       "  'scenario': '0',\n",
       "  'volume': 20.02},\n",
       " {'id': '5-86590289-e376-4539-9eff-58bbdaf98af0',\n",
       "  'type': '3dbb',\n",
       "  'label': 'car',\n",
       "  'position': [-0.75, -3.61, 0.82],\n",
       "  'geometry': [4.84, 1.8, 1.44],\n",
       "  'rotation': [0, 0.01, 0.0],\n",
       "  'point_count': 4575,\n",
       "  'track_id': 5,\n",
       "  'occlusion': '0',\n",
       "  'scenario': '0',\n",
       "  'volume': 12.55},\n",
       " {'id': '6-7d012ef0-95ec-46ad-a6af-ebca27010fc8',\n",
       "  'type': '3dbb',\n",
       "  'label': 'car',\n",
       "  'position': [-10.22, -1.45, 0.83],\n",
       "  'geometry': [4.5, 1.86, 1.38],\n",
       "  'rotation': [0, 0, -0.18],\n",
       "  'point_count': 299,\n",
       "  'track_id': 6,\n",
       "  'occlusion': '0',\n",
       "  'scenario': '0',\n",
       "  'volume': 11.55},\n",
       " {'id': '7-438b37e9-8988-4d39-8ff9-ba6c774ccbb8',\n",
       "  'type': '3dbb',\n",
       "  'label': 'car',\n",
       "  'position': [-8.65, 3.45, 0.94],\n",
       "  'geometry': [4.5, 2, 1.68],\n",
       "  'rotation': [0, 0, 0.01],\n",
       "  'point_count': 540,\n",
       "  'track_id': 7,\n",
       "  'occlusion': '0',\n",
       "  'scenario': '0',\n",
       "  'volume': 15.12},\n",
       " {'id': '8-f573d031-4684-4639-a7e2-c98894cbc227',\n",
       "  'type': '3dbb',\n",
       "  'label': 'car',\n",
       "  'position': [-14.31, 13.52, 0.9],\n",
       "  'geometry': [4.5, 1.8, 1.6],\n",
       "  'rotation': [0, 0, 3.14],\n",
       "  'point_count': 639,\n",
       "  'track_id': 8,\n",
       "  'occlusion': '1',\n",
       "  'scenario': '0',\n",
       "  'volume': 12.96},\n",
       " {'id': '9-52861d08-7b07-4c33-9f95-67c350a9cc01',\n",
       "  'type': '3dbb',\n",
       "  'label': 'car',\n",
       "  'position': [-5.18, 17.3, 0.58],\n",
       "  'geometry': [3.46, 1.7, 1.4],\n",
       "  'rotation': [0, 0, 3.14],\n",
       "  'point_count': 1109,\n",
       "  'track_id': 9,\n",
       "  'occlusion': '1',\n",
       "  'scenario': '0',\n",
       "  'volume': 8.23},\n",
       " {'id': '10-f10ead00-bf22-4607-be9f-6b9c0498e279',\n",
       "  'type': '3dbb',\n",
       "  'label': 'car',\n",
       "  'position': [-22.56, 10.69, 1.02],\n",
       "  'geometry': [4.5, 1.8, 1.68],\n",
       "  'rotation': [0, 0, 3.12],\n",
       "  'point_count': 277,\n",
       "  'track_id': 10,\n",
       "  'occlusion': '1',\n",
       "  'scenario': '0',\n",
       "  'volume': 13.61},\n",
       " {'id': '11-e300fcc2-6ce0-4142-9e7d-4eb23859207e',\n",
       "  'type': '3dbb',\n",
       "  'label': 'car',\n",
       "  'position': [-30.08, 10.68, 1.18],\n",
       "  'geometry': [4.5, 1.8, 1.6],\n",
       "  'rotation': [0, 0, 3.14],\n",
       "  'point_count': 144,\n",
       "  'track_id': 11,\n",
       "  'occlusion': '1',\n",
       "  'scenario': '0',\n",
       "  'volume': 12.96},\n",
       " {'id': '12-9d42048b-f7f4-4f46-bb11-6b3f3dd39ffa',\n",
       "  'type': '3dbb',\n",
       "  'label': 'car',\n",
       "  'position': [-25.53, 7.38, 1.11],\n",
       "  'geometry': [4.5, 1.8, 1.66],\n",
       "  'rotation': [0, 0, 0.02],\n",
       "  'point_count': 125,\n",
       "  'track_id': 12,\n",
       "  'occlusion': '1',\n",
       "  'scenario': '0',\n",
       "  'volume': 13.45},\n",
       " {'id': '13-60fceb93-321a-4180-8e04-0257d9835ae0',\n",
       "  'type': '3dbb',\n",
       "  'label': 'car',\n",
       "  'position': [-31.55, 4.03, 1.07],\n",
       "  'geometry': [4.5, 1.8, 1.46],\n",
       "  'rotation': [0, 0, 0.0],\n",
       "  'point_count': 76,\n",
       "  'track_id': 13,\n",
       "  'occlusion': '0',\n",
       "  'scenario': '0',\n",
       "  'volume': 11.83},\n",
       " {'id': '14-79d3b013-4cad-4e78-8055-f84f58d21861',\n",
       "  'type': '3dbb',\n",
       "  'label': 'car',\n",
       "  'position': [-29.55, 0.24, 1.09],\n",
       "  'geometry': [4.5, 1.9, 1.5],\n",
       "  'rotation': [0, 0, 0.0],\n",
       "  'point_count': 84,\n",
       "  'track_id': 14,\n",
       "  'occlusion': '0',\n",
       "  'scenario': '0',\n",
       "  'volume': 12.83},\n",
       " {'id': '15-ec39d899-b635-4aba-a506-5449484541e4',\n",
       "  'type': '3dbb',\n",
       "  'label': 'car',\n",
       "  'position': [4.71, 13.33, 0.67],\n",
       "  'geometry': [4.86, 1.9, 1.46],\n",
       "  'rotation': [0.03, 0, 3.14],\n",
       "  'point_count': 4246,\n",
       "  'track_id': 15,\n",
       "  'occlusion': '1',\n",
       "  'scenario': '0',\n",
       "  'volume': 13.48},\n",
       " {'id': '16-56236fcb-2a7a-4470-8f40-58d951cf644d',\n",
       "  'type': '3dbb',\n",
       "  'label': 'car',\n",
       "  'position': [28.11, -3.04, 0.86],\n",
       "  'geometry': [4.5, 1.94, 1.88],\n",
       "  'rotation': [0, 0, 0.0],\n",
       "  'point_count': 467,\n",
       "  'track_id': 16,\n",
       "  'occlusion': '1',\n",
       "  'scenario': '0',\n",
       "  'volume': 16.41},\n",
       " {'id': '17-eaeb3ac0-4b47-4dde-bc8e-eb8cec1668ac',\n",
       "  'type': '3dbb',\n",
       "  'label': 'car',\n",
       "  'position': [34.76, 2.74, 0.56],\n",
       "  'geometry': [4.5, 1.8, 1.4],\n",
       "  'rotation': [0, 0, 0.0],\n",
       "  'point_count': 193,\n",
       "  'track_id': 17,\n",
       "  'occlusion': '1',\n",
       "  'scenario': '0',\n",
       "  'volume': 11.34},\n",
       " {'id': '18-818583ab-5fb0-4ac9-891e-f8c7df62b47b',\n",
       "  'type': '3dbb',\n",
       "  'label': 'car',\n",
       "  'position': [32.96, 12.48, 0.85],\n",
       "  'geometry': [4.5, 1.88, 2.06],\n",
       "  'rotation': [0, 0, 3.14],\n",
       "  'point_count': 276,\n",
       "  'track_id': 18,\n",
       "  'occlusion': '1',\n",
       "  'scenario': '0',\n",
       "  'volume': 17.43},\n",
       " {'id': '19-ceb4d5a3-90be-4e41-8445-e2e0f2797ab4',\n",
       "  'type': '3dbb',\n",
       "  'label': 'car',\n",
       "  'position': [16.91, 20.25, 0.29],\n",
       "  'geometry': [4.5, 1.8, 1.34],\n",
       "  'rotation': [0, 0, 3.12],\n",
       "  'point_count': 841,\n",
       "  'track_id': 19,\n",
       "  'occlusion': '1',\n",
       "  'scenario': '0',\n",
       "  'volume': 10.85},\n",
       " {'id': '20-60abfa51-eaf6-403f-bb24-cd971255dbe6',\n",
       "  'type': '3dbb',\n",
       "  'label': 'unknown_vehicle',\n",
       "  'position': [6.85, 26.54, 0.91],\n",
       "  'geometry': [7.06, 2.36, 2.72],\n",
       "  'rotation': [0, 0, 3.09],\n",
       "  'point_count': 2117,\n",
       "  'track_id': 20,\n",
       "  'occlusion': '1',\n",
       "  'scenario': '0',\n",
       "  'volume': 45.32},\n",
       " {'id': '21-dbb14973-0d01-4f12-bc6f-a704d623d634',\n",
       "  'type': '3dbb',\n",
       "  'label': 'truck',\n",
       "  'position': [-18.32, 25.64, 0.88],\n",
       "  'geometry': [7.56, 2.22, 2.28],\n",
       "  'rotation': [0, 0, 3.09],\n",
       "  'point_count': 929,\n",
       "  'track_id': 21,\n",
       "  'occlusion': '1',\n",
       "  'scenario': '0',\n",
       "  'volume': 38.27},\n",
       " {'id': '22-c28be7b6-8ab8-42cc-b8e1-9f2bff492b83',\n",
       "  'type': '3dbb',\n",
       "  'label': 'car',\n",
       "  'position': [-30.0, 20.71, 0.72],\n",
       "  'geometry': [4.62, 1.84, 1.36],\n",
       "  'rotation': [0, 0, -3.13],\n",
       "  'point_count': 220,\n",
       "  'track_id': 22,\n",
       "  'occlusion': '1',\n",
       "  'scenario': '0',\n",
       "  'volume': 11.56},\n",
       " {'id': '23-faa2661f-a172-43fe-8e3a-0d4ce54a5a88',\n",
       "  'type': '3dbb',\n",
       "  'label': 'bus',\n",
       "  'position': [-47.87, 24.72, 1.79],\n",
       "  'geometry': [12, 2.74, 3.3],\n",
       "  'rotation': [0, 0, 3.13],\n",
       "  'point_count': 726,\n",
       "  'track_id': 23,\n",
       "  'occlusion': '1',\n",
       "  'scenario': '0',\n",
       "  'volume': 108.5},\n",
       " {'id': '24-7d29f81c-07ba-42ed-b935-2d9360b4ced5',\n",
       "  'type': '3dbb',\n",
       "  'label': 'car',\n",
       "  'position': [-55.26, 4.44, 1.48],\n",
       "  'geometry': [4.5, 2.14, 1.6],\n",
       "  'rotation': [0, 0, 0.01],\n",
       "  'point_count': 75,\n",
       "  'track_id': 24,\n",
       "  'occlusion': '1',\n",
       "  'scenario': '0',\n",
       "  'volume': 15.41},\n",
       " {'id': '25-b5e9fe0e-c2d1-4cc6-83b0-cd60f0801ff1',\n",
       "  'type': '3dbb',\n",
       "  'label': 'car',\n",
       "  'position': [-48.16, 7.81, 1.29],\n",
       "  'geometry': [4.5, 1.9, 1.42],\n",
       "  'rotation': [0, 0, -0.02],\n",
       "  'point_count': 76,\n",
       "  'track_id': 25,\n",
       "  'occlusion': '1',\n",
       "  'scenario': '0',\n",
       "  'volume': 12.14},\n",
       " {'id': '27-18822544-c641-4206-bcff-abb53f93172b',\n",
       "  'type': '3dbb',\n",
       "  'label': 'motorcyclist',\n",
       "  'position': [30.09, 5.96, 0.8],\n",
       "  'geometry': [1.64, 1, 1.8],\n",
       "  'rotation': [-0.01, 0, -0.12],\n",
       "  'point_count': 109,\n",
       "  'track_id': 27,\n",
       "  'occlusion': '1',\n",
       "  'scenario': '0',\n",
       "  'volume': 2.95}]"
      ]
     },
     "execution_count": 10,
     "metadata": {},
     "output_type": "execute_result"
    }
   ],
   "source": [
    "annotation_data = data[\"annotations\"]\n",
    "annotation_data"
   ]
  },
  {
   "cell_type": "code",
   "execution_count": 11,
   "metadata": {},
   "outputs": [],
   "source": [
    "del data[\"annotations\"]"
   ]
  },
  {
   "cell_type": "code",
   "execution_count": 12,
   "metadata": {},
   "outputs": [
    {
     "data": {
      "text/plain": [
       "{'filename': '1656041450209_Merged-LDR-AR+Near',\n",
       " 'parent_path': 'batch_02_data/2022-06-24_12-30-50_ADCV1-ADP1/source_pointcloud/Merged-LDR-AR+Near',\n",
       " 'unix_timestamp': 1656041450209,\n",
       " 'file_format': 'pcd',\n",
       " 'capacity': 6.78,\n",
       " 'vehicle_id': 'AIMMO-ADCV1',\n",
       " 'region_name': '경기 성남시 분당구',\n",
       " 'location': '야탑동 487-1',\n",
       " 'length': 11,\n",
       " 'framerate': 10,\n",
       " 'size': '403584pts',\n",
       " 'data_purpose': 'train',\n",
       " 'time': 'day',\n",
       " 'road_feature': 'r_cityroad',\n",
       " 'road_type': 'normal',\n",
       " 'location_feature': 'other',\n",
       " 'driving_scenario': 'lane_following',\n",
       " 'ego_long_vel_level': 'low',\n",
       " 'season': 'summer',\n",
       " 'crowd_level': 'high',\n",
       " 'scene_att': 'scenario',\n",
       " 'weather': 'clear',\n",
       " 'contamination': 'reflection_from_dashboard-quarter',\n",
       " 'cloudiness': 'broken',\n",
       " 'darkness_level': 'bright',\n",
       " 'backlight': 'no',\n",
       " 'road_surface_type': 'asphalt',\n",
       " 'road_surface_features': 'clear',\n",
       " 'road_surface_condition': 'clear',\n",
       " 'shadow_in_line': 'no',\n",
       " 'damaged_line': 'no',\n",
       " 'sensor_name': 'Merged-LDR-AR+Near',\n",
       " 'sensor_hfov': 360,\n",
       " 'sensor_vfov': 40,\n",
       " 'gps_mode': 'rtk_float',\n",
       " 'gps_latitude': 37.41472742888345,\n",
       " 'gps_longitude': 127.1287126458741,\n",
       " 'long_velocity': 14.89,\n",
       " 'lat_velocity': -0.15,\n",
       " 'long_accel': -0.12,\n",
       " 'lat_accel': -0.0,\n",
       " 'yaw': 91.11,\n",
       " 'roll': 0.31,\n",
       " 'pitch': 2.27,\n",
       " 'rel_x': 0.0,\n",
       " 'rel_y': 0.0}"
      ]
     },
     "execution_count": 12,
     "metadata": {},
     "output_type": "execute_result"
    }
   ],
   "source": [
    "meta_data = data\n",
    "\n",
    "meta_data"
   ]
  },
  {
   "cell_type": "markdown",
   "metadata": {},
   "source": [
    "### 1.3 필요한 센서 데이터 파싱하기\n",
    "\n",
    "메타데이터 안에는 많은 정보들이 있지만 그 중에서 직관적이고 분석에 도움이 되는 데이터를 위주로 선정하여 분석을 진행\n",
    "\n",
    "| **메타데이터 항목** | **설명** |\n",
    "| --- | --- |\n",
    "| unix_timestamp | 파일이 생성된 시각 (unix time stamp) |\n",
    "| gps_latitude | GPS 위도 |\n",
    "| gps_longitude | GPS 경도 |\n",
    "| yaw | 요 |\n",
    "| roll | 롤 |\n",
    "| pitch | 피치 |\n",
    "| long_velocity | 경도 방향의 속도 |\n",
    "| lat_velocity | 위도 방향의 속도 |\n",
    "| long_accel | 전진 또는 후진 방향으로 가속하거나 감속하는 정도(가속도) |\n",
    "| lat_accel | 좌우로 가속하거나 감속하는 정도(가속도) |\n",
    "\n",
    "\n",
    "\n",
    "#### (1) Unix Time Stamp\n",
    "\n",
    "* **Unix Time Stamp** 는 1970년 1월 1일 00:00:00 (UTC)로 부터 경과한 시간을 초 단위로 나타내는 숫자 값\n",
    "\n",
    "* POSIX 시간 또는 Epoch 시간이라고도 부름\n",
    "\n",
    "* 시간을 전 세계적으로 일관되게 표현할 수 있어서 데이터 동기화, 이벤트 추적 등에서 유용하게 사용할 수 있음\n",
    "\n",
    "\n",
    "메타데이터에 기록된 Unix Time Stamp는 `\"unix_timestamp\"`에 저장되어 있으며 확인한 결과는 다음과 같음"
   ]
  },
  {
   "cell_type": "code",
   "execution_count": 13,
   "metadata": {},
   "outputs": [
    {
     "data": {
      "text/plain": [
       "1656041450209"
      ]
     },
     "execution_count": 13,
     "metadata": {},
     "output_type": "execute_result"
    }
   ],
   "source": [
    "unix_timestamp = meta_data[\"unix_timestamp\"]\n",
    "unix_timestamp"
   ]
  },
  {
   "cell_type": "markdown",
   "metadata": {},
   "source": [
    "참고로 현재 시간의 Unix Time Stamp을 확인하는 방법은 내장 라이브러리인 `time` 라이브러리를 사용하면 확인 할 수 있음"
   ]
  },
  {
   "cell_type": "code",
   "execution_count": 14,
   "metadata": {},
   "outputs": [
    {
     "data": {
      "text/plain": [
       "1747010795.8111246"
      ]
     },
     "execution_count": 14,
     "metadata": {},
     "output_type": "execute_result"
    }
   ],
   "source": [
    "import time\n",
    "\n",
    "epoch_time = time.time()\n",
    "epoch_time"
   ]
  },
  {
   "cell_type": "markdown",
   "metadata": {},
   "source": [
    "Unix Time Stamp를 우리가 아는 시간(예. 2022년 2월 2일 2시 22분 22초)으로 변환하기 위해서는 `datetime` 이라는 내장 라이브러리 필요\n",
    "\n",
    "* **fromtimestamp :** Unix Time Stamp에 해당하는 날짜를 반환해주는 메소드\n",
    "* **strftime :** 지정한 포맷(예. %Y : YYYY)으로 날짜 자료를 생성해주는 메소드"
   ]
  },
  {
   "cell_type": "code",
   "execution_count": 15,
   "metadata": {},
   "outputs": [
    {
     "data": {
      "text/plain": [
       "'2025-05-12 09:46:35'"
      ]
     },
     "execution_count": 15,
     "metadata": {},
     "output_type": "execute_result"
    }
   ],
   "source": [
    "from datetime import datetime\n",
    " \n",
    "dt_object = datetime.fromtimestamp(epoch_time)\n",
    "\n",
    "real_time = dt_object.strftime(\"%Y-%m-%d %H:%M:%S\")\n",
    "real_time"
   ]
  },
  {
   "cell_type": "markdown",
   "metadata": {},
   "source": [
    "소수점을 제외한 상태에서 현재 시간과 메타데이터의 시간을 비교하면 자릿수가 다른 것을 확인 할 수 있음"
   ]
  },
  {
   "cell_type": "code",
   "execution_count": 16,
   "metadata": {},
   "outputs": [
    {
     "name": "stdout",
     "output_type": "stream",
     "text": [
      "현재 시간 : 1747010795\n",
      "측정 시간 : 1656041450209\n"
     ]
    }
   ],
   "source": [
    "print(f\"현재 시간 : {int(epoch_time)}\")\n",
    "print(f\"측정 시간 : {int(unix_timestamp)}\")"
   ]
  },
  {
   "cell_type": "markdown",
   "metadata": {},
   "source": [
    "즉, 메타데이터의 unix_timestamp는 초(second) 단위가 아니라 밀리초(milli second)로 저장되어 있다는 것을 확인할 수 있음\n",
    "\n",
    "\n",
    "<b><p style=\"text-align: center\"> 1 second = 1000 millisecond </p></b>"
   ]
  },
  {
   "cell_type": "markdown",
   "metadata": {},
   "source": [
    "밀리초 단위를 사용하여 `fromtimestamp`를 사용하면 에러가 발생하기 때문에 초 단위로 맞춰주는 작업을 통해 변환"
   ]
  },
  {
   "cell_type": "code",
   "execution_count": 17,
   "metadata": {},
   "outputs": [
    {
     "data": {
      "text/plain": [
       "'2022-06-24 12:30:50'"
      ]
     },
     "execution_count": 17,
     "metadata": {},
     "output_type": "execute_result"
    }
   ],
   "source": [
    "dt_object = datetime.fromtimestamp(unix_timestamp/1000)\n",
    "\n",
    "readable_time = dt_object.strftime(\"%Y-%m-%d %H:%M:%S\")\n",
    "readable_time"
   ]
  },
  {
   "cell_type": "markdown",
   "metadata": {},
   "source": [
    "해당 데이터는 2022년 6월 24일 12시 반에 생성된 자료임을 확인 할 수 있음\n",
    "\n",
    "메타데이터에는 이를 직접적으로 확인할 데이터를 가지고 있지 않지만 `parent_path` 내의 데이터를 확인하면 동일한 시간이 있는 것을 확인 할 수 있음\n",
    "\n",
    "(현재 실행환경(런박스)의 타임존(tz)이 한국으로 설정되어 있지 않아 약 9시간 정도 차이가 있습니다.)"
   ]
  },
  {
   "cell_type": "code",
   "execution_count": 18,
   "metadata": {},
   "outputs": [
    {
     "data": {
      "text/plain": [
       "'batch_02_data/2022-06-24_12-30-50_ADCV1-ADP1/source_pointcloud/Merged-LDR-AR+Near'"
      ]
     },
     "execution_count": 18,
     "metadata": {},
     "output_type": "execute_result"
    }
   ],
   "source": [
    "meta_data[\"parent_path\"]"
   ]
  },
  {
   "cell_type": "markdown",
   "metadata": {},
   "source": [
    "#### (2) 위도와 경도\n",
    "\n",
    "GPS 정보를 이용하면 위도와 경도 데이터를 얻을 수 있으며 이 데이터를 이용하면 지구 상에 어느 위치에 있는지 확인 할 수 있음\n",
    "\n",
    "* **위도 :** 지구의 수평선(적도)을 기준으로 위치를 표시하는 방식\n",
    "* **경도 :** 지구의 수직선(그리니치 천문대)을 기준으로 위치를 표시하는 방식\n",
    "\n",
    "메타데이터에 기록된 위도와 경도는 `\"gps_latitude\"`, `\"gps_longitude\"`에 저장되어 있으며 확인한 결과는 다음과 같음"
   ]
  },
  {
   "cell_type": "code",
   "execution_count": 19,
   "metadata": {},
   "outputs": [
    {
     "data": {
      "text/plain": [
       "'37.41472742888345, 127.1287126458741'"
      ]
     },
     "execution_count": 19,
     "metadata": {},
     "output_type": "execute_result"
    }
   ],
   "source": [
    "latitude = meta_data[\"gps_latitude\"]\n",
    "longitude = meta_data[\"gps_longitude\"]\n",
    "\n",
    "gps_point = f\"{latitude}, {longitude}\"\n",
    "gps_point"
   ]
  },
  {
   "cell_type": "markdown",
   "metadata": {},
   "source": [
    "위도, 경도를 이용한 위치 정보를 바탕으로 위치를 확인하기 위해서는 `geopy` 라는 외부 라이브러리가 필요\n",
    "\n",
    "해당 라이브러리의 `reverse` 메소드에 현재 위치 정보를 넣으면 위치의 국가, 주소, 우편번호 등의 정보를 얻을 수 있음"
   ]
  },
  {
   "cell_type": "code",
   "execution_count": 21,
   "metadata": {},
   "outputs": [
    {
     "data": {
      "text/plain": [
       "Location((주)커피빈코리아 선릉역3번출구세방빌딩점, 433, 선릉로, 대치4동, 강남구, 서울특별시, 06198, 대한민국, (37.5038013, 127.0490423, 0.0))"
      ]
     },
     "execution_count": 21,
     "metadata": {},
     "output_type": "execute_result"
    }
   ],
   "source": [
    "from geopy.geocoders import Nominatim\n",
    "\n",
    "geolocator = Nominatim(user_agent=\"search my location\") \n",
    "\n",
    "elice_location = geolocator.reverse(\"37.503762, 127.048918\")\n",
    "elice_location"
   ]
  },
  {
   "cell_type": "code",
   "execution_count": 22,
   "metadata": {},
   "outputs": [
    {
     "data": {
      "text/plain": [
       "Location(성남대로, 분당구, 성남시, 경기도, 13439, 대한민국, (37.4147283, 127.1286377, 0.0))"
      ]
     },
     "execution_count": 22,
     "metadata": {},
     "output_type": "execute_result"
    }
   ],
   "source": [
    "vehicle_location = geolocator.reverse(gps_point)\n",
    "vehicle_location"
   ]
  },
  {
   "cell_type": "markdown",
   "metadata": {},
   "source": [
    "location 객체에 `raw` 를 이용하면 해당 위치의 raw data를 확인 할 수 있음"
   ]
  },
  {
   "cell_type": "code",
   "execution_count": 23,
   "metadata": {},
   "outputs": [
    {
     "data": {
      "text/plain": [
       "{'place_id': 206466012,\n",
       " 'licence': 'Data © OpenStreetMap contributors, ODbL 1.0. http://osm.org/copyright',\n",
       " 'osm_type': 'way',\n",
       " 'osm_id': 581382553,\n",
       " 'lat': '37.4147283',\n",
       " 'lon': '127.1286377',\n",
       " 'class': 'highway',\n",
       " 'type': 'tertiary',\n",
       " 'place_rank': 26,\n",
       " 'importance': 0.053395117875944115,\n",
       " 'addresstype': 'road',\n",
       " 'name': '성남대로',\n",
       " 'display_name': '성남대로, 분당구, 성남시, 경기도, 13439, 대한민국',\n",
       " 'address': {'road': '성남대로',\n",
       "  'borough': '분당구',\n",
       "  'city': '성남시',\n",
       "  'province': '경기도',\n",
       "  'ISO3166-2-lvl4': 'KR-41',\n",
       "  'postcode': '13439',\n",
       "  'country': '대한민국',\n",
       "  'country_code': 'kr'},\n",
       " 'boundingbox': ['37.4142957', '37.4168234', '127.1286329', '127.1286609']}"
      ]
     },
     "execution_count": 23,
     "metadata": {},
     "output_type": "execute_result"
    }
   ],
   "source": [
    "raw_data = vehicle_location.raw  \n",
    "raw_data"
   ]
  },
  {
   "cell_type": "markdown",
   "metadata": {},
   "source": [
    "해당 위치의 주소 정보를 얻고 싶다면 `address` 를 이용"
   ]
  },
  {
   "cell_type": "code",
   "execution_count": 24,
   "metadata": {},
   "outputs": [
    {
     "data": {
      "text/plain": [
       "'성남대로, 분당구, 성남시, 경기도, 13439, 대한민국'"
      ]
     },
     "execution_count": 24,
     "metadata": {},
     "output_type": "execute_result"
    }
   ],
   "source": [
    "address = vehicle_location.address\n",
    "address"
   ]
  },
  {
   "cell_type": "markdown",
   "metadata": {},
   "source": [
    "메타데이터에서 나타내는 지리 정보는 `region_name`과 `location` 이 있지만 현재 주소 체계가 아닌 구 주소 체계임을 고려할 필요가 있음"
   ]
  },
  {
   "cell_type": "code",
   "execution_count": 25,
   "metadata": {},
   "outputs": [
    {
     "data": {
      "text/plain": [
       "('경기 성남시 분당구', '야탑동 487-1')"
      ]
     },
     "execution_count": 25,
     "metadata": {},
     "output_type": "execute_result"
    }
   ],
   "source": [
    "meta_data[\"region_name\"], meta_data[\"location\"]"
   ]
  },
  {
   "cell_type": "markdown",
   "metadata": {},
   "source": [
    "위치 정보를 지도 위로 시각화하기 위해서는 `folium` 이라는 외부 라이브러리 필요"
   ]
  },
  {
   "cell_type": "code",
   "execution_count": 26,
   "metadata": {},
   "outputs": [
    {
     "data": {
      "text/html": [
       "<div style=\"width:100%;\"><div style=\"position:relative;width:100%;height:0;padding-bottom:60%;\"><span style=\"color:#565656\">Make this Notebook Trusted to load map: File -> Trust Notebook</span><iframe srcdoc=\"&lt;!DOCTYPE html&gt;\n",
       "&lt;html&gt;\n",
       "&lt;head&gt;\n",
       "    \n",
       "    &lt;meta http-equiv=&quot;content-type&quot; content=&quot;text/html; charset=UTF-8&quot; /&gt;\n",
       "    \n",
       "        &lt;script&gt;\n",
       "            L_NO_TOUCH = false;\n",
       "            L_DISABLE_3D = false;\n",
       "        &lt;/script&gt;\n",
       "    \n",
       "    &lt;style&gt;html, body {width: 100%;height: 100%;margin: 0;padding: 0;}&lt;/style&gt;\n",
       "    &lt;style&gt;#map {position:absolute;top:0;bottom:0;right:0;left:0;}&lt;/style&gt;\n",
       "    &lt;script src=&quot;https://cdn.jsdelivr.net/npm/leaflet@1.9.3/dist/leaflet.js&quot;&gt;&lt;/script&gt;\n",
       "    &lt;script src=&quot;https://code.jquery.com/jquery-3.7.1.min.js&quot;&gt;&lt;/script&gt;\n",
       "    &lt;script src=&quot;https://cdn.jsdelivr.net/npm/bootstrap@5.2.2/dist/js/bootstrap.bundle.min.js&quot;&gt;&lt;/script&gt;\n",
       "    &lt;script src=&quot;https://cdnjs.cloudflare.com/ajax/libs/Leaflet.awesome-markers/2.0.2/leaflet.awesome-markers.js&quot;&gt;&lt;/script&gt;\n",
       "    &lt;link rel=&quot;stylesheet&quot; href=&quot;https://cdn.jsdelivr.net/npm/leaflet@1.9.3/dist/leaflet.css&quot;/&gt;\n",
       "    &lt;link rel=&quot;stylesheet&quot; href=&quot;https://cdn.jsdelivr.net/npm/bootstrap@5.2.2/dist/css/bootstrap.min.css&quot;/&gt;\n",
       "    &lt;link rel=&quot;stylesheet&quot; href=&quot;https://netdna.bootstrapcdn.com/bootstrap/3.0.0/css/bootstrap-glyphicons.css&quot;/&gt;\n",
       "    &lt;link rel=&quot;stylesheet&quot; href=&quot;https://cdn.jsdelivr.net/npm/@fortawesome/fontawesome-free@6.2.0/css/all.min.css&quot;/&gt;\n",
       "    &lt;link rel=&quot;stylesheet&quot; href=&quot;https://cdnjs.cloudflare.com/ajax/libs/Leaflet.awesome-markers/2.0.2/leaflet.awesome-markers.css&quot;/&gt;\n",
       "    &lt;link rel=&quot;stylesheet&quot; href=&quot;https://cdn.jsdelivr.net/gh/python-visualization/folium/folium/templates/leaflet.awesome.rotate.min.css&quot;/&gt;\n",
       "    \n",
       "            &lt;meta name=&quot;viewport&quot; content=&quot;width=device-width,\n",
       "                initial-scale=1.0, maximum-scale=1.0, user-scalable=no&quot; /&gt;\n",
       "            &lt;style&gt;\n",
       "                #map_0c35a9132c26e58ba23406157fdcfc8a {\n",
       "                    position: relative;\n",
       "                    width: 100.0%;\n",
       "                    height: 100.0%;\n",
       "                    left: 0.0%;\n",
       "                    top: 0.0%;\n",
       "                }\n",
       "                .leaflet-container { font-size: 1rem; }\n",
       "            &lt;/style&gt;\n",
       "        \n",
       "&lt;/head&gt;\n",
       "&lt;body&gt;\n",
       "    \n",
       "    \n",
       "            &lt;div class=&quot;folium-map&quot; id=&quot;map_0c35a9132c26e58ba23406157fdcfc8a&quot; &gt;&lt;/div&gt;\n",
       "        \n",
       "&lt;/body&gt;\n",
       "&lt;script&gt;\n",
       "    \n",
       "    \n",
       "            var map_0c35a9132c26e58ba23406157fdcfc8a = L.map(\n",
       "                &quot;map_0c35a9132c26e58ba23406157fdcfc8a&quot;,\n",
       "                {\n",
       "                    center: [37.41472742888345, 127.1287126458741],\n",
       "                    crs: L.CRS.EPSG3857,\n",
       "                    ...{\n",
       "  &quot;zoom&quot;: 50,\n",
       "  &quot;zoomControl&quot;: true,\n",
       "  &quot;preferCanvas&quot;: false,\n",
       "}\n",
       "\n",
       "                }\n",
       "            );\n",
       "\n",
       "            \n",
       "\n",
       "        \n",
       "    \n",
       "            var tile_layer_e9b462c7762d40d9964467846d5bd519 = L.tileLayer(\n",
       "                &quot;https://tile.openstreetmap.org/{z}/{x}/{y}.png&quot;,\n",
       "                {\n",
       "  &quot;minZoom&quot;: 0,\n",
       "  &quot;maxZoom&quot;: 19,\n",
       "  &quot;maxNativeZoom&quot;: 19,\n",
       "  &quot;noWrap&quot;: false,\n",
       "  &quot;attribution&quot;: &quot;\\u0026copy; \\u003ca href=\\&quot;https://www.openstreetmap.org/copyright\\&quot;\\u003eOpenStreetMap\\u003c/a\\u003e contributors&quot;,\n",
       "  &quot;subdomains&quot;: &quot;abc&quot;,\n",
       "  &quot;detectRetina&quot;: false,\n",
       "  &quot;tms&quot;: false,\n",
       "  &quot;opacity&quot;: 1,\n",
       "}\n",
       "\n",
       "            );\n",
       "        \n",
       "    \n",
       "            tile_layer_e9b462c7762d40d9964467846d5bd519.addTo(map_0c35a9132c26e58ba23406157fdcfc8a);\n",
       "        \n",
       "    \n",
       "            var marker_e9fb7c25293bff2c5e575cc6303847af = L.marker(\n",
       "                [37.41472742888345, 127.1287126458741],\n",
       "                {\n",
       "}\n",
       "            ).addTo(map_0c35a9132c26e58ba23406157fdcfc8a);\n",
       "        \n",
       "    \n",
       "        var popup_84c491f4a4953569547efc27dda1d7dc = L.popup({\n",
       "  &quot;maxWidth&quot;: &quot;100%&quot;,\n",
       "});\n",
       "\n",
       "        \n",
       "            \n",
       "                var html_a734a6af7517ab4858c2b1dcdfa041e4 = $(`&lt;div id=&quot;html_a734a6af7517ab4858c2b1dcdfa041e4&quot; style=&quot;width: 100.0%; height: 100.0%;&quot;&gt;Marker at specified location&lt;/div&gt;`)[0];\n",
       "                popup_84c491f4a4953569547efc27dda1d7dc.setContent(html_a734a6af7517ab4858c2b1dcdfa041e4);\n",
       "            \n",
       "        \n",
       "\n",
       "        marker_e9fb7c25293bff2c5e575cc6303847af.bindPopup(popup_84c491f4a4953569547efc27dda1d7dc)\n",
       "        ;\n",
       "\n",
       "        \n",
       "    \n",
       "&lt;/script&gt;\n",
       "&lt;/html&gt;\" style=\"position:absolute;width:100%;height:100%;left:0;top:0;border:none !important;\" allowfullscreen webkitallowfullscreen mozallowfullscreen></iframe></div></div>"
      ],
      "text/plain": [
       "<folium.folium.Map at 0x2071ecb6b10>"
      ]
     },
     "execution_count": 26,
     "metadata": {},
     "output_type": "execute_result"
    }
   ],
   "source": [
    "import folium   \n",
    "\n",
    "# 지도 객체 생성 (초기 위치와 확대 수준 설정)  \n",
    "mymap = folium.Map(location=[latitude, longitude], zoom_start=50)  \n",
    "\n",
    "# 마커 추가  \n",
    "folium.Marker([latitude, longitude], popup='Marker at specified location').add_to(mymap)  \n",
    "\n",
    "# 또는 주피터 노트북 환경에서 직접 지도를 표시할 수 있음  \n",
    "mymap"
   ]
  },
  {
   "cell_type": "markdown",
   "metadata": {},
   "source": [
    "#### (3) 조향 및 속도 관련 데이터\n",
    "\n",
    "메타데이터 안에는 차량의 다양한 조향과 속도 데이터를 가지고 있음 \n",
    "\n",
    "![](img/yaw_roll_pitch.png)\n",
    "\n",
    "\n",
    "**[조향 관련]**\n",
    "* **yaw (요) :** 차량의 수직축을 따라 발생하는 회전 운동\n",
    "* **roll (롤) :** 차량의 길이축을 따라 발생하는 회전 운동\n",
    "* **pitch (피치) :** 차량의 횡축(가로축)을 따라 발생하는 회전 운동\n",
    "\n",
    "\n",
    "**[속도 관련]**\n",
    "* **long_velocity :** 전진 방향으로의 속도\n",
    "* **long_accel :** 전진 방향으로의 가속도\n",
    "* **lat_velocity :** 옆면 방향으로의 속도\n",
    "* **lat_accel :** 옆면 방향으로의 가속도\n",
    "\n",
    "\n",
    "이 데이터를 이용하면 차량의 방향, 현재 상태 등 다양한 정보를 확인 할 수 있음\n",
    "\n",
    "하지만 현재의 데이터는 단일 데이터이므로 뚜렷한 의미를 찾을 수 없음\n",
    "\n",
    "의미있는 데이터를 도출하기 위해서는 단일 데이터가 아닌 시간에 따른 여러 조향 및 속도 데이터가 필요\n",
    "\n",
    "현재 실습에서는 단일 메타 데이터에서 관련 정보를 파싱하고 이를 데이터프레임으로 정리하는 방법을 진행"
   ]
  },
  {
   "cell_type": "code",
   "execution_count": 27,
   "metadata": {},
   "outputs": [
    {
     "name": "stdout",
     "output_type": "stream",
     "text": [
      "Yaw : 91.11, Roll : 0.31, Pitch : 2.27\n"
     ]
    }
   ],
   "source": [
    "yaw = meta_data[\"yaw\"]\n",
    "roll = meta_data[\"roll\"]\n",
    "pitch = meta_data[\"pitch\"]\n",
    "\n",
    "print(f\"Yaw : {yaw}, Roll : {roll}, Pitch : {pitch}\")"
   ]
  },
  {
   "cell_type": "code",
   "execution_count": 28,
   "metadata": {},
   "outputs": [
    {
     "name": "stdout",
     "output_type": "stream",
     "text": [
      "전진 방향 속도: 14.89, 가속도 : -0.12\n",
      "옆면 방향 속도: -0.15, 가속도 : -0.0\n"
     ]
    }
   ],
   "source": [
    "long_velocity = meta_data[\"long_velocity\"]\n",
    "long_accel = meta_data[\"long_accel\"]\n",
    "\n",
    "lat_velocity = meta_data[\"lat_velocity\"]\n",
    "lat_accel = meta_data[\"lat_accel\"]\n",
    "\n",
    "print(f\"전진 방향 속도: {long_velocity}, 가속도 : {long_accel}\")\n",
    "print(f\"옆면 방향 속도: {lat_velocity}, 가속도 : {lat_accel}\")"
   ]
  },
  {
   "cell_type": "code",
   "execution_count": 29,
   "metadata": {},
   "outputs": [
    {
     "data": {
      "application/vnd.microsoft.datawrangler.viewer.v0+json": {
       "columns": [
        {
         "name": "index",
         "rawType": "int64",
         "type": "integer"
        },
        {
         "name": "filename",
         "rawType": "object",
         "type": "string"
        },
        {
         "name": "parent_path",
         "rawType": "object",
         "type": "string"
        },
        {
         "name": "unix_timestamp",
         "rawType": "int64",
         "type": "integer"
        },
        {
         "name": "file_format",
         "rawType": "object",
         "type": "string"
        },
        {
         "name": "capacity",
         "rawType": "float64",
         "type": "float"
        },
        {
         "name": "vehicle_id",
         "rawType": "object",
         "type": "string"
        },
        {
         "name": "region_name",
         "rawType": "object",
         "type": "string"
        },
        {
         "name": "location",
         "rawType": "object",
         "type": "string"
        },
        {
         "name": "length",
         "rawType": "int64",
         "type": "integer"
        },
        {
         "name": "framerate",
         "rawType": "int64",
         "type": "integer"
        },
        {
         "name": "size",
         "rawType": "object",
         "type": "string"
        },
        {
         "name": "data_purpose",
         "rawType": "object",
         "type": "string"
        },
        {
         "name": "time",
         "rawType": "object",
         "type": "string"
        },
        {
         "name": "road_feature",
         "rawType": "object",
         "type": "string"
        },
        {
         "name": "road_type",
         "rawType": "object",
         "type": "string"
        },
        {
         "name": "location_feature",
         "rawType": "object",
         "type": "string"
        },
        {
         "name": "driving_scenario",
         "rawType": "object",
         "type": "string"
        },
        {
         "name": "ego_long_vel_level",
         "rawType": "object",
         "type": "string"
        },
        {
         "name": "season",
         "rawType": "object",
         "type": "string"
        },
        {
         "name": "crowd_level",
         "rawType": "object",
         "type": "string"
        },
        {
         "name": "scene_att",
         "rawType": "object",
         "type": "string"
        },
        {
         "name": "weather",
         "rawType": "object",
         "type": "string"
        },
        {
         "name": "contamination",
         "rawType": "object",
         "type": "string"
        },
        {
         "name": "cloudiness",
         "rawType": "object",
         "type": "string"
        },
        {
         "name": "darkness_level",
         "rawType": "object",
         "type": "string"
        },
        {
         "name": "backlight",
         "rawType": "object",
         "type": "string"
        },
        {
         "name": "road_surface_type",
         "rawType": "object",
         "type": "string"
        },
        {
         "name": "road_surface_features",
         "rawType": "object",
         "type": "string"
        },
        {
         "name": "road_surface_condition",
         "rawType": "object",
         "type": "string"
        },
        {
         "name": "shadow_in_line",
         "rawType": "object",
         "type": "string"
        },
        {
         "name": "damaged_line",
         "rawType": "object",
         "type": "string"
        },
        {
         "name": "sensor_name",
         "rawType": "object",
         "type": "string"
        },
        {
         "name": "sensor_hfov",
         "rawType": "int64",
         "type": "integer"
        },
        {
         "name": "sensor_vfov",
         "rawType": "int64",
         "type": "integer"
        },
        {
         "name": "gps_mode",
         "rawType": "object",
         "type": "string"
        },
        {
         "name": "gps_latitude",
         "rawType": "float64",
         "type": "float"
        },
        {
         "name": "gps_longitude",
         "rawType": "float64",
         "type": "float"
        },
        {
         "name": "long_velocity",
         "rawType": "float64",
         "type": "float"
        },
        {
         "name": "lat_velocity",
         "rawType": "float64",
         "type": "float"
        },
        {
         "name": "long_accel",
         "rawType": "float64",
         "type": "float"
        },
        {
         "name": "lat_accel",
         "rawType": "float64",
         "type": "float"
        },
        {
         "name": "yaw",
         "rawType": "float64",
         "type": "float"
        },
        {
         "name": "roll",
         "rawType": "float64",
         "type": "float"
        },
        {
         "name": "pitch",
         "rawType": "float64",
         "type": "float"
        },
        {
         "name": "rel_x",
         "rawType": "float64",
         "type": "float"
        },
        {
         "name": "rel_y",
         "rawType": "float64",
         "type": "float"
        }
       ],
       "conversionMethod": "pd.DataFrame",
       "ref": "a237c15e-0744-49cb-b37b-dacf27d5f0eb",
       "rows": [
        [
         "0",
         "1656041450209_Merged-LDR-AR+Near",
         "batch_02_data/2022-06-24_12-30-50_ADCV1-ADP1/source_pointcloud/Merged-LDR-AR+Near",
         "1656041450209",
         "pcd",
         "6.78",
         "AIMMO-ADCV1",
         "경기 성남시 분당구",
         "야탑동 487-1",
         "11",
         "10",
         "403584pts",
         "train",
         "day",
         "r_cityroad",
         "normal",
         "other",
         "lane_following",
         "low",
         "summer",
         "high",
         "scenario",
         "clear",
         "reflection_from_dashboard-quarter",
         "broken",
         "bright",
         "no",
         "asphalt",
         "clear",
         "clear",
         "no",
         "no",
         "Merged-LDR-AR+Near",
         "360",
         "40",
         "rtk_float",
         "37.41472742888345",
         "127.1287126458741",
         "14.89",
         "-0.15",
         "-0.12",
         "-0.0",
         "91.11",
         "0.31",
         "2.27",
         "0.0",
         "0.0"
        ]
       ],
       "shape": {
        "columns": 46,
        "rows": 1
       }
      },
      "text/html": [
       "<div>\n",
       "<style scoped>\n",
       "    .dataframe tbody tr th:only-of-type {\n",
       "        vertical-align: middle;\n",
       "    }\n",
       "\n",
       "    .dataframe tbody tr th {\n",
       "        vertical-align: top;\n",
       "    }\n",
       "\n",
       "    .dataframe thead th {\n",
       "        text-align: right;\n",
       "    }\n",
       "</style>\n",
       "<table border=\"1\" class=\"dataframe\">\n",
       "  <thead>\n",
       "    <tr style=\"text-align: right;\">\n",
       "      <th></th>\n",
       "      <th>filename</th>\n",
       "      <th>parent_path</th>\n",
       "      <th>unix_timestamp</th>\n",
       "      <th>file_format</th>\n",
       "      <th>capacity</th>\n",
       "      <th>vehicle_id</th>\n",
       "      <th>region_name</th>\n",
       "      <th>location</th>\n",
       "      <th>length</th>\n",
       "      <th>framerate</th>\n",
       "      <th>...</th>\n",
       "      <th>gps_longitude</th>\n",
       "      <th>long_velocity</th>\n",
       "      <th>lat_velocity</th>\n",
       "      <th>long_accel</th>\n",
       "      <th>lat_accel</th>\n",
       "      <th>yaw</th>\n",
       "      <th>roll</th>\n",
       "      <th>pitch</th>\n",
       "      <th>rel_x</th>\n",
       "      <th>rel_y</th>\n",
       "    </tr>\n",
       "  </thead>\n",
       "  <tbody>\n",
       "    <tr>\n",
       "      <th>0</th>\n",
       "      <td>1656041450209_Merged-LDR-AR+Near</td>\n",
       "      <td>batch_02_data/2022-06-24_12-30-50_ADCV1-ADP1/s...</td>\n",
       "      <td>1656041450209</td>\n",
       "      <td>pcd</td>\n",
       "      <td>6.78</td>\n",
       "      <td>AIMMO-ADCV1</td>\n",
       "      <td>경기 성남시 분당구</td>\n",
       "      <td>야탑동 487-1</td>\n",
       "      <td>11</td>\n",
       "      <td>10</td>\n",
       "      <td>...</td>\n",
       "      <td>127.128713</td>\n",
       "      <td>14.89</td>\n",
       "      <td>-0.15</td>\n",
       "      <td>-0.12</td>\n",
       "      <td>-0.0</td>\n",
       "      <td>91.11</td>\n",
       "      <td>0.31</td>\n",
       "      <td>2.27</td>\n",
       "      <td>0.0</td>\n",
       "      <td>0.0</td>\n",
       "    </tr>\n",
       "  </tbody>\n",
       "</table>\n",
       "<p>1 rows × 46 columns</p>\n",
       "</div>"
      ],
      "text/plain": [
       "                           filename  \\\n",
       "0  1656041450209_Merged-LDR-AR+Near   \n",
       "\n",
       "                                         parent_path  unix_timestamp  \\\n",
       "0  batch_02_data/2022-06-24_12-30-50_ADCV1-ADP1/s...   1656041450209   \n",
       "\n",
       "  file_format  capacity   vehicle_id region_name   location  length  \\\n",
       "0         pcd      6.78  AIMMO-ADCV1  경기 성남시 분당구  야탑동 487-1      11   \n",
       "\n",
       "   framerate  ... gps_longitude long_velocity lat_velocity long_accel  \\\n",
       "0         10  ...    127.128713         14.89        -0.15      -0.12   \n",
       "\n",
       "  lat_accel    yaw  roll pitch rel_x rel_y  \n",
       "0      -0.0  91.11  0.31  2.27   0.0   0.0  \n",
       "\n",
       "[1 rows x 46 columns]"
      ]
     },
     "execution_count": 29,
     "metadata": {},
     "output_type": "execute_result"
    }
   ],
   "source": [
    "import pandas as pd\n",
    "\n",
    "df = pd.DataFrame([meta_data])\n",
    "df"
   ]
  },
  {
   "cell_type": "code",
   "execution_count": 30,
   "metadata": {},
   "outputs": [
    {
     "data": {
      "application/vnd.microsoft.datawrangler.viewer.v0+json": {
       "columns": [
        {
         "name": "index",
         "rawType": "int64",
         "type": "integer"
        },
        {
         "name": "yaw",
         "rawType": "float64",
         "type": "float"
        },
        {
         "name": "roll",
         "rawType": "float64",
         "type": "float"
        },
        {
         "name": "pitch",
         "rawType": "float64",
         "type": "float"
        }
       ],
       "conversionMethod": "pd.DataFrame",
       "ref": "5a9ead23-551c-4787-8470-f7f45c2e845c",
       "rows": [
        [
         "0",
         "91.11",
         "0.31",
         "2.27"
        ]
       ],
       "shape": {
        "columns": 3,
        "rows": 1
       }
      },
      "text/html": [
       "<div>\n",
       "<style scoped>\n",
       "    .dataframe tbody tr th:only-of-type {\n",
       "        vertical-align: middle;\n",
       "    }\n",
       "\n",
       "    .dataframe tbody tr th {\n",
       "        vertical-align: top;\n",
       "    }\n",
       "\n",
       "    .dataframe thead th {\n",
       "        text-align: right;\n",
       "    }\n",
       "</style>\n",
       "<table border=\"1\" class=\"dataframe\">\n",
       "  <thead>\n",
       "    <tr style=\"text-align: right;\">\n",
       "      <th></th>\n",
       "      <th>yaw</th>\n",
       "      <th>roll</th>\n",
       "      <th>pitch</th>\n",
       "    </tr>\n",
       "  </thead>\n",
       "  <tbody>\n",
       "    <tr>\n",
       "      <th>0</th>\n",
       "      <td>91.11</td>\n",
       "      <td>0.31</td>\n",
       "      <td>2.27</td>\n",
       "    </tr>\n",
       "  </tbody>\n",
       "</table>\n",
       "</div>"
      ],
      "text/plain": [
       "     yaw  roll  pitch\n",
       "0  91.11  0.31   2.27"
      ]
     },
     "execution_count": 30,
     "metadata": {},
     "output_type": "execute_result"
    }
   ],
   "source": [
    "df[[\"yaw\", \"roll\", \"pitch\"]]"
   ]
  },
  {
   "cell_type": "code",
   "execution_count": 31,
   "metadata": {},
   "outputs": [
    {
     "data": {
      "application/vnd.microsoft.datawrangler.viewer.v0+json": {
       "columns": [
        {
         "name": "index",
         "rawType": "int64",
         "type": "integer"
        },
        {
         "name": "long_velocity",
         "rawType": "float64",
         "type": "float"
        },
        {
         "name": "long_accel",
         "rawType": "float64",
         "type": "float"
        },
        {
         "name": "lat_velocity",
         "rawType": "float64",
         "type": "float"
        },
        {
         "name": "lat_accel",
         "rawType": "float64",
         "type": "float"
        }
       ],
       "conversionMethod": "pd.DataFrame",
       "ref": "cd0edf8c-d116-400a-a099-c33caad003b4",
       "rows": [
        [
         "0",
         "14.89",
         "-0.12",
         "-0.15",
         "-0.0"
        ]
       ],
       "shape": {
        "columns": 4,
        "rows": 1
       }
      },
      "text/html": [
       "<div>\n",
       "<style scoped>\n",
       "    .dataframe tbody tr th:only-of-type {\n",
       "        vertical-align: middle;\n",
       "    }\n",
       "\n",
       "    .dataframe tbody tr th {\n",
       "        vertical-align: top;\n",
       "    }\n",
       "\n",
       "    .dataframe thead th {\n",
       "        text-align: right;\n",
       "    }\n",
       "</style>\n",
       "<table border=\"1\" class=\"dataframe\">\n",
       "  <thead>\n",
       "    <tr style=\"text-align: right;\">\n",
       "      <th></th>\n",
       "      <th>long_velocity</th>\n",
       "      <th>long_accel</th>\n",
       "      <th>lat_velocity</th>\n",
       "      <th>lat_accel</th>\n",
       "    </tr>\n",
       "  </thead>\n",
       "  <tbody>\n",
       "    <tr>\n",
       "      <th>0</th>\n",
       "      <td>14.89</td>\n",
       "      <td>-0.12</td>\n",
       "      <td>-0.15</td>\n",
       "      <td>-0.0</td>\n",
       "    </tr>\n",
       "  </tbody>\n",
       "</table>\n",
       "</div>"
      ],
      "text/plain": [
       "   long_velocity  long_accel  lat_velocity  lat_accel\n",
       "0          14.89       -0.12         -0.15       -0.0"
      ]
     },
     "execution_count": 31,
     "metadata": {},
     "output_type": "execute_result"
    }
   ],
   "source": [
    "df[[\"long_velocity\", \"long_accel\", \"lat_velocity\", \"lat_accel\"]]"
   ]
  },
  {
   "cell_type": "markdown",
   "metadata": {},
   "source": [
    "### [TODO] 다른 시나리오의 단일 주행 데이터 파싱하기\n",
    "* data 폴더에 있는 `parsing_target.json` 은 지금까지 분석한 주행 데이터와 <u>다른 시나리오에서 추출한 데이터 중 하나</u>입니다. \n",
    "* 해당 데이터를 파싱하여 다양한 메타데이터를 분석하는 코드를 작성하세요.\n",
    "\n",
    "먼저 JSON 파일을 불러오는 코드를 작성해 주세요."
   ]
  },
  {
   "cell_type": "code",
   "execution_count": 32,
   "metadata": {},
   "outputs": [
    {
     "data": {
      "text/plain": [
       "{'filename': '1656155290765_Merged-LDR-AR+Near',\n",
       " 'parent_path': 'batch_02_data/2022-06-25_20-08-06_ADCV1-ADP1/source_pointcloud/Merged-LDR-AR+Near',\n",
       " 'unix_timestamp': 1656155290765,\n",
       " 'file_format': 'pcd',\n",
       " 'capacity': 6.92,\n",
       " 'vehicle_id': 'AIMMO-ADCV1',\n",
       " 'region_name': '서울 강동구',\n",
       " 'location': '천호동 447',\n",
       " 'length': 15,\n",
       " 'framerate': 10,\n",
       " 'size': '403200pts',\n",
       " 'data_purpose': 'train',\n",
       " 'time': 'night',\n",
       " 'road_feature': 'r_cityroad',\n",
       " 'road_type': 'intersection',\n",
       " 'location_feature': 'other',\n",
       " 'driving_scenario': 'u-turn',\n",
       " 'ego_long_vel_level': 'low',\n",
       " 'season': 'summer',\n",
       " 'crowd_level': 'high',\n",
       " 'scene_att': 'scenario',\n",
       " 'weather': 'clear',\n",
       " 'contamination': 'no',\n",
       " 'cloudiness': 'clear',\n",
       " 'darkness_level': 'low_ambient',\n",
       " 'backlight': 'no',\n",
       " 'road_surface_type': 'asphalt',\n",
       " 'road_surface_features': 'clear',\n",
       " 'road_surface_condition': 'clear',\n",
       " 'shadow_in_line': 'no',\n",
       " 'damaged_line': 'no',\n",
       " 'sensor_name': 'Merged-LDR-AR+Near',\n",
       " 'sensor_hfov': 360,\n",
       " 'sensor_vfov': 40,\n",
       " 'gps_mode': 'rtk_integer',\n",
       " 'gps_latitude': 37.53542492866625,\n",
       " 'gps_longitude': 127.13375765970876,\n",
       " 'long_velocity': 9.92,\n",
       " 'lat_velocity': -0.02,\n",
       " 'long_accel': -0.64,\n",
       " 'lat_accel': -0.27,\n",
       " 'yaw': 340.49,\n",
       " 'roll': 0.66,\n",
       " 'pitch': 3.81,\n",
       " 'rel_x': 0.0,\n",
       " 'rel_y': 0.0,\n",
       " 'annotations': [{'id': '1-53d4d2df-b6a8-41ff-bc29-f750aba14f02',\n",
       "   'type': '3dbb',\n",
       "   'label': 'car',\n",
       "   'position': [0.95, -3.0, 0.89],\n",
       "   'geometry': [4.54, 1.92, 1.64],\n",
       "   'rotation': [0, 0, -0.07],\n",
       "   'point_count': 11483,\n",
       "   'track_id': 1,\n",
       "   'occlusion': '0',\n",
       "   'scenario': '0',\n",
       "   'volume': 14.3},\n",
       "  {'id': '2-d9ac5bd0-3c6b-40d3-8876-e01f86333449',\n",
       "   'type': '3dbb',\n",
       "   'label': 'car',\n",
       "   'position': [9.61, -1.11, 0.88],\n",
       "   'geometry': [4.34, 1.94, 1.62],\n",
       "   'rotation': [0, 0, 0.05],\n",
       "   'point_count': 7061,\n",
       "   'track_id': 2,\n",
       "   'occlusion': '0',\n",
       "   'scenario': '0',\n",
       "   'volume': 13.64},\n",
       "  {'id': '3-22e0513d-4856-42fb-87a3-3fb11f919f92',\n",
       "   'type': '3dbb',\n",
       "   'label': 'car',\n",
       "   'position': [14.3, 2.49, 0.81],\n",
       "   'geometry': [4.5, 1.94, 1.48],\n",
       "   'rotation': [-0.01, 0, 0.65],\n",
       "   'point_count': 3756,\n",
       "   'track_id': 3,\n",
       "   'occlusion': '0',\n",
       "   'scenario': '0',\n",
       "   'volume': 12.92},\n",
       "  {'id': '4-6ad72aee-3e77-4d57-a899-c1eb1353f3bd',\n",
       "   'type': '3dbb',\n",
       "   'label': 'car',\n",
       "   'position': [-9.31, 0.34, 0.84],\n",
       "   'geometry': [4.5, 1.7, 1.48],\n",
       "   'rotation': [0, 0, -0.05],\n",
       "   'point_count': 244,\n",
       "   'track_id': 4,\n",
       "   'occlusion': '0',\n",
       "   'scenario': '0',\n",
       "   'volume': 11.32},\n",
       "  {'id': '5-021010e0-4195-4324-b732-da69de6697be',\n",
       "   'type': '3dbb',\n",
       "   'label': 'car',\n",
       "   'position': [-13.31, -2.48, 0.95],\n",
       "   'geometry': [4.5, 1.9, 1.68],\n",
       "   'rotation': [0, 0, -0.09],\n",
       "   'point_count': 276,\n",
       "   'track_id': 5,\n",
       "   'occlusion': '1',\n",
       "   'scenario': '0',\n",
       "   'volume': 14.36},\n",
       "  {'id': '6-58fec6c4-9952-4b56-9991-819caabcea9b',\n",
       "   'type': '3dbb',\n",
       "   'label': 'car',\n",
       "   'position': [-26.7, -1.69, 1.16],\n",
       "   'geometry': [4.5, 1.96, 1.64],\n",
       "   'rotation': [0, 0, -0.08],\n",
       "   'point_count': 148,\n",
       "   'track_id': 6,\n",
       "   'occlusion': '1',\n",
       "   'scenario': '0',\n",
       "   'volume': 14.46},\n",
       "  {'id': '7-1d580c2c-6c0a-49f7-839b-4abc029874b1',\n",
       "   'type': '3dbb',\n",
       "   'label': 'bus',\n",
       "   'position': [-42.02, -0.67, 2.1],\n",
       "   'geometry': [10.18, 2.84, 3.12],\n",
       "   'rotation': [0, 0, -0.07],\n",
       "   'point_count': 543,\n",
       "   'track_id': 7,\n",
       "   'occlusion': '1',\n",
       "   'scenario': '0',\n",
       "   'volume': 90.2},\n",
       "  {'id': '8-ab956a28-5b34-475b-9b25-0aff12bda860',\n",
       "   'type': '3dbb',\n",
       "   'label': 'car',\n",
       "   'position': [23.29, 9.93, 0.63],\n",
       "   'geometry': [3.52, 1.62, 1.48],\n",
       "   'rotation': [0.03, 0.03, 2.73],\n",
       "   'point_count': 1020,\n",
       "   'track_id': 8,\n",
       "   'occlusion': '1',\n",
       "   'scenario': '0',\n",
       "   'volume': 8.44},\n",
       "  {'id': '9-3ea0dd1b-5501-4db3-95c6-85502e86b893',\n",
       "   'type': '3dbb',\n",
       "   'label': 'car',\n",
       "   'position': [16.57, 15.76, 0.61],\n",
       "   'geometry': [4.92, 2.08, 1.88],\n",
       "   'rotation': [0.03, 0.01, -3.12],\n",
       "   'point_count': 2243,\n",
       "   'track_id': 9,\n",
       "   'occlusion': '0',\n",
       "   'scenario': '0',\n",
       "   'volume': 19.24},\n",
       "  {'id': '10-7270661e-0593-47af-aa8d-75b80c693401',\n",
       "   'type': '3dbb',\n",
       "   'label': 'car',\n",
       "   'position': [-17.28, 16.27, 0.4],\n",
       "   'geometry': [4.5, 1.8, 1.7],\n",
       "   'rotation': [0.1, 0, -3.07],\n",
       "   'point_count': 239,\n",
       "   'track_id': 10,\n",
       "   'occlusion': '0',\n",
       "   'scenario': '0',\n",
       "   'volume': 13.77},\n",
       "  {'id': '11-2705d535-0141-4644-9f50-424544b974c4',\n",
       "   'type': '3dbb',\n",
       "   'label': 'car',\n",
       "   'position': [-35.09, 12.49, 0.97],\n",
       "   'geometry': [4.5, 1.88, 1.62],\n",
       "   'rotation': [0.05, 0.03, 3.12],\n",
       "   'point_count': 164,\n",
       "   'track_id': 11,\n",
       "   'occlusion': '0',\n",
       "   'scenario': '0',\n",
       "   'volume': 13.71},\n",
       "  {'id': '12-4b1d7841-ec1a-4ef4-ae2b-9fa4c16918cc',\n",
       "   'type': '3dbb',\n",
       "   'label': 'car',\n",
       "   'position': [-40.85, 21.32, 0.33],\n",
       "   'geometry': [4.5, 1.8, 1.6],\n",
       "   'rotation': [0.04, 0, 3.05],\n",
       "   'point_count': 54,\n",
       "   'track_id': 12,\n",
       "   'occlusion': '1',\n",
       "   'scenario': '0',\n",
       "   'volume': 12.96},\n",
       "  {'id': '13-608e81c1-4839-4ac5-a228-106bd606f13d',\n",
       "   'type': '3dbb',\n",
       "   'label': 'bus',\n",
       "   'position': [-91.86, 24.55, 2.23],\n",
       "   'geometry': [12, 2.68, 3.4],\n",
       "   'rotation': [0.04, 0, 3.07],\n",
       "   'point_count': 157,\n",
       "   'track_id': 13,\n",
       "   'occlusion': '1',\n",
       "   'scenario': '0',\n",
       "   'volume': 109.34},\n",
       "  {'id': '14-a4a4ddfd-6523-4d99-8f34-947b38796f45',\n",
       "   'type': '3dbb',\n",
       "   'label': 'truck',\n",
       "   'position': [-101.5, 19.02, 3.13],\n",
       "   'geometry': [7.46, 2.96, 3.6],\n",
       "   'rotation': [0.04, 0, 3.05],\n",
       "   'point_count': 151,\n",
       "   'track_id': 14,\n",
       "   'occlusion': '1',\n",
       "   'scenario': '0',\n",
       "   'volume': 79.49},\n",
       "  {'id': '15-5647cd5f-09dc-42a2-a6bb-c4668c72771b',\n",
       "   'type': '3dbb',\n",
       "   'label': 'car',\n",
       "   'position': [41.23, 3.19, 1.26],\n",
       "   'geometry': [4.5, 1.86, 1.54],\n",
       "   'rotation': [-0.01, -0.02, 0.63],\n",
       "   'point_count': 122,\n",
       "   'track_id': 15,\n",
       "   'occlusion': '1',\n",
       "   'scenario': '0',\n",
       "   'volume': 12.89},\n",
       "  {'id': '16-79b57416-64d4-4858-ad8d-c8e41be2d09e',\n",
       "   'type': '3dbb',\n",
       "   'label': 'car',\n",
       "   'position': [42.88, -1.47, 1.3],\n",
       "   'geometry': [4.5, 1.88, 1.42],\n",
       "   'rotation': [-0.02, -0.02, 0.45],\n",
       "   'point_count': 110,\n",
       "   'track_id': 16,\n",
       "   'occlusion': '1',\n",
       "   'scenario': '0',\n",
       "   'volume': 12.01},\n",
       "  {'id': '17-8ab68fdb-11b4-43b4-915c-c0489fc2207e',\n",
       "   'type': '3dbb',\n",
       "   'label': 'car',\n",
       "   'position': [59.15, 36.62, 0.94],\n",
       "   'geometry': [4.5, 1.82, 1.84],\n",
       "   'rotation': [0, 0.01, 1.47],\n",
       "   'point_count': 103,\n",
       "   'track_id': 19,\n",
       "   'occlusion': '1',\n",
       "   'scenario': '0',\n",
       "   'volume': 15.07},\n",
       "  {'id': '18-1e7a5e90-f53a-40b0-bfd6-2acad0487c05',\n",
       "   'type': '3dbb',\n",
       "   'label': 'bus',\n",
       "   'position': [-99.22, -6.92, 3.03],\n",
       "   'geometry': [12, 2.64, 3.4],\n",
       "   'rotation': [0.04, 0, -0.04],\n",
       "   'point_count': 96,\n",
       "   'track_id': 20,\n",
       "   'occlusion': '1',\n",
       "   'scenario': '0',\n",
       "   'volume': 107.71},\n",
       "  {'id': '19-0d40f3ad-39ce-45c8-931f-8bbcfc7725b4',\n",
       "   'type': '3dbb',\n",
       "   'label': 'car',\n",
       "   'position': [-32.13, 32.68, 0.49],\n",
       "   'geometry': [4.5, 1.8, 1.6],\n",
       "   'rotation': [0.04, 0, 0.93],\n",
       "   'point_count': 105,\n",
       "   'track_id': 21,\n",
       "   'occlusion': '1',\n",
       "   'scenario': '0',\n",
       "   'volume': 12.96},\n",
       "  {'id': '20-545d5d6c-c121-4ff7-934d-efff4447b64e',\n",
       "   'type': '3dbb',\n",
       "   'label': 'car',\n",
       "   'position': [-26.46, 32.16, 0.57],\n",
       "   'geometry': [4.5, 1.8, 1.6],\n",
       "   'rotation': [0.01, -0.04, 0.75],\n",
       "   'point_count': 197,\n",
       "   'track_id': 22,\n",
       "   'occlusion': '1',\n",
       "   'scenario': '0',\n",
       "   'volume': 12.96},\n",
       "  {'id': '21-085835b2-8ebd-48ef-bb0b-67f7b874b13c',\n",
       "   'type': '3dbb',\n",
       "   'label': 'truck',\n",
       "   'position': [54.37, 57.78, 1.24],\n",
       "   'geometry': [5, 1.7, 2.22],\n",
       "   'rotation': [0, 0.01, -1.61],\n",
       "   'point_count': 110,\n",
       "   'track_id': 23,\n",
       "   'occlusion': '1',\n",
       "   'scenario': '0',\n",
       "   'volume': 18.87},\n",
       "  {'id': '22-eba7aa3b-778f-441b-a1c1-b3681fa67971',\n",
       "   'type': '3dbb',\n",
       "   'label': 'car',\n",
       "   'position': [-29.96, 1.25, 1.16],\n",
       "   'geometry': [4.5, 1.82, 1.66],\n",
       "   'rotation': [0.01, 0, -0.04],\n",
       "   'point_count': 53,\n",
       "   'track_id': 25,\n",
       "   'occlusion': '1',\n",
       "   'scenario': '0',\n",
       "   'volume': 13.6},\n",
       "  {'id': '23-80f59de1-28cf-4b71-b184-e68aa7bb3326',\n",
       "   'type': '3dbb',\n",
       "   'label': 'car',\n",
       "   'position': [-57.09, 24.58, 0.89],\n",
       "   'geometry': [4.5, 1.8, 1.6],\n",
       "   'rotation': [0, 0.07, 2.3],\n",
       "   'point_count': 79,\n",
       "   'track_id': 26,\n",
       "   'occlusion': '1',\n",
       "   'scenario': '0',\n",
       "   'volume': 12.96},\n",
       "  {'id': '24-7e3ba020-db8b-4e18-bde6-8ddf3d6c1637',\n",
       "   'type': '3dbb',\n",
       "   'label': 'adult',\n",
       "   'position': [-10.91, 21.96, 0.23],\n",
       "   'geometry': [0.34, 0.6, 1.7],\n",
       "   'rotation': [0, 0, -1.25],\n",
       "   'point_count': 112,\n",
       "   'track_id': 35,\n",
       "   'occlusion': '0',\n",
       "   'scenario': -1,\n",
       "   'volume': 0.35},\n",
       "  {'id': '25-6657f4ed-337d-4c21-bc6c-1aabf1e87773',\n",
       "   'type': '3dbb',\n",
       "   'label': 'adult',\n",
       "   'position': [-11.38, 21.84, 0.23],\n",
       "   'geometry': [0.4, 0.5, 1.5],\n",
       "   'rotation': [0, 0, -0.94],\n",
       "   'point_count': 70,\n",
       "   'track_id': 36,\n",
       "   'occlusion': '1',\n",
       "   'scenario': -1,\n",
       "   'volume': 0.3},\n",
       "  {'id': '26-8e4344df-9b77-4e54-9509-82e2d10be802',\n",
       "   'type': '3dbb',\n",
       "   'label': 'adult',\n",
       "   'position': [-9.49, 25.02, 0.23],\n",
       "   'geometry': [0.56, 0.5, 1.7],\n",
       "   'rotation': [0, 0, -3.12],\n",
       "   'point_count': 101,\n",
       "   'track_id': 37,\n",
       "   'occlusion': '1',\n",
       "   'scenario': -1,\n",
       "   'volume': 0.48},\n",
       "  {'id': '27-f9350a98-93af-48b7-9840-ce953755f350',\n",
       "   'type': '3dbb',\n",
       "   'label': 'adult',\n",
       "   'position': [-7.82, 26.7, 0.11],\n",
       "   'geometry': [0.5, 0.5, 1.7],\n",
       "   'rotation': [0, 0, -3.12],\n",
       "   'point_count': 68,\n",
       "   'track_id': 38,\n",
       "   'occlusion': '1',\n",
       "   'scenario': -1,\n",
       "   'volume': 0.42},\n",
       "  {'id': '28-fdacc097-8487-4c4c-83d4-b8b808fc9a21',\n",
       "   'type': '3dbb',\n",
       "   'label': 'adult',\n",
       "   'position': [-6.48, 25.69, 0.07],\n",
       "   'geometry': [0.5, 0.5, 1.7],\n",
       "   'rotation': [0, 0, 3.12],\n",
       "   'point_count': 93,\n",
       "   'track_id': 39,\n",
       "   'occlusion': '1',\n",
       "   'scenario': -1,\n",
       "   'volume': 0.42},\n",
       "  {'id': '29-becd6ab9-8bfe-4476-aac7-b0b4e2c7fe4a',\n",
       "   'type': '3dbb',\n",
       "   'label': 'adult',\n",
       "   'position': [-22.43, -24.39, 1.61],\n",
       "   'geometry': [0.54, 0.5, 1.54],\n",
       "   'rotation': [0, 0, 2.33],\n",
       "   'point_count': 52,\n",
       "   'track_id': 40,\n",
       "   'occlusion': '1',\n",
       "   'scenario': -1,\n",
       "   'volume': 0.42},\n",
       "  {'id': '30-b8aca736-e0c0-4302-94bb-9b01edd546b5',\n",
       "   'type': '3dbb',\n",
       "   'label': 'adult',\n",
       "   'position': [-13.55, -20.41, 1.26],\n",
       "   'geometry': [0.62, 0.5, 1.6],\n",
       "   'rotation': [0, 0, -0.09],\n",
       "   'point_count': 79,\n",
       "   'track_id': 41,\n",
       "   'occlusion': '1',\n",
       "   'scenario': -1,\n",
       "   'volume': 0.5},\n",
       "  {'id': '31-81d144d8-1380-466d-8689-695b1dc59825',\n",
       "   'type': '3dbb',\n",
       "   'label': 'adult',\n",
       "   'position': [-6.46, -18.22, 1.22],\n",
       "   'geometry': [0.5, 0.5, 1.6],\n",
       "   'rotation': [0, 0, -0.05],\n",
       "   'point_count': 37,\n",
       "   'track_id': 42,\n",
       "   'occlusion': '1',\n",
       "   'scenario': -1,\n",
       "   'volume': 0.4},\n",
       "  {'id': '32-1b60a939-55b4-424e-bc7d-f11b4f82ff52',\n",
       "   'type': '3dbb',\n",
       "   'label': 'adult',\n",
       "   'position': [-6.57, -18.73, 1.3],\n",
       "   'geometry': [0.5, 0.5, 1.72],\n",
       "   'rotation': [0, 0, -0.1],\n",
       "   'point_count': 74,\n",
       "   'track_id': 43,\n",
       "   'occlusion': '1',\n",
       "   'scenario': -1,\n",
       "   'volume': 0.43},\n",
       "  {'id': '33-bdaa53fd-aaba-49ca-af2e-a0a5a9b3be08',\n",
       "   'type': '3dbb',\n",
       "   'label': 'adult',\n",
       "   'position': [6.4, -21.31, 1.36],\n",
       "   'geometry': [0.54, 0.5, 1.6],\n",
       "   'rotation': [0, 0, -0.01],\n",
       "   'point_count': 129,\n",
       "   'track_id': 44,\n",
       "   'occlusion': '1',\n",
       "   'scenario': -1,\n",
       "   'volume': 0.43},\n",
       "  {'id': '34-bb468932-31eb-4297-aaa7-85a122be7514',\n",
       "   'type': '3dbb',\n",
       "   'label': 'adult',\n",
       "   'position': [6.55, -22.09, 1.41],\n",
       "   'geometry': [0.5, 0.62, 1.66],\n",
       "   'rotation': [0, 0, -0.02],\n",
       "   'point_count': 32,\n",
       "   'track_id': 45,\n",
       "   'occlusion': '1',\n",
       "   'scenario': -1,\n",
       "   'volume': 0.51},\n",
       "  {'id': '35-f7262ea6-fc13-477e-a660-4ff0b9f45bb5',\n",
       "   'type': '3dbb',\n",
       "   'label': 'adult',\n",
       "   'position': [-31.16, -16.48, 1.32],\n",
       "   'geometry': [0.5, 0.5, 1.6],\n",
       "   'rotation': [0, 0, -0.11],\n",
       "   'point_count': 30,\n",
       "   'track_id': 46,\n",
       "   'occlusion': '1',\n",
       "   'scenario': -1,\n",
       "   'volume': 0.4},\n",
       "  {'id': '36-b8f6643f-2cfc-4030-974c-ab257aa5b08a',\n",
       "   'type': '3dbb',\n",
       "   'label': 'adult',\n",
       "   'position': [-31.13, -17.06, 1.33],\n",
       "   'geometry': [0.5, 0.5, 1.66],\n",
       "   'rotation': [0, 0, -0.11],\n",
       "   'point_count': 32,\n",
       "   'track_id': 47,\n",
       "   'occlusion': '1',\n",
       "   'scenario': -1,\n",
       "   'volume': 0.41},\n",
       "  {'id': '37-8b75c9a8-f5c2-4e0d-aafb-d2282c68eff5',\n",
       "   'type': '3dbb',\n",
       "   'label': 'adult',\n",
       "   'position': [-17.04, 27.39, 0.24],\n",
       "   'geometry': [0.5, 0.6, 1.8],\n",
       "   'rotation': [0, 0, 2.5],\n",
       "   'point_count': 71,\n",
       "   'track_id': 48,\n",
       "   'occlusion': '1',\n",
       "   'scenario': -1,\n",
       "   'volume': 0.54},\n",
       "  {'id': '38-81155b2b-1a02-4b79-9af6-4d44b0d42312',\n",
       "   'type': '3dbb',\n",
       "   'label': 'adult',\n",
       "   'position': [18.03, 22.01, 0.56],\n",
       "   'geometry': [0.68, 0.54, 1.4],\n",
       "   'rotation': [0, 0, 3.14],\n",
       "   'point_count': 114,\n",
       "   'track_id': 50,\n",
       "   'occlusion': '1',\n",
       "   'scenario': -1,\n",
       "   'volume': 0.51},\n",
       "  {'id': '39-f6af3f90-dd79-4ae3-8d48-119f5a7f5621',\n",
       "   'type': '3dbb',\n",
       "   'label': 'adult',\n",
       "   'position': [-19.05, 28.49, 0.4],\n",
       "   'geometry': [0.6, 0.54, 1.56],\n",
       "   'rotation': [0, 0, 0.03],\n",
       "   'point_count': 52,\n",
       "   'track_id': 51,\n",
       "   'occlusion': '1',\n",
       "   'scenario': -1,\n",
       "   'volume': 0.51},\n",
       "  {'id': '40-cac18b02-808e-4b78-a48e-2b8e4ee8fd2a',\n",
       "   'type': '3dbb',\n",
       "   'label': 'adult',\n",
       "   'position': [-20.02, 24.62, 0.22],\n",
       "   'geometry': [0.5, 0.5, 1.6],\n",
       "   'rotation': [0, 0, 2.28],\n",
       "   'point_count': 51,\n",
       "   'track_id': 53,\n",
       "   'occlusion': '1',\n",
       "   'scenario': -1,\n",
       "   'volume': 0.4},\n",
       "  {'id': '41-fd887136-0308-434e-9568-c1fb8e2f509a',\n",
       "   'type': '3dbb',\n",
       "   'label': 'adult',\n",
       "   'position': [28.44, -19.19, 1.36],\n",
       "   'geometry': [0.5, 0.56, 1.6],\n",
       "   'rotation': [0, 0, 1.53],\n",
       "   'point_count': 49,\n",
       "   'track_id': 54,\n",
       "   'occlusion': '1',\n",
       "   'scenario': -1,\n",
       "   'volume': 0.45},\n",
       "  {'id': '42-46a013c4-5d68-4c8e-a0c5-66144ca93af5',\n",
       "   'type': '3dbb',\n",
       "   'label': 'adult',\n",
       "   'position': [27.65, -19.15, 1.36],\n",
       "   'geometry': [0.5, 0.5, 1.6],\n",
       "   'rotation': [0, 0, 1.53],\n",
       "   'point_count': 31,\n",
       "   'track_id': 55,\n",
       "   'occlusion': '1',\n",
       "   'scenario': -1,\n",
       "   'volume': 0.4},\n",
       "  {'id': '43-59c8445b-4d3e-4f22-a2ea-f91ef8f57c86',\n",
       "   'type': '3dbb',\n",
       "   'label': 'adult',\n",
       "   'position': [30.68, -17.5, 1.26],\n",
       "   'geometry': [0.5, 0.5, 1.6],\n",
       "   'rotation': [0, 0, 1.46],\n",
       "   'point_count': 28,\n",
       "   'track_id': 56,\n",
       "   'occlusion': '1',\n",
       "   'scenario': -1,\n",
       "   'volume': 0.4},\n",
       "  {'id': '44-c59ecb08-135f-4aea-975d-d02e2c727ee0',\n",
       "   'type': '3dbb',\n",
       "   'label': 'adult',\n",
       "   'position': [33.82, -16.54, 1.19],\n",
       "   'geometry': [0.5, 0.5, 1.6],\n",
       "   'rotation': [0, 0, 1.52],\n",
       "   'point_count': 47,\n",
       "   'track_id': 57,\n",
       "   'occlusion': '1',\n",
       "   'scenario': -1,\n",
       "   'volume': 0.4},\n",
       "  {'id': '45-d7fdb94f-d2ed-4bf2-b042-e7c58dd08ef2',\n",
       "   'type': '3dbb',\n",
       "   'label': 'adult',\n",
       "   'position': [36.17, -16.68, 1.21],\n",
       "   'geometry': [0.5, 0.6, 1.64],\n",
       "   'rotation': [0, 0, 2.08],\n",
       "   'point_count': 44,\n",
       "   'track_id': 58,\n",
       "   'occlusion': '1',\n",
       "   'scenario': -1,\n",
       "   'volume': 0.49},\n",
       "  {'id': '46-ca022684-e76f-45f2-8ab5-49ed212aa6e8',\n",
       "   'type': '3dbb',\n",
       "   'label': 'adult',\n",
       "   'position': [-23.81, 28.42, 0.39],\n",
       "   'geometry': [0.5, 0.5, 1.7],\n",
       "   'rotation': [0, 0, 0.02],\n",
       "   'point_count': 41,\n",
       "   'track_id': 59,\n",
       "   'occlusion': '1',\n",
       "   'scenario': -1,\n",
       "   'volume': 0.42},\n",
       "  {'id': '47-ed9721ea-dd52-4981-a088-f76b37b3ccc9',\n",
       "   'type': '3dbb',\n",
       "   'label': 'adult',\n",
       "   'position': [32.01, 20.86, 0.53],\n",
       "   'geometry': [0.5, 0.56, 1.74],\n",
       "   'rotation': [0, 0, -2.24],\n",
       "   'point_count': 80,\n",
       "   'track_id': 60,\n",
       "   'occlusion': '1',\n",
       "   'scenario': -1,\n",
       "   'volume': 0.49},\n",
       "  {'id': '48-6a9d568b-8749-45a6-bf40-00e90eb55b52',\n",
       "   'type': '3dbb',\n",
       "   'label': 'adult',\n",
       "   'position': [31.59, 21.07, 0.48],\n",
       "   'geometry': [0.5, 0.58, 1.52],\n",
       "   'rotation': [0, 0, -0.65],\n",
       "   'point_count': 45,\n",
       "   'track_id': 61,\n",
       "   'occlusion': '1',\n",
       "   'scenario': -1,\n",
       "   'volume': 0.44},\n",
       "  {'id': '49-e4a5bd84-cc82-46d0-8ea5-2a56dffdd394',\n",
       "   'type': '3dbb',\n",
       "   'label': 'adult',\n",
       "   'position': [-24.39, 27.9, 0.24],\n",
       "   'geometry': [0.5, 0.5, 1.6],\n",
       "   'rotation': [0, 0, 0.02],\n",
       "   'point_count': 22,\n",
       "   'track_id': 62,\n",
       "   'occlusion': '1',\n",
       "   'scenario': -1,\n",
       "   'volume': 0.4},\n",
       "  {'id': '50-6b4e6f55-be61-4802-9ea8-2e1ac07fa8c6',\n",
       "   'type': '3dbb',\n",
       "   'label': 'adult',\n",
       "   'position': [-23.23, 31.94, 0.61],\n",
       "   'geometry': [0.5, 0.66, 1.74],\n",
       "   'rotation': [0, 0, -0.9],\n",
       "   'point_count': 76,\n",
       "   'track_id': 65,\n",
       "   'occlusion': '1',\n",
       "   'scenario': -1,\n",
       "   'volume': 0.57},\n",
       "  {'id': '51-a6bbece0-fe79-426a-a7af-28b098c6fb25',\n",
       "   'type': '3dbb',\n",
       "   'label': 'adult',\n",
       "   'position': [-22.46, 31.96, 0.52],\n",
       "   'geometry': [0.5, 0.54, 1.64],\n",
       "   'rotation': [0, 0, -1.57],\n",
       "   'point_count': 57,\n",
       "   'track_id': 66,\n",
       "   'occlusion': '1',\n",
       "   'scenario': -1,\n",
       "   'volume': 0.44},\n",
       "  {'id': '52-fd8b06d0-3c80-4530-b5c1-eaf8f675e00c',\n",
       "   'type': '3dbb',\n",
       "   'label': 'adult',\n",
       "   'position': [-18.98, 32.77, 0.48],\n",
       "   'geometry': [0.5, 0.64, 1.76],\n",
       "   'rotation': [0, 0, 2.46],\n",
       "   'point_count': 59,\n",
       "   'track_id': 73,\n",
       "   'occlusion': '1',\n",
       "   'scenario': -1,\n",
       "   'volume': 0.56},\n",
       "  {'id': '53-20b5b8d7-52f1-4ae8-b01a-4adce53b7ddd',\n",
       "   'type': '3dbb',\n",
       "   'label': 'adult',\n",
       "   'position': [-20.07, 33.02, 0.42],\n",
       "   'geometry': [0.5, 0.5, 1.6],\n",
       "   'rotation': [0, 0, 1.59],\n",
       "   'point_count': 56,\n",
       "   'track_id': 74,\n",
       "   'occlusion': '1',\n",
       "   'scenario': -1,\n",
       "   'volume': 0.4},\n",
       "  {'id': '54-df20270c-4f5f-4d1a-bc2d-95f26e2d073f',\n",
       "   'type': '3dbb',\n",
       "   'label': 'adult',\n",
       "   'position': [-20.5, 34.53, 1.05],\n",
       "   'geometry': [0.5, 0.5, 1.7],\n",
       "   'rotation': [0, 0, -0.5],\n",
       "   'point_count': 42,\n",
       "   'track_id': 83,\n",
       "   'occlusion': '1',\n",
       "   'scenario': -1,\n",
       "   'volume': 0.42},\n",
       "  {'id': '55-96f96887-2f1e-4e99-b4ed-2e8ce6ac0762',\n",
       "   'type': '3dbb',\n",
       "   'label': 'adult',\n",
       "   'position': [-19.49, 35.33, 1.1],\n",
       "   'geometry': [0.5, 0.52, 1.7],\n",
       "   'rotation': [0, 0, -1.83],\n",
       "   'point_count': 56,\n",
       "   'track_id': 84,\n",
       "   'occlusion': '1',\n",
       "   'scenario': -1,\n",
       "   'volume': 0.44},\n",
       "  {'id': '56-e5f36979-d070-487c-aa9f-d1093f9160b1',\n",
       "   'type': '3dbb',\n",
       "   'label': 'adult',\n",
       "   'position': [-16.24, 34.48, 0.99],\n",
       "   'geometry': [0.58, 0.56, 1.7],\n",
       "   'rotation': [0, 0, 3.13],\n",
       "   'point_count': 29,\n",
       "   'track_id': 85,\n",
       "   'occlusion': '1',\n",
       "   'scenario': -1,\n",
       "   'volume': 0.55}]}"
      ]
     },
     "execution_count": 32,
     "metadata": {},
     "output_type": "execute_result"
    }
   ],
   "source": [
    "json_path = \"data/parsing_target.json\"\n",
    "\n",
    "\n",
    "# JSON 파일을 Dictionary 객체로 불러오는 코드를 작성해 주세요.\n",
    "with open(json_path, \"r\") as f :\n",
    "    parsed_data = json.load(f)\n",
    "\n",
    "\n",
    "parsed_data"
   ]
  },
  {
   "cell_type": "markdown",
   "metadata": {},
   "source": [
    "원할한 분석을 위해 메타 데이터만 저장하는 코드를 작성해 주세요."
   ]
  },
  {
   "cell_type": "code",
   "execution_count": 38,
   "metadata": {},
   "outputs": [
    {
     "data": {
      "application/vnd.microsoft.datawrangler.viewer.v0+json": {
       "columns": [
        {
         "name": "index",
         "rawType": "int64",
         "type": "integer"
        },
        {
         "name": "filename",
         "rawType": "object",
         "type": "string"
        },
        {
         "name": "parent_path",
         "rawType": "object",
         "type": "string"
        },
        {
         "name": "unix_timestamp",
         "rawType": "int64",
         "type": "integer"
        },
        {
         "name": "file_format",
         "rawType": "object",
         "type": "string"
        },
        {
         "name": "capacity",
         "rawType": "float64",
         "type": "float"
        },
        {
         "name": "vehicle_id",
         "rawType": "object",
         "type": "string"
        },
        {
         "name": "region_name",
         "rawType": "object",
         "type": "string"
        },
        {
         "name": "location",
         "rawType": "object",
         "type": "string"
        },
        {
         "name": "length",
         "rawType": "int64",
         "type": "integer"
        },
        {
         "name": "framerate",
         "rawType": "int64",
         "type": "integer"
        },
        {
         "name": "size",
         "rawType": "object",
         "type": "string"
        },
        {
         "name": "data_purpose",
         "rawType": "object",
         "type": "string"
        },
        {
         "name": "time",
         "rawType": "object",
         "type": "string"
        },
        {
         "name": "road_feature",
         "rawType": "object",
         "type": "string"
        },
        {
         "name": "road_type",
         "rawType": "object",
         "type": "string"
        },
        {
         "name": "location_feature",
         "rawType": "object",
         "type": "string"
        },
        {
         "name": "driving_scenario",
         "rawType": "object",
         "type": "string"
        },
        {
         "name": "ego_long_vel_level",
         "rawType": "object",
         "type": "string"
        },
        {
         "name": "season",
         "rawType": "object",
         "type": "string"
        },
        {
         "name": "crowd_level",
         "rawType": "object",
         "type": "string"
        },
        {
         "name": "scene_att",
         "rawType": "object",
         "type": "string"
        },
        {
         "name": "weather",
         "rawType": "object",
         "type": "string"
        },
        {
         "name": "contamination",
         "rawType": "object",
         "type": "string"
        },
        {
         "name": "cloudiness",
         "rawType": "object",
         "type": "string"
        },
        {
         "name": "darkness_level",
         "rawType": "object",
         "type": "string"
        },
        {
         "name": "backlight",
         "rawType": "object",
         "type": "string"
        },
        {
         "name": "road_surface_type",
         "rawType": "object",
         "type": "string"
        },
        {
         "name": "road_surface_features",
         "rawType": "object",
         "type": "string"
        },
        {
         "name": "road_surface_condition",
         "rawType": "object",
         "type": "string"
        },
        {
         "name": "shadow_in_line",
         "rawType": "object",
         "type": "string"
        },
        {
         "name": "damaged_line",
         "rawType": "object",
         "type": "string"
        },
        {
         "name": "sensor_name",
         "rawType": "object",
         "type": "string"
        },
        {
         "name": "sensor_hfov",
         "rawType": "int64",
         "type": "integer"
        },
        {
         "name": "sensor_vfov",
         "rawType": "int64",
         "type": "integer"
        },
        {
         "name": "gps_mode",
         "rawType": "object",
         "type": "string"
        },
        {
         "name": "gps_latitude",
         "rawType": "float64",
         "type": "float"
        },
        {
         "name": "gps_longitude",
         "rawType": "float64",
         "type": "float"
        },
        {
         "name": "long_velocity",
         "rawType": "float64",
         "type": "float"
        },
        {
         "name": "lat_velocity",
         "rawType": "float64",
         "type": "float"
        },
        {
         "name": "long_accel",
         "rawType": "float64",
         "type": "float"
        },
        {
         "name": "lat_accel",
         "rawType": "float64",
         "type": "float"
        },
        {
         "name": "yaw",
         "rawType": "float64",
         "type": "float"
        },
        {
         "name": "roll",
         "rawType": "float64",
         "type": "float"
        },
        {
         "name": "pitch",
         "rawType": "float64",
         "type": "float"
        },
        {
         "name": "rel_x",
         "rawType": "float64",
         "type": "float"
        },
        {
         "name": "rel_y",
         "rawType": "float64",
         "type": "float"
        }
       ],
       "conversionMethod": "pd.DataFrame",
       "ref": "83f9e289-a5f4-4c3b-84ea-fa6bf618cf02",
       "rows": [
        [
         "0",
         "1656155290765_Merged-LDR-AR+Near",
         "batch_02_data/2022-06-25_20-08-06_ADCV1-ADP1/source_pointcloud/Merged-LDR-AR+Near",
         "1656155290765",
         "pcd",
         "6.92",
         "AIMMO-ADCV1",
         "서울 강동구",
         "천호동 447",
         "15",
         "10",
         "403200pts",
         "train",
         "night",
         "r_cityroad",
         "intersection",
         "other",
         "u-turn",
         "low",
         "summer",
         "high",
         "scenario",
         "clear",
         "no",
         "clear",
         "low_ambient",
         "no",
         "asphalt",
         "clear",
         "clear",
         "no",
         "no",
         "Merged-LDR-AR+Near",
         "360",
         "40",
         "rtk_integer",
         "37.53542492866625",
         "127.13375765970876",
         "9.92",
         "-0.02",
         "-0.64",
         "-0.27",
         "340.49",
         "0.66",
         "3.81",
         "0.0",
         "0.0"
        ]
       ],
       "shape": {
        "columns": 46,
        "rows": 1
       }
      },
      "text/html": [
       "<div>\n",
       "<style scoped>\n",
       "    .dataframe tbody tr th:only-of-type {\n",
       "        vertical-align: middle;\n",
       "    }\n",
       "\n",
       "    .dataframe tbody tr th {\n",
       "        vertical-align: top;\n",
       "    }\n",
       "\n",
       "    .dataframe thead th {\n",
       "        text-align: right;\n",
       "    }\n",
       "</style>\n",
       "<table border=\"1\" class=\"dataframe\">\n",
       "  <thead>\n",
       "    <tr style=\"text-align: right;\">\n",
       "      <th></th>\n",
       "      <th>filename</th>\n",
       "      <th>parent_path</th>\n",
       "      <th>unix_timestamp</th>\n",
       "      <th>file_format</th>\n",
       "      <th>capacity</th>\n",
       "      <th>vehicle_id</th>\n",
       "      <th>region_name</th>\n",
       "      <th>location</th>\n",
       "      <th>length</th>\n",
       "      <th>framerate</th>\n",
       "      <th>...</th>\n",
       "      <th>gps_longitude</th>\n",
       "      <th>long_velocity</th>\n",
       "      <th>lat_velocity</th>\n",
       "      <th>long_accel</th>\n",
       "      <th>lat_accel</th>\n",
       "      <th>yaw</th>\n",
       "      <th>roll</th>\n",
       "      <th>pitch</th>\n",
       "      <th>rel_x</th>\n",
       "      <th>rel_y</th>\n",
       "    </tr>\n",
       "  </thead>\n",
       "  <tbody>\n",
       "    <tr>\n",
       "      <th>0</th>\n",
       "      <td>1656155290765_Merged-LDR-AR+Near</td>\n",
       "      <td>batch_02_data/2022-06-25_20-08-06_ADCV1-ADP1/s...</td>\n",
       "      <td>1656155290765</td>\n",
       "      <td>pcd</td>\n",
       "      <td>6.92</td>\n",
       "      <td>AIMMO-ADCV1</td>\n",
       "      <td>서울 강동구</td>\n",
       "      <td>천호동 447</td>\n",
       "      <td>15</td>\n",
       "      <td>10</td>\n",
       "      <td>...</td>\n",
       "      <td>127.133758</td>\n",
       "      <td>9.92</td>\n",
       "      <td>-0.02</td>\n",
       "      <td>-0.64</td>\n",
       "      <td>-0.27</td>\n",
       "      <td>340.49</td>\n",
       "      <td>0.66</td>\n",
       "      <td>3.81</td>\n",
       "      <td>0.0</td>\n",
       "      <td>0.0</td>\n",
       "    </tr>\n",
       "  </tbody>\n",
       "</table>\n",
       "<p>1 rows × 46 columns</p>\n",
       "</div>"
      ],
      "text/plain": [
       "                           filename  \\\n",
       "0  1656155290765_Merged-LDR-AR+Near   \n",
       "\n",
       "                                         parent_path  unix_timestamp  \\\n",
       "0  batch_02_data/2022-06-25_20-08-06_ADCV1-ADP1/s...   1656155290765   \n",
       "\n",
       "  file_format  capacity   vehicle_id region_name location  length  framerate  \\\n",
       "0         pcd      6.92  AIMMO-ADCV1      서울 강동구  천호동 447      15         10   \n",
       "\n",
       "   ... gps_longitude long_velocity lat_velocity long_accel lat_accel     yaw  \\\n",
       "0  ...    127.133758          9.92        -0.02      -0.64     -0.27  340.49   \n",
       "\n",
       "   roll pitch rel_x rel_y  \n",
       "0  0.66  3.81   0.0   0.0  \n",
       "\n",
       "[1 rows x 46 columns]"
      ]
     },
     "execution_count": 38,
     "metadata": {},
     "output_type": "execute_result"
    }
   ],
   "source": [
    "del parsed_data[\"annotations\"]\n",
    "mission_meta = pd.DataFrame([parsed_data])\n",
    "mission_meta"
   ]
  },
  {
   "cell_type": "markdown",
   "metadata": {},
   "source": [
    "메타데이터를 이용하여 데이터프레임(mission_df)을 만드는 코드를 작성해 주세요.\n",
    "\n",
    "데이터프레임의 컬럼과 내용은 다음과 같습니다. 컬럼의 순서가 다르면 오답으로 처리될 수 있습니다. 순서를 꼭 확인해 주세요.\n",
    "\n",
    "|create_time| gps_latitude | gps_longitude | address | yaw | roll | pitch | long_velocity | lat_velocity | long_accel | lat_accel | \n",
    "| --- | --- | --- | --- | --- | --- | --- | --- | --- | --- | --- | \n",
    "| 파일이 생성된 시간 </br> 형식 : YYYY-MM-DD HH:MM:SS | GPS 위도 | GPS 경도 | 지리 주소 정보 </br> 예 : '성남대로, 분당구, 성남시, 경기도, 13439, 대한민국' | 요 정보 | 롤 정보 | 피치 정보 | 전진 방향으로의 속도 정보 | 옆면 방향으로의 속도 정보 | 전진 방향으로의 가속도 정보 | 옆면 방향으로의 가속도 정보 | \n",
    "\n",
    "\n",
    "#### (1) 데이터프레임 생성하기\n",
    "\n",
    "메타데이터를 데이터프레임으로 생성하고 원하는 데이터만 추출하는 코드를 작성하세요."
   ]
  },
  {
   "cell_type": "code",
   "execution_count": 60,
   "metadata": {},
   "outputs": [
    {
     "data": {
      "application/vnd.microsoft.datawrangler.viewer.v0+json": {
       "columns": [
        {
         "name": "index",
         "rawType": "int64",
         "type": "integer"
        },
        {
         "name": "unix_timestamp",
         "rawType": "int64",
         "type": "integer"
        },
        {
         "name": "gps_latitude",
         "rawType": "float64",
         "type": "float"
        },
        {
         "name": "gps_longitude",
         "rawType": "float64",
         "type": "float"
        },
        {
         "name": "location",
         "rawType": "object",
         "type": "string"
        },
        {
         "name": "yaw",
         "rawType": "float64",
         "type": "float"
        },
        {
         "name": "roll",
         "rawType": "float64",
         "type": "float"
        },
        {
         "name": "pitch",
         "rawType": "float64",
         "type": "float"
        },
        {
         "name": "long_velocity",
         "rawType": "float64",
         "type": "float"
        },
        {
         "name": "lat_velocity",
         "rawType": "float64",
         "type": "float"
        },
        {
         "name": "long_accel",
         "rawType": "float64",
         "type": "float"
        },
        {
         "name": "lat_accel",
         "rawType": "float64",
         "type": "float"
        }
       ],
       "conversionMethod": "pd.DataFrame",
       "ref": "c05ca23c-d032-44f2-aa7b-a2002c6eda36",
       "rows": [
        [
         "0",
         "1656155290765",
         "37.53542492866625",
         "127.13375765970876",
         "천호동 447",
         "340.49",
         "0.66",
         "3.81",
         "9.92",
         "-0.02",
         "-0.64",
         "-0.27"
        ]
       ],
       "shape": {
        "columns": 11,
        "rows": 1
       }
      },
      "text/html": [
       "<div>\n",
       "<style scoped>\n",
       "    .dataframe tbody tr th:only-of-type {\n",
       "        vertical-align: middle;\n",
       "    }\n",
       "\n",
       "    .dataframe tbody tr th {\n",
       "        vertical-align: top;\n",
       "    }\n",
       "\n",
       "    .dataframe thead th {\n",
       "        text-align: right;\n",
       "    }\n",
       "</style>\n",
       "<table border=\"1\" class=\"dataframe\">\n",
       "  <thead>\n",
       "    <tr style=\"text-align: right;\">\n",
       "      <th></th>\n",
       "      <th>unix_timestamp</th>\n",
       "      <th>gps_latitude</th>\n",
       "      <th>gps_longitude</th>\n",
       "      <th>location</th>\n",
       "      <th>yaw</th>\n",
       "      <th>roll</th>\n",
       "      <th>pitch</th>\n",
       "      <th>long_velocity</th>\n",
       "      <th>lat_velocity</th>\n",
       "      <th>long_accel</th>\n",
       "      <th>lat_accel</th>\n",
       "    </tr>\n",
       "  </thead>\n",
       "  <tbody>\n",
       "    <tr>\n",
       "      <th>0</th>\n",
       "      <td>1656155290765</td>\n",
       "      <td>37.535425</td>\n",
       "      <td>127.133758</td>\n",
       "      <td>천호동 447</td>\n",
       "      <td>340.49</td>\n",
       "      <td>0.66</td>\n",
       "      <td>3.81</td>\n",
       "      <td>9.92</td>\n",
       "      <td>-0.02</td>\n",
       "      <td>-0.64</td>\n",
       "      <td>-0.27</td>\n",
       "    </tr>\n",
       "  </tbody>\n",
       "</table>\n",
       "</div>"
      ],
      "text/plain": [
       "   unix_timestamp  gps_latitude  gps_longitude location     yaw  roll  pitch  \\\n",
       "0   1656155290765     37.535425     127.133758  천호동 447  340.49  0.66   3.81   \n",
       "\n",
       "   long_velocity  lat_velocity  long_accel  lat_accel  \n",
       "0           9.92         -0.02       -0.64      -0.27  "
      ]
     },
     "execution_count": 60,
     "metadata": {},
     "output_type": "execute_result"
    }
   ],
   "source": [
    "# 메타데이터를 데이터프레임으로 변환하는 코드를 작성하세요.\n",
    "meta_df = mission_meta.copy()\n",
    "\n",
    "\n",
    "# 위에서 지시한 컬럼의 이름을 확인하세요.\n",
    "# 필요한 컬럼이 있다면 리스트 안에 추가하고 불필요한 컬림이 있다면 삭제하세요.\n",
    "select_col_name = [\n",
    "                    \"unix_timestamp\", \n",
    "                    \"gps_latitude\", \n",
    "                    \"gps_longitude\", \n",
    "                    \"location\", \n",
    "                    \"yaw\", \n",
    "                    \"roll\", \n",
    "                    \"pitch\", \n",
    "                    \"long_velocity\", \n",
    "                    \"lat_velocity\", \n",
    "                    \"long_accel\",\n",
    "                    \"lat_accel\"\n",
    "                ]\n",
    "\n",
    "\n",
    "# 데이터프레임에서 데이터를 추출하는 코드를 작성하세요.\n",
    "mission_df = meta_df[select_col_name].copy()\n",
    "\n",
    "\n",
    "# 추출한 데이터프레임을 확인하는 코드입니다.\n",
    "mission_df"
   ]
  },
  {
   "cell_type": "code",
   "execution_count": 61,
   "metadata": {},
   "outputs": [
    {
     "data": {
      "application/vnd.microsoft.datawrangler.viewer.v0+json": {
       "columns": [
        {
         "name": "index",
         "rawType": "int64",
         "type": "integer"
        },
        {
         "name": "unix_timestamp",
         "rawType": "int64",
         "type": "integer"
        },
        {
         "name": "gps_latitude",
         "rawType": "float64",
         "type": "float"
        },
        {
         "name": "gps_longitude",
         "rawType": "float64",
         "type": "float"
        },
        {
         "name": "location",
         "rawType": "object",
         "type": "string"
        },
        {
         "name": "yaw",
         "rawType": "float64",
         "type": "float"
        },
        {
         "name": "roll",
         "rawType": "float64",
         "type": "float"
        },
        {
         "name": "pitch",
         "rawType": "float64",
         "type": "float"
        },
        {
         "name": "long_velocity",
         "rawType": "float64",
         "type": "float"
        },
        {
         "name": "lat_velocity",
         "rawType": "float64",
         "type": "float"
        },
        {
         "name": "long_accel",
         "rawType": "float64",
         "type": "float"
        },
        {
         "name": "lat_accel",
         "rawType": "float64",
         "type": "float"
        }
       ],
       "conversionMethod": "pd.DataFrame",
       "ref": "e57c2216-a541-4aa7-a505-2b9f732d9d53",
       "rows": [
        [
         "0",
         "1656155290765",
         "37.53542492866625",
         "127.13375765970876",
         "천호동 447",
         "340.49",
         "0.66",
         "3.81",
         "9.92",
         "-0.02",
         "-0.64",
         "-0.27"
        ]
       ],
       "shape": {
        "columns": 11,
        "rows": 1
       }
      },
      "text/html": [
       "<div>\n",
       "<style scoped>\n",
       "    .dataframe tbody tr th:only-of-type {\n",
       "        vertical-align: middle;\n",
       "    }\n",
       "\n",
       "    .dataframe tbody tr th {\n",
       "        vertical-align: top;\n",
       "    }\n",
       "\n",
       "    .dataframe thead th {\n",
       "        text-align: right;\n",
       "    }\n",
       "</style>\n",
       "<table border=\"1\" class=\"dataframe\">\n",
       "  <thead>\n",
       "    <tr style=\"text-align: right;\">\n",
       "      <th></th>\n",
       "      <th>unix_timestamp</th>\n",
       "      <th>gps_latitude</th>\n",
       "      <th>gps_longitude</th>\n",
       "      <th>location</th>\n",
       "      <th>yaw</th>\n",
       "      <th>roll</th>\n",
       "      <th>pitch</th>\n",
       "      <th>long_velocity</th>\n",
       "      <th>lat_velocity</th>\n",
       "      <th>long_accel</th>\n",
       "      <th>lat_accel</th>\n",
       "    </tr>\n",
       "  </thead>\n",
       "  <tbody>\n",
       "    <tr>\n",
       "      <th>0</th>\n",
       "      <td>1656155290765</td>\n",
       "      <td>37.535425</td>\n",
       "      <td>127.133758</td>\n",
       "      <td>천호동 447</td>\n",
       "      <td>340.49</td>\n",
       "      <td>0.66</td>\n",
       "      <td>3.81</td>\n",
       "      <td>9.92</td>\n",
       "      <td>-0.02</td>\n",
       "      <td>-0.64</td>\n",
       "      <td>-0.27</td>\n",
       "    </tr>\n",
       "  </tbody>\n",
       "</table>\n",
       "</div>"
      ],
      "text/plain": [
       "   unix_timestamp  gps_latitude  gps_longitude location     yaw  roll  pitch  \\\n",
       "0   1656155290765     37.535425     127.133758  천호동 447  340.49  0.66   3.81   \n",
       "\n",
       "   long_velocity  lat_velocity  long_accel  lat_accel  \n",
       "0           9.92         -0.02       -0.64      -0.27  "
      ]
     },
     "execution_count": 61,
     "metadata": {},
     "output_type": "execute_result"
    }
   ],
   "source": [
    "mission_df"
   ]
  },
  {
   "cell_type": "markdown",
   "metadata": {},
   "source": [
    "#### (2) 데이터 변환하기\n",
    "\n",
    "이제 추출된 지시사항에 맞게 수정하는 작업을 진행하겠습니다. 먼저 시간 데이터를 변환하겠습니다.\n",
    "\n",
    "위에서 학습한 내용을 이용하여 unix time stamp를 변환하는 코드를 작성하세요."
   ]
  },
  {
   "cell_type": "code",
   "execution_count": 62,
   "metadata": {},
   "outputs": [
    {
     "data": {
      "text/plain": [
       "'2022-06-25 20:08:10'"
      ]
     },
     "execution_count": 62,
     "metadata": {},
     "output_type": "execute_result"
    }
   ],
   "source": [
    "# datetime 라이브러리를 이용하여 unix time stamp의 시간을 변환하는 코드를 작성하세요.\n",
    "dt_object = datetime.fromtimestamp(mission_df.at[0, \"unix_timestamp\"] / 1000)\n",
    "\n",
    "\n",
    "readable_time = dt_object.strftime(\"%Y-%m-%d %H:%M:%S\")\n",
    "readable_time"
   ]
  },
  {
   "cell_type": "markdown",
   "metadata": {},
   "source": [
    "Pandas에서 데이터프레임 내의 값을 변경하는 방법은 다양합니다. \n",
    "\n",
    "그 중에서 `at`을 이용하면 **지정한 위치의 하나의 값**을 추출하거나 변경 할 수 있습니다. \n",
    "\n",
    "`at`의 사용방법은 다음과 같습니다."
   ]
  },
  {
   "cell_type": "code",
   "execution_count": 63,
   "metadata": {},
   "outputs": [
    {
     "name": "stdout",
     "output_type": "stream",
     "text": [
      "result :  2\n",
      "        col1  col2\n",
      "row1       1     2\n",
      "row2  Rabbit     4\n"
     ]
    },
    {
     "name": "stderr",
     "output_type": "stream",
     "text": [
      "C:\\Users\\302-26\\AppData\\Local\\Temp\\ipykernel_6408\\3812290204.py:15: FutureWarning: Setting an item of incompatible dtype is deprecated and will raise an error in a future version of pandas. Value 'Rabbit' has dtype incompatible with int64, please explicitly cast to a compatible dtype first.\n",
      "  at_df.at['row2', 'col1'] = 'Rabbit'\n"
     ]
    }
   ],
   "source": [
    "# Padnas at 사용법 예시\n",
    "at_df = pd.DataFrame([[1,2], \n",
    "                   [3,4]], \n",
    "                   index=['row1', 'row2'], \n",
    "                   columns=['col1', 'col2']\n",
    "                )\n",
    "\n",
    "\n",
    "# at을 이용하여 추출하기\n",
    "result = at_df.at['row1', 'col2']\n",
    "print(\"result : \", result)\n",
    "\n",
    "\n",
    "# at을 이용하여 변경하기\n",
    "at_df.at['row2', 'col1'] = 'Rabbit'\n",
    "print(at_df)"
   ]
  },
  {
   "cell_type": "markdown",
   "metadata": {},
   "source": [
    "본인이 아는 방법을 이용하여 데이터프레임의 값을 변경하세요."
   ]
  },
  {
   "cell_type": "code",
   "execution_count": 64,
   "metadata": {},
   "outputs": [
    {
     "name": "stderr",
     "output_type": "stream",
     "text": [
      "C:\\Users\\302-26\\AppData\\Local\\Temp\\ipykernel_6408\\1206699143.py:2: FutureWarning: Setting an item of incompatible dtype is deprecated and will raise an error in a future version of pandas. Value '2022-06-25 20:08:10' has dtype incompatible with int64, please explicitly cast to a compatible dtype first.\n",
      "  mission_df.at[0, \"unix_timestamp\"] = readable_time\n"
     ]
    },
    {
     "data": {
      "application/vnd.microsoft.datawrangler.viewer.v0+json": {
       "columns": [
        {
         "name": "index",
         "rawType": "int64",
         "type": "integer"
        },
        {
         "name": "unix_timestamp",
         "rawType": "object",
         "type": "string"
        },
        {
         "name": "gps_latitude",
         "rawType": "float64",
         "type": "float"
        },
        {
         "name": "gps_longitude",
         "rawType": "float64",
         "type": "float"
        },
        {
         "name": "location",
         "rawType": "object",
         "type": "string"
        },
        {
         "name": "yaw",
         "rawType": "float64",
         "type": "float"
        },
        {
         "name": "roll",
         "rawType": "float64",
         "type": "float"
        },
        {
         "name": "pitch",
         "rawType": "float64",
         "type": "float"
        },
        {
         "name": "long_velocity",
         "rawType": "float64",
         "type": "float"
        },
        {
         "name": "lat_velocity",
         "rawType": "float64",
         "type": "float"
        },
        {
         "name": "long_accel",
         "rawType": "float64",
         "type": "float"
        },
        {
         "name": "lat_accel",
         "rawType": "float64",
         "type": "float"
        }
       ],
       "conversionMethod": "pd.DataFrame",
       "ref": "034221f2-bda5-482f-a142-761a7f40e2ec",
       "rows": [
        [
         "0",
         "2022-06-25 20:08:10",
         "37.53542492866625",
         "127.13375765970876",
         "천호동 447",
         "340.49",
         "0.66",
         "3.81",
         "9.92",
         "-0.02",
         "-0.64",
         "-0.27"
        ]
       ],
       "shape": {
        "columns": 11,
        "rows": 1
       }
      },
      "text/html": [
       "<div>\n",
       "<style scoped>\n",
       "    .dataframe tbody tr th:only-of-type {\n",
       "        vertical-align: middle;\n",
       "    }\n",
       "\n",
       "    .dataframe tbody tr th {\n",
       "        vertical-align: top;\n",
       "    }\n",
       "\n",
       "    .dataframe thead th {\n",
       "        text-align: right;\n",
       "    }\n",
       "</style>\n",
       "<table border=\"1\" class=\"dataframe\">\n",
       "  <thead>\n",
       "    <tr style=\"text-align: right;\">\n",
       "      <th></th>\n",
       "      <th>unix_timestamp</th>\n",
       "      <th>gps_latitude</th>\n",
       "      <th>gps_longitude</th>\n",
       "      <th>location</th>\n",
       "      <th>yaw</th>\n",
       "      <th>roll</th>\n",
       "      <th>pitch</th>\n",
       "      <th>long_velocity</th>\n",
       "      <th>lat_velocity</th>\n",
       "      <th>long_accel</th>\n",
       "      <th>lat_accel</th>\n",
       "    </tr>\n",
       "  </thead>\n",
       "  <tbody>\n",
       "    <tr>\n",
       "      <th>0</th>\n",
       "      <td>2022-06-25 20:08:10</td>\n",
       "      <td>37.535425</td>\n",
       "      <td>127.133758</td>\n",
       "      <td>천호동 447</td>\n",
       "      <td>340.49</td>\n",
       "      <td>0.66</td>\n",
       "      <td>3.81</td>\n",
       "      <td>9.92</td>\n",
       "      <td>-0.02</td>\n",
       "      <td>-0.64</td>\n",
       "      <td>-0.27</td>\n",
       "    </tr>\n",
       "  </tbody>\n",
       "</table>\n",
       "</div>"
      ],
      "text/plain": [
       "        unix_timestamp  gps_latitude  gps_longitude location     yaw  roll  \\\n",
       "0  2022-06-25 20:08:10     37.535425     127.133758  천호동 447  340.49  0.66   \n",
       "\n",
       "   pitch  long_velocity  lat_velocity  long_accel  lat_accel  \n",
       "0   3.81           9.92         -0.02       -0.64      -0.27  "
      ]
     },
     "execution_count": 64,
     "metadata": {},
     "output_type": "execute_result"
    }
   ],
   "source": [
    "# unix_timestamp 의 값을 변경한 데이터로 변환하는 코드를 작성하세요.\n",
    "mission_df.at[0, \"unix_timestamp\"] = readable_time\n",
    "# 변경된 데이터프레임을 확인하는 코드입니다.\n",
    "mission_df"
   ]
  },
  {
   "cell_type": "markdown",
   "metadata": {},
   "source": [
    "데이터프레임에서 위도와 경도를 추출하여 주소 데이터를 생성하는 코드를 작성하겠습니다. \n",
    "\n",
    "본인이 아는 방법을 이용해서 위도와 경도 데이터를 변수에 저장하세요."
   ]
  },
  {
   "cell_type": "code",
   "execution_count": 65,
   "metadata": {},
   "outputs": [
    {
     "name": "stdout",
     "output_type": "stream",
     "text": [
      "[37.53542493] [127.13375766]\n"
     ]
    }
   ],
   "source": [
    "# 각 변수에 위도와 경도 데이터를 저장하는 코드를 작성하세요.\n",
    "mission_latitude = mission_df[[\"gps_latitude\"]].values[0]\n",
    "mission_longitude = mission_df[[\"gps_longitude\"]].values[0]\n",
    "\n",
    "\n",
    "# 위도와 경도를 확인하는 코드입니다.\n",
    "print(mission_latitude, mission_longitude)"
   ]
  },
  {
   "cell_type": "markdown",
   "metadata": {},
   "source": [
    "참고로 이런 방법도 있습니다."
   ]
  },
  {
   "cell_type": "code",
   "execution_count": 66,
   "metadata": {},
   "outputs": [
    {
     "name": "stdout",
     "output_type": "stream",
     "text": [
      "37.53542492866625 127.13375765970876\n"
     ]
    }
   ],
   "source": [
    "mission_latitude, mission_longitude = mission_df[[\"gps_latitude\", \"gps_longitude\"]].values[0]\n",
    "\n",
    "print(mission_latitude, mission_longitude)"
   ]
  },
  {
   "cell_type": "markdown",
   "metadata": {},
   "source": [
    "추출된 위도와 경도 데이터를 이용하여 주소 데이터를 생성하세요."
   ]
  },
  {
   "cell_type": "code",
   "execution_count": 67,
   "metadata": {},
   "outputs": [
    {
     "data": {
      "text/plain": [
       "'강동역3번출구, 192-8, 천호대로, 성내2동, 강동구, 서울특별시, 05383, 대한민국'"
      ]
     },
     "execution_count": 67,
     "metadata": {},
     "output_type": "execute_result"
    }
   ],
   "source": [
    "# 주소를 검색 할 수 있도록 위도와 경도 데이터를 빈 칸 안에 입력하세요.\n",
    "mission_gps_point = f\"{mission_latitude}, {mission_longitude}\"\n",
    "\n",
    "#geolocator = Nominatim(user_agent=\"search my location\")\n",
    "# 해당 데이터를 이용해서 주소 데이터를 얻는 코드를 작성하세요.\n",
    "vehicle_location = geolocator.reverse(mission_gps_point)\n",
    "mission_address = vehicle_location.address\n",
    "\n",
    "\n",
    "# 주소 데이터를 확인하는 코드입니다.\n",
    "mission_address"
   ]
  },
  {
   "cell_type": "code",
   "execution_count": 68,
   "metadata": {},
   "outputs": [
    {
     "data": {
      "application/vnd.microsoft.datawrangler.viewer.v0+json": {
       "columns": [
        {
         "name": "index",
         "rawType": "int64",
         "type": "integer"
        },
        {
         "name": "unix_timestamp",
         "rawType": "object",
         "type": "string"
        },
        {
         "name": "gps_latitude",
         "rawType": "float64",
         "type": "float"
        },
        {
         "name": "gps_longitude",
         "rawType": "float64",
         "type": "float"
        },
        {
         "name": "location",
         "rawType": "object",
         "type": "string"
        },
        {
         "name": "yaw",
         "rawType": "float64",
         "type": "float"
        },
        {
         "name": "roll",
         "rawType": "float64",
         "type": "float"
        },
        {
         "name": "pitch",
         "rawType": "float64",
         "type": "float"
        },
        {
         "name": "long_velocity",
         "rawType": "float64",
         "type": "float"
        },
        {
         "name": "lat_velocity",
         "rawType": "float64",
         "type": "float"
        },
        {
         "name": "long_accel",
         "rawType": "float64",
         "type": "float"
        },
        {
         "name": "lat_accel",
         "rawType": "float64",
         "type": "float"
        }
       ],
       "conversionMethod": "pd.DataFrame",
       "ref": "48849430-cc81-43ba-bbab-d12db4f4dda6",
       "rows": [
        [
         "0",
         "2022-06-25 20:08:10",
         "37.53542492866625",
         "127.13375765970876",
         "강동역3번출구, 192-8, 천호대로, 성내2동, 강동구, 서울특별시, 05383, 대한민국",
         "340.49",
         "0.66",
         "3.81",
         "9.92",
         "-0.02",
         "-0.64",
         "-0.27"
        ]
       ],
       "shape": {
        "columns": 11,
        "rows": 1
       }
      },
      "text/html": [
       "<div>\n",
       "<style scoped>\n",
       "    .dataframe tbody tr th:only-of-type {\n",
       "        vertical-align: middle;\n",
       "    }\n",
       "\n",
       "    .dataframe tbody tr th {\n",
       "        vertical-align: top;\n",
       "    }\n",
       "\n",
       "    .dataframe thead th {\n",
       "        text-align: right;\n",
       "    }\n",
       "</style>\n",
       "<table border=\"1\" class=\"dataframe\">\n",
       "  <thead>\n",
       "    <tr style=\"text-align: right;\">\n",
       "      <th></th>\n",
       "      <th>unix_timestamp</th>\n",
       "      <th>gps_latitude</th>\n",
       "      <th>gps_longitude</th>\n",
       "      <th>location</th>\n",
       "      <th>yaw</th>\n",
       "      <th>roll</th>\n",
       "      <th>pitch</th>\n",
       "      <th>long_velocity</th>\n",
       "      <th>lat_velocity</th>\n",
       "      <th>long_accel</th>\n",
       "      <th>lat_accel</th>\n",
       "    </tr>\n",
       "  </thead>\n",
       "  <tbody>\n",
       "    <tr>\n",
       "      <th>0</th>\n",
       "      <td>2022-06-25 20:08:10</td>\n",
       "      <td>37.535425</td>\n",
       "      <td>127.133758</td>\n",
       "      <td>강동역3번출구, 192-8, 천호대로, 성내2동, 강동구, 서울특별시, 05383,...</td>\n",
       "      <td>340.49</td>\n",
       "      <td>0.66</td>\n",
       "      <td>3.81</td>\n",
       "      <td>9.92</td>\n",
       "      <td>-0.02</td>\n",
       "      <td>-0.64</td>\n",
       "      <td>-0.27</td>\n",
       "    </tr>\n",
       "  </tbody>\n",
       "</table>\n",
       "</div>"
      ],
      "text/plain": [
       "        unix_timestamp  gps_latitude  gps_longitude  \\\n",
       "0  2022-06-25 20:08:10     37.535425     127.133758   \n",
       "\n",
       "                                            location     yaw  roll  pitch  \\\n",
       "0  강동역3번출구, 192-8, 천호대로, 성내2동, 강동구, 서울특별시, 05383,...  340.49  0.66   3.81   \n",
       "\n",
       "   long_velocity  lat_velocity  long_accel  lat_accel  \n",
       "0           9.92         -0.02       -0.64      -0.27  "
      ]
     },
     "execution_count": 68,
     "metadata": {},
     "output_type": "execute_result"
    }
   ],
   "source": [
    "# location 의 값을 변경한 데이터로 변환하는 코드를 작성하세요.\n",
    "mission_df.at[0, \"location\"] = mission_address\n",
    "\n",
    "# 변경된 데이터프레임을 확인하는 코드입니다.\n",
    "mission_df"
   ]
  },
  {
   "cell_type": "markdown",
   "metadata": {},
   "source": [
    "#### (3) 제출 파일 준비하기 \n",
    "\n",
    "현재의 데이터프레임은 지시사항과 컬럼 이름의 차이가 있습니다. \n",
    "\n",
    "마지막으로 컬럼 이름을 지시사항에 맞게 변경하는 코드를 이용하여 컬럼의 이름을 변경하고 제출을 위해 CSV로 저장하는 코드를 작성하세요."
   ]
  },
  {
   "cell_type": "code",
   "execution_count": 69,
   "metadata": {},
   "outputs": [
    {
     "data": {
      "application/vnd.microsoft.datawrangler.viewer.v0+json": {
       "columns": [
        {
         "name": "index",
         "rawType": "int64",
         "type": "integer"
        },
        {
         "name": "create_time",
         "rawType": "object",
         "type": "string"
        },
        {
         "name": "gps_latitude",
         "rawType": "float64",
         "type": "float"
        },
        {
         "name": "gps_longitude",
         "rawType": "float64",
         "type": "float"
        },
        {
         "name": "address",
         "rawType": "object",
         "type": "string"
        },
        {
         "name": "yaw",
         "rawType": "float64",
         "type": "float"
        },
        {
         "name": "roll",
         "rawType": "float64",
         "type": "float"
        },
        {
         "name": "pitch",
         "rawType": "float64",
         "type": "float"
        },
        {
         "name": "long_velocity",
         "rawType": "float64",
         "type": "float"
        },
        {
         "name": "lat_velocity",
         "rawType": "float64",
         "type": "float"
        },
        {
         "name": "long_accel",
         "rawType": "float64",
         "type": "float"
        },
        {
         "name": "lat_accel",
         "rawType": "float64",
         "type": "float"
        }
       ],
       "conversionMethod": "pd.DataFrame",
       "ref": "be65d7b8-978b-4045-90b7-75fd8191b86d",
       "rows": [
        [
         "0",
         "2022-06-25 20:08:10",
         "37.53542492866625",
         "127.13375765970876",
         "강동역3번출구, 192-8, 천호대로, 성내2동, 강동구, 서울특별시, 05383, 대한민국",
         "340.49",
         "0.66",
         "3.81",
         "9.92",
         "-0.02",
         "-0.64",
         "-0.27"
        ]
       ],
       "shape": {
        "columns": 11,
        "rows": 1
       }
      },
      "text/html": [
       "<div>\n",
       "<style scoped>\n",
       "    .dataframe tbody tr th:only-of-type {\n",
       "        vertical-align: middle;\n",
       "    }\n",
       "\n",
       "    .dataframe tbody tr th {\n",
       "        vertical-align: top;\n",
       "    }\n",
       "\n",
       "    .dataframe thead th {\n",
       "        text-align: right;\n",
       "    }\n",
       "</style>\n",
       "<table border=\"1\" class=\"dataframe\">\n",
       "  <thead>\n",
       "    <tr style=\"text-align: right;\">\n",
       "      <th></th>\n",
       "      <th>create_time</th>\n",
       "      <th>gps_latitude</th>\n",
       "      <th>gps_longitude</th>\n",
       "      <th>address</th>\n",
       "      <th>yaw</th>\n",
       "      <th>roll</th>\n",
       "      <th>pitch</th>\n",
       "      <th>long_velocity</th>\n",
       "      <th>lat_velocity</th>\n",
       "      <th>long_accel</th>\n",
       "      <th>lat_accel</th>\n",
       "    </tr>\n",
       "  </thead>\n",
       "  <tbody>\n",
       "    <tr>\n",
       "      <th>0</th>\n",
       "      <td>2022-06-25 20:08:10</td>\n",
       "      <td>37.535425</td>\n",
       "      <td>127.133758</td>\n",
       "      <td>강동역3번출구, 192-8, 천호대로, 성내2동, 강동구, 서울특별시, 05383,...</td>\n",
       "      <td>340.49</td>\n",
       "      <td>0.66</td>\n",
       "      <td>3.81</td>\n",
       "      <td>9.92</td>\n",
       "      <td>-0.02</td>\n",
       "      <td>-0.64</td>\n",
       "      <td>-0.27</td>\n",
       "    </tr>\n",
       "  </tbody>\n",
       "</table>\n",
       "</div>"
      ],
      "text/plain": [
       "           create_time  gps_latitude  gps_longitude  \\\n",
       "0  2022-06-25 20:08:10     37.535425     127.133758   \n",
       "\n",
       "                                             address     yaw  roll  pitch  \\\n",
       "0  강동역3번출구, 192-8, 천호대로, 성내2동, 강동구, 서울특별시, 05383,...  340.49  0.66   3.81   \n",
       "\n",
       "   long_velocity  lat_velocity  long_accel  lat_accel  \n",
       "0           9.92         -0.02       -0.64      -0.27  "
      ]
     },
     "execution_count": 69,
     "metadata": {},
     "output_type": "execute_result"
    }
   ],
   "source": [
    "# 컬럼의 이름을 변경하는 코드를 작성하세요.\n",
    "# unix_timestamp → create_time 으로 location → address 로 변경해 주세요.\n",
    "mission_df.rename(columns={\n",
    "    \"unix_timestamp\": \"create_time\",\n",
    "    \"location\": \"address\"\n",
    "}, inplace=True)\n",
    "\n",
    "\n",
    "# 변경된 데이터프레임을 확인하는 코드입니다.\n",
    "mission_df"
   ]
  },
  {
   "cell_type": "markdown",
   "metadata": {},
   "source": [
    "마지막으로 최종 제출을 위해 지금까지 다룬 데이터프레임을 CSV로 저장하는 코드를 작성해 주세요. \n",
    "\n",
    "저장되는 CSV의 이름은 `result.csv` 여야 하며 인덱스는 저장되면 안됩니다. "
   ]
  },
  {
   "cell_type": "code",
   "execution_count": 70,
   "metadata": {},
   "outputs": [],
   "source": [
    "mission_df.to_csv(\"result.csv\", index=False)"
   ]
  }
 ],
 "metadata": {
  "kernelspec": {
   "display_name": "base",
   "language": "python",
   "name": "python3"
  },
  "language_info": {
   "codemirror_mode": {
    "name": "ipython",
    "version": 3
   },
   "file_extension": ".py",
   "mimetype": "text/x-python",
   "name": "python",
   "nbconvert_exporter": "python",
   "pygments_lexer": "ipython3",
   "version": "3.12.7"
  }
 },
 "nbformat": 4,
 "nbformat_minor": 2
}
