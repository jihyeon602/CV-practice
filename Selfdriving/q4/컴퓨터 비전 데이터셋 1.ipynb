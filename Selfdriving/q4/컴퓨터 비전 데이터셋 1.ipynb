{
 "cells": [
  {
   "cell_type": "markdown",
   "metadata": {},
   "source": [
    "# 컴퓨터 비전 데이터셋 1\n",
    "\n",
    "**컴퓨터 비전(Computer Vision)** 은 컴퓨터가 이미지나 비디오에서 개체와 사람을 식별하고 파악할 수 있도록 지원하는 컴퓨터 과학 분야 \n",
    "\n",
    "\n",
    "이를 이용한 응용 분야는 대표적으로 아래의 세 가지가 있음\n",
    "* **Image Classification :**  컴퓨터가 입력된 이미지를 어떤 클래스(카테고리)에 속하는지 분류하는 과정\n",
    "* **Object Detection :**  이미지나 비디오 안에서 여러 사물을 인식하고 위치를 파악하는 과정\n",
    "* **Image Segmentation :** 이미지나 비디오 안에서 구성하는 여러 부분이나 객체를 구분하는 과정 \n",
    "\n",
    "**[참고]**\n",
    "Object Detection은 사각형과 같은 도형으로 객체를 표시, Image Segmentation은 실제 객체의 외곽 좌표를 추출한다는 점에서 차이가 있음 \n",
    "\n",
    "![](./img/computer_vision.png)\n",
    "\n",
    "**[목차]**\n",
    "* **MNIST**\n",
    "* **Pascal VOC**\n",
    "* **COCO** - 다음 실습에서 진행\n",
    "\n",
    "\n",
    "## 1. MNIST\n",
    "\n",
    "**MNIST** 는 손으로 작성한 숫자 이미지로 구성된 데이터셋\n",
    "\n",
    "각 이미지가 28x28 픽셀로 크기가 작음 \n",
    "\n",
    "주로 이미지 분류(Classification)이나 숫자 인식을 위해 자주 사용됨\n",
    "\n",
    "### 1.1 데이터 불러오기\n",
    "\n",
    "MNIST 데이터셋은 **Keras 라이브러리**를 사용하면 쉽게 접근할 수 있음"
   ]
  },
  {
   "cell_type": "code",
   "execution_count": null,
   "metadata": {},
   "outputs": [],
   "source": [
    "from tensorflow.keras.datasets import mnist\n",
    "\n",
    "(x_train, y_train), (x_test, y_test) = mnist.load_data()"
   ]
  },
  {
   "cell_type": "code",
   "execution_count": null,
   "metadata": {},
   "outputs": [],
   "source": [
    "print(\"X train :\", x_train.shape)\n",
    "print(\"Y train :\", y_train.shape)\n",
    "print(\"X test :\", x_test.shape)\n",
    "print(\"Y test :\", y_test.shape)"
   ]
  },
  {
   "cell_type": "markdown",
   "metadata": {},
   "source": [
    "### 1.2 데이터 확인하기 "
   ]
  },
  {
   "cell_type": "code",
   "execution_count": null,
   "metadata": {},
   "outputs": [],
   "source": [
    "import matplotlib.pyplot as plt\n",
    "import numpy as np\n",
    "import random"
   ]
  },
  {
   "cell_type": "code",
   "execution_count": null,
   "metadata": {},
   "outputs": [],
   "source": [
    "number= random.randint(0, 60000)\n",
    "number"
   ]
  },
  {
   "cell_type": "code",
   "execution_count": null,
   "metadata": {},
   "outputs": [],
   "source": [
    "plt.title(number)\n",
    "\n",
    "plt.imshow(x_train[number])\n",
    "plt.show()"
   ]
  },
  {
   "cell_type": "code",
   "execution_count": null,
   "metadata": {},
   "outputs": [],
   "source": [
    "plt.title(number)\n",
    "\n",
    "plt.imshow(x_train[number], cmap=\"gray\")\n",
    "plt.show()"
   ]
  },
  {
   "cell_type": "code",
   "execution_count": null,
   "metadata": {},
   "outputs": [],
   "source": [
    "for i in range(1, 4) : \n",
    "    for j in range(1, 4) :\n",
    "        plt.subplot(i, 4, j)\n",
    "        \n",
    "        number= random.randint(0, 60000)\n",
    "\n",
    "        plt.title(number)\n",
    "        plt.imshow(x_train[number], cmap=\"gray\")\n",
    "    \n",
    "    plt.show()"
   ]
  },
  {
   "cell_type": "markdown",
   "metadata": {},
   "source": [
    "## 2. Pascal VOC\n",
    "\n",
    "**Pascal VOC** 은 컴퓨터 비전 분야의 대표적인 데이터셋 중 하나 \n",
    "\n",
    "Object Detection 과 Image Segmentation 분야에서 많이 사용됨\n",
    "\n",
    "아래의 홈페이지에 접속하면 Pascal VOC 데이터셋을 다운로드 할 수 있음\n",
    "- link : http://host.robots.ox.ac.uk/pascal/VOC/index.html\n",
    "\n",
    "\n",
    "### 2.1 이미지 데이터 확인하기\n",
    "\n",
    "Pascal VOC의 이미지 데이터는 `JPEGImages` 폴더에 저장되어 있음"
   ]
  },
  {
   "cell_type": "code",
   "execution_count": null,
   "metadata": {},
   "outputs": [],
   "source": [
    "from PIL import Image "
   ]
  },
  {
   "cell_type": "code",
   "execution_count": null,
   "metadata": {},
   "outputs": [],
   "source": [
    "img_path = \"./VOC2012/JPEGImages/2007_001595.jpg\""
   ]
  },
  {
   "cell_type": "code",
   "execution_count": null,
   "metadata": {},
   "outputs": [],
   "source": [
    "image = Image.open(img_path)  \n",
    "\n",
    "plt.imshow(image)\n",
    "plt.show()"
   ]
  },
  {
   "cell_type": "markdown",
   "metadata": {},
   "source": [
    "### 2.2 어노테이션 데이터 확인하기(XML 파싱)\n",
    "\n",
    "Pascal VOC 에서는 이미지 내 객체의 위치 정보(어노테이션)를 동일한 이름을 가진 **XML 파일**에 저장되어 있음 \n",
    "\n",
    "이를 위해서는 **XML 파싱**이 필요\n",
    "\n",
    "저장된 XML 파일은 `Annotations` 에서 확인할 수 있음"
   ]
  },
  {
   "cell_type": "markdown",
   "metadata": {},
   "source": [
    "**[XML 파일 샘플]**\n",
    "\n",
    "```xml\n",
    "<annotation>\n",
    "\t<folder>VOC2012</folder>\n",
    "\t<filename>2007_001595.jpg</filename>\n",
    "\t<source>\n",
    "\t\t<database>The VOC2007 Database</database>\n",
    "\t\t<annotation>PASCAL VOC2007</annotation>\n",
    "\t\t<image>flickr</image>\n",
    "\t</source>\n",
    "\t<size>\n",
    "\t\t<width>500</width>\n",
    "\t\t<height>375</height>\n",
    "\t\t<depth>3</depth>\n",
    "\t</size>\n",
    "\t<segmented>1</segmented>\n",
    "\t<object>\n",
    "\t\t<name>bus</name>\n",
    "\t\t<pose>Unspecified</pose>\n",
    "\t\t<truncated>0</truncated>\n",
    "\t\t<difficult>0</difficult>\n",
    "\t\t<bndbox>\n",
    "\t\t\t<xmin>268</xmin>\n",
    "\t\t\t<ymin>162</ymin>\n",
    "\t\t\t<xmax>442</xmax>\n",
    "\t\t\t<ymax>296</ymax>\n",
    "\t\t</bndbox>\n",
    "\t</object>\n",
    "\t<object>\n",
    "\t\t<name>bus</name>\n",
    "\t\t<pose>Unspecified</pose>\n",
    "\t\t<truncated>1</truncated>\n",
    "\t\t<difficult>0</difficult>\n",
    "\t\t<bndbox>\n",
    "\t\t\t<xmin>40</xmin>\n",
    "\t\t\t<ymin>158</ymin>\n",
    "\t\t\t<xmax>275</xmax>\n",
    "\t\t\t<ymax>288</ymax>\n",
    "\t\t</bndbox>\n",
    "\t</object>\n",
    "</annotation>\n",
    "```"
   ]
  },
  {
   "cell_type": "markdown",
   "metadata": {},
   "source": [
    "JSON과 마찬가지로 XML을 파싱하기 위해서는 별도의 라이브러리가 필요 \n",
    "\n",
    "XML 파싱을 위한 `xml 라이브러리` 는 내장 라이브러리이므로 별도의 설치 과정 없이 사용할 수 있음"
   ]
  },
  {
   "cell_type": "code",
   "execution_count": null,
   "metadata": {},
   "outputs": [],
   "source": [
    "import xml.etree.ElementTree as Et\n",
    "from xml.etree.ElementTree import Element, ElementTree"
   ]
  },
  {
   "cell_type": "code",
   "execution_count": null,
   "metadata": {},
   "outputs": [],
   "source": [
    "xml_file = \"./VOC2012/Annotations/2007_001595.xml\""
   ]
  },
  {
   "cell_type": "markdown",
   "metadata": {},
   "source": [
    "XML 파일을 파싱하기 위해서는 `parse` 함수가 필요\n",
    "\n",
    "`parse` 함수를 사용하면 경로에 있는 XML 파싱하여 XML 문서의 루트 요소(가장 상단의 태그)를 반환"
   ]
  },
  {
   "cell_type": "code",
   "execution_count": null,
   "metadata": {},
   "outputs": [],
   "source": [
    "tree = Et.parse(xml_file)\n",
    "tree"
   ]
  },
  {
   "cell_type": "markdown",
   "metadata": {},
   "source": [
    "`getroot` 함수를 이용하야 XML 문서의 루트 엘리먼트를 반환"
   ]
  },
  {
   "cell_type": "code",
   "execution_count": null,
   "metadata": {},
   "outputs": [],
   "source": [
    "root = tree.getroot()\n",
    "root"
   ]
  },
  {
   "cell_type": "markdown",
   "metadata": {},
   "source": [
    "성공적으로 XML 문서를 불러왔는지 확인하기 위해 어노테이션 데이터 중에서 이미지의 가로, 세로 사이즈를 나타내는 데이터를 파싱\n",
    "\n",
    "\n",
    "```xml\n",
    "<annotation>\n",
    "\t<folder>VOC2012</folder>\n",
    "\t<filename>2007_001595.jpg</filename>\n",
    "\t<source>\n",
    "\t\t<database>The VOC2007 Database</database>\n",
    "\t\t<annotation>PASCAL VOC2007</annotation>\n",
    "\t\t<image>flickr</image>\n",
    "\t</source>\n",
    "\t<size>\n",
    "\t\t<!-- parsing target -->\n",
    "\t\t<width>500</width>\n",
    "\t\t<height>375</height>\n",
    "\t\t\n",
    "\t\t<depth>3</depth>\n",
    "\t</size>\n",
    "```"
   ]
  },
  {
   "cell_type": "markdown",
   "metadata": {},
   "source": [
    "`find` 함수를 사용하면 지정한 태그명과 일치하는 첫번째 하위요소(element)를 반환\n",
    "\n",
    "`size`의 하위에 있는 `width`와 `height`를 찾은 `text`를 이용하여 다음 태그 사이에 있는 텍스트를 추출"
   ]
  },
  {
   "cell_type": "code",
   "execution_count": null,
   "metadata": {},
   "outputs": [],
   "source": [
    "size = root.find(\"size\")\n",
    "\n",
    "width = size.find(\"width\").text\n",
    "height = size.find(\"height\").text\n",
    "\n",
    "print(\"width :\", width, \"px\")\n",
    "print(\"height :\", height, \"px\")"
   ]
  },
  {
   "cell_type": "markdown",
   "metadata": {},
   "source": [
    "`object` 태그에서 `name`과 `bndbox` 정보를 찾고 `bndbox`에서 좌표 정보를 파싱"
   ]
  },
  {
   "cell_type": "code",
   "execution_count": null,
   "metadata": {},
   "outputs": [],
   "source": [
    "object = root.find(\"object\")\n",
    "\n",
    "name = object.find(\"name\").text\n",
    "    \n",
    "bndbox = object.find(\"bndbox\")\n",
    "    \n",
    "xmin = int(bndbox.find(\"xmin\").text)\n",
    "ymin = int(bndbox.find(\"ymin\").text)\n",
    "xmax = int(bndbox.find(\"xmax\").text)\n",
    "ymax = int(bndbox.find(\"ymax\").text)"
   ]
  },
  {
   "cell_type": "code",
   "execution_count": null,
   "metadata": {},
   "outputs": [],
   "source": [
    "print(name)\n",
    "\n",
    "print(\"x min :\", xmin)\n",
    "print(\"y min :\", ymin)\n",
    "print(\"x max :\", xmax)\n",
    "print(\"y max :\", ymax)"
   ]
  },
  {
   "cell_type": "markdown",
   "metadata": {},
   "source": [
    "### 2.3 바운딩 박스 그리기 (matplotlib 이용)\n",
    "\n",
    "좌표 정보를 이용하여 이미지 위에 표시하는 작업을 진행\n",
    "\n",
    "이전 실습처럼 matplotlib 라이브러리를 이용하여 객체를 표시"
   ]
  },
  {
   "cell_type": "code",
   "execution_count": null,
   "metadata": {},
   "outputs": [],
   "source": [
    "from matplotlib.patches import Polygon"
   ]
  },
  {
   "cell_type": "markdown",
   "metadata": {},
   "source": [
    "도형을 정확히 표현하기 위해서는 **펜을 이용해서 그리는 것처럼 좌표의 순서를 정확하게 기재**해야 함"
   ]
  },
  {
   "cell_type": "code",
   "execution_count": null,
   "metadata": {},
   "outputs": [],
   "source": [
    "image = Image.open(img_path)\n",
    "\n",
    "fig, ax = plt.subplots()\n",
    "ax.imshow(image)  \n",
    "\n",
    "polygon = Polygon(\n",
    "    [[xmin, ymin], [xmin, ymax], [xmax, ymax], [xmax, ymin]], \n",
    "    closed=True, \n",
    "    linewidth=2, \n",
    "    edgecolor='r', \n",
    "    facecolor='none'\n",
    ")  \n",
    "ax.add_patch(polygon)\n",
    "\n",
    "plt.show()"
   ]
  },
  {
   "cell_type": "markdown",
   "metadata": {},
   "source": [
    "**[잘못된 예시]**\n",
    "\n",
    "`[xmax, ymax]` 의 순서를 잘못 표기하여 그림처럼 잘못된 도형을 생성하게 됨"
   ]
  },
  {
   "cell_type": "code",
   "execution_count": null,
   "metadata": {},
   "outputs": [],
   "source": [
    "image = Image.open(img_path)\n",
    "\n",
    "fig, ax = plt.subplots()\n",
    "ax.imshow(image)  \n",
    "\n",
    "polygon = Polygon(\n",
    "    [[xmin, ymin], [xmin, ymax], [xmax, ymin], [xmax, ymax]], \n",
    "    closed=True, \n",
    "    linewidth=2, \n",
    "    edgecolor='r', \n",
    "    facecolor='none'\n",
    ")  \n",
    "ax.add_patch(polygon)\n",
    "\n",
    "plt.show()"
   ]
  },
  {
   "cell_type": "markdown",
   "metadata": {},
   "source": [
    "### 2.4 바운딩 박스 그리기 (OpenCV 이용)\n",
    "\n",
    "지금까지는 이미지 데이터를 시각화하는데 `matplotlib` 를 중심으로 사용하였음\n",
    "\n",
    "하지만 이미지 데이터를 더욱 효과적으로 처리하기 위해서는 `openCV` 라는 라이브러리가 필요 "
   ]
  },
  {
   "cell_type": "code",
   "execution_count": null,
   "metadata": {},
   "outputs": [],
   "source": [
    "import cv2"
   ]
  },
  {
   "cell_type": "code",
   "execution_count": null,
   "metadata": {},
   "outputs": [],
   "source": [
    "image = cv2.imread(img_path)\n",
    "image"
   ]
  },
  {
   "cell_type": "markdown",
   "metadata": {},
   "source": [
    "openCV의 `rectangle` 함수를 이용하면 matplotlib의 `polygon` 보다 더 편리하게 도형을 생성할 수 있음"
   ]
  },
  {
   "cell_type": "code",
   "execution_count": null,
   "metadata": {},
   "outputs": [],
   "source": [
    "cv2.rectangle(image, (xmin, ymin), (xmax, ymax), (255, 0, 0), 2)\n",
    "\n",
    "plt.imshow(image)\n",
    "plt.show()"
   ]
  },
  {
   "cell_type": "markdown",
   "metadata": {},
   "source": [
    "하지만 `openCV` 의 `imread`를 이용하여 이미지를 불러오면 기본적으로 이미지가 **BGR(Blue, Green, Red) 형식으로 처리**되는 현상이 있음\n",
    "\n",
    "이를 위해 BGR(Blue, Green, Red) 이미지를 RGB로 변환하는 `cvtColor` 함수를 사용"
   ]
  },
  {
   "cell_type": "code",
   "execution_count": null,
   "metadata": {},
   "outputs": [],
   "source": [
    "image_rgb = cv2.cvtColor(image, cv2.COLOR_BGR2RGB)"
   ]
  },
  {
   "cell_type": "markdown",
   "metadata": {},
   "source": [
    "다시 이미지 위에 도형을 그리면 정상적으로 표현되는 것을 확인할 수 있음"
   ]
  },
  {
   "cell_type": "code",
   "execution_count": null,
   "metadata": {},
   "outputs": [],
   "source": [
    "cv2.rectangle(image_rgb, (xmin, ymin), (xmax, ymax), (255, 0, 0), 2)\n",
    "\n",
    "plt.imshow(image_rgb)\n",
    "plt.show()"
   ]
  },
  {
   "cell_type": "markdown",
   "metadata": {},
   "source": [
    "## [TODO] 어노테이션 정보를 이용하여 다른 이미지 객체 표시하기\n",
    "`Annotations` 와 `JPEGImages` 폴더에 있는 데이터, 그리고 앞에서 학습한 코드를 이용하여 자신만의 객체 인식 코드를 작성해보세요. \n",
    "\n",
    "Pascal VOC 데이터셋은 `/mnt/elice/dataset`에 저장되어 있습니다. \n",
    "\n",
    "자세한 내용은 아래의 이미지를 참고해주세요.\n",
    "\n",
    "![](./img/file_tree.png)\n",
    "\n",
    "*※ 본 실습은 제출이 없는 실습입니다.*"
   ]
  },
  {
   "cell_type": "code",
   "execution_count": null,
   "metadata": {},
   "outputs": [],
   "source": [
    "dataset_path = \"/mnt/elice/dataset/\"\n",
    "voc_path = \"VOC2012/JPEGImages/\"\n",
    "img_name = \"2007_001595.jpg\"\n",
    "\n",
    "\n",
    "test_image = Image.open(dataset_path + voc_path + img_name)  \n",
    "\n",
    "plt.imshow(test_image)\n",
    "plt.show()"
   ]
  }
 ],
 "metadata": {
  "kernelspec": {
   "display_name": "autocar",
   "language": "python",
   "name": "python3"
  },
  "language_info": {
   "codemirror_mode": {
    "name": "ipython",
    "version": 3
   },
   "file_extension": ".py",
   "mimetype": "text/x-python",
   "name": "python",
   "nbconvert_exporter": "python",
   "pygments_lexer": "ipython3",
   "version": "3.11.8"
  }
 },
 "nbformat": 4,
 "nbformat_minor": 2
}
