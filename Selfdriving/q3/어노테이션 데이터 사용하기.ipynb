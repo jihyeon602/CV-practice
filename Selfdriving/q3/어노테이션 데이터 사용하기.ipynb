{
 "cells": [
  {
   "cell_type": "markdown",
   "metadata": {},
   "source": [
    "# 어노테이션 데이터 사용하기\n",
    "\n",
    "**[목차]**\n",
    "* **데이터 전처리 :** 어노테이션 데이터를 하나의 데이터프레임으로 변환하기\n",
    "* **데이터 분석 및 시각화 :** 어노테이션 데이터를 이미지 위에 출력하기\n",
    "* **다양한 카메라 이미지에 반영해보기**\n",
    "\n",
    "\n",
    "## 1. 데이터 전처리 : 어노테이션 데이터를 하나의 데이터프레임으로 변환하기\n",
    "\n",
    "이번 실습에서는 어노테이션 데이터를 이용하는 실습을 진행\n",
    "\n",
    "이를 위해 지난 시간에서 사용한 `json_to_dataframe` 함수를 이용하여 JSON 파일을 \"메타데이터\"와 \"어노테이션 데이터\" 로 나누고 각각 데이터프레임으로 저장 "
   ]
  },
  {
   "cell_type": "code",
   "execution_count": null,
   "metadata": {},
   "outputs": [],
   "source": [
    "import pandas as pd\n",
    "import glob\n",
    "import json"
   ]
  },
  {
   "cell_type": "code",
   "execution_count": null,
   "metadata": {},
   "outputs": [],
   "source": [
    "def json_to_dataframe(file_path):\n",
    "\n",
    "    # 주어진 파일 경로에서 JSON 파일을 열고 데이터를 읽어옴\n",
    "    with open(file_path, 'r') as file:\n",
    "        data = json.load(file)\n",
    "\n",
    "\n",
    "    # annotations를 제외한 모든 데이터를 포함하는 데이터프레임 생성\n",
    "    df = pd.json_normalize(data)\n",
    "\n",
    "    \n",
    "    # 'annotations'라는 열이 df의 열 목록에 있는지 확인\n",
    "    if 'annotations' in df.columns:\n",
    "        \n",
    "        # 'annotations' 열이 존재하면, 데이터를 'annotations' 열에서 추출하여 JSON 형식으로 펼침\n",
    "        annotations_df = pd.json_normalize(data, 'annotations', sep='_', errors='ignore')\n",
    "\n",
    "        # 'annotations' 열을 원래 DataFrame(df)에서 제거\n",
    "        df.drop(columns=['annotations'], inplace=True)\n",
    "    \n",
    "    else:\n",
    "        # 'annotations' 열이 존재하지 않는 경우, annotations_df를 None으로 설정\n",
    "        annotations_df = None\n",
    "\n",
    "    \n",
    "    return df, annotations_df"
   ]
  },
  {
   "cell_type": "markdown",
   "metadata": {},
   "source": [
    "### 1.1 하나의 JSON 파일의 어노테이션 데이터 사용하기\n",
    "\n",
    "자율주행 자동차의 시스템마다 다르지만 현재 타겟이 되는 자율주행 자동차의 시나리오는 다음과 같이 구성되어 있음\n",
    "\n",
    "이번 실습은 하나의 JSON 파일의 어노테이션 데이터를 이용해서 이를 이미지 위에 도형을 그리는 실습을 진행"
   ]
  },
  {
   "cell_type": "code",
   "execution_count": null,
   "metadata": {},
   "outputs": [],
   "source": [
    "annotation_path = \"./data/label_2dbb/FR-View-CMR-Wide/1656041450209_FR-View-CMR-Wide_2DBB_GT.json\"\n",
    "\n",
    "meta_df, annotations_df = json_to_dataframe(annotation_path)\n",
    "\n",
    "annotations_df"
   ]
  },
  {
   "cell_type": "markdown",
   "metadata": {},
   "source": [
    "본격적으로 분석하기 전, 메타데이터(meta_df)에는 짝꿍이 되는 이미지 파일의 경로를 포함하고 있음"
   ]
  },
  {
   "cell_type": "code",
   "execution_count": null,
   "metadata": {},
   "outputs": [],
   "source": [
    "meta_df"
   ]
  },
  {
   "cell_type": "markdown",
   "metadata": {},
   "source": [
    "- **parent_path :** 이미지 파일의 경로 \n",
    "- **filename :**  이미지 파일의 이름 (확장자 미포함)\n",
    "- **file_format :** 이미지 파일의 확장자 \n",
    "\n",
    "\n",
    "현재의 실습을 구성하기 위해 폴더 구조, 폴더 이름을 변경해서 JSON 파일에 저장되어 있는 경로(path)가 정확히 일치하지 않는 문제가 있음\n",
    "\n",
    "그래서 `parent_path`를 간단히 사용할 수 있도록 전처리 과정을 진행\n",
    "\n",
    "`split`과 `join`을 이용하여 불필요한 데이터는 제거"
   ]
  },
  {
   "cell_type": "code",
   "execution_count": null,
   "metadata": {},
   "outputs": [],
   "source": [
    "meta_df[\"parent_path\"].values[0]"
   ]
  },
  {
   "cell_type": "code",
   "execution_count": null,
   "metadata": {},
   "outputs": [],
   "source": [
    "meta_df[\"parent_path\"].values[0].split('/')"
   ]
  },
  {
   "cell_type": "code",
   "execution_count": null,
   "metadata": {},
   "outputs": [],
   "source": [
    "\"/\".join(meta_df[\"parent_path\"].values[0].split('/')[2:])"
   ]
  },
  {
   "cell_type": "code",
   "execution_count": null,
   "metadata": {},
   "outputs": [],
   "source": [
    "meta_df[\"filename\"].values[0]"
   ]
  },
  {
   "cell_type": "code",
   "execution_count": null,
   "metadata": {},
   "outputs": [],
   "source": [
    "meta_df[\"file_format\"].values[0]"
   ]
  },
  {
   "cell_type": "markdown",
   "metadata": {},
   "source": [
    "메타데이터에서 추출한 `parent_path`, `filename`, `file_format` 을 이용하면 이미지 파일의 경로를 특정할 수 있음"
   ]
  },
  {
   "cell_type": "code",
   "execution_count": null,
   "metadata": {},
   "outputs": [],
   "source": [
    "folder_path = \"/\".join(meta_df[\"parent_path\"].values[0].split('/')[2:]) \n",
    "file_name = meta_df[\"filename\"].values[0]\n",
    "file_format = meta_df[\"file_format\"].values[0]\n",
    "\n",
    "\n",
    "img_path = \"data/\" + folder_path + \"/\" + meta_df[\"filename\"].values[0] + \".\"+ meta_df[\"file_format\"].values[0]\n",
    "img_path"
   ]
  },
  {
   "cell_type": "markdown",
   "metadata": {},
   "source": [
    "`os` 라이브러리의 `path.join`을 이용하는 방법도 존재"
   ]
  },
  {
   "cell_type": "code",
   "execution_count": null,
   "metadata": {},
   "outputs": [],
   "source": [
    "import os\n",
    "\n",
    "image_path = os.path.join(\"data\", folder_path, (file_name + \".\" + file_format))\n",
    "image_path"
   ]
  },
  {
   "cell_type": "markdown",
   "metadata": {},
   "source": [
    "## 2. 데이터 분석 및 시각화 : 어노테이션 데이터를 이미지 위에 출력하기\n",
    "\n",
    "### 2.1 source_img의 이미지 출력하기 \n",
    "\n",
    "추출된 이미지 경로(image_path)를 이용하여 어떤 이미지인지 확인하는 작업 진행\n",
    "\n",
    "이를 위해 **두 가지 라이브러리**를 사용 \n",
    "\n",
    "1. **matplotlib 라이브러리 :** 데이터를 시각화하거나 이미지를 출력하기 위한 다양한 기능 제공\n",
    "2. **Pillow 라이브러리 :** 다양한 이미지 파일 형식(png, jpeg, gif 등)을 지원하며 이미지를 변환, 분석 등 다양한 기능 제공\n",
    "\n",
    "\n",
    "`open`을 이용하면 이미지 경로의 파일을 출력할 수 있음"
   ]
  },
  {
   "cell_type": "code",
   "execution_count": null,
   "metadata": {},
   "outputs": [],
   "source": [
    "import matplotlib.pyplot as plt  \n",
    "from PIL import Image \n",
    "\n",
    "image = Image.open(image_path)  \n",
    "\n",
    "# 이미지 표시  \n",
    "plt.imshow(image)  \n",
    "plt.title(file_name + \".\" + file_format)  # 이미지 파일 이름을 제목으로 표시  \n",
    "\n",
    "plt.show()"
   ]
  },
  {
   "cell_type": "markdown",
   "metadata": {},
   "source": [
    "### 2.2 바운딩 박스 그리기\n",
    "\n",
    "어노테이션 데이터(annotations_df) 를 확인하면 다양한 데이터들이 있음\n",
    "\n",
    "그 중에서 `points`  주목해야 함"
   ]
  },
  {
   "cell_type": "code",
   "execution_count": null,
   "metadata": {},
   "outputs": [],
   "source": [
    "annotations_df.head()"
   ]
  },
  {
   "cell_type": "markdown",
   "metadata": {},
   "source": [
    "가장 첫번째 행의 points 데이터를 확인하면 다음과 같은 특징이 있음\n",
    "\n",
    "1. 2개의 숫자를 가진 리스트가 있음\n",
    "2. 1번의 리스트가 총 4개 있음\n",
    "\n",
    "아래의 코드에서 숫자 0을 다른 숫자로 변경해도 똑같은 형태인 것을 확인할 수 있음"
   ]
  },
  {
   "cell_type": "code",
   "execution_count": null,
   "metadata": {},
   "outputs": [],
   "source": [
    "annotations_df.iloc[0][\"points\"]"
   ]
  },
  {
   "cell_type": "markdown",
   "metadata": {},
   "source": [
    "이 데이터는 이미지 위의 좌표를 의미\n",
    "\n",
    "보통 이미지 좌표는 네 꼭지점을 기준으로 우측 상단을 (0, 0)을 기준으로 함\n",
    "\n",
    "`points` 좌표는 각각 P1, P2, P3, P4를 의미\n",
    "\n",
    "좌표들을 이용해서 이미지 위에 도형을 그릴려면 `matplotlib`의 `Polygon` 기능을 사용\n",
    "* `closed` : 다각형이 닫힌 형태임을 지정\n",
    "* `linewidth` : 다각형 테두리의 두께를 설정\n",
    "* `edgecolor` : 다각형 테두리의 색상을 설정\n",
    "* `facecolor` : 다각형 내부의 색상을 설정 ('none' = 투명)"
   ]
  },
  {
   "cell_type": "code",
   "execution_count": null,
   "metadata": {},
   "outputs": [],
   "source": [
    "from matplotlib.patches import Polygon\n",
    "\n",
    "image = Image.open(image_path)\n",
    "\n",
    "fig, ax = plt.subplots()\n",
    "ax.imshow(image)  \n",
    "ax.set_title(file_name + \".\" + file_format)  \n",
    "\n",
    "polygon = Polygon(\n",
    "    annotations_df.iloc[0][\"points\"], \n",
    "    closed=True, \n",
    "    linewidth=2, \n",
    "    edgecolor='r', \n",
    "    facecolor='none'\n",
    ")  \n",
    "ax.add_patch(polygon)\n",
    "\n",
    "plt.show()"
   ]
  },
  {
   "cell_type": "markdown",
   "metadata": {},
   "source": [
    "### 2.3 바운딩 박스 여러개 그리기 \n",
    "\n",
    "하지만 좌표 데이터는 하나가 아니라 아주 많음\n",
    "\n",
    "현재의 데이터를 확인하면 13개의 좌표가 존재"
   ]
  },
  {
   "cell_type": "code",
   "execution_count": null,
   "metadata": {},
   "outputs": [],
   "source": [
    "for point in annotations_df[\"points\"] : \n",
    "    print(point)"
   ]
  },
  {
   "cell_type": "markdown",
   "metadata": {},
   "source": [
    "반복문을 사용하면 쉽게 이미지 위에 도형을 그릴 수 있음\n",
    "\n",
    "즉, 어노테이션 데이터의 객체마다 **바운딩 박스(Bounding Box)** 를 그릴 수 있음"
   ]
  },
  {
   "cell_type": "code",
   "execution_count": null,
   "metadata": {},
   "outputs": [],
   "source": [
    "image = Image.open(image_path)\n",
    "\n",
    "fig, ax = plt.subplots()\n",
    "ax.imshow(image)  \n",
    "ax.set_title(file_name + \".\" + file_format)\n",
    "\n",
    "for point in annotations_df[\"points\"] : \n",
    "    polygon = Polygon(point, closed=True, linewidth=2, edgecolor='r', facecolor='none')  \n",
    "    ax.add_patch(polygon)\n",
    "\n",
    "plt.show()"
   ]
  },
  {
   "cell_type": "markdown",
   "metadata": {},
   "source": [
    "### 2.4 객체 별로 다양한 색상의 바운딩 박스 그리기\n",
    "하지만 출력된 이미지는 전부 한 색상으로 된 바운딩 박스들이어서 어떤 객체인지 구분이 어려움\n",
    "\n",
    "어노테이션 데이터(annotations_df)를 확인하면 어떤 객체인지 알려주는 `label`을 확인할 수 있음"
   ]
  },
  {
   "cell_type": "code",
   "execution_count": null,
   "metadata": {},
   "outputs": [],
   "source": [
    "annotations_df.head()"
   ]
  },
  {
   "cell_type": "code",
   "execution_count": null,
   "metadata": {},
   "outputs": [],
   "source": [
    "annotations_df[\"label\"].unique()"
   ]
  },
  {
   "cell_type": "markdown",
   "metadata": {},
   "source": [
    "하지만 `vehicle` 과 `traffic_sign`이 내포하는 범위가 상당히 넓음\n",
    "\n",
    "`attribute` 컬럼에서 이보다 더 상세한 의미를 확인할 수 있음"
   ]
  },
  {
   "cell_type": "code",
   "execution_count": null,
   "metadata": {},
   "outputs": [],
   "source": [
    "annotations_df[\"attribute\"].unique()"
   ]
  },
  {
   "cell_type": "markdown",
   "metadata": {},
   "source": [
    "앞에서 살펴본 좌표 데이터(`points`)와 어트리뷰트(`attribute`) 데이터를 이용하여 더욱 뚜렷하게 바운딩 박스를 그리는 작업을 진행"
   ]
  },
  {
   "cell_type": "code",
   "execution_count": null,
   "metadata": {},
   "outputs": [],
   "source": [
    "annotations_df[[\"points\", \"attribute\"]]"
   ]
  },
  {
   "cell_type": "markdown",
   "metadata": {},
   "source": [
    "Pandas 라이브러리의 `iterrows` 또는 `itertuples` 메소드를 사용하면 for문 처럼 **반복(iterate) 처리**를 할 수 있음\n",
    "\n",
    "대신, 사용법이 for 문과 조금 다르기 때문에 주의 필요\n",
    "\n",
    "#### (1) dataframe.iterrows 를 이용한 방법"
   ]
  },
  {
   "cell_type": "code",
   "execution_count": null,
   "metadata": {},
   "outputs": [],
   "source": [
    "dict_1 = {\n",
    "    'col1': [4, 1, 5, 3, 2],\n",
    "    'col2': [6, 7, 8, 9, 10],\n",
    "    'col3': [11, 12, 13, 14, 15],\n",
    "    'col4': [16, 17, 18, 19, 20]\n",
    "}\n",
    "\n",
    "df_1 = pd.DataFrame(dict_1)\n",
    "df_1"
   ]
  },
  {
   "cell_type": "code",
   "execution_count": null,
   "metadata": {},
   "outputs": [],
   "source": [
    "for row in df_1.iterrows():\n",
    "    print(row)\n",
    "    print(type(row))\n",
    "    \n",
    "    print()"
   ]
  },
  {
   "cell_type": "code",
   "execution_count": null,
   "metadata": {},
   "outputs": [],
   "source": [
    "for idx, row in df_1.iterrows():\n",
    "    print(idx)\n",
    "    print(type(idx))\n",
    "\n",
    "    print(row)\n",
    "    print(type(row))\n",
    "    \n",
    "    print()"
   ]
  },
  {
   "cell_type": "code",
   "execution_count": null,
   "metadata": {},
   "outputs": [],
   "source": [
    "for idx, annotaion in annotations_df[[\"points\", \"attribute\"]].iterrows() :\n",
    "    point = annotaion[\"points\"]\n",
    "    attribute = annotaion[\"attribute\"]\n",
    "    \n",
    "    print(point)\n",
    "    print(attribute)\n",
    "    print()"
   ]
  },
  {
   "cell_type": "markdown",
   "metadata": {},
   "source": [
    "#### (2) dataframe.itertuples 를 이용한 방법"
   ]
  },
  {
   "cell_type": "code",
   "execution_count": null,
   "metadata": {},
   "outputs": [],
   "source": [
    "df_1"
   ]
  },
  {
   "cell_type": "code",
   "execution_count": null,
   "metadata": {},
   "outputs": [],
   "source": [
    "for row in df_1.itertuples():\n",
    "    print(row)\n",
    "    print(type(row))\n",
    "    \n",
    "    print()"
   ]
  },
  {
   "cell_type": "code",
   "execution_count": null,
   "metadata": {},
   "outputs": [],
   "source": [
    "for row in df_1.itertuples():\n",
    "    print(row.col2)"
   ]
  },
  {
   "cell_type": "code",
   "execution_count": null,
   "metadata": {},
   "outputs": [],
   "source": [
    "for annotaion in annotations_df[[\"points\", \"attribute\"]].itertuples() : \n",
    "    point = annotaion.points\n",
    "    attribute = annotaion.attribute\n",
    "    \n",
    "    print(point)\n",
    "    print(attribute)\n",
    "    print()"
   ]
  },
  {
   "cell_type": "markdown",
   "metadata": {},
   "source": [
    "`iterrows` 또는 `itertuples` 메소드를 사용하여 `attribute` 별로 색상을 다르게 할 수 있음\n",
    "* car = 빨강\n",
    "* adult = 초록\n",
    "* truck_s = 파랑\n",
    "* motorcycle = 분홍\n",
    "* 그 외 = 주황"
   ]
  },
  {
   "cell_type": "code",
   "execution_count": null,
   "metadata": {},
   "outputs": [],
   "source": [
    "image = Image.open(image_path)\n",
    "\n",
    "fig, ax = plt.subplots()\n",
    "ax.imshow(image)  \n",
    "ax.set_title(file_name + \".\" + file_format)\n",
    "\n",
    "for annotaion in annotations_df[[\"points\", \"attribute\"]].itertuples() : \n",
    "    point = annotaion.points\n",
    "    attribute = annotaion.attribute\n",
    "    \n",
    "    if attribute == \"car\" : \n",
    "        polygon = Polygon(point, closed=True, linewidth=1, edgecolor='red', facecolor='none')  \n",
    "\n",
    "    elif attribute == \"adult\" :\n",
    "        polygon = Polygon(point, closed=True, linewidth=1, edgecolor='green', facecolor='none')  \n",
    "    \n",
    "    elif attribute == \"truck_s\" :\n",
    "        polygon = Polygon(point, closed=True, linewidth=1, edgecolor='blue', facecolor='none')  \n",
    "        \n",
    "    elif attribute == \"motorcycle\" :\n",
    "        polygon = Polygon(point, closed=True, linewidth=1, edgecolor='pink', facecolor='none')  \n",
    "\n",
    "    else :\n",
    "        polygon = Polygon(point, closed=True, linewidth=1, edgecolor='orange', facecolor='none')  \n",
    "\n",
    "    \n",
    "    ax.add_patch(polygon)\n",
    "\n",
    "plt.show()"
   ]
  },
  {
   "cell_type": "markdown",
   "metadata": {},
   "source": [
    "위의 코드를 조금 더 효율적으로 재구성할 수 있음\n",
    "\n",
    "`get` 메소드를 사용하면 딕셔너리에서 주어진 키(key)에 해당하는 값을 반환"
   ]
  },
  {
   "cell_type": "code",
   "execution_count": null,
   "metadata": {},
   "outputs": [],
   "source": [
    "color_map = {  \n",
    "    \"car\": \"red\",  \n",
    "    \"adult\": \"green\",  \n",
    "    \"truck_s\": \"blue\",  \n",
    "    \"motorcycle\": \"pink\"  \n",
    "}  \n",
    "default_color = \"orange\" \n",
    "\n",
    "for annotation in annotations_df.itertuples():  \n",
    "    points = annotation.points  \n",
    "    attribute = annotation.attribute  \n",
    "\n",
    "    color = color_map.get(attribute, default_color)  \n",
    "\n",
    "    print(attribute, \":\", color)"
   ]
  },
  {
   "cell_type": "markdown",
   "metadata": {},
   "source": [
    "이 점을 이용해서 위의 코드를 다시 작성하면 다음과 같이 작성할 수 있음"
   ]
  },
  {
   "cell_type": "code",
   "execution_count": null,
   "metadata": {},
   "outputs": [],
   "source": [
    "# 이미지 불러오기  \n",
    "image = Image.open(image_path)  \n",
    "\n",
    "# 플롯 생성  \n",
    "fig, ax = plt.subplots()  \n",
    "ax.imshow(image)  \n",
    "ax.set_title(f\"{file_name}.{file_format}\")  \n",
    "\n",
    "# 속성별 색상 매핑  \n",
    "color_map = {  \n",
    "    \"car\": \"red\",  \n",
    "    \"adult\": \"green\",  \n",
    "    \"truck_s\": \"blue\",  \n",
    "    \"motorcycle\": \"pink\"  \n",
    "}  \n",
    "default_color = \"orange\"  \n",
    "\n",
    "# 각 주석에 대해 다각형 그리기  \n",
    "for annotation in annotations_df.itertuples():  \n",
    "    points = annotation.points  \n",
    "    attribute = annotation.attribute  \n",
    "\n",
    "    # 색상 매핑 및 다각형 생성  \n",
    "    color = color_map.get(attribute, default_color)  \n",
    "    polygon = Polygon(points, closed=True, linewidth=1, edgecolor=color, facecolor='none')  \n",
    "\n",
    "    # 다각형을 플롯에 추가  \n",
    "    ax.add_patch(polygon)  \n",
    "\n",
    "# 이미지 표시  \n",
    "plt.show()"
   ]
  },
  {
   "cell_type": "markdown",
   "metadata": {},
   "source": [
    "해당 코드를 함수로 만들면 간단하게 바운딩박스 작업 가능"
   ]
  },
  {
   "cell_type": "code",
   "execution_count": null,
   "metadata": {},
   "outputs": [],
   "source": [
    "def img_2d_bounding_box(image_path) : \n",
    "\n",
    "    file_name = image_path.split(\"/\")[-1]\n",
    "    \n",
    "    # 이미지 불러오기  \n",
    "    image = Image.open(image_path)  \n",
    "\n",
    "    # 플롯 생성  \n",
    "    fig, ax = plt.subplots()  \n",
    "    ax.imshow(image)\n",
    "    ax.set_title(file_name)  \n",
    "\n",
    "    # 속성별 색상 매핑  \n",
    "    color_map = {  \n",
    "        \"car\": \"red\",  \n",
    "        \"adult\": \"green\",  \n",
    "        \"truck_s\": \"blue\",  \n",
    "        \"motorcycle\": \"pink\"  \n",
    "    }  \n",
    "    default_color = \"orange\"  \n",
    "\n",
    "    # 각 주석에 대해 다각형 그리기  \n",
    "    for annotation in annotations_df.itertuples():  \n",
    "        points = annotation.points  \n",
    "        attribute = annotation.attribute  \n",
    "\n",
    "        # 색상 매핑 및 다각형 생성  \n",
    "        color = color_map.get(attribute, default_color)  \n",
    "        polygon = Polygon(points, closed=True, linewidth=1, edgecolor=color, facecolor='none')  \n",
    "\n",
    "        # 다각형을 플롯에 추가  \n",
    "        ax.add_patch(polygon)  \n",
    "\n",
    "    # 이미지 표시  \n",
    "    plt.show()"
   ]
  },
  {
   "cell_type": "code",
   "execution_count": null,
   "metadata": {},
   "outputs": [],
   "source": [
    "img_2d_bounding_box(image_path)"
   ]
  },
  {
   "cell_type": "markdown",
   "metadata": {},
   "source": [
    "## 3. 다양한 폴더에 반영해보기 \n",
    "\n",
    "현재의 자율주행 차량은 4개의 카메라를 탑재하고 있어서 `label_2dbb`, `source_image` 폴더에는 4개의 폴더가 존재\n",
    "\n",
    "* **FR-View-CMR-Wide :** 전방 카메라 폴더 \n",
    "* **RR-Left-View-CMR-Narrow :** 좌측 후방 카메라 폴더\n",
    "* **RR-Right-View-CMR-Narrow :** 우측 후방 카메라 폴더\n",
    "* **RR-View-CMR-Wide :** 후방 카메라 폴더 \n",
    "\n",
    "`glob` 라이브러리를 사용하여 지정된 패턴에 일치하는 파일 경로의 리스트를 생성"
   ]
  },
  {
   "cell_type": "code",
   "execution_count": null,
   "metadata": {},
   "outputs": [],
   "source": [
    "folder_list = [\n",
    "    \"FR-View-CMR-Wide\", \n",
    "    \"RR-Left-View-CMR-Narrow\", \n",
    "    \"RR-Right-View-CMR-Narrow\", \n",
    "    \"RR-View-CMR-Wide\"\n",
    "    ]\n",
    "\n",
    "path = f\"data/label_2dbb/{folder_list[0]}/*_{folder_list[0]}_2DBB_GT.json\"\n",
    "\n",
    "file_paths = glob.glob(path)\n",
    "file_paths"
   ]
  },
  {
   "cell_type": "markdown",
   "metadata": {},
   "source": [
    "해당 리스트를 이용하여 이미지의 경로를 추출하는 작업 진행"
   ]
  },
  {
   "cell_type": "code",
   "execution_count": null,
   "metadata": {},
   "outputs": [],
   "source": [
    "for file_path in file_paths : \n",
    "    meta_df, annotations_df = json_to_dataframe(annotation_path)\n",
    "\n",
    "    folder_path = \"/\".join(meta_df[\"parent_path\"].values[0].split('/')[2:]) \n",
    "    file_name = meta_df[\"filename\"].values[0]\n",
    "    file_format = meta_df[\"file_format\"].values[0]\n",
    "\n",
    "    image_path = os.path.join(\"data\", folder_path, (file_name + \".\" + file_format))\n",
    "\n",
    "    print(image_path)"
   ]
  },
  {
   "cell_type": "markdown",
   "metadata": {},
   "source": [
    "사전에 정의한 `json_to_dataframe`함수를 이용하여 어노테이션 데이터를 추출하고 `img_2d_bounding_box` 함수를 이용하여 바운딩박스 작업을 진행\n",
    "\n",
    "FR-View-CMR-Wide 폴더에 있는 이미지들을 어노테이션 데이터에 맞게 전부 바운딩박스가 그려진 것을 확인할 수 있음"
   ]
  },
  {
   "cell_type": "code",
   "execution_count": null,
   "metadata": {},
   "outputs": [],
   "source": [
    "for file_path in file_paths : \n",
    "    meta_df, annotations_df = json_to_dataframe(annotation_path)\n",
    "\n",
    "    folder_path = \"/\".join(meta_df[\"parent_path\"].values[0].split('/')[2:]) \n",
    "    file_name = meta_df[\"filename\"].values[0]\n",
    "    file_format = meta_df[\"file_format\"].values[0]\n",
    "\n",
    "    image_path = os.path.join(\"data\", folder_path, (file_name + \".\" + file_format))\n",
    "\n",
    "    img_2d_bounding_box(image_path)"
   ]
  },
  {
   "cell_type": "markdown",
   "metadata": {},
   "source": [
    "### [TODO] 어노테이션 데이터를 이용하여 다른 카메라 이미지에 바운딩 박스 그리기\n",
    "\n",
    "label_2dbb, source_image 폴더에는 다른 카메리의 주행 데이터가 존재합니다. \n",
    "\n",
    "위에서 작성한 코드들을 이용하여 주행 이미지에 바운딩 박스를 그리는 코드를 작성하세요.\n",
    "\n",
    "*※ 본 실습은 제출이 없는 실습입니다.*"
   ]
  },
  {
   "cell_type": "code",
   "execution_count": null,
   "metadata": {},
   "outputs": [],
   "source": [
    "None"
   ]
  }
 ],
 "metadata": {
  "kernelspec": {
   "display_name": "autocar",
   "language": "python",
   "name": "python3"
  },
  "language_info": {
   "codemirror_mode": {
    "name": "ipython",
    "version": 3
   },
   "file_extension": ".py",
   "mimetype": "text/x-python",
   "name": "python",
   "nbconvert_exporter": "python",
   "pygments_lexer": "ipython3",
   "version": "3.11.9"
  }
 },
 "nbformat": 4,
 "nbformat_minor": 2
}
