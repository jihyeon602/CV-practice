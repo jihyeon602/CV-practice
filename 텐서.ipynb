{
  "cells": [
    {
      "cell_type": "markdown",
      "metadata": {
        "colab_type": "text",
        "id": "view-in-github"
      },
      "source": [
        "<a href=\"https://colab.research.google.com/github/jihyeon602/DeepLearning_practice/blob/main/%ED%85%90%EC%84%9C.ipynb\" target=\"_parent\"><img src=\"https://colab.research.google.com/assets/colab-badge.svg\" alt=\"Open In Colab\"/></a>"
      ]
    },
    {
      "cell_type": "markdown",
      "metadata": {
        "id": "qFdPvlXBOdUN"
      },
      "source": [
        "# 텐서"
      ]
    },
    {
      "cell_type": "markdown",
      "metadata": {
        "id": "RhsS5ZT9UFkf"
      },
      "source": [
        "**참고**\n",
        "\n",
        "[Introduction to Tensors](https://www.tensorflow.org/guide/tensor)를 참고하였습니다."
      ]
    },
    {
      "cell_type": "markdown",
      "metadata": {
        "id": "MH08XGp_UFkg"
      },
      "source": [
        "**주요 내용**\n",
        "\n",
        "- 넘파이 어레이와 텐서\n",
        "- 텐서의 종류\n",
        "- 텐서의 모양, 랭크, 축, 크기\n",
        "- 텐서 연산\n",
        "- 텐서 변환"
      ]
    },
    {
      "cell_type": "markdown",
      "metadata": {
        "id": "h5G6Kyr8UFkg"
      },
      "source": [
        "## 넘파이 어레이와 텐서"
      ]
    },
    {
      "cell_type": "markdown",
      "metadata": {
        "id": "tg7DXSiyUFkg"
      },
      "source": [
        "MNIST 손글씨 데이터 분류 모델의 훈련에 사용된 훈련셋과 테스트셋은\n",
        "넘파이 어레이, 즉 `numpy.ndarray`(이하 `np.ndarray`) 자료형으로 저장된다.\n",
        "머신러닝에 사용되는 데이터셋은 일반적으로 넘파이 어레이와 같은\n",
        "**텐서**<font size='2'>tensor</font>에 저장된다."
      ]
    },
    {
      "cell_type": "markdown",
      "metadata": {
        "id": "ZxzqNFPRUFkg"
      },
      "source": [
        "텐서<font size='2'>tensor</font>는 데이터를 담은 모음 자료형을 가리키며\n",
        "넘파이 어레이가 대표적인 텐서이다.\n",
        "텐서플로우 라이브러리는 자체의 `Tensor` 자료형인 `tensorflow.Tensor`(이하 `tf.Tensor`)를 제공한다.\n",
        "`tf.Tensor`는 넘파이 어레이와 매우 유사하지만 GPU를 활용한 연산을 지원한다는 점에서 넘파이 어레이와 다르다.\n",
        "\n",
        "앞서 신경망 모델을 구성할 때처럼\n",
        "여기서는 `tensorflow.keras`를 기본 패키지로 사용하는데\n",
        "케라스 신경망 모델의 입력, 출력값으로 넘파이 어레이가 기본으로 사용된다.\n",
        "반면에 모델 훈련 과정을 실제로 관장하는 `tensorflow`의 API는 기본적으로 `tf.Tensor`를 모든 계산에 활용한다."
      ]
    },
    {
      "cell_type": "markdown",
      "metadata": {
        "id": "Pi_8z-qHUFkg"
      },
      "source": [
        "### 넘파이 어레이의 차원"
      ]
    },
    {
      "cell_type": "code",
      "execution_count": null,
      "metadata": {
        "id": "lS_2ekX4UFkh"
      },
      "outputs": [],
      "source": [
        "import tensorflow as tf\n",
        "import numpy as np"
      ]
    },
    {
      "cell_type": "markdown",
      "metadata": {
        "id": "2d4rmR6-UFkh"
      },
      "source": [
        "넘파이 어레이의 **차원**은 어레이 정의에 사용된 **축**<font size='2'>axis</font>의 개수로\n",
        "결정되며 **랭크**<font size='2'>rank</font>라 불리기도 한다."
      ]
    },
    {
      "cell_type": "markdown",
      "metadata": {
        "id": "v5yBYYffUFkh"
      },
      "source": [
        "**0차원(0D) 어레이**\n",
        "\n",
        "- 정수 한 개, 부동소수점 한 개 등 하나의 수를 표현하는 어레이.\n",
        "- **스칼라**<font size='2'>scalar</font>라고도 불림.\n",
        "- 축이 없는 0차원 어레이임."
      ]
    },
    {
      "cell_type": "code",
      "execution_count": null,
      "metadata": {
        "id": "CkfmV9ZxUFkh"
      },
      "outputs": [],
      "source": [
        "x0 = np.array(1.34)\n",
        "y0 = np.array(12)"
      ]
    },
    {
      "cell_type": "markdown",
      "metadata": {
        "id": "7xqNHzetUFkh"
      },
      "source": [
        "**1차원(1D) 어레이**\n",
        "\n",
        "- 1열로 나열된 값들의 리스트와 같은 형식의 어레이.\n",
        "- **벡터**<font size='2'>vector</font>로도 불리며 한 개의 축을 가짐."
      ]
    },
    {
      "cell_type": "code",
      "execution_count": null,
      "metadata": {
        "id": "dnSv0QbTUFki"
      },
      "outputs": [],
      "source": [
        "x1 = np.array([12, 3, 6, 14, 7])"
      ]
    },
    {
      "cell_type": "markdown",
      "metadata": {
        "id": "pk83a0cOUFki"
      },
      "source": [
        "**2차원(2D) 어레이**\n",
        "\n",
        "- 행<font size='2'>row</font>과 열<font size='2'>column</font> 두 개의 축을 가짐.\n",
        "- **행렬**<font size='2'>matrix</font>로도 불림."
      ]
    },
    {
      "cell_type": "code",
      "execution_count": null,
      "metadata": {
        "id": "sUWWTe0OUFki"
      },
      "outputs": [],
      "source": [
        "x2 = np.array([[5, 78, 2, 34, 0],\n",
        "               [6, 79, 3, 35, 1],\n",
        "               [7, 80, 4, 36, 2]])"
      ]
    },
    {
      "cell_type": "markdown",
      "metadata": {
        "id": "baf07-oiUFki"
      },
      "source": [
        "**3차원(3D) 어레이**\n",
        "\n",
        "- 행, 열, 깊이 세 개의 축 사용.\n",
        "- 컬러 이미지 등을 표현할 때 사용됨."
      ]
    },
    {
      "cell_type": "code",
      "execution_count": null,
      "metadata": {
        "id": "__4U0sq2UFki"
      },
      "outputs": [],
      "source": [
        "x3 = np.array([[[5.0, 7.8, 2.1],\n",
        "                [6.0, 7.9, 3],\n",
        "                [7, 8.0, 4],\n",
        "                [34, 0, 3.5],\n",
        "                [1, 3.6, 2]],\n",
        "\n",
        "\n",
        "               [[5, 7.8, 2],\n",
        "                [3.4, 0, 3.5],\n",
        "                [6, 7.9, 3],\n",
        "                [7, 8.0, 4],\n",
        "                [1, 3.6, 2]]])"
      ]
    },
    {
      "cell_type": "markdown",
      "metadata": {
        "id": "LH5kUODOUFki"
      },
      "source": [
        "**4차원(4D) 어레이**\n",
        "\n",
        "- 컬러 이미지로 구성된 데이터셋 등을 표현할 때 사용됨."
      ]
    },
    {
      "cell_type": "markdown",
      "metadata": {
        "id": "t3VXM4ZpUFki"
      },
      "source": [
        "이외에 5D, 6D 어레이 등도 실전에서 활용되지만 여기서는 다루지 않는다."
      ]
    },
    {
      "cell_type": "markdown",
      "metadata": {
        "id": "45O24G-7UFki"
      },
      "source": [
        ":::{admonition} 벡터의 차원\n",
        ":class: caution\n",
        "\n",
        "**벡터의 길이**를 **차원**이라 부르기도 한다.\n",
        "예를 들어, `np.array([12, 3, 6, 14, 7])`는 5차원 벡터다.\n",
        "따라서 벡터의 차원인지, 텐서의 차원인지 명확히 구분할 필요가 있다.\n",
        ":::"
      ]
    },
    {
      "cell_type": "markdown",
      "metadata": {
        "id": "blFJoHqbUFki"
      },
      "source": [
        "### 넘파이 어레이 주요 속성"
      ]
    },
    {
      "cell_type": "markdown",
      "metadata": {
        "id": "pZqvJPBbUFki"
      },
      "source": [
        "넘파이 어레이가 갖는 주요 특성 세 개는 다음과 같다."
      ]
    },
    {
      "cell_type": "markdown",
      "metadata": {
        "id": "Z5_DdTtFUFki"
      },
      "source": [
        "**`ndim` 속성**\n",
        "\n",
        "- 텐서의 차원 저장."
      ]
    },
    {
      "cell_type": "code",
      "execution_count": null,
      "metadata": {
        "id": "t-X83ieBUFkj",
        "outputId": "557ef883-3ced-4871-8c08-deab7a1078a7"
      },
      "outputs": [
        {
          "name": "stdout",
          "output_type": "stream",
          "text": [
            "0\n",
            "1\n",
            "2\n",
            "3\n"
          ]
        }
      ],
      "source": [
        "print(x0.ndim, x1.ndim, x2.ndim, x3.ndim, sep='\\n')"
      ]
    },
    {
      "cell_type": "markdown",
      "metadata": {
        "id": "lXnnzsu5UFkj"
      },
      "source": [
        "**`shape` 속성**\n",
        "\n",
        "- 텐서의 모양을 튜플로 저장.\n",
        "- 각 항목은 축(axis)별로 사용된 텐서의 크기를 가리킴."
      ]
    },
    {
      "cell_type": "code",
      "execution_count": null,
      "metadata": {
        "id": "xu4pYsoyUFkj",
        "outputId": "33c57e73-c5d2-408b-d856-7521d4752e02"
      },
      "outputs": [
        {
          "name": "stdout",
          "output_type": "stream",
          "text": [
            "()\n",
            "(5,)\n",
            "(3, 5)\n",
            "(2, 5, 3)\n"
          ]
        }
      ],
      "source": [
        "print(x0.shape, x1.shape, x2.shape, x3.shape, sep='\\n')"
      ]
    },
    {
      "cell_type": "markdown",
      "metadata": {
        "id": "D8wwr963UFkj"
      },
      "source": [
        "**`dtype` 속성**\n",
        "\n",
        "- 텐서에 포함된 항목의 통일된 자료형.\n",
        "- `float16`, `float32`,`float64`, `int8`, `uint8`, `string` 등이 가장 많이 사용됨."
      ]
    },
    {
      "cell_type": "code",
      "execution_count": null,
      "metadata": {
        "id": "-iMzCqbPUFkj",
        "outputId": "d1f9262a-914b-433e-da06-c54e775c4a3c"
      },
      "outputs": [
        {
          "name": "stdout",
          "output_type": "stream",
          "text": [
            "float64\n",
            "int64\n",
            "int64\n",
            "float64\n"
          ]
        }
      ],
      "source": [
        "print(x0.dtype, x1.dtype, x2.dtype, x3.dtype, sep='\\n')"
      ]
    },
    {
      "cell_type": "markdown",
      "metadata": {
        "id": "X_aLTCzYUFkj"
      },
      "source": [
        "### 넘파이 어레이 실전 예제"
      ]
    },
    {
      "cell_type": "markdown",
      "metadata": {
        "id": "srxAkwbSUFkj"
      },
      "source": [
        "**2D 어레이 데이터셋**"
      ]
    },
    {
      "cell_type": "markdown",
      "metadata": {
        "id": "YRrd8xz2UFkj"
      },
      "source": [
        "각각의 샘플이 지정된 개수의 특성으로 구성된 벡터로 표현된다.\n",
        "전체 데이터셋은 `(샘플 수, 특성 수)` 모양의 2D 텐서로 표현된다.\n",
        "예를 들어 [캘리포니아 구역별 인구조사 데이터셋](https://codingalzi.github.io/handson-ml3/end2end_ml_project.html)이\n",
        "일반적으로 2D 어레이로 제공된다.\n",
        "- 샘플: 10개의 특성 사용. 따라서 `(10,)` 모양의 벡터로 표현됨.\n",
        "- 데이터셋: 20,640개의 구역별 데이터 포함. 따라서 `(20640, 10)` 모양의 2D 어레이로 표현 가능.\n",
        "    <br>\n",
        "    <img src=\"https://raw.githubusercontent.com/codingalzi/handson-ml3/master/jupyter-book/imgs/ch02/housing-data.png\" style=\"width:600px;\">"
      ]
    },
    {
      "cell_type": "markdown",
      "metadata": {
        "id": "Mj7fDLirUFkj"
      },
      "source": [
        "**3D 어레이 데이터셋**"
      ]
    },
    {
      "cell_type": "markdown",
      "metadata": {
        "id": "usGv_dzUUFkj"
      },
      "source": [
        "흑백 손글씨 사진으로 구성된 MNIST 데이터셋이 대표적이다.\n",
        "\n",
        "- 샘플: `28x28` 크기의 (흑백) 손글씨 사진.\n",
        "    `(28, 28)` 모양의 2D 텐서로 표현 가능.\n",
        "- MNIST 훈련 데이터셋: 총 6만개의 (흑백) 손글씨 사진으로 구성됨.\n",
        "    `(60000, 28, 28)` 모양의 3D 어레이로 표현 가능."
      ]
    },
    {
      "cell_type": "markdown",
      "metadata": {
        "id": "SXfa2VW7UFkj"
      },
      "source": [
        "**4D 텐서 실전 활용 예제**"
      ]
    },
    {
      "cell_type": "markdown",
      "metadata": {
        "id": "u3bAo4fdUFkk"
      },
      "source": [
        "컬러 사진으로 구성된 데이터셋은\n",
        "`(샘플 수, 높이, 너비, 채널 수)` 또는 `(샘플 수, 채널 수, 높이, 너비)`\n",
        "모양의 4D 텐서로 표현된다.\n",
        "\n",
        "RGB를 사용하는 컬러 어미지는 3개의 커널을, 흑백 사진은 1개의 채널을 갖는다.\n",
        "예를 들어 `256x256` 크기의 컬러 사진 128개를 갖는 데이터셋은\n",
        "`(128, 256, 256, 3)` 모양 4D 텐서로 표현된다."
      ]
    },
    {
      "cell_type": "markdown",
      "metadata": {
        "id": "xU5FDBiBUFkk"
      },
      "source": [
        "<div align=\"center\"><img src=\"https://drek4537l1klr.cloudfront.net/chollet2/v-7/Figures/ch02-image_data.png\" style=\"width:350px;\"></div>\n",
        "\n",
        "<p><div style=\"text-align: center\">&lt;그림 출처: <a href=\"https://www.manning.com/books/deep-learning-with-python-second-edition\">Deep Learning with Python(2판)</a>&gt;</div></p>"
      ]
    },
    {
      "cell_type": "markdown",
      "metadata": {
        "id": "dHpf1ReeUFkk"
      },
      "source": [
        "반면에 `28x28` 크기의 흑백 사진 128개를 갖는 데이터셋 또는 배치는\n",
        "`(128, 28, 28, 1)` 모양 4D 텐서로 표현된다.\n",
        "하지만 MNIST의 경우처럼 흑백 사진 데이터셋은 일반적으로 3D 어레이로 표현한다."
      ]
    },
    {
      "cell_type": "markdown",
      "metadata": {
        "id": "TPl7tN7qFAG2"
      },
      "source": [
        "## 텐서플로우의 텐서"
      ]
    },
    {
      "cell_type": "markdown",
      "metadata": {
        "id": "ndQbmG6DFAG2"
      },
      "source": [
        "텐서플로우는 두 종류의 텐서 자료형을 지원한다.\n",
        "\n",
        "- 불변 텐서: `tf.Tensor` 자료형\n",
        "    - 입출력 데이터 등 변하지 않는 값을 다룰 때 사용.\n",
        "    - 불변 자료형\n",
        "- 가변 텐서: `tf.Variable` 자료형\n",
        "    - 모델의 가중치, 편향 등 항목의 업데이트가 필요할 때 사용되는 텐서.\n",
        "    - 가변 자료형\n",
        "\n",
        "사용법은 기본적으로 넘파이 어레이와 유사하며, GPU 연산과 그레이디언트 자동계산, 빅데이터 처리 등\n",
        "신경망 모델 훈련에 최적화된 기능을 제공한다."
      ]
    },
    {
      "cell_type": "markdown",
      "metadata": {
        "id": "H5vru5j1FAG2"
      },
      "source": [
        "### 불변 텐서"
      ]
    },
    {
      "cell_type": "markdown",
      "metadata": {
        "id": "m0vwISUoFAG3"
      },
      "source": [
        "불변 텐서를 다양한 방식으로 생성할 수 있다.\n",
        "아래 코드는 직접 불변 텐서의 모양과 항목을 지정한다."
      ]
    },
    {
      "cell_type": "code",
      "execution_count": null,
      "metadata": {
        "colab": {
          "base_uri": "https://localhost:8080/"
        },
        "id": "Ik-7kgRvFAG3",
        "outputId": "5e6203c3-d986-438e-de77-3de29930ccde"
      },
      "outputs": [
        {
          "name": "stdout",
          "output_type": "stream",
          "text": [
            "tf.Tensor(\n",
            "[[1. 2.]\n",
            " [3. 4.]], shape=(2, 2), dtype=float32)\n"
          ]
        }
      ],
      "source": [
        "x = tf.constant([[1., 2.], [3., 4.]])\n",
        "print(x)"
      ]
    },
    {
      "cell_type": "markdown",
      "metadata": {
        "id": "RWRNWl6ZFAG4"
      },
      "source": [
        "넘파이 어레이의 경우와 거의 유사하게 다양한 불변 텐서를 생성하는 함수들이 제공된다.\n",
        "`tf.ones()` 함수는 1로만 이루어진 불변 텐서를 생성한다."
      ]
    },
    {
      "cell_type": "code",
      "execution_count": null,
      "metadata": {
        "colab": {
          "base_uri": "https://localhost:8080/"
        },
        "id": "i9cKkurOFAG4",
        "outputId": "5208ce93-96ca-49a0-f184-28a23df68a27"
      },
      "outputs": [
        {
          "name": "stdout",
          "output_type": "stream",
          "text": [
            "tf.Tensor(\n",
            "[[1.]\n",
            " [1.]], shape=(2, 1), dtype=float32)\n"
          ]
        }
      ],
      "source": [
        "x = tf.ones(shape=(2, 1))\n",
        "print(x)"
      ]
    },
    {
      "cell_type": "markdown",
      "metadata": {
        "id": "G7j6TGhMFAG4"
      },
      "source": [
        "반면에 `tf.zeros()` 텐서는 0으로만 이루어진 불변 텐서를 생성한다."
      ]
    },
    {
      "cell_type": "code",
      "execution_count": null,
      "metadata": {
        "colab": {
          "base_uri": "https://localhost:8080/"
        },
        "id": "RnQI7pjoFAG4",
        "outputId": "36a7a2c3-b07f-46d8-d571-aec48ab40bc1"
      },
      "outputs": [
        {
          "name": "stdout",
          "output_type": "stream",
          "text": [
            "tf.Tensor(\n",
            "[[0.]\n",
            " [0.]], shape=(2, 1), dtype=float32)\n"
          ]
        }
      ],
      "source": [
        "x = tf.zeros(shape=(2, 1))\n",
        "print(x)"
      ]
    },
    {
      "cell_type": "markdown",
      "metadata": {
        "id": "jObv20fhFAG4"
      },
      "source": [
        "확률적 통계 분포를 따르는 항목으로 구성된 불변 텐서를 생성하는 함수는 딥러닝에서 매우 유용하다."
      ]
    },
    {
      "cell_type": "markdown",
      "metadata": {
        "id": "IhYg7coSFAG4"
      },
      "source": [
        "- `normal()` 함수: 평균값(`mean`)과 표준편차(`stddev`)를 지정하면 해당 정규분포를 따르는 항목들을 이용하여\n",
        "원하는 모양의 불변 텐서를 생성한다."
      ]
    },
    {
      "cell_type": "code",
      "execution_count": null,
      "metadata": {
        "colab": {
          "base_uri": "https://localhost:8080/"
        },
        "id": "Sbkziq-8FAG5",
        "outputId": "30a65b88-c0d9-44aa-d64c-0685d39beb09"
      },
      "outputs": [
        {
          "name": "stdout",
          "output_type": "stream",
          "text": [
            "tf.Tensor(\n",
            "[[ 0.23775762]\n",
            " [-1.3753685 ]\n",
            " [-2.166317  ]], shape=(3, 1), dtype=float32)\n"
          ]
        }
      ],
      "source": [
        "x = tf.random.normal(shape=(3, 1), mean=0., stddev=1.)\n",
        "print(x)"
      ]
    },
    {
      "cell_type": "markdown",
      "metadata": {
        "id": "-zqwCJ7hFAG5"
      },
      "source": [
        "- `uniform()` 함수: 지정된 구간 최솟값(`minval`)과 최댓값(`maxval`) 사이에서 균등분포를 따르는 항목들을 이용하여 불변 텐서를 생성한다."
      ]
    },
    {
      "cell_type": "code",
      "execution_count": null,
      "metadata": {
        "colab": {
          "base_uri": "https://localhost:8080/"
        },
        "id": "qmYorXi5FAG5",
        "outputId": "06edee6b-0c9b-4243-d03f-54cdfc969fa3"
      },
      "outputs": [
        {
          "name": "stdout",
          "output_type": "stream",
          "text": [
            "tf.Tensor(\n",
            "[[0.22281778]\n",
            " [0.28075564]\n",
            " [0.9108522 ]], shape=(3, 1), dtype=float32)\n"
          ]
        }
      ],
      "source": [
        "x = tf.random.uniform(shape=(3, 1), minval=0., maxval=1.)\n",
        "print(x)"
      ]
    },
    {
      "cell_type": "markdown",
      "metadata": {
        "id": "CV8pyHNnFAG5"
      },
      "source": [
        "**불변 텐서의 수정 불가능성**"
      ]
    },
    {
      "cell_type": "markdown",
      "metadata": {
        "id": "K-bMeTbTFAG5"
      },
      "source": [
        "한 번 생성된 불변 텐서는 수정이 불가능하다.\n",
        "예를 들어 인덱싱으로 항목을 수정할 수 없다."
      ]
    },
    {
      "cell_type": "code",
      "execution_count": null,
      "metadata": {
        "id": "Vg5KyONiFAG6",
        "outputId": "0cbc644d-8c70-4fe2-e21e-5ff676a3aa4a"
      },
      "outputs": [
        {
          "ename": "TypeError",
          "evalue": "'tensorflow.python.framework.ops.EagerTensor' object does not support item assignment",
          "output_type": "error",
          "traceback": [
            "\u001b[0;31m---------------------------------------------------------------------------\u001b[0m",
            "\u001b[0;31mTypeError\u001b[0m                                 Traceback (most recent call last)",
            "Cell \u001b[0;32mIn[14], line 1\u001b[0m\n\u001b[0;32m----> 1\u001b[0m x[\u001b[38;5;241m0\u001b[39m, \u001b[38;5;241m0\u001b[39m] \u001b[38;5;241m=\u001b[39m \u001b[38;5;241m1.0\u001b[39m\n",
            "\u001b[0;31mTypeError\u001b[0m: 'tensorflow.python.framework.ops.EagerTensor' object does not support item assignment"
          ]
        }
      ],
      "source": [
        "x[0, 0] = 1.0"
      ]
    },
    {
      "cell_type": "markdown",
      "metadata": {
        "id": "Ll1rQVG3FAG6"
      },
      "source": [
        "반면에 넘파이 어레이는 수정이 가능하다."
      ]
    },
    {
      "cell_type": "code",
      "execution_count": null,
      "metadata": {
        "colab": {
          "base_uri": "https://localhost:8080/"
        },
        "id": "l5lUVJ3bFAG6",
        "outputId": "a18e4480-b231-429c-b5d6-e525e1fafac9"
      },
      "outputs": [
        {
          "name": "stdout",
          "output_type": "stream",
          "text": [
            "[[0. 1.]\n",
            " [1. 1.]]\n"
          ]
        }
      ],
      "source": [
        "import numpy as np\n",
        "\n",
        "y = np.ones(shape=(2, 2))\n",
        "y[0, 0] = 0.0\n",
        "print(y)"
      ]
    },
    {
      "cell_type": "markdown",
      "metadata": {
        "id": "VujYaZeAFAG7"
      },
      "source": [
        "### 가변 텐서"
      ]
    },
    {
      "cell_type": "markdown",
      "metadata": {
        "id": "DDnj9VdMFAG7"
      },
      "source": [
        "`tf.Variaible` 객체는 항목을 수정할 수 있는 가변 텐서다.\n",
        "아래 코드는 정규 분포를 이용하여 (3. 1) 모양의 가변 텐서를 생성한다."
      ]
    },
    {
      "cell_type": "code",
      "execution_count": 1,
      "metadata": {
        "colab": {
          "base_uri": "https://localhost:8080/"
        },
        "id": "0aTLKr4mFAG7",
        "outputId": "69422e5c-3eaa-421d-d941-350ee753dcef"
      },
      "outputs": [
        {
          "ename": "NameError",
          "evalue": "name 'tf' is not defined",
          "output_type": "error",
          "traceback": [
            "\u001b[1;31m---------------------------------------------------------------------------\u001b[0m",
            "\u001b[1;31mNameError\u001b[0m                                 Traceback (most recent call last)",
            "Cell \u001b[1;32mIn[1], line 1\u001b[0m\n\u001b[1;32m----> 1\u001b[0m v \u001b[38;5;241m=\u001b[39m tf\u001b[38;5;241m.\u001b[39mVariable(initial_value\u001b[38;5;241m=\u001b[39mtf\u001b[38;5;241m.\u001b[39mrandom\u001b[38;5;241m.\u001b[39mnormal(shape\u001b[38;5;241m=\u001b[39m(\u001b[38;5;241m3\u001b[39m, \u001b[38;5;241m1\u001b[39m)))\n\u001b[0;32m      2\u001b[0m \u001b[38;5;28mprint\u001b[39m(v)\n",
            "\u001b[1;31mNameError\u001b[0m: name 'tf' is not defined"
          ]
        }
      ],
      "source": [
        "v = tf.Variable(initial_value=tf.random.normal(shape=(3, 1)))\n",
        "print(v)"
      ]
    },
    {
      "cell_type": "markdown",
      "metadata": {
        "id": "3cHdR9y3FAG7"
      },
      "source": [
        "**가변 텐서 대체**"
      ]
    },
    {
      "cell_type": "markdown",
      "metadata": {
        "id": "3UhHAaaIFAG7"
      },
      "source": [
        "`assign()` 메서드는 해당 텐서를 통째로 모양이 동일한 다른 텐서로 대체한다."
      ]
    },
    {
      "cell_type": "code",
      "execution_count": null,
      "metadata": {
        "colab": {
          "base_uri": "https://localhost:8080/"
        },
        "id": "x6Q4b_S6FAG7",
        "outputId": "b8bfc8de-6547-4534-fd15-bca4e3edcf56"
      },
      "outputs": [
        {
          "data": {
            "text/plain": [
              "<tf.Variable 'UnreadVariable' shape=(3, 1) dtype=float32, numpy=\n",
              "array([[1.],\n",
              "       [1.],\n",
              "       [1.]], dtype=float32)>"
            ]
          },
          "execution_count": 17,
          "metadata": {},
          "output_type": "execute_result"
        }
      ],
      "source": [
        "v.assign(tf.ones((3, 1)))"
      ]
    },
    {
      "cell_type": "markdown",
      "metadata": {
        "id": "QpdPpCRGFAG7"
      },
      "source": [
        "단, 대체하는 텐서의 모양(shape)이 기존 텐서의 모양과 동일해야 한다."
      ]
    },
    {
      "cell_type": "code",
      "execution_count": null,
      "metadata": {
        "id": "mCCnDJrXFAG8",
        "outputId": "4e78c913-7153-48b4-c54c-55a548309da2"
      },
      "outputs": [
        {
          "ename": "ValueError",
          "evalue": "Cannot assign value to variable ' Variable:0': Shape mismatch.The variable shape (3, 1), and the assigned value shape (3, 2) are incompatible.",
          "output_type": "error",
          "traceback": [
            "\u001b[0;31m---------------------------------------------------------------------------\u001b[0m",
            "\u001b[0;31mValueError\u001b[0m                                Traceback (most recent call last)",
            "Cell \u001b[0;32mIn[18], line 1\u001b[0m\n\u001b[0;32m----> 1\u001b[0m v\u001b[38;5;241m.\u001b[39massign(tf\u001b[38;5;241m.\u001b[39mones((\u001b[38;5;241m3\u001b[39m, \u001b[38;5;241m2\u001b[39m)))\n",
            "File \u001b[0;32m~/miniconda3/lib/python3.12/site-packages/tensorflow/python/ops/weak_tensor_ops.py:142\u001b[0m, in \u001b[0;36mweak_tensor_binary_op_wrapper.<locals>.wrapper\u001b[0;34m(*args, **kwargs)\u001b[0m\n\u001b[1;32m    140\u001b[0m \u001b[38;5;28;01mdef\u001b[39;00m \u001b[38;5;21mwrapper\u001b[39m(\u001b[38;5;241m*\u001b[39margs, \u001b[38;5;241m*\u001b[39m\u001b[38;5;241m*\u001b[39mkwargs):\n\u001b[1;32m    141\u001b[0m   \u001b[38;5;28;01mif\u001b[39;00m \u001b[38;5;129;01mnot\u001b[39;00m ops\u001b[38;5;241m.\u001b[39mis_auto_dtype_conversion_enabled():\n\u001b[0;32m--> 142\u001b[0m     \u001b[38;5;28;01mreturn\u001b[39;00m op(\u001b[38;5;241m*\u001b[39margs, \u001b[38;5;241m*\u001b[39m\u001b[38;5;241m*\u001b[39mkwargs)\n\u001b[1;32m    143\u001b[0m   bound_arguments \u001b[38;5;241m=\u001b[39m signature\u001b[38;5;241m.\u001b[39mbind(\u001b[38;5;241m*\u001b[39margs, \u001b[38;5;241m*\u001b[39m\u001b[38;5;241m*\u001b[39mkwargs)\n\u001b[1;32m    144\u001b[0m   bound_arguments\u001b[38;5;241m.\u001b[39mapply_defaults()\n",
            "File \u001b[0;32m~/miniconda3/lib/python3.12/site-packages/tensorflow/python/ops/resource_variable_ops.py:1085\u001b[0m, in \u001b[0;36mBaseResourceVariable.assign\u001b[0;34m(self, value, use_locking, name, read_value)\u001b[0m\n\u001b[1;32m   1083\u001b[0m   \u001b[38;5;28;01melse\u001b[39;00m:\n\u001b[1;32m   1084\u001b[0m     tensor_name \u001b[38;5;241m=\u001b[39m \u001b[38;5;124m\"\u001b[39m\u001b[38;5;124m \u001b[39m\u001b[38;5;124m\"\u001b[39m \u001b[38;5;241m+\u001b[39m \u001b[38;5;28mstr\u001b[39m(\u001b[38;5;28mself\u001b[39m\u001b[38;5;241m.\u001b[39mname)\n\u001b[0;32m-> 1085\u001b[0m   \u001b[38;5;28;01mraise\u001b[39;00m \u001b[38;5;167;01mValueError\u001b[39;00m(\n\u001b[1;32m   1086\u001b[0m       (\u001b[38;5;124mf\u001b[39m\u001b[38;5;124m\"\u001b[39m\u001b[38;5;124mCannot assign value to variable \u001b[39m\u001b[38;5;124m'\u001b[39m\u001b[38;5;132;01m{\u001b[39;00mtensor_name\u001b[38;5;132;01m}\u001b[39;00m\u001b[38;5;124m'\u001b[39m\u001b[38;5;124m: Shape mismatch.\u001b[39m\u001b[38;5;124m\"\u001b[39m\n\u001b[1;32m   1087\u001b[0m        \u001b[38;5;124mf\u001b[39m\u001b[38;5;124m\"\u001b[39m\u001b[38;5;124mThe variable shape \u001b[39m\u001b[38;5;132;01m{\u001b[39;00m\u001b[38;5;28mself\u001b[39m\u001b[38;5;241m.\u001b[39m_shape\u001b[38;5;132;01m}\u001b[39;00m\u001b[38;5;124m, and the \u001b[39m\u001b[38;5;124m\"\u001b[39m\n\u001b[1;32m   1088\u001b[0m        \u001b[38;5;124mf\u001b[39m\u001b[38;5;124m\"\u001b[39m\u001b[38;5;124massigned value shape \u001b[39m\u001b[38;5;132;01m{\u001b[39;00mvalue_tensor\u001b[38;5;241m.\u001b[39mshape\u001b[38;5;132;01m}\u001b[39;00m\u001b[38;5;124m are incompatible.\u001b[39m\u001b[38;5;124m\"\u001b[39m))\n\u001b[1;32m   1089\u001b[0m kwargs \u001b[38;5;241m=\u001b[39m {}\n\u001b[1;32m   1090\u001b[0m \u001b[38;5;28;01mif\u001b[39;00m forward_compat\u001b[38;5;241m.\u001b[39mforward_compatible(\u001b[38;5;241m2022\u001b[39m, \u001b[38;5;241m3\u001b[39m, \u001b[38;5;241m23\u001b[39m):\n\u001b[1;32m   1091\u001b[0m   \u001b[38;5;66;03m# If the shape is fully defined, we do a runtime check with the shape of\u001b[39;00m\n\u001b[1;32m   1092\u001b[0m   \u001b[38;5;66;03m# value.\u001b[39;00m\n",
            "\u001b[0;31mValueError\u001b[0m: Cannot assign value to variable ' Variable:0': Shape mismatch.The variable shape (3, 1), and the assigned value shape (3, 2) are incompatible."
          ]
        }
      ],
      "source": [
        "v.assign(tf.ones((3, 2)))"
      ]
    },
    {
      "cell_type": "markdown",
      "metadata": {
        "id": "jdwzz0TTFAG8"
      },
      "source": [
        "**가변 텐서 항목 수정**"
      ]
    },
    {
      "cell_type": "markdown",
      "metadata": {
        "id": "Hj152rUhFAG8"
      },
      "source": [
        "가변 텐서의 특정 항목을 수정하려면 인덱싱과 `assign()` 메서드를 함께 사용한다."
      ]
    },
    {
      "cell_type": "code",
      "execution_count": null,
      "metadata": {
        "colab": {
          "base_uri": "https://localhost:8080/"
        },
        "id": "AEVgeGYIFAG8",
        "outputId": "8236ec7e-bf07-4eb2-929a-60a50861cbc8"
      },
      "outputs": [
        {
          "data": {
            "text/plain": [
              "<tf.Variable 'UnreadVariable' shape=(3, 1) dtype=float32, numpy=\n",
              "array([[3.],\n",
              "       [1.],\n",
              "       [1.]], dtype=float32)>"
            ]
          },
          "execution_count": 19,
          "metadata": {},
          "output_type": "execute_result"
        }
      ],
      "source": [
        "v[0, 0].assign(3.)"
      ]
    },
    {
      "cell_type": "markdown",
      "metadata": {
        "id": "X-gFG2uaFAG_"
      },
      "source": [
        "* `assign_add()`와 `assign_sub()`"
      ]
    },
    {
      "cell_type": "markdown",
      "metadata": {
        "id": "CYM5RzvMFAHA"
      },
      "source": [
        "`assign_sub()` 메서드는 `-=` 연산자,\n",
        "`assign_add()` 메서드는 `+=` 연산자의 기능을 갖는다.\n",
        "특히 `assign_sub()` 메서드가 경사하강법 적용과정에서 가중치와 편향 텐서를 업데이트할 때 사용된다."
      ]
    },
    {
      "cell_type": "code",
      "execution_count": null,
      "metadata": {
        "colab": {
          "base_uri": "https://localhost:8080/"
        },
        "id": "M-42Xd2hFAHA",
        "outputId": "3d0dcab7-a8d1-4dad-efd6-2a75f12fee7f"
      },
      "outputs": [
        {
          "data": {
            "text/plain": [
              "<tf.Variable 'UnreadVariable' shape=(3, 1) dtype=float32, numpy=\n",
              "array([[2.],\n",
              "       [0.],\n",
              "       [0.]], dtype=float32)>"
            ]
          },
          "execution_count": 20,
          "metadata": {},
          "output_type": "execute_result"
        }
      ],
      "source": [
        "v.assign_sub(tf.ones((3, 1)))"
      ]
    },
    {
      "cell_type": "markdown",
      "metadata": {
        "id": "DRK5-9EpYbzG"
      },
      "source": [
        "### 차원과 모양"
      ]
    },
    {
      "cell_type": "markdown",
      "metadata": {
        "id": "wkxAMkfsUFkq"
      },
      "source": [
        "텐서틀로우 텐서의 기본 성질과 활용법을 간단하게 살펴 본다.\n",
        "불변 텐서를 이용하지만 가변 텐서에 대해서도 기본적으로 동일하게 작동한다.\n",
        "텐서의 차원은 넘파이 어레이의 경우처럼 텐서에 사용되는 축<font size='2'>axis</font>의 개수로 지정되며,\n",
        "생성된 텐서의 모양<font size='2'>shape</font>은 텐서 자체에 속성으로 저장된다.\n",
        "또한 텐서의 차원은 모양을 가리키는 튜플의 크기와 동일하다."
      ]
    },
    {
      "cell_type": "markdown",
      "metadata": {
        "id": "uSHRFT6LJbxq"
      },
      "source": [
        "**스칼라: 0차원 텐서**"
      ]
    },
    {
      "cell_type": "code",
      "execution_count": null,
      "metadata": {
        "colab": {
          "base_uri": "https://localhost:8080/"
        },
        "id": "d5JcgLFR6gHv",
        "outputId": "271a0645-75a9-41e2-e2bd-a43564b24258"
      },
      "outputs": [
        {
          "name": "stdout",
          "output_type": "stream",
          "text": [
            "tf.Tensor(4, shape=(), dtype=int32)\n",
            "\n",
            "차원: 0\n",
            "모양: ()\n",
            "항목 자료형: <dtype: 'int32'>\n"
          ]
        }
      ],
      "source": [
        "d0_tensor = tf.constant(4)\n",
        "\n",
        "print(d0_tensor)\n",
        "print()\n",
        "\n",
        "print(\"차원:\", d0_tensor.ndim)\n",
        "print(\"모양:\", d0_tensor.shape)\n",
        "print(\"항목 자료형:\", d0_tensor.dtype)"
      ]
    },
    {
      "cell_type": "markdown",
      "metadata": {
        "id": "tdmPAn9fWYs5"
      },
      "source": [
        "**벡터: 1차원 텐서**"
      ]
    },
    {
      "cell_type": "code",
      "execution_count": null,
      "metadata": {
        "colab": {
          "base_uri": "https://localhost:8080/"
        },
        "id": "oZos8o_R6oE7",
        "outputId": "dd6b1d32-0a05-49e5-a63d-a738306faf73"
      },
      "outputs": [
        {
          "name": "stdout",
          "output_type": "stream",
          "text": [
            "tf.Tensor([2. 3. 4.], shape=(3,), dtype=float32)\n",
            "\n",
            "차원: 1\n",
            "모양: (3,)\n",
            "항목 자료형: <dtype: 'float32'>\n"
          ]
        }
      ],
      "source": [
        "d1_tensor = tf.constant([2.0, 3.0, 4.0])\n",
        "\n",
        "print(d1_tensor)\n",
        "print()\n",
        "\n",
        "print(\"차원:\", d1_tensor.ndim)\n",
        "print(\"모양:\", d1_tensor.shape)\n",
        "print(\"항목 자료형:\", d1_tensor.dtype)"
      ]
    },
    {
      "cell_type": "markdown",
      "metadata": {
        "id": "G3IJG-ug_H4u"
      },
      "source": [
        "**행렬: 2차원 텐서**\n",
        "\n",
        "아래 `d2_tensor`는 `dtype` 키워드 인자를 이용하여 자료형을 `tf.int16`으로 지정하였다."
      ]
    },
    {
      "cell_type": "code",
      "execution_count": null,
      "metadata": {
        "colab": {
          "base_uri": "https://localhost:8080/"
        },
        "id": "cnOIA_xb6u0M",
        "outputId": "78b93a9c-f30c-42ab-d06f-3ac7095c2afa"
      },
      "outputs": [
        {
          "name": "stdout",
          "output_type": "stream",
          "text": [
            "tf.Tensor(\n",
            "[[1 2]\n",
            " [3 4]\n",
            " [5 6]], shape=(3, 2), dtype=int16)\n",
            "\n",
            "차원: 2\n",
            "모양: (3, 2)\n",
            "항목 자료형: <dtype: 'int16'>\n"
          ]
        }
      ],
      "source": [
        "d2_tensor = tf.constant([[1, 2],\n",
        "                         [3, 4],\n",
        "                         [5, 6]], dtype=tf.int16)\n",
        "\n",
        "print(d2_tensor)\n",
        "print()\n",
        "\n",
        "print(\"차원:\", d2_tensor.ndim)\n",
        "print(\"모양:\", d2_tensor.shape)\n",
        "print(\"항목 자료형:\", d2_tensor.dtype)"
      ]
    },
    {
      "cell_type": "markdown",
      "metadata": {
        "id": "MSz9YbwDUFkq"
      },
      "source": [
        "`dtype`을 지정하지 않았다면 `d0_tensor`의 경우처럼 `int32`로\n",
        "`dtype`이 자동 지정되었을 것이다.\n",
        "참고로 `int32`는 `int16` 보다 보다 큰 정수를 다룰 수 있으며\n",
        "따라서 보다 많은 메모리와 계산 시간이 소비된다.\n",
        "\n",
        "딥러닝 모델은 경우에 따라 매우 큰 텐서 연산을 실행해야 하기에\n",
        "계산의 시간적, 공간적 효율성이 매우 중요하다.\n",
        "따라서 반드시 필요한 만큼의 메모리를 확보하는\n",
        "`dtype`을 지정하는 일이 중요하다."
      ]
    },
    {
      "cell_type": "code",
      "execution_count": null,
      "metadata": {
        "colab": {
          "base_uri": "https://localhost:8080/"
        },
        "id": "EBoWLHX2UFkq",
        "outputId": "78b93a9c-f30c-42ab-d06f-3ac7095c2afa"
      },
      "outputs": [
        {
          "name": "stdout",
          "output_type": "stream",
          "text": [
            "tf.Tensor(\n",
            "[[1 2]\n",
            " [3 4]\n",
            " [5 6]], shape=(3, 2), dtype=int32)\n"
          ]
        }
      ],
      "source": [
        "d2_tensor = tf.constant([[1, 2],\n",
        "                         [3, 4],\n",
        "                         [5, 6]])\n",
        "\n",
        "print(d2_tensor)"
      ]
    },
    {
      "cell_type": "markdown",
      "metadata": {
        "id": "GTJyzLFG1-Vz"
      },
      "source": [
        "언급된 세 개의 텐서를 그림으로 나타내면 다음과 같다."
      ]
    },
    {
      "cell_type": "markdown",
      "metadata": {
        "id": "19m72qEPkfxi"
      },
      "source": [
        "<table>\n",
        "<tr>\n",
        "  <th>스칼라, 모양: <code>[]</code> </th>\n",
        "  <th>벡터, 모양: <code>[3]</code> </th>\n",
        "  <th>행렬, 모양: <code>[3, 2]</code> </th>\n",
        "</tr>\n",
        "<tr>\n",
        "  <td>    <img src=\"https://raw.githubusercontent.com/tensorflow/docs/master/site/en/guide/images/tensor/scalar.png\" alt=\"A scalar, the number 4\"> </td>\n",
        "  <td>    <img src=\"https://raw.githubusercontent.com/tensorflow/docs/master/site/en/guide/images/tensor/vector.png\" alt=\"The line with 3 sections, each one containing a number.\">   </td>\n",
        "  <td>    <img src=\"https://raw.githubusercontent.com/tensorflow/docs/master/site/en/guide/images/tensor/matrix.png\" alt=\"A 3x2 grid, with each cell containing a number.\">   </td>\n",
        "</tr>\n",
        "</table>\n"
      ]
    },
    {
      "cell_type": "markdown",
      "metadata": {
        "id": "fjFvzcn4_ehD"
      },
      "source": [
        "**3차원 텐서**\n",
        "\n",
        "세 개의 축을 사용한다."
      ]
    },
    {
      "cell_type": "code",
      "execution_count": null,
      "metadata": {
        "id": "sesW7gw6JkXy"
      },
      "outputs": [],
      "source": [
        "d3_tensor = tf.constant([[[0, 1, 2, 3, 4],\n",
        "                          [5, 6, 7, 8, 9]],\n",
        "                         [[10, 11, 12, 13, 14],\n",
        "                          [15, 16, 17, 18, 19]],\n",
        "                         [[20, 21, 22, 23, 24],\n",
        "                          [25, 26, 27, 28, 29]]\n",
        "                        ])"
      ]
    },
    {
      "cell_type": "markdown",
      "metadata": {
        "id": "jL8vtmlPEPc2"
      },
      "source": [
        "3차원 텐서의 모양은 다음과 같이 세 개의 축 각각에 사용된 항목의 수로 구성된\n",
        "길이가 3인 리스트처럼 생겼다."
      ]
    },
    {
      "cell_type": "code",
      "execution_count": null,
      "metadata": {
        "colab": {
          "base_uri": "https://localhost:8080/"
        },
        "id": "bwJOO9393pZU",
        "outputId": "8689ad78-d819-4c65-dfc8-913dfbbb7040"
      },
      "outputs": [
        {
          "name": "stdout",
          "output_type": "stream",
          "text": [
            "tf.Tensor(\n",
            "[[[ 0  1  2  3  4]\n",
            "  [ 5  6  7  8  9]]\n",
            "\n",
            " [[10 11 12 13 14]\n",
            "  [15 16 17 18 19]]\n",
            "\n",
            " [[20 21 22 23 24]\n",
            "  [25 26 27 28 29]]], shape=(3, 2, 5), dtype=int32)\n",
            "\n",
            "차원: 3\n",
            "모양: (3, 2, 5)\n",
            "항목 자료형: <dtype: 'int32'>\n"
          ]
        }
      ],
      "source": [
        "print(d3_tensor)\n",
        "print()\n",
        "\n",
        "print(\"차원:\", d3_tensor.ndim)\n",
        "print(\"모양:\", d3_tensor.shape)\n",
        "print(\"항목 자료형:\", d3_tensor.dtype)"
      ]
    },
    {
      "cell_type": "markdown",
      "metadata": {
        "id": "rM2sTGIkoE3S"
      },
      "source": [
        "랭크-3 텐서를 여러 가지 방식으로 시각화할 수 있다."
      ]
    },
    {
      "cell_type": "markdown",
      "metadata": {
        "id": "NFiYfNMMhDgL"
      },
      "source": [
        "<table>\n",
        "<tr>\n",
        "  <th colspan=\"3\">d3_tensor의 모양: <code>[3, 2, 5]</code> </th>\n",
        "</tr>\n",
        "<tr>\n",
        "</tr>\n",
        "<tr>\n",
        "  <td>    <img src=\"https://raw.githubusercontent.com/tensorflow/docs/master/site/en/guide/images/tensor/3-axis_numpy.png\">   </td>\n",
        "  <td>    <img src=\"https://raw.githubusercontent.com/tensorflow/docs/master/site/en/guide/images/tensor/3-axis_front.png\">   </td>\n",
        "  <td>    <img src=\"https://raw.githubusercontent.com/tensorflow/docs/master/site/en/guide/images/tensor/3-axis_block.png\">   </td>\n",
        "</tr>\n",
        "</table>"
      ]
    },
    {
      "cell_type": "markdown",
      "metadata": {
        "id": "MuzbrhtzUFkr"
      },
      "source": [
        "**4차원 텐서**"
      ]
    },
    {
      "cell_type": "markdown",
      "metadata": {
        "id": "xRPEbvpxUFkr"
      },
      "source": [
        "네 개의 축을 사용한다.\n",
        "예를 들어 `d4_tensor`는 `tf.zeros()` 함수를 이용하여 생성된\n",
        "모든 항목이 0인 4차원 텐서를 가리킨다."
      ]
    },
    {
      "cell_type": "code",
      "execution_count": null,
      "metadata": {
        "id": "RyD3yewUKdnK"
      },
      "outputs": [],
      "source": [
        "d4_tensor = tf.zeros([3, 2, 4, 5])"
      ]
    },
    {
      "cell_type": "code",
      "execution_count": null,
      "metadata": {
        "colab": {
          "base_uri": "https://localhost:8080/"
        },
        "id": "Zi9nR1MOUFkr",
        "outputId": "214977bd-6a3a-496e-d204-d370683d5b7c"
      },
      "outputs": [
        {
          "name": "stdout",
          "output_type": "stream",
          "text": [
            "tf.Tensor(\n",
            "[[[[0. 0. 0. 0. 0.]\n",
            "   [0. 0. 0. 0. 0.]\n",
            "   [0. 0. 0. 0. 0.]\n",
            "   [0. 0. 0. 0. 0.]]\n",
            "\n",
            "  [[0. 0. 0. 0. 0.]\n",
            "   [0. 0. 0. 0. 0.]\n",
            "   [0. 0. 0. 0. 0.]\n",
            "   [0. 0. 0. 0. 0.]]]\n",
            "\n",
            "\n",
            " [[[0. 0. 0. 0. 0.]\n",
            "   [0. 0. 0. 0. 0.]\n",
            "   [0. 0. 0. 0. 0.]\n",
            "   [0. 0. 0. 0. 0.]]\n",
            "\n",
            "  [[0. 0. 0. 0. 0.]\n",
            "   [0. 0. 0. 0. 0.]\n",
            "   [0. 0. 0. 0. 0.]\n",
            "   [0. 0. 0. 0. 0.]]]\n",
            "\n",
            "\n",
            " [[[0. 0. 0. 0. 0.]\n",
            "   [0. 0. 0. 0. 0.]\n",
            "   [0. 0. 0. 0. 0.]\n",
            "   [0. 0. 0. 0. 0.]]\n",
            "\n",
            "  [[0. 0. 0. 0. 0.]\n",
            "   [0. 0. 0. 0. 0.]\n",
            "   [0. 0. 0. 0. 0.]\n",
            "   [0. 0. 0. 0. 0.]]]], shape=(3, 2, 4, 5), dtype=float32)\n",
            "\n",
            "차원: 4\n",
            "모양: (3, 2, 4, 5)\n",
            "항목 자료형: <dtype: 'float32'>\n"
          ]
        }
      ],
      "source": [
        "print(d4_tensor)\n",
        "print()\n",
        "\n",
        "print(\"차원:\", d4_tensor.ndim)\n",
        "print(\"모양:\", d4_tensor.shape)\n",
        "print(\"항목 자료형:\", d4_tensor.dtype)"
      ]
    },
    {
      "cell_type": "markdown",
      "metadata": {
        "id": "HApLbb-4UFks"
      },
      "source": [
        "`d4_tensor`를 시각화하면 다음과 같다.\n",
        "아래 이미지에서 `Rank`는 차원을 의미한다."
      ]
    },
    {
      "cell_type": "markdown",
      "metadata": {
        "id": "oTZZW9ziq4og"
      },
      "source": [
        "<table>\n",
        "<tr>\n",
        "  <th colspan=\"2\">4차원 텐서의 축과 모양</th>\n",
        "</tr>\n",
        "<tr>\n",
        "  <td> <img src=\"https://raw.githubusercontent.com/tensorflow/docs/master/site/en/guide/images/tensor/shape.png\" alt=\"A tensor shape is like a vector.\">     </td>\n",
        "<td> <img src=\"https://raw.githubusercontent.com/tensorflow/docs/master/site/en/guide/images/tensor/4-axis_block.png\" alt=\"A 4-axis tensor\">   </td>\n",
        "  </tr>\n",
        "</table>\n"
      ]
    },
    {
      "cell_type": "markdown",
      "metadata": {
        "id": "bQmE_Vx5JilS"
      },
      "source": [
        "아래 그림은 위 4차원 텐서에 사용된 축 각각의 의미를 설명한다.\n",
        "축은 텐서의 겉모양에서부터 출발하여 각각의 항목이 포함된 벡터까지\n",
        "차례대로 배치<font size='2'>batch</font>,\n",
        "높이<font size='2'>height</font>,\n",
        "폭<font size='2'>width</font>,\n",
        "특성<font size='2'>features</font>의\n",
        "정보를 가리킨다.\n",
        "\n",
        "<table>\n",
        "<tr>\n",
        "<th>축의 순서 이해</th>\n",
        "</tr>\n",
        "<tr>\n",
        "    <td> <img src=\"https://raw.githubusercontent.com/tensorflow/docs/master/site/en/guide/images/tensor/shape2.png\" alt=\"Keep track of what each axis is. A 4-axis tensor might be: Batch, Width, Height, Features\">   </td>\n",
        "</tr>\n",
        "</table>"
      ]
    },
    {
      "cell_type": "markdown",
      "metadata": {
        "id": "UVEXofKY4aQA"
      },
      "source": [
        "### 넘파이 어레이로의 변환"
      ]
    },
    {
      "cell_type": "markdown",
      "metadata": {
        "id": "oWAc0U8OZwNb"
      },
      "source": [
        "`np.array()` 함수 또는 `tensor.numpy()` 메서드를 이용하여\n",
        "`tf.tensor`를 `np.ndarray` 로 변환할 수 있다."
      ]
    },
    {
      "cell_type": "code",
      "execution_count": null,
      "metadata": {
        "colab": {
          "base_uri": "https://localhost:8080/"
        },
        "id": "J5u6_6ZYaS7B",
        "outputId": "b31af307-4585-4e78-8676-1f0425e2a772"
      },
      "outputs": [
        {
          "data": {
            "text/plain": [
              "array([[1, 2],\n",
              "       [3, 4],\n",
              "       [5, 6]], dtype=int32)"
            ]
          },
          "execution_count": 53,
          "metadata": {},
          "output_type": "execute_result"
        }
      ],
      "source": [
        "np.array(d2_tensor)"
      ]
    },
    {
      "cell_type": "code",
      "execution_count": null,
      "metadata": {
        "colab": {
          "base_uri": "https://localhost:8080/"
        },
        "id": "c6Taz2gIaZeo",
        "outputId": "ae201d53-764a-41de-bb52-258ed901a026"
      },
      "outputs": [
        {
          "data": {
            "text/plain": [
              "array([[1, 2],\n",
              "       [3, 4],\n",
              "       [5, 6]], dtype=int32)"
            ]
          },
          "execution_count": 54,
          "metadata": {},
          "output_type": "execute_result"
        }
      ],
      "source": [
        "d2_tensor.numpy()"
      ]
    },
    {
      "cell_type": "markdown",
      "metadata": {
        "id": "iC4qi08M6ECo"
      },
      "source": [
        "## 텐서 연산"
      ]
    },
    {
      "cell_type": "markdown",
      "metadata": {
        "id": "SDC7OGeAIJr8"
      },
      "source": [
        "텐서의 덧셈과 곱셈은 항목별로 이루어진다."
      ]
    },
    {
      "cell_type": "code",
      "execution_count": null,
      "metadata": {
        "id": "-DTkjwDOIIDa"
      },
      "outputs": [],
      "source": [
        "a = tf.constant([[1, 2],\n",
        "                 [3, 4]])"
      ]
    },
    {
      "cell_type": "code",
      "execution_count": null,
      "metadata": {
        "id": "NhKbjOVRIt9t"
      },
      "outputs": [],
      "source": [
        "b = tf.ones([2, 2], dtype=tf.int32)"
      ]
    },
    {
      "cell_type": "markdown",
      "metadata": {
        "id": "znHZXDv2JO4A"
      },
      "source": [
        "- 항목별 덧셈: `tf.add()` 함수 또는 `+` 연산자 이용"
      ]
    },
    {
      "cell_type": "code",
      "execution_count": null,
      "metadata": {
        "colab": {
          "base_uri": "https://localhost:8080/"
        },
        "id": "rVwcWTZVIaWs",
        "outputId": "b87abb85-f72d-4857-9662-f1dec7326949"
      },
      "outputs": [
        {
          "data": {
            "text/plain": [
              "<tf.Tensor: shape=(2, 2), dtype=int32, numpy=\n",
              "array([[2, 3],\n",
              "       [4, 5]], dtype=int32)>"
            ]
          },
          "execution_count": 27,
          "metadata": {},
          "output_type": "execute_result"
        }
      ],
      "source": [
        "tf.add(a, b)"
      ]
    },
    {
      "cell_type": "code",
      "execution_count": null,
      "metadata": {
        "colab": {
          "base_uri": "https://localhost:8080/"
        },
        "id": "Hy0Z7DMoJSvh",
        "outputId": "65c74195-e1f0-4963-a25d-8814067a2f63"
      },
      "outputs": [
        {
          "data": {
            "text/plain": [
              "<tf.Tensor: shape=(2, 2), dtype=int32, numpy=\n",
              "array([[2, 3],\n",
              "       [4, 5]], dtype=int32)>"
            ]
          },
          "execution_count": 28,
          "metadata": {},
          "output_type": "execute_result"
        }
      ],
      "source": [
        "a + b"
      ]
    },
    {
      "cell_type": "markdown",
      "metadata": {
        "id": "WyjB5xH1JolF"
      },
      "source": [
        "- 항목별 곱셈: `tf.multiply()` 함수 또는 `+` 연산자 이용"
      ]
    },
    {
      "cell_type": "code",
      "execution_count": null,
      "metadata": {
        "colab": {
          "base_uri": "https://localhost:8080/"
        },
        "id": "jpsE-F7RIbWt",
        "outputId": "2834c328-0510-4c9d-8b79-e1af0ec9b0c4"
      },
      "outputs": [
        {
          "data": {
            "text/plain": [
              "<tf.Tensor: shape=(2, 2), dtype=int32, numpy=\n",
              "array([[1, 2],\n",
              "       [3, 4]], dtype=int32)>"
            ]
          },
          "execution_count": 29,
          "metadata": {},
          "output_type": "execute_result"
        }
      ],
      "source": [
        "tf.multiply(a, b)"
      ]
    },
    {
      "cell_type": "code",
      "execution_count": null,
      "metadata": {
        "colab": {
          "base_uri": "https://localhost:8080/"
        },
        "id": "hR3P68mzJXuU",
        "outputId": "b585f476-568f-4d48-c5d2-e8bd23e65add"
      },
      "outputs": [
        {
          "data": {
            "text/plain": [
              "<tf.Tensor: shape=(2, 2), dtype=int32, numpy=\n",
              "array([[1, 2],\n",
              "       [3, 4]], dtype=int32)>"
            ]
          },
          "execution_count": 30,
          "metadata": {},
          "output_type": "execute_result"
        }
      ],
      "source": [
        "a * b"
      ]
    },
    {
      "cell_type": "markdown",
      "metadata": {
        "id": "cvedOlDNKrf0"
      },
      "source": [
        "행렬(랭크-2 텐서) 연산은 항목별 연산과 다르다."
      ]
    },
    {
      "cell_type": "markdown",
      "metadata": {
        "id": "cICxfBgbJCzT"
      },
      "source": [
        "- 행렬 연산: `tf.matmul()` 함수 또는 `@` 연산자 이용"
      ]
    },
    {
      "cell_type": "code",
      "execution_count": null,
      "metadata": {
        "colab": {
          "base_uri": "https://localhost:8080/"
        },
        "id": "raXYqSlzIcMF",
        "outputId": "7f5bd1f7-0f68-4be1-faa3-c9776acf62dc"
      },
      "outputs": [
        {
          "data": {
            "text/plain": [
              "<tf.Tensor: shape=(2, 2), dtype=int32, numpy=\n",
              "array([[3, 3],\n",
              "       [7, 7]], dtype=int32)>"
            ]
          },
          "execution_count": 31,
          "metadata": {},
          "output_type": "execute_result"
        }
      ],
      "source": [
        "tf.matmul(a, b)"
      ]
    },
    {
      "cell_type": "code",
      "execution_count": null,
      "metadata": {
        "colab": {
          "base_uri": "https://localhost:8080/"
        },
        "id": "2smoWeUz-N2q",
        "outputId": "f167b1e8-3877-429a-8f14-acf83f5f976a"
      },
      "outputs": [
        {
          "data": {
            "text/plain": [
              "<tf.Tensor: shape=(2, 2), dtype=int32, numpy=\n",
              "array([[3, 3],\n",
              "       [7, 7]], dtype=int32)>"
            ]
          },
          "execution_count": 32,
          "metadata": {},
          "output_type": "execute_result"
        }
      ],
      "source": [
        "a @ b"
      ]
    },
    {
      "cell_type": "markdown",
      "metadata": {
        "id": "S3_vIAl2JPVc"
      },
      "source": [
        "이외에도 텐서는 다양한 종류의 연산에 활용된다."
      ]
    },
    {
      "cell_type": "code",
      "execution_count": null,
      "metadata": {
        "id": "Gp4WUYzGIbnv"
      },
      "outputs": [],
      "source": [
        "c = tf.constant([[4.0, 5.0], [10.0, 1.0]])"
      ]
    },
    {
      "cell_type": "markdown",
      "metadata": {
        "id": "v9YXrXULK-cO"
      },
      "source": [
        "- 최대 항목 찾기"
      ]
    },
    {
      "cell_type": "code",
      "execution_count": null,
      "metadata": {
        "colab": {
          "base_uri": "https://localhost:8080/"
        },
        "id": "-sYXzOW5KDYt",
        "outputId": "9e44a451-2d38-4bb2-94d5-63de9a9d1397"
      },
      "outputs": [
        {
          "data": {
            "text/plain": [
              "<tf.Tensor: shape=(), dtype=float32, numpy=10.0>"
            ]
          },
          "execution_count": 34,
          "metadata": {},
          "output_type": "execute_result"
        }
      ],
      "source": [
        "tf.reduce_max(c)"
      ]
    },
    {
      "cell_type": "markdown",
      "metadata": {
        "id": "aPFlVC8DLClr"
      },
      "source": [
        "- 최대 항목의 인덱스 확인"
      ]
    },
    {
      "cell_type": "code",
      "execution_count": null,
      "metadata": {
        "colab": {
          "base_uri": "https://localhost:8080/"
        },
        "id": "wJlpILnWKFJe",
        "outputId": "ec28f11e-e8d8-470b-85c2-2122305575e8"
      },
      "outputs": [
        {
          "data": {
            "text/plain": [
              "<tf.Tensor: shape=(2,), dtype=int64, numpy=array([1, 0])>"
            ]
          },
          "execution_count": 35,
          "metadata": {},
          "output_type": "execute_result"
        }
      ],
      "source": [
        "tf.math.argmax(c)"
      ]
    },
    {
      "cell_type": "markdown",
      "metadata": {
        "id": "uGcIB1TXLFPG"
      },
      "source": [
        "- `softmax()` 함수 적용"
      ]
    },
    {
      "cell_type": "code",
      "execution_count": null,
      "metadata": {
        "colab": {
          "base_uri": "https://localhost:8080/"
        },
        "id": "oW1wT4RoKF0b",
        "outputId": "168319a1-b0d3-411e-d1d2-b4d5b72339b5"
      },
      "outputs": [
        {
          "data": {
            "text/plain": [
              "<tf.Tensor: shape=(2, 2), dtype=float32, numpy=\n",
              "array([[2.6894143e-01, 7.3105854e-01],\n",
              "       [9.9987662e-01, 1.2339458e-04]], dtype=float32)>"
            ]
          },
          "execution_count": 36,
          "metadata": {},
          "output_type": "execute_result"
        }
      ],
      "source": [
        "tf.nn.softmax(c)"
      ]
    },
    {
      "cell_type": "markdown",
      "metadata": {
        "id": "VA1iadRrSo2l"
      },
      "source": [
        "### 텐서로의 자동 변환"
      ]
    },
    {
      "cell_type": "markdown",
      "metadata": {
        "id": "0MNM-q7-MZLz"
      },
      "source": [
        "텐서플로우의 함수가 `tf.Tensor`를 인자로 입력받아야 하는데\n",
        "인자가 `tf.Tensor` 자료형이 아니지만 텐서로 변환될 수 있으면\n",
        "`tf.Tensor`로 자동 변환되어 처리된다.\n",
        "이유는 내부적으로 `tf.convert_to_tensor()` 함수가\n",
        "형변환을 실행하기 때문이다.\n",
        "예를 들어, 리스트와 넘파이 어레이가 이에 해당한다."
      ]
    },
    {
      "cell_type": "code",
      "execution_count": null,
      "metadata": {
        "colab": {
          "base_uri": "https://localhost:8080/"
        },
        "id": "_wch0N8xNEt-",
        "outputId": "ec7603f0-78ef-4561-b821-365852e0a76c"
      },
      "outputs": [
        {
          "data": {
            "text/plain": [
              "<tf.Tensor: shape=(3,), dtype=int32, numpy=array([1, 2, 3], dtype=int32)>"
            ]
          },
          "execution_count": 37,
          "metadata": {},
          "output_type": "execute_result"
        }
      ],
      "source": [
        "tf.convert_to_tensor([1,2,3])"
      ]
    },
    {
      "cell_type": "code",
      "execution_count": null,
      "metadata": {
        "colab": {
          "base_uri": "https://localhost:8080/"
        },
        "id": "ngqIeWYeNJVI",
        "outputId": "934fcce1-7b29-4171-a8af-00a10551d1f6"
      },
      "outputs": [
        {
          "data": {
            "text/plain": [
              "<tf.Tensor: shape=(), dtype=int32, numpy=3>"
            ]
          },
          "execution_count": 38,
          "metadata": {},
          "output_type": "execute_result"
        }
      ],
      "source": [
        "tf.reduce_max([1, 2, 3])"
      ]
    },
    {
      "cell_type": "code",
      "execution_count": null,
      "metadata": {
        "colab": {
          "base_uri": "https://localhost:8080/"
        },
        "id": "NbPz0dpmXM-F",
        "outputId": "5855eeb8-4348-4e7a-d8b0-b01f3c2b71c8"
      },
      "outputs": [
        {
          "data": {
            "text/plain": [
              "<tf.Tensor: shape=(), dtype=int64, numpy=2>"
            ]
          },
          "execution_count": 39,
          "metadata": {},
          "output_type": "execute_result"
        }
      ],
      "source": [
        "tf.math.argmax([1, 2, 3])"
      ]
    },
    {
      "cell_type": "code",
      "execution_count": null,
      "metadata": {
        "colab": {
          "base_uri": "https://localhost:8080/"
        },
        "id": "ThVMxqbVNOq3",
        "outputId": "bb825692-5577-48d8-bdaf-9f1ca6a2f759"
      },
      "outputs": [
        {
          "data": {
            "text/plain": [
              "<tf.Tensor: shape=(3,), dtype=float64, numpy=array([1.26641655e-14, 7.58256042e-10, 9.99999999e-01])>"
            ]
          },
          "execution_count": 40,
          "metadata": {},
          "output_type": "execute_result"
        }
      ],
      "source": [
        "tf.nn.softmax(np.array([1.0, 12.0, 33.0]))"
      ]
    },
    {
      "cell_type": "markdown",
      "metadata": {
        "id": "FlPoVvJS75Bb"
      },
      "source": [
        "## 인덱싱/슬라이싱"
      ]
    },
    {
      "cell_type": "markdown",
      "metadata": {
        "id": "P45TwSUVSK6G"
      },
      "source": [
        "예를 들어 아래 랭크-3 텐서를 이용한 인덱싱/슬라이싱 예를 하나 살펴보자."
      ]
    },
    {
      "cell_type": "code",
      "execution_count": null,
      "metadata": {
        "colab": {
          "base_uri": "https://localhost:8080/"
        },
        "id": "UMwp0U5jP2Xf",
        "outputId": "9a7142e4-2b54-4277-818b-cbc11550376a"
      },
      "outputs": [
        {
          "data": {
            "text/plain": [
              "<tf.Tensor: shape=(3, 2, 5), dtype=int32, numpy=\n",
              "array([[[ 0,  1,  2,  3,  4],\n",
              "        [ 5,  6,  7,  8,  9]],\n",
              "\n",
              "       [[10, 11, 12, 13, 14],\n",
              "        [15, 16, 17, 18, 19]],\n",
              "\n",
              "       [[20, 21, 22, 23, 24],\n",
              "        [25, 26, 27, 28, 29]]], dtype=int32)>"
            ]
          },
          "execution_count": 50,
          "metadata": {},
          "output_type": "execute_result"
        }
      ],
      "source": [
        "d3_tensor"
      ]
    },
    {
      "cell_type": "markdown",
      "metadata": {
        "id": "mbloVQ-2QT1v"
      },
      "source": [
        "`d3_tensor` 텐서는 세 개의 축을 사용하는 랭크-3 텐서이며\n",
        "모양은 다음과 같다."
      ]
    },
    {
      "cell_type": "code",
      "execution_count": null,
      "metadata": {
        "colab": {
          "base_uri": "https://localhost:8080/"
        },
        "id": "6vzCqyhmQcUC",
        "outputId": "cc81909d-1689-472d-c1d2-140259496a5d"
      },
      "outputs": [
        {
          "data": {
            "text/plain": [
              "TensorShape([3, 2, 5])"
            ]
          },
          "execution_count": 51,
          "metadata": {},
          "output_type": "execute_result"
        }
      ],
      "source": [
        "d3_tensor.shape"
      ]
    },
    {
      "cell_type": "markdown",
      "metadata": {
        "id": "XM9TrMpWQF1a"
      },
      "source": [
        "즉, 0번 축은 3 개의 항목을,\n",
        "1번 축은 2 개의 항목을,\n",
        "2번 축은 5 개의 항목을 각각 갖는다.\n",
        "\n",
        "아래 코드는 0번 축과 1번 축의 모든 항목에 대해\n",
        "2번 축의 4번 인덱스에 해당하는 값만 추출한다."
      ]
    },
    {
      "cell_type": "code",
      "execution_count": null,
      "metadata": {
        "colab": {
          "base_uri": "https://localhost:8080/"
        },
        "id": "GuLoMoCVSLxK",
        "outputId": "e163ed59-20ad-424b-d436-de9ef47e9c43"
      },
      "outputs": [
        {
          "data": {
            "text/plain": [
              "<tf.Tensor: shape=(3, 2), dtype=int32, numpy=\n",
              "array([[ 4,  9],\n",
              "       [14, 19],\n",
              "       [24, 29]], dtype=int32)>"
            ]
          },
          "execution_count": 52,
          "metadata": {},
          "output_type": "execute_result"
        }
      ],
      "source": [
        "d3_tensor[:, :, 4]"
      ]
    },
    {
      "cell_type": "markdown",
      "metadata": {
        "id": "9NgmHq27TJOE"
      },
      "source": [
        "<table>\n",
        "<tr>\n",
        "<th colspan=\"2\">배치에서 각 예의 모든 위치에서 마지막 특성 선택하기</th>\n",
        "</tr>\n",
        "<tr>\n",
        "    <td> <img src=\"https://raw.githubusercontent.com/tensorflow/docs/master/site/en/guide/images/tensor/index1.png\" alt=\"A 3x2x5 tensor with all the values at the index-4 of the last axis selected.\">   </td>\n",
        "      <td> <img src=\"https://raw.githubusercontent.com/tensorflow/docs/master/site/en/guide/images/tensor/index2.png\" alt=\"The selected values packed into a 2-axis tensor.\">   </td>\n",
        "</tr>\n",
        "</table>"
      ]
    },
    {
      "cell_type": "markdown",
      "metadata": {
        "id": "1kJBtxMgUFkv"
      },
      "source": [
        "## 텐서 변환"
      ]
    },
    {
      "cell_type": "markdown",
      "metadata": {
        "id": "fpr7R0t4SVb0"
      },
      "source": [
        "### 모양 변환"
      ]
    },
    {
      "cell_type": "markdown",
      "metadata": {
        "id": "38Op9Rnibfx2"
      },
      "source": [
        "주어진 텐서의 모양을 변환해서 새로운 모양의 텐서를 생성할 수 있다.\n",
        "단, 새로운 텐서를 위해 메모리를 더 사용하는 것은 아니며\n",
        "단지 주어진 텐서의 정보를 활용하기에 매우 빠르고 메모리\n",
        "효율적으로 작동한다.\n",
        "이렇게 새로운 텐서를 생성하는 방식을 **뷰**<font size='2'>view</font>라 부른다.\n"
      ]
    },
    {
      "cell_type": "code",
      "execution_count": null,
      "metadata": {
        "colab": {
          "base_uri": "https://localhost:8080/"
        },
        "id": "pa9JCgMLWy87",
        "outputId": "8f557bc9-4a33-4223-d009-7cf4d5ba4d30"
      },
      "outputs": [
        {
          "data": {
            "text/plain": [
              "<tf.Tensor: shape=(3, 1), dtype=int32, numpy=\n",
              "array([[1],\n",
              "       [2],\n",
              "       [3]], dtype=int32)>"
            ]
          },
          "execution_count": 53,
          "metadata": {},
          "output_type": "execute_result"
        }
      ],
      "source": [
        "x = tf.constant([[1], [2], [3]])\n",
        "x"
      ]
    },
    {
      "cell_type": "code",
      "execution_count": null,
      "metadata": {
        "colab": {
          "base_uri": "https://localhost:8080/"
        },
        "id": "vjU236vSeZx0",
        "outputId": "d3433b38-99ac-4828-aac2-3cf3ea1bf21e"
      },
      "outputs": [
        {
          "data": {
            "text/plain": [
              "TensorShape([3, 1])"
            ]
          },
          "execution_count": 54,
          "metadata": {},
          "output_type": "execute_result"
        }
      ],
      "source": [
        "x.shape"
      ]
    },
    {
      "cell_type": "code",
      "execution_count": null,
      "metadata": {
        "colab": {
          "base_uri": "https://localhost:8080/"
        },
        "id": "msyTzgd3eWsk",
        "outputId": "1424b484-8f9f-45ed-a60b-874f34620f60"
      },
      "outputs": [
        {
          "data": {
            "text/plain": [
              "<tf.Tensor: shape=(1, 3), dtype=int32, numpy=array([[1, 2, 3]], dtype=int32)>"
            ]
          },
          "execution_count": 55,
          "metadata": {},
          "output_type": "execute_result"
        }
      ],
      "source": [
        "reshaped = tf.reshape(x, [1, 3])\n",
        "reshaped"
      ]
    },
    {
      "cell_type": "code",
      "execution_count": null,
      "metadata": {
        "colab": {
          "base_uri": "https://localhost:8080/"
        },
        "id": "Mcq7iXOkW3LK",
        "outputId": "b4579fca-b772-46f8-cf54-aa7d3b2d6ec0"
      },
      "outputs": [
        {
          "data": {
            "text/plain": [
              "TensorShape([1, 3])"
            ]
          },
          "execution_count": 56,
          "metadata": {},
          "output_type": "execute_result"
        }
      ],
      "source": [
        "reshaped.shape"
      ]
    },
    {
      "cell_type": "markdown",
      "metadata": {
        "id": "23mT1CUYdQK6"
      },
      "source": [
        "모양을 변환할 때 -1을 사용하면 그것은 해당 축의 항목의 개수는\n",
        "다른 축의 항목의 개수에 맞춰서 자동으로 지정된다는 의미다.\n",
        "이것이 가능한 이유는\n",
        "텐서의 모양 변환을 통해 생성된 텐서는 기존의 텐서와\n",
        "동일한 크기, 동일한 항목의 수를 가져야만 하기 때문이다.\n",
        "\n",
        "예를 들어 아래 코드에서 사용된 -1은 3을 가리킨다.\n",
        "이유는 총 세 개의 항목이 있는데 0번 축에 1개의 항목이 있어야 한다면\n",
        "1번 축엔 세 개의 항목이 있어야 하기 때문이다."
      ]
    },
    {
      "cell_type": "code",
      "execution_count": null,
      "metadata": {
        "colab": {
          "base_uri": "https://localhost:8080/"
        },
        "id": "FJPl41ned-oI",
        "outputId": "cba46838-623f-4d1a-bf70-7e55990df83a"
      },
      "outputs": [
        {
          "data": {
            "text/plain": [
              "<tf.Tensor: shape=(1, 3), dtype=int32, numpy=array([[1, 2, 3]], dtype=int32)>"
            ]
          },
          "execution_count": 57,
          "metadata": {},
          "output_type": "execute_result"
        }
      ],
      "source": [
        "reshaped = tf.reshape(x, [1, -1])\n",
        "reshaped"
      ]
    },
    {
      "cell_type": "markdown",
      "metadata": {
        "id": "yszRB8MZc9dY"
      },
      "source": [
        "**항목 저장 순서**"
      ]
    },
    {
      "cell_type": "markdown",
      "metadata": {
        "id": "XM0aLZKEcwLJ"
      },
      "source": [
        "임의의 텐서를 rank-1 텐서로 만들면 텐서의 항목들이 메모리상에서\n",
        "저장되는 순서를 확인할 수 있다."
      ]
    },
    {
      "cell_type": "code",
      "execution_count": null,
      "metadata": {
        "colab": {
          "base_uri": "https://localhost:8080/"
        },
        "id": "7kMfM0RpUgI8",
        "outputId": "f61797b3-de9f-4aba-cc97-0183c291e80f"
      },
      "outputs": [
        {
          "data": {
            "text/plain": [
              "<tf.Tensor: shape=(3, 2, 5), dtype=int32, numpy=\n",
              "array([[[ 0,  1,  2,  3,  4],\n",
              "        [ 5,  6,  7,  8,  9]],\n",
              "\n",
              "       [[10, 11, 12, 13, 14],\n",
              "        [15, 16, 17, 18, 19]],\n",
              "\n",
              "       [[20, 21, 22, 23, 24],\n",
              "        [25, 26, 27, 28, 29]]], dtype=int32)>"
            ]
          },
          "execution_count": 58,
          "metadata": {},
          "output_type": "execute_result"
        }
      ],
      "source": [
        "d3_tensor"
      ]
    },
    {
      "cell_type": "markdown",
      "metadata": {
        "id": "Xx5Shy_qdto5"
      },
      "source": [
        "랭크-1 텐서로 변환하려면 모양을 `[-1]`로 지정하면 된다.\n",
        "그러면 1개의 축만 사용하고, -1은 자동으로 전체 항목의 개수를\n",
        "가기키기 때문이다."
      ]
    },
    {
      "cell_type": "code",
      "execution_count": null,
      "metadata": {
        "colab": {
          "base_uri": "https://localhost:8080/"
        },
        "id": "COnHEPuaWDQp",
        "outputId": "8f909735-5341-4513-8385-75785417fd82"
      },
      "outputs": [
        {
          "data": {
            "text/plain": [
              "<tf.Tensor: shape=(30,), dtype=int32, numpy=\n",
              "array([ 0,  1,  2,  3,  4,  5,  6,  7,  8,  9, 10, 11, 12, 13, 14, 15, 16,\n",
              "       17, 18, 19, 20, 21, 22, 23, 24, 25, 26, 27, 28, 29], dtype=int32)>"
            ]
          },
          "execution_count": 59,
          "metadata": {},
          "output_type": "execute_result"
        }
      ],
      "source": [
        "tf.reshape(d3_tensor, [-1])"
      ]
    },
    {
      "cell_type": "markdown",
      "metadata": {
        "id": "rrhT4dcXfQfK"
      },
      "source": [
        "**축의 순서를 고려하는 좋은 모양 변환**"
      ]
    },
    {
      "cell_type": "markdown",
      "metadata": {
        "id": "jJZRira2W--c"
      },
      "source": [
        "`tf.reshape()` 함수는 앞서 확인한 항목들의 순서를 그대로 유지하며\n",
        "단순히 인접한 두 개의 축을 합치거나, 하나의 축을 두 개의 축으로 나누거나,\n",
        "또는 새로운 축을 추가하는 기능을 수행한다.\n",
        "\n",
        "**주의사항:** 모양 변환은 축의 순서를 바꾸지는 않는다.\n",
        "축의 순서를 바꾸러면 [`tf.transpose()`](https://www.tensorflow.org/api_docs/python/tf/transpose) 함수를 이용해야 하는데,\n",
        "여기서는 자세히 다루지 않는다."
      ]
    },
    {
      "cell_type": "markdown",
      "metadata": {
        "id": "FobxFt2PgDIz"
      },
      "source": [
        "- `3x2x5` 텐서 => `(3x2)x5` 텐서"
      ]
    },
    {
      "cell_type": "code",
      "execution_count": null,
      "metadata": {
        "colab": {
          "base_uri": "https://localhost:8080/"
        },
        "id": "P5ZGVWXpgH7R",
        "outputId": "bdb3f4af-6fd5-40d3-c723-c5d3801d2296"
      },
      "outputs": [
        {
          "data": {
            "text/plain": [
              "<tf.Tensor: shape=(6, 5), dtype=int32, numpy=\n",
              "array([[ 0,  1,  2,  3,  4],\n",
              "       [ 5,  6,  7,  8,  9],\n",
              "       [10, 11, 12, 13, 14],\n",
              "       [15, 16, 17, 18, 19],\n",
              "       [20, 21, 22, 23, 24],\n",
              "       [25, 26, 27, 28, 29]], dtype=int32)>"
            ]
          },
          "execution_count": 60,
          "metadata": {},
          "output_type": "execute_result"
        }
      ],
      "source": [
        "tf.reshape(d3_tensor, [3*2, 5])"
      ]
    },
    {
      "cell_type": "markdown",
      "metadata": {
        "id": "8mKoP_r9gTFS"
      },
      "source": [
        "- `3x2x5` 텐서 => `3x(2x5)` 텐서"
      ]
    },
    {
      "cell_type": "code",
      "execution_count": null,
      "metadata": {
        "colab": {
          "base_uri": "https://localhost:8080/"
        },
        "id": "zP2Iqc7zWu_J",
        "outputId": "12b53d89-b3ff-43c7-cb65-70f95e90a44a"
      },
      "outputs": [
        {
          "data": {
            "text/plain": [
              "<tf.Tensor: shape=(3, 10), dtype=int32, numpy=\n",
              "array([[ 0,  1,  2,  3,  4,  5,  6,  7,  8,  9],\n",
              "       [10, 11, 12, 13, 14, 15, 16, 17, 18, 19],\n",
              "       [20, 21, 22, 23, 24, 25, 26, 27, 28, 29]], dtype=int32)>"
            ]
          },
          "execution_count": 61,
          "metadata": {},
          "output_type": "execute_result"
        }
      ],
      "source": [
        "tf.reshape(d3_tensor, [3, -1])"
      ]
    },
    {
      "cell_type": "markdown",
      "metadata": {
        "id": "6ZsZRUhihlDB"
      },
      "source": [
        "<table>\n",
        "<th colspan=\"3\">축의 순서를 반영하는 좋은 변환</th>\n",
        "<tr>\n",
        "  <td> <img src=\"https://raw.githubusercontent.com/tensorflow/docs/master/site/en/guide/images/tensor/reshape-before.png\" alt=\"A 3x2x5 tensor\">   </td>\n",
        "  <td>   <img src=\"https://raw.githubusercontent.com/tensorflow/docs/master/site/en/guide/images/tensor/reshape-good1.png\" alt=\"The same data reshaped to (3x2)x5\">   </td>\n",
        "  <td> <img src=\"https://raw.githubusercontent.com/tensorflow/docs/master/site/en/guide/images/tensor/reshape-good2.png\" alt=\"The same data reshaped to 3x(2x5)\">   </td>\n",
        "</tr>\n",
        "</table>\n"
      ]
    },
    {
      "cell_type": "markdown",
      "metadata": {
        "id": "OlSRiTpUgnPX"
      },
      "source": [
        "**축의 순서를 고려하지 않는 나쁜 모양 변환**"
      ]
    },
    {
      "cell_type": "markdown",
      "metadata": {
        "id": "nOcRxDC3jNIU"
      },
      "source": [
        "축의 순서를 고려하지 않으면\n",
        "완전히 엉뚱한 텐서가 생성되거\n",
        "모양 변환이 되지 않고 실행오류가 발생한다."
      ]
    },
    {
      "cell_type": "code",
      "execution_count": null,
      "metadata": {
        "colab": {
          "base_uri": "https://localhost:8080/"
        },
        "id": "I9qDL_8u7cBH",
        "outputId": "7ca7e52d-d937-48d0-acd8-24a2c392862a"
      },
      "outputs": [
        {
          "data": {
            "text/plain": [
              "<tf.Tensor: shape=(2, 3, 5), dtype=int32, numpy=\n",
              "array([[[ 0,  1,  2,  3,  4],\n",
              "        [ 5,  6,  7,  8,  9],\n",
              "        [10, 11, 12, 13, 14]],\n",
              "\n",
              "       [[15, 16, 17, 18, 19],\n",
              "        [20, 21, 22, 23, 24],\n",
              "        [25, 26, 27, 28, 29]]], dtype=int32)>"
            ]
          },
          "execution_count": 62,
          "metadata": {},
          "output_type": "execute_result"
        }
      ],
      "source": [
        "tf.reshape(d3_tensor, [2, 3, 5])"
      ]
    },
    {
      "cell_type": "code",
      "execution_count": null,
      "metadata": {
        "colab": {
          "base_uri": "https://localhost:8080/"
        },
        "id": "BJog8dLxgt89",
        "outputId": "18eb1d4c-293f-45f0-d0e6-2f78e8a159d3"
      },
      "outputs": [
        {
          "data": {
            "text/plain": [
              "<tf.Tensor: shape=(5, 6), dtype=int32, numpy=\n",
              "array([[ 0,  1,  2,  3,  4,  5],\n",
              "       [ 6,  7,  8,  9, 10, 11],\n",
              "       [12, 13, 14, 15, 16, 17],\n",
              "       [18, 19, 20, 21, 22, 23],\n",
              "       [24, 25, 26, 27, 28, 29]], dtype=int32)>"
            ]
          },
          "execution_count": 63,
          "metadata": {},
          "output_type": "execute_result"
        }
      ],
      "source": [
        "tf.reshape(d3_tensor, [5, 6])"
      ]
    },
    {
      "cell_type": "code",
      "execution_count": null,
      "metadata": {
        "colab": {
          "base_uri": "https://localhost:8080/"
        },
        "id": "dRTIowmwguCc",
        "outputId": "77b20863-84ea-4acc-e1ae-bc5cf27a4b48"
      },
      "outputs": [
        {
          "name": "stdout",
          "output_type": "stream",
          "text": [
            "InvalidArgumentError: {{function_node __wrapped__Reshape_device_/job:localhost/replica:0/task:0/device:GPU:0}} Input to reshape is a tensor with 30 values, but the requested shape requires a multiple of 7 [Op:Reshape]\n"
          ]
        }
      ],
      "source": [
        "try:\n",
        "  tf.reshape(d3_tensor, [7, -1])\n",
        "except Exception as e:\n",
        "  print(f\"{type(e).__name__}: {e}\")"
      ]
    },
    {
      "cell_type": "markdown",
      "metadata": {
        "id": "OLsd_cZOhfQ3"
      },
      "source": [
        "아래 그림이 축의 순서를 고려하지 않은 잘못된 모양 변환의\n",
        "결과를 보여준다."
      ]
    },
    {
      "cell_type": "markdown",
      "metadata": {
        "id": "qTM9-5eh68oo"
      },
      "source": [
        "<table>\n",
        "<th colspan=\"3\">몇 가지 잘못된 재구성</th>\n",
        "<tr>\n",
        "  <td> <img src=\"https://raw.githubusercontent.com/tensorflow/docs/master/site/en/guide/images/tensor/reshape-bad.png\" alt=\"You can't reorder axes, use tf.transpose for that\">   </td>\n",
        "  <td> <img src=\"https://raw.githubusercontent.com/tensorflow/docs/master/site/en/guide/images/tensor/reshape-bad4.png\" alt=\"Anything that mixes the slices of data together is probably wrong.\">   </td>\n",
        "  <td> <img src=\"https://raw.githubusercontent.com/tensorflow/docs/master/site/en/guide/images/tensor/reshape-bad2.png\" alt=\"The new shape must fit exactly.\">   </td>\n",
        "</tr>\n",
        "</table>"
      ]
    },
    {
      "cell_type": "markdown",
      "metadata": {
        "id": "fDmFtFM7k0R2"
      },
      "source": [
        "### `dtype` 변환"
      ]
    },
    {
      "cell_type": "markdown",
      "metadata": {
        "id": "pp8oOWCBimh5"
      },
      "source": [
        "`tf.cast()` 함수를 이용하여 `dtype` 속성에 저장된\n",
        "항목들의 자료형을 강제로 형변환하여\n",
        "새로운 텐서를 생성할 수 있다."
      ]
    },
    {
      "cell_type": "markdown",
      "metadata": {
        "id": "jx8Yy_TejRgY"
      },
      "source": [
        "- 예제: 64비트 부동소수점 항목으로 구성된 텐서 선언"
      ]
    },
    {
      "cell_type": "code",
      "execution_count": null,
      "metadata": {
        "colab": {
          "base_uri": "https://localhost:8080/"
        },
        "id": "5mSTDWbelUvu",
        "outputId": "5674f742-13f1-44b0-ef98-f208969f5c01"
      },
      "outputs": [
        {
          "data": {
            "text/plain": [
              "<tf.Tensor: shape=(3,), dtype=float64, numpy=array([2.2, 3.3, 4.4])>"
            ]
          },
          "execution_count": 65,
          "metadata": {},
          "output_type": "execute_result"
        }
      ],
      "source": [
        "the_f64_tensor = tf.constant([2.2, 3.3, 4.4], dtype=tf.float64)\n",
        "the_f64_tensor"
      ]
    },
    {
      "cell_type": "markdown",
      "metadata": {
        "id": "XbpGVhbMjdg0"
      },
      "source": [
        "- 16비트 부동소수점 항목으로 구성된 텐서로 형변환하여 텐서 선언"
      ]
    },
    {
      "cell_type": "code",
      "execution_count": null,
      "metadata": {
        "colab": {
          "base_uri": "https://localhost:8080/"
        },
        "id": "CL3ufiPjjCoR",
        "outputId": "337cb436-d966-45ec-a691-ed05a9545b36"
      },
      "outputs": [
        {
          "data": {
            "text/plain": [
              "<tf.Tensor: shape=(3,), dtype=float16, numpy=array([2.2, 3.3, 4.4], dtype=float16)>"
            ]
          },
          "execution_count": 66,
          "metadata": {},
          "output_type": "execute_result"
        }
      ],
      "source": [
        "the_f16_tensor = tf.cast(the_f64_tensor, dtype=tf.float16)\n",
        "the_f16_tensor"
      ]
    },
    {
      "cell_type": "markdown",
      "metadata": {
        "id": "5W0EKbkhjlN7"
      },
      "source": [
        "- 8비트 음이 아닌 정수<font size='2'>unsigned int</font>로 구성된 텐서로 형변환"
      ]
    },
    {
      "cell_type": "code",
      "execution_count": null,
      "metadata": {
        "colab": {
          "base_uri": "https://localhost:8080/"
        },
        "id": "Lf1wSvBDjCsw",
        "outputId": "4a938363-826a-4237-f932-7c0a2f368259"
      },
      "outputs": [
        {
          "data": {
            "text/plain": [
              "<tf.Tensor: shape=(3,), dtype=uint8, numpy=array([2, 3, 4], dtype=uint8)>"
            ]
          },
          "execution_count": 67,
          "metadata": {},
          "output_type": "execute_result"
        }
      ],
      "source": [
        "the_u8_tensor = tf.cast(the_f16_tensor, dtype=tf.uint8)\n",
        "the_u8_tensor"
      ]
    },
    {
      "cell_type": "markdown",
      "metadata": {
        "id": "s1yBlJsVlFSu"
      },
      "source": [
        "### 브로드캐스팅"
      ]
    },
    {
      "cell_type": "markdown",
      "metadata": {
        "id": "c61O2XHQCpPw"
      },
      "source": [
        "예를 들어 벡터에 스칼라를 더하려 하면 스칼라가 벡터와 모양을 맞춘 후 항목별 덧셈이 실행된다. 이때 새로 생성되는 벡터의 항목은 모두 스칼라로 지정된다.\n",
        "이처럼 두 연산자의 모양을 자동으로 맞춘 후 연산이 실행되도록 하는 것을\n",
        "**브로드캐스팅**<font size='2'>broadcasting</font>이라 하며 넘파이 어레이 연산에 적용디는 그것과 동일하게 작동한다."
      ]
    },
    {
      "cell_type": "code",
      "execution_count": null,
      "metadata": {
        "id": "P8sypqmagHQN"
      },
      "outputs": [],
      "source": [
        "x = tf.constant([1, 2, 3])\n",
        "y = tf.constant(2)\n",
        "z = tf.constant([2, 2, 2])"
      ]
    },
    {
      "cell_type": "markdown",
      "metadata": {
        "id": "Pd-0lRkOExlq"
      },
      "source": [
        "다음 세 개의 연산 결과가 모두 동일하다."
      ]
    },
    {
      "cell_type": "code",
      "execution_count": null,
      "metadata": {
        "colab": {
          "base_uri": "https://localhost:8080/"
        },
        "id": "48i35zWsEufr",
        "outputId": "e66c35ec-b0a1-4953-85ae-91834bbf22f3"
      },
      "outputs": [
        {
          "name": "stdout",
          "output_type": "stream",
          "text": [
            "tf.Tensor([2 4 6], shape=(3,), dtype=int32)\n",
            "tf.Tensor([2 4 6], shape=(3,), dtype=int32)\n",
            "tf.Tensor([2 4 6], shape=(3,), dtype=int32)\n"
          ]
        }
      ],
      "source": [
        "print(tf.multiply(x, 2))\n",
        "print(x * y)\n",
        "print(x * z)"
      ]
    },
    {
      "cell_type": "markdown",
      "metadata": {
        "id": "o0SBoR6voWcb"
      },
      "source": [
        "벡터와 행렬의 연산도 유사하게 작동한다."
      ]
    },
    {
      "cell_type": "code",
      "execution_count": null,
      "metadata": {
        "colab": {
          "base_uri": "https://localhost:8080/"
        },
        "id": "6sGmkPg3XANr",
        "outputId": "31c39721-28f6-4e25-93fb-894c8df84a93"
      },
      "outputs": [
        {
          "data": {
            "text/plain": [
              "<tf.Tensor: shape=(3, 1), dtype=int32, numpy=\n",
              "array([[1],\n",
              "       [2],\n",
              "       [3]], dtype=int32)>"
            ]
          },
          "execution_count": 70,
          "metadata": {},
          "output_type": "execute_result"
        }
      ],
      "source": [
        "x = tf.reshape(x,[3,1])\n",
        "x"
      ]
    },
    {
      "cell_type": "code",
      "execution_count": null,
      "metadata": {
        "colab": {
          "base_uri": "https://localhost:8080/"
        },
        "id": "AlDKXkMmE7V7",
        "outputId": "5c025385-1284-4076-e4d6-12f923b2c541"
      },
      "outputs": [
        {
          "data": {
            "text/plain": [
              "<tf.Tensor: shape=(4,), dtype=int32, numpy=array([1, 2, 3, 4], dtype=int32)>"
            ]
          },
          "execution_count": 71,
          "metadata": {},
          "output_type": "execute_result"
        }
      ],
      "source": [
        "y = tf.range(1, 5)\n",
        "y"
      ]
    },
    {
      "cell_type": "markdown",
      "metadata": {
        "id": "xS_Tx-DJFH-X"
      },
      "source": [
        "아래 곱셈 연산은 먼저 `x`와 `y`를 모두\n",
        "`[3, 4]` 모양의 행렬로 브로드캐스팅을 한 다음에\n",
        "항목별 곱셈을 실행한다."
      ]
    },
    {
      "cell_type": "code",
      "execution_count": null,
      "metadata": {
        "colab": {
          "base_uri": "https://localhost:8080/"
        },
        "id": "ACbY-0LbE5TI",
        "outputId": "5397ed4e-6ede-4b85-fef8-aeb1d2c5ee6a"
      },
      "outputs": [
        {
          "data": {
            "text/plain": [
              "<tf.Tensor: shape=(3, 4), dtype=int32, numpy=\n",
              "array([[ 1,  2,  3,  4],\n",
              "       [ 2,  4,  6,  8],\n",
              "       [ 3,  6,  9, 12]], dtype=int32)>"
            ]
          },
          "execution_count": 72,
          "metadata": {},
          "output_type": "execute_result"
        }
      ],
      "source": [
        "x * y"
      ]
    },
    {
      "cell_type": "markdown",
      "metadata": {
        "id": "t_7sh-EUYLrE"
      },
      "source": [
        "<table>\n",
        "<tr>\n",
        "  <th>추가 시 브로드캐스팅: <code>[1, 4]</code>와 <code>[3, 1]</code>의 곱하기는 <code>[3,4]</code>입니다.</th>\n",
        "</tr>\n",
        "<tr>\n",
        "  <td> <img src=\"https://raw.githubusercontent.com/tensorflow/docs/master/site/en/guide/images/tensor/broadcasting.png\" alt=\"Adding a 3x1 matrix to a 4x1 matrix results in a 3x4 matrix\">   </td>\n",
        "</tr>\n",
        "</table>\n"
      ]
    },
    {
      "cell_type": "markdown",
      "metadata": {
        "id": "9V3KgSJcKDRz"
      },
      "source": [
        "실제로 내부적으로 아래 연산과 동일하게 작동한다."
      ]
    },
    {
      "cell_type": "code",
      "execution_count": null,
      "metadata": {
        "colab": {
          "base_uri": "https://localhost:8080/"
        },
        "id": "elrF6v63igY8",
        "outputId": "bccfe82f-f69c-40ed-c4dc-ec3ab0141e29"
      },
      "outputs": [
        {
          "name": "stdout",
          "output_type": "stream",
          "text": [
            "tf.Tensor(\n",
            "[[ 1  2  3  4]\n",
            " [ 2  4  6  8]\n",
            " [ 3  6  9 12]], shape=(3, 4), dtype=int32)\n"
          ]
        }
      ],
      "source": [
        "x_stretch = tf.constant([[1, 1, 1, 1],\n",
        "                         [2, 2, 2, 2],\n",
        "                         [3, 3, 3, 3]])\n",
        "\n",
        "y_stretch = tf.constant([[1, 2, 3, 4],\n",
        "                         [1, 2, 3, 4],\n",
        "                         [1, 2, 3, 4]])\n",
        "\n",
        "print(x_stretch * y_stretch)"
      ]
    },
    {
      "cell_type": "markdown",
      "metadata": {
        "id": "cJxeYjZwRUSh"
      },
      "source": [
        "## 다양한 종류의 텐서"
      ]
    },
    {
      "cell_type": "markdown",
      "metadata": {
        "id": "05bBVBVYV0y6"
      },
      "source": [
        "### 비정형 텐서"
      ]
    },
    {
      "cell_type": "markdown",
      "metadata": {
        "id": "ZG78SDEVPHJL"
      },
      "source": [
        "**비정형 텐서**<font size='2'>raggedn tensor</font>는\n",
        "벡터의 길이가 일정하지 않은 축이 사용되는 텐서를 가리킨다.\n",
        "`tf.Tensor` 자료형으로는 선언할 수 없으며\n",
        "대신 `tf.ragged.RaggedTensor` 자료형으로 선언한다.\n",
        "\n",
        "예를 들어, 아래 그림은 0번 축의 길이는 4이지만 1번 축의\n",
        "길이가 일정하지 않는 비정형 텐서를 보여준다.\n",
        "아래 비정형 텐서의 모양은 `[4, None]`으로 표시한다.\n",
        "`None`은 해당 축에 포함된 벡터들의 길이가 일정하지 않음을 의미한다."
      ]
    },
    {
      "cell_type": "markdown",
      "metadata": {
        "id": "VPc3jGoeJqB7"
      },
      "source": [
        "<table>\n",
        "<tr>\n",
        "  <th><code>[4, None]</code> 모양의 비정형 텐서 </th>\n",
        "</tr>\n",
        "<tr>\n",
        "  <td> <img src=\"https://raw.githubusercontent.com/tensorflow/docs/master/site/en/guide/images/tensor/ragged.png\" alt=\"A 2-axis ragged tensor, each row can have a different length.\">   </td>\n",
        "</tr>\n",
        "</table>"
      ]
    },
    {
      "cell_type": "markdown",
      "metadata": {
        "id": "Apu-EcvFQsO2"
      },
      "source": [
        "위 그림 모양의 비정형 텐서를 선언해 보자.\n",
        "이를 위해 아래 리스트를 이용한다."
      ]
    },
    {
      "cell_type": "code",
      "execution_count": null,
      "metadata": {
        "id": "VsbTjoFfNVBF"
      },
      "outputs": [],
      "source": [
        "ragged_list = [\n",
        "    [0, 1, 2, 3],\n",
        "    [4, 5],\n",
        "    [6, 7, 8],\n",
        "    [9]]"
      ]
    },
    {
      "cell_type": "markdown",
      "metadata": {
        "id": "MbmVJq_GQMub"
      },
      "source": [
        "정규 텐서로는 선언할 수 없다."
      ]
    },
    {
      "cell_type": "code",
      "execution_count": null,
      "metadata": {
        "colab": {
          "base_uri": "https://localhost:8080/"
        },
        "id": "p4xKTo57tutG",
        "outputId": "b3dcb0c8-64af-479e-e2aa-ddea0446ac20"
      },
      "outputs": [
        {
          "name": "stdout",
          "output_type": "stream",
          "text": [
            "ValueError: Can't convert non-rectangular Python sequence to Tensor.\n"
          ]
        }
      ],
      "source": [
        "try:\n",
        "  tensor = tf.constant(ragged_list)\n",
        "except Exception as e:\n",
        "  print(f\"{type(e).__name__}: {e}\")"
      ]
    },
    {
      "cell_type": "markdown",
      "metadata": {
        "id": "0cm9KuEeMLGI"
      },
      "source": [
        "대신 `tf.ragged.constant`를 사용하여 `tf.RaggedTensor`로 선언할 수 있다."
      ]
    },
    {
      "cell_type": "code",
      "execution_count": null,
      "metadata": {
        "colab": {
          "base_uri": "https://localhost:8080/"
        },
        "id": "XhF3QV3jiqTj",
        "outputId": "e418bf27-5b71-4e3f-d8e6-35fc38d24be6"
      },
      "outputs": [
        {
          "name": "stdout",
          "output_type": "stream",
          "text": [
            "<tf.RaggedTensor [[0, 1, 2, 3], [4, 5], [6, 7, 8], [9]]>\n"
          ]
        }
      ],
      "source": [
        "ragged_tensor = tf.ragged.constant(ragged_list)\n",
        "print(ragged_tensor)"
      ]
    },
    {
      "cell_type": "markdown",
      "metadata": {
        "id": "sFgHduHVNoIE"
      },
      "source": [
        "`tf.RaggedTensor`의 모양에서 축의 길이를 알 수 없는 축은 `None`으로 나타낸다."
      ]
    },
    {
      "cell_type": "code",
      "execution_count": null,
      "metadata": {
        "colab": {
          "base_uri": "https://localhost:8080/"
        },
        "id": "Eo_3wJUWNgqB",
        "outputId": "c120e6fe-f2fb-4c5c-c458-15075e2621bf"
      },
      "outputs": [
        {
          "name": "stdout",
          "output_type": "stream",
          "text": [
            "(4, None)\n"
          ]
        }
      ],
      "source": [
        "print(ragged_tensor.shape)"
      ]
    },
    {
      "cell_type": "markdown",
      "metadata": {
        "id": "ua8BnAzxkRKV"
      },
      "source": [
        "### 희소 텐서"
      ]
    },
    {
      "cell_type": "markdown",
      "metadata": {
        "id": "u5M5SIHVRgRa"
      },
      "source": [
        "텐서의 크기가 매우 큰 반면에 0이 아닌 항목의 개수가 상대적으로\n",
        "적을 때 희소 텐서<font size='2'>sparse tensor</font>를\n",
        "사용하면 메모리를 보다 효율적으로 활용할 수 있다.\n",
        "희소 텐서는 `tf.sparse.SparseTensor` 자료형이 지원한다.\n",
        "\n",
        "아래 그림은 `[3, 4]` 모양의 텐서 단 두 개의 값을 제외한 나머지는\n",
        "0인 희소 텐서를 보여준다."
      ]
    },
    {
      "cell_type": "markdown",
      "metadata": {
        "id": "mS5zgqgUTPRb"
      },
      "source": [
        "<table>\n",
        "<tr>\n",
        "  <th>`tf.SparseTensor`, 모양: <code>[3, 4]</code> </th>\n",
        "</tr>\n",
        "<tr>\n",
        "  <td> <img src=\"https://raw.githubusercontent.com/tensorflow/docs/master/site/en/guide/images/tensor/sparse.png\" alt=\"An 3x4 grid, with values in only two of the cells.\">   </td>\n",
        "</tr>\n",
        "</table>"
      ]
    },
    {
      "cell_type": "markdown",
      "metadata": {
        "id": "6Z0czxlsfRlC"
      },
      "source": [
        "아래 `sparse_tensor` 변수는 위 그림으로 표현된\n",
        "희소 텐서를 가리킨다.\n",
        "`tf.sparse.SparseTensor` 객체를 선언할 때\n",
        "다음 세 개의 인자를 지정한다.\n",
        "\n",
        "- `indices`: 0이 아닌 항목들의 인덱스로 구성된 리스트\n",
        "- `values`: 지정된 인덱스에 위치하는 항목들의 리스트\n",
        "- `dense_shape`: 텐서의 모양"
      ]
    },
    {
      "cell_type": "code",
      "execution_count": null,
      "metadata": {
        "colab": {
          "base_uri": "https://localhost:8080/"
        },
        "id": "B9nbO1E2kSUN",
        "outputId": "10f6f9b1-f3ad-4878-dd96-a283a65e1d4d"
      },
      "outputs": [
        {
          "data": {
            "text/plain": [
              "SparseTensor(indices=tf.Tensor(\n",
              "[[0 0]\n",
              " [1 2]], shape=(2, 2), dtype=int64), values=tf.Tensor([1 2], shape=(2,), dtype=int32), dense_shape=tf.Tensor([3 4], shape=(2,), dtype=int64))"
            ]
          },
          "execution_count": 78,
          "metadata": {},
          "output_type": "execute_result"
        }
      ],
      "source": [
        "sparse_tensor = tf.sparse.SparseTensor(indices=[[0, 0], [1, 2]],\n",
        "                                       values=[1, 2],\n",
        "                                       dense_shape=[3, 4])\n",
        "sparse_tensor"
      ]
    },
    {
      "cell_type": "markdown",
      "metadata": {
        "id": "XY5k5kKqf-ST"
      },
      "source": [
        "**밀집 텐서 대 희소 텐서**\n",
        "\n",
        "일반적인 텐서를 **밀집 텐서**<font size='2'>dense tensor</font>라\n",
        "부른다.\n",
        "텐서플로우는 내부적으로 희소 텐서와 밀집 텐서를 모두 다룰 수 있으며\n",
        "필요에 따라 변환해서 사용한다.\n",
        "\n",
        "희소 텐서를 밀집 텐서로 직접 변환하려면\n",
        "`tf.sparse.to_dense()` 함수를 이용하면 된다."
      ]
    },
    {
      "cell_type": "code",
      "execution_count": null,
      "metadata": {
        "colab": {
          "base_uri": "https://localhost:8080/"
        },
        "id": "CpRtagaZf5D5",
        "outputId": "7ba6bb76-fbe5-4e76-e30c-01c9be59eaf2"
      },
      "outputs": [
        {
          "data": {
            "text/plain": [
              "<tf.Tensor: shape=(3, 4), dtype=int32, numpy=\n",
              "array([[1, 0, 0, 0],\n",
              "       [0, 0, 2, 0],\n",
              "       [0, 0, 0, 0]], dtype=int32)>"
            ]
          },
          "execution_count": 79,
          "metadata": {},
          "output_type": "execute_result"
        }
      ],
      "source": [
        "dense_tensor = tf.sparse.to_dense(sparse_tensor)\n",
        "dense_tensor"
      ]
    },
    {
      "cell_type": "markdown",
      "metadata": {
        "id": "ct0dZkb0gypV"
      },
      "source": [
        "반면에 `tf.sparse.from_dense()` 함수는 밀집 텐서를 희소 텐서로 변환한다."
      ]
    },
    {
      "cell_type": "code",
      "execution_count": null,
      "metadata": {
        "colab": {
          "base_uri": "https://localhost:8080/"
        },
        "id": "v1xx6y5ygrow",
        "outputId": "8a1ff391-5760-435b-a31b-75d7567f5dcc"
      },
      "outputs": [
        {
          "data": {
            "text/plain": [
              "SparseTensor(indices=tf.Tensor(\n",
              "[[0 0]\n",
              " [1 2]], shape=(2, 2), dtype=int64), values=tf.Tensor([1 2], shape=(2,), dtype=int32), dense_shape=tf.Tensor([3 4], shape=(2,), dtype=int64))"
            ]
          },
          "execution_count": 80,
          "metadata": {},
          "output_type": "execute_result"
        }
      ],
      "source": [
        "tf.sparse.from_dense(dense_tensor)"
      ]
    }
  ],
  "metadata": {
    "colab": {
      "collapsed_sections": [
        "Tce3stUlHN0L"
      ],
      "include_colab_link": true,
      "provenance": []
    },
    "kernelspec": {
      "display_name": "base",
      "language": "python",
      "name": "python3"
    },
    "language_info": {
      "codemirror_mode": {
        "name": "ipython",
        "version": 3
      },
      "file_extension": ".py",
      "mimetype": "text/x-python",
      "name": "python",
      "nbconvert_exporter": "python",
      "pygments_lexer": "ipython3",
      "version": "3.12.7"
    }
  },
  "nbformat": 4,
  "nbformat_minor": 0
}
