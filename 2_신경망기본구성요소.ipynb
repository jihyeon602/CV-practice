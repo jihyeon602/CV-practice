{
  "cells": [
    {
      "cell_type": "markdown",
      "metadata": {
        "id": "view-in-github",
        "colab_type": "text"
      },
      "source": [
        "<a href=\"https://colab.research.google.com/github/jihyeon602/DeepLearning_practice/blob/main/2_%EC%8B%A0%EA%B2%BD%EB%A7%9D%EA%B8%B0%EB%B3%B8%EA%B5%AC%EC%84%B1%EC%9A%94%EC%86%8C.ipynb\" target=\"_parent\"><img src=\"https://colab.research.google.com/assets/colab-badge.svg\" alt=\"Open In Colab\"/></a>"
      ]
    },
    {
      "cell_type": "markdown",
      "metadata": {
        "id": "xvIsWG2Ry__A"
      },
      "source": [
        "# 2. 신경망 기본 구성 요소"
      ]
    },
    {
      "cell_type": "markdown",
      "metadata": {
        "id": "Yt3BrjZhy__C"
      },
      "source": [
        "__감사말__\n",
        "\n",
        "프랑소와 숄레의 [Deep Learning with Python, Second Edition](https://www.manning.com/books/deep-learning-with-python-second-edition?a_aid=keras&a_bid=76564dff) 2장에 사용된 코드에 대한 설명을 담고 있으며 텐서플로우 2.6 버전 이상에서 작성되었습니다. 소스코드를 공개한 저자에게 감사드립니다."
      ]
    },
    {
      "cell_type": "markdown",
      "metadata": {
        "id": "E0mqV3chy__D"
      },
      "source": [
        "__구글 코랩 설정__\n",
        "\n",
        "'런타임 -> 런타임 유형 변경' 메뉴에서 GPU를 지정한다.\n",
        "TensorFlow 버전을 확인하려면 아래 명령문을 실행한다."
      ]
    },
    {
      "cell_type": "code",
      "execution_count": 1,
      "metadata": {
        "colab": {
          "base_uri": "https://localhost:8080/",
          "height": 35
        },
        "id": "jtZ4jazRy__D",
        "outputId": "4264fdcc-14ad-4945-8c3c-368986140317"
      },
      "outputs": [
        {
          "output_type": "execute_result",
          "data": {
            "text/plain": [
              "'2.18.0'"
            ],
            "application/vnd.google.colaboratory.intrinsic+json": {
              "type": "string"
            }
          },
          "metadata": {},
          "execution_count": 1
        }
      ],
      "source": [
        "import tensorflow as tf\n",
        "tf.__version__\n",
        "# /content"
      ]
    },
    {
      "cell_type": "markdown",
      "metadata": {
        "id": "jZWR1UN4y__E"
      },
      "source": [
        "TensorFlow가 GPU를 사용하는지 여부를 확인하려면 아래 명령문을 실행한다.\n",
        "아래와 같은 결과가 나오면 GPU가 제대로 지원됨을 의미한다.\n",
        "\n",
        "```\n",
        "[PhysicalDevice(name='/physical_device:GPU:0', device_type='GPU')]\n",
        "```"
      ]
    },
    {
      "cell_type": "code",
      "execution_count": null,
      "metadata": {
        "colab": {
          "base_uri": "https://localhost:8080/"
        },
        "id": "Yw21j68Iy__F",
        "outputId": "0629aa79-3052-4efb-b7c8-df307b615b70"
      },
      "outputs": [
        {
          "output_type": "execute_result",
          "data": {
            "text/plain": [
              "[PhysicalDevice(name='/physical_device:GPU:0', device_type='GPU')]"
            ]
          },
          "metadata": {},
          "execution_count": 2
        }
      ],
      "source": [
        "tf.config.list_physical_devices('GPU')"
      ]
    },
    {
      "cell_type": "markdown",
      "metadata": {
        "id": "Edb4iafzy__F"
      },
      "source": [
        "**참고**\n",
        "\n",
        "아래 코드에 대한 자세한 설명은\n",
        "[신경망 구성 요소](https://codingalzi.github.io/dlp2/building_blocks_of_NN.html)를\n",
        "참고한다."
      ]
    },
    {
      "cell_type": "markdown",
      "metadata": {
        "id": "Hk41wUaFy__F"
      },
      "source": [
        "## 신경망 모델 기초 훈련법"
      ]
    },
    {
      "cell_type": "markdown",
      "metadata": {
        "id": "BI-YOA0ey__F"
      },
      "source": [
        "**케라스로 MNIST 데이터셋 불러오기**"
      ]
    },
    {
      "cell_type": "code",
      "execution_count": null,
      "metadata": {
        "id": "45E7DGa2y__G",
        "colab": {
          "base_uri": "https://localhost:8080/"
        },
        "outputId": "f58afe76-5ea2-42f1-9480-aba3134a2ab4"
      },
      "outputs": [
        {
          "output_type": "stream",
          "name": "stdout",
          "text": [
            "Downloading data from https://storage.googleapis.com/tensorflow/tf-keras-datasets/mnist.npz\n",
            "\u001b[1m11490434/11490434\u001b[0m \u001b[32m━━━━━━━━━━━━━━━━━━━━\u001b[0m\u001b[37m\u001b[0m \u001b[1m0s\u001b[0m 0us/step\n"
          ]
        }
      ],
      "source": [
        "from tensorflow.keras.datasets import mnist\n",
        "(train_images, train_labels), (test_images, test_labels) = mnist.load_data()"
      ]
    },
    {
      "cell_type": "markdown",
      "metadata": {
        "id": "U1DBxnlzy__G"
      },
      "source": [
        "훈련셋 정보"
      ]
    },
    {
      "cell_type": "code",
      "execution_count": null,
      "metadata": {
        "colab": {
          "base_uri": "https://localhost:8080/"
        },
        "id": "NMo8Sg5by__G",
        "outputId": "9bfe5d79-7e26-44cf-e41e-70663ab2d681"
      },
      "outputs": [
        {
          "output_type": "execute_result",
          "data": {
            "text/plain": [
              "(60000, 28, 28)"
            ]
          },
          "metadata": {},
          "execution_count": 4
        }
      ],
      "source": [
        "train_images.shape # (batch, h, w)"
      ]
    },
    {
      "cell_type": "code",
      "execution_count": null,
      "metadata": {
        "colab": {
          "base_uri": "https://localhost:8080/"
        },
        "id": "jYjVbz7ly__G",
        "outputId": "f8feabcc-f6f4-46f5-9080-4ee765254a4a"
      },
      "outputs": [
        {
          "output_type": "execute_result",
          "data": {
            "text/plain": [
              "60000"
            ]
          },
          "metadata": {},
          "execution_count": 5
        }
      ],
      "source": [
        "len(train_labels)"
      ]
    },
    {
      "cell_type": "code",
      "execution_count": null,
      "metadata": {
        "colab": {
          "base_uri": "https://localhost:8080/"
        },
        "id": "ECvFl9-yy__H",
        "outputId": "9b6174b7-eb20-4c9c-cbdd-aff136c6c6a6"
      },
      "outputs": [
        {
          "output_type": "execute_result",
          "data": {
            "text/plain": [
              "array([5, 0, 4, ..., 5, 6, 8], dtype=uint8)"
            ]
          },
          "metadata": {},
          "execution_count": 6
        }
      ],
      "source": [
        "train_labels"
      ]
    },
    {
      "cell_type": "markdown",
      "metadata": {
        "id": "Wi60352cy__H"
      },
      "source": [
        "테스트셋 정보"
      ]
    },
    {
      "cell_type": "code",
      "execution_count": null,
      "metadata": {
        "colab": {
          "base_uri": "https://localhost:8080/"
        },
        "id": "fpKBf_epy__H",
        "outputId": "14069a8e-790b-42f7-dc4c-f617d45a0f19"
      },
      "outputs": [
        {
          "output_type": "execute_result",
          "data": {
            "text/plain": [
              "(10000, 28, 28)"
            ]
          },
          "metadata": {},
          "execution_count": 7
        }
      ],
      "source": [
        "test_images.shape"
      ]
    },
    {
      "cell_type": "code",
      "execution_count": null,
      "metadata": {
        "colab": {
          "base_uri": "https://localhost:8080/"
        },
        "id": "w9i1GOJ1y__H",
        "outputId": "e70125fb-82bf-4d52-8cd2-bff5707c1429"
      },
      "outputs": [
        {
          "output_type": "execute_result",
          "data": {
            "text/plain": [
              "10000"
            ]
          },
          "metadata": {},
          "execution_count": 8
        }
      ],
      "source": [
        "len(test_labels)"
      ]
    },
    {
      "cell_type": "code",
      "execution_count": null,
      "metadata": {
        "colab": {
          "base_uri": "https://localhost:8080/"
        },
        "id": "Y3sTT_cuy__H",
        "outputId": "2ab89239-aaab-44b8-9ae4-68a544c42fa8"
      },
      "outputs": [
        {
          "output_type": "execute_result",
          "data": {
            "text/plain": [
              "array([7, 2, 1, ..., 4, 5, 6], dtype=uint8)"
            ]
          },
          "metadata": {},
          "execution_count": 9
        }
      ],
      "source": [
        "test_labels"
      ]
    },
    {
      "cell_type": "markdown",
      "metadata": {
        "id": "rEKfy7a-y__H"
      },
      "source": [
        "**신경망 모델의 구조 지정**"
      ]
    },
    {
      "cell_type": "code",
      "execution_count": null,
      "metadata": {
        "id": "EIToZTtCy__H"
      },
      "outputs": [],
      "source": [
        "from tensorflow import keras\n",
        "from tensorflow.keras import layers\n",
        "\n",
        "model = keras.Sequential([\n",
        "    layers.Dense(512, activation=\"relu\"), # 음수면 => 0\n",
        "    layers.Dense(10, activation=\"softmax\") # 확률의 합을 1로 만들어 주는 함수\n",
        "])"
      ]
    },
    {
      "cell_type": "markdown",
      "metadata": {
        "id": "GaBjMX1Oy__I"
      },
      "source": [
        "**신경망 모델 컴파일**"
      ]
    },
    {
      "cell_type": "code",
      "execution_count": null,
      "metadata": {
        "id": "dy78iTSdy__I"
      },
      "outputs": [],
      "source": [
        "model.compile(optimizer=\"rmsprop\",\n",
        "              loss=\"sparse_categorical_crossentropy\",\n",
        "              metrics=[\"accuracy\"])"
      ]
    },
    {
      "cell_type": "markdown",
      "metadata": {
        "id": "yjg1lcsZy__I"
      },
      "source": [
        "**이미지 데이터 전처리**"
      ]
    },
    {
      "cell_type": "code",
      "execution_count": null,
      "metadata": {
        "id": "wudkmfOLy__I"
      },
      "outputs": [],
      "source": [
        "train_images = train_images.reshape((60000, 28 * 28)) # flatten => 784\n",
        "train_images = train_images.astype(\"float32\") / 255   # 0과 1사이의 값\n",
        "test_images = test_images.reshape((10000, 28 * 28))\n",
        "test_images = test_images.astype(\"float32\") / 255     # 0과 1사이의 값"
      ]
    },
    {
      "cell_type": "markdown",
      "metadata": {
        "id": "lvxA4vnFZTEe"
      },
      "source": [
        "**검증셋 지정**"
      ]
    },
    {
      "cell_type": "code",
      "execution_count": null,
      "metadata": {
        "id": "fv0vPEfnZTEe"
      },
      "outputs": [],
      "source": [
        "val_images = train_images[:10000]    # 검증셋. 샘플 1만 개\n",
        "train_images = train_images[10000:]  # 훈련셋. 샘플 5만 개\n",
        "\n",
        "val_labels = train_labels[:10000]    # 검증셋 타깃\n",
        "train_labels = train_labels[10000:]  # 훈련셋 타깃"
      ]
    },
    {
      "cell_type": "markdown",
      "metadata": {
        "id": "t1FMIL4Iy__I"
      },
      "source": [
        "**모델 훈련**"
      ]
    },
    {
      "cell_type": "code",
      "execution_count": null,
      "metadata": {
        "colab": {
          "base_uri": "https://localhost:8080/"
        },
        "id": "tSz-VcdSy__I",
        "outputId": "9fe14dc1-0b6b-40c5-de5c-62bdd288e446"
      },
      "outputs": [
        {
          "output_type": "stream",
          "name": "stdout",
          "text": [
            "Epoch 1/10\n",
            "\u001b[1m391/391\u001b[0m \u001b[32m━━━━━━━━━━━━━━━━━━━━\u001b[0m\u001b[37m\u001b[0m \u001b[1m5s\u001b[0m 7ms/step - accuracy: 0.8665 - loss: 0.4666 - val_accuracy: 0.9551 - val_loss: 0.1556\n",
            "Epoch 2/10\n",
            "\u001b[1m391/391\u001b[0m \u001b[32m━━━━━━━━━━━━━━━━━━━━\u001b[0m\u001b[37m\u001b[0m \u001b[1m2s\u001b[0m 3ms/step - accuracy: 0.9619 - loss: 0.1328 - val_accuracy: 0.9664 - val_loss: 0.1127\n",
            "Epoch 3/10\n",
            "\u001b[1m391/391\u001b[0m \u001b[32m━━━━━━━━━━━━━━━━━━━━\u001b[0m\u001b[37m\u001b[0m \u001b[1m1s\u001b[0m 3ms/step - accuracy: 0.9765 - loss: 0.0793 - val_accuracy: 0.9746 - val_loss: 0.0866\n",
            "Epoch 4/10\n",
            "\u001b[1m391/391\u001b[0m \u001b[32m━━━━━━━━━━━━━━━━━━━━\u001b[0m\u001b[37m\u001b[0m \u001b[1m1s\u001b[0m 3ms/step - accuracy: 0.9838 - loss: 0.0561 - val_accuracy: 0.9727 - val_loss: 0.0939\n",
            "Epoch 5/10\n",
            "\u001b[1m391/391\u001b[0m \u001b[32m━━━━━━━━━━━━━━━━━━━━\u001b[0m\u001b[37m\u001b[0m \u001b[1m1s\u001b[0m 3ms/step - accuracy: 0.9875 - loss: 0.0427 - val_accuracy: 0.9766 - val_loss: 0.0785\n",
            "Epoch 6/10\n",
            "\u001b[1m391/391\u001b[0m \u001b[32m━━━━━━━━━━━━━━━━━━━━\u001b[0m\u001b[37m\u001b[0m \u001b[1m2s\u001b[0m 4ms/step - accuracy: 0.9912 - loss: 0.0313 - val_accuracy: 0.9780 - val_loss: 0.0732\n",
            "Epoch 7/10\n",
            "\u001b[1m391/391\u001b[0m \u001b[32m━━━━━━━━━━━━━━━━━━━━\u001b[0m\u001b[37m\u001b[0m \u001b[1m2s\u001b[0m 3ms/step - accuracy: 0.9944 - loss: 0.0223 - val_accuracy: 0.9793 - val_loss: 0.0723\n",
            "Epoch 8/10\n",
            "\u001b[1m391/391\u001b[0m \u001b[32m━━━━━━━━━━━━━━━━━━━━\u001b[0m\u001b[37m\u001b[0m \u001b[1m1s\u001b[0m 3ms/step - accuracy: 0.9956 - loss: 0.0180 - val_accuracy: 0.9807 - val_loss: 0.0686\n",
            "Epoch 9/10\n",
            "\u001b[1m391/391\u001b[0m \u001b[32m━━━━━━━━━━━━━━━━━━━━\u001b[0m\u001b[37m\u001b[0m \u001b[1m1s\u001b[0m 3ms/step - accuracy: 0.9971 - loss: 0.0121 - val_accuracy: 0.9812 - val_loss: 0.0724\n",
            "Epoch 10/10\n",
            "\u001b[1m391/391\u001b[0m \u001b[32m━━━━━━━━━━━━━━━━━━━━\u001b[0m\u001b[37m\u001b[0m \u001b[1m1s\u001b[0m 3ms/step - accuracy: 0.9983 - loss: 0.0083 - val_accuracy: 0.9808 - val_loss: 0.0728\n"
          ]
        },
        {
          "output_type": "execute_result",
          "data": {
            "text/plain": [
              "<keras.src.callbacks.history.History at 0x7cfc93d2b010>"
            ]
          },
          "metadata": {},
          "execution_count": 14
        }
      ],
      "source": [
        "model.fit(train_images,\n",
        "          train_labels,\n",
        "          epochs=10,\n",
        "          batch_size=128,\n",
        "          validation_data=(val_images, val_labels))"
      ]
    },
    {
      "cell_type": "markdown",
      "metadata": {
        "id": "EoAVLxcrAibH"
      },
      "source": [
        "## 훈련된 모델 활용과 평가"
      ]
    },
    {
      "cell_type": "markdown",
      "metadata": {
        "id": "9tC9jw3Iy__I"
      },
      "source": [
        "**모델 활용: 예측하기**"
      ]
    },
    {
      "cell_type": "code",
      "execution_count": null,
      "metadata": {
        "colab": {
          "base_uri": "https://localhost:8080/"
        },
        "id": "D6GoJWW7y__I",
        "outputId": "e43c8538-ccf8-43e1-a717-6267a9f978ea"
      },
      "outputs": [
        {
          "output_type": "stream",
          "name": "stdout",
          "text": [
            "\u001b[1m1/1\u001b[0m \u001b[32m━━━━━━━━━━━━━━━━━━━━\u001b[0m\u001b[37m\u001b[0m \u001b[1m0s\u001b[0m 253ms/step\n"
          ]
        }
      ],
      "source": [
        "test_digits = test_images[0:10]\n",
        "predictions = model.predict(test_digits)"
      ]
    },
    {
      "cell_type": "markdown",
      "metadata": {
        "id": "hZcQihkay__I"
      },
      "source": [
        "0번 이미지에 대한 예측값"
      ]
    },
    {
      "cell_type": "code",
      "execution_count": null,
      "metadata": {
        "colab": {
          "base_uri": "https://localhost:8080/"
        },
        "id": "GJK2oL_ky__J",
        "outputId": "89a81366-81b3-4edc-e7b2-daae3a64e580"
      },
      "outputs": [
        {
          "output_type": "execute_result",
          "data": {
            "text/plain": [
              "array([2.6727984e-09, 1.8644722e-10, 4.8377541e-07, 4.1036943e-05,\n",
              "       8.9908484e-13, 3.8451148e-10, 1.7759259e-13, 9.9995339e-01,\n",
              "       3.3493788e-09, 5.1417915e-06], dtype=float32)"
            ]
          },
          "metadata": {},
          "execution_count": 18
        }
      ],
      "source": [
        "predictions[0]"
      ]
    },
    {
      "cell_type": "markdown",
      "metadata": {
        "id": "cOw37ywgy__J"
      },
      "source": [
        "가장 높은 확률값을 갖는 인덱스는 7."
      ]
    },
    {
      "cell_type": "code",
      "execution_count": null,
      "metadata": {
        "colab": {
          "base_uri": "https://localhost:8080/"
        },
        "id": "Ophkxh3Iy__J",
        "outputId": "1fe8b6da-e2b2-40db-aafb-e3bbe5dbadf5"
      },
      "outputs": [
        {
          "data": {
            "text/plain": [
              "7"
            ]
          },
          "execution_count": 20,
          "metadata": {},
          "output_type": "execute_result"
        }
      ],
      "source": [
        "predictions[0].argmax() # 7번"
      ]
    },
    {
      "cell_type": "markdown",
      "metadata": {
        "id": "a9s0YH9oy__J"
      },
      "source": [
        "0번 이미지가 가리키는 숫자가 7일 확률이 99.98% 정도."
      ]
    },
    {
      "cell_type": "code",
      "execution_count": null,
      "metadata": {
        "colab": {
          "base_uri": "https://localhost:8080/"
        },
        "id": "UOtPVfEsy__J",
        "outputId": "5215da91-60d2-4ee6-e0e2-0e017498c384"
      },
      "outputs": [
        {
          "output_type": "execute_result",
          "data": {
            "text/plain": [
              "np.float32(0.9999534)"
            ]
          },
          "metadata": {},
          "execution_count": 19
        }
      ],
      "source": [
        "predictions[0][7]"
      ]
    },
    {
      "cell_type": "markdown",
      "metadata": {
        "id": "oKkWkt3Dy__J"
      },
      "source": [
        "실제로 첫째 이미지의 레이블이 7임."
      ]
    },
    {
      "cell_type": "code",
      "execution_count": null,
      "metadata": {
        "colab": {
          "base_uri": "https://localhost:8080/"
        },
        "id": "F03tOMo1y__J",
        "outputId": "16ffec4d-ec37-4d2f-ae8d-17440b5ba2f5"
      },
      "outputs": [
        {
          "output_type": "execute_result",
          "data": {
            "text/plain": [
              "np.uint8(7)"
            ]
          },
          "metadata": {},
          "execution_count": 20
        }
      ],
      "source": [
        "test_labels[0]"
      ]
    },
    {
      "cell_type": "markdown",
      "metadata": {
        "id": "YwCJkvWIy__J"
      },
      "source": [
        "**모델 성능 테스트**"
      ]
    },
    {
      "cell_type": "code",
      "execution_count": null,
      "metadata": {
        "colab": {
          "base_uri": "https://localhost:8080/"
        },
        "id": "gzM0AJLsy__J",
        "outputId": "899cf271-c16a-4726-90fd-280ff8da40f4"
      },
      "outputs": [
        {
          "output_type": "stream",
          "name": "stdout",
          "text": [
            "\u001b[1m313/313\u001b[0m \u001b[32m━━━━━━━━━━━━━━━━━━━━\u001b[0m\u001b[37m\u001b[0m \u001b[1m1s\u001b[0m 3ms/step - accuracy: 0.9766 - loss: 0.0778\n",
            "test_acc: 0.9804999828338623\n",
            "test_acc: 0.06613308191299438\n"
          ]
        }
      ],
      "source": [
        "test_loss, test_acc = model.evaluate(test_images, test_labels)\n",
        "print(f\"test_acc: {test_acc}\")\n",
        "print(f\"test_acc: {test_loss}\")"
      ]
    }
  ],
  "metadata": {
    "colab": {
      "provenance": [],
      "gpuType": "T4",
      "include_colab_link": true
    },
    "kernelspec": {
      "display_name": "Python 3",
      "name": "python3"
    },
    "language_info": {
      "codemirror_mode": {
        "name": "ipython",
        "version": 3
      },
      "file_extension": ".py",
      "mimetype": "text/x-python",
      "name": "python",
      "nbconvert_exporter": "python",
      "pygments_lexer": "ipython3",
      "version": "3.11.11"
    },
    "accelerator": "GPU"
  },
  "nbformat": 4,
  "nbformat_minor": 0
}