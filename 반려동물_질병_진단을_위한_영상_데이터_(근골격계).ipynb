{
  "nbformat": 4,
  "nbformat_minor": 0,
  "metadata": {
    "colab": {
      "provenance": [],
      "machine_shape": "hm",
      "gpuType": "A100",
      "authorship_tag": "ABX9TyPpRT8tEXr98afFQsuh+tz7",
      "include_colab_link": true
    },
    "kernelspec": {
      "name": "python3",
      "display_name": "Python 3"
    },
    "language_info": {
      "name": "python"
    },
    "accelerator": "GPU"
  },
  "cells": [
    {
      "cell_type": "markdown",
      "metadata": {
        "id": "view-in-github",
        "colab_type": "text"
      },
      "source": [
        "<a href=\"https://colab.research.google.com/github/jihyeon602/DeepLearning_practice/blob/main/%EB%B0%98%EB%A0%A4%EB%8F%99%EB%AC%BC_%EC%A7%88%EB%B3%91_%EC%A7%84%EB%8B%A8%EC%9D%84_%EC%9C%84%ED%95%9C_%EC%98%81%EC%83%81_%EB%8D%B0%EC%9D%B4%ED%84%B0_(%EA%B7%BC%EA%B3%A8%EA%B2%A9%EA%B3%84).ipynb\" target=\"_parent\"><img src=\"https://colab.research.google.com/assets/colab-badge.svg\" alt=\"Open In Colab\"/></a>"
      ]
    },
    {
      "cell_type": "markdown",
      "source": [
        "### 파일 로드"
      ],
      "metadata": {
        "id": "wn1AdccM0cBb"
      }
    },
    {
      "cell_type": "code",
      "execution_count": 1,
      "metadata": {
        "id": "DCJOu4sBkPvd",
        "colab": {
          "base_uri": "https://localhost:8080/"
        },
        "outputId": "649c1c15-ff0e-4476-bb8f-421b284bead5"
      },
      "outputs": [
        {
          "output_type": "stream",
          "name": "stdout",
          "text": [
            "Requirement already satisfied: gdown in /usr/local/lib/python3.11/dist-packages (5.2.0)\n",
            "Requirement already satisfied: beautifulsoup4 in /usr/local/lib/python3.11/dist-packages (from gdown) (4.13.4)\n",
            "Requirement already satisfied: filelock in /usr/local/lib/python3.11/dist-packages (from gdown) (3.18.0)\n",
            "Requirement already satisfied: requests[socks] in /usr/local/lib/python3.11/dist-packages (from gdown) (2.32.3)\n",
            "Requirement already satisfied: tqdm in /usr/local/lib/python3.11/dist-packages (from gdown) (4.67.1)\n",
            "Requirement already satisfied: soupsieve>1.2 in /usr/local/lib/python3.11/dist-packages (from beautifulsoup4->gdown) (2.7)\n",
            "Requirement already satisfied: typing-extensions>=4.0.0 in /usr/local/lib/python3.11/dist-packages (from beautifulsoup4->gdown) (4.13.2)\n",
            "Requirement already satisfied: charset-normalizer<4,>=2 in /usr/local/lib/python3.11/dist-packages (from requests[socks]->gdown) (3.4.1)\n",
            "Requirement already satisfied: idna<4,>=2.5 in /usr/local/lib/python3.11/dist-packages (from requests[socks]->gdown) (3.10)\n",
            "Requirement already satisfied: urllib3<3,>=1.21.1 in /usr/local/lib/python3.11/dist-packages (from requests[socks]->gdown) (2.3.0)\n",
            "Requirement already satisfied: certifi>=2017.4.17 in /usr/local/lib/python3.11/dist-packages (from requests[socks]->gdown) (2025.1.31)\n",
            "Requirement already satisfied: PySocks!=1.5.7,>=1.5.6 in /usr/local/lib/python3.11/dist-packages (from requests[socks]->gdown) (1.7.1)\n",
            "Downloading...\n",
            "From (original): https://drive.google.com/uc?id=11SIkR8k0sUVKF9t73HcVo5Ib_rNjLLWD\n",
            "From (redirected): https://drive.google.com/uc?id=11SIkR8k0sUVKF9t73HcVo5Ib_rNjLLWD&confirm=t&uuid=e6ebd024-2246-4cdd-9e96-a0396d07f130\n",
            "To: /content/VS1_CAT.zip\n",
            "100% 275M/275M [00:03<00:00, 72.1MB/s]\n"
          ]
        }
      ],
      "source": [
        "!pip install -U gdown\n",
        "\n",
        "!gdown 11SIkR8k0sUVKF9t73HcVo5Ib_rNjLLWD --output VS1_CAT.zip"
      ]
    },
    {
      "cell_type": "code",
      "execution_count": 2,
      "metadata": {
        "outputId": "2b6b8460-0646-4e2c-fbb6-4b89b3348b15",
        "colab": {
          "base_uri": "https://localhost:8080/"
        },
        "id": "aXbBSrQKUqdB"
      },
      "outputs": [
        {
          "output_type": "stream",
          "name": "stdout",
          "text": [
            "Downloading...\n",
            "From (original): https://drive.google.com/uc?id=1qZz9TX7PmIyuXCxv-4yLnXtL52zrGpCY\n",
            "From (redirected): https://drive.google.com/uc?id=1qZz9TX7PmIyuXCxv-4yLnXtL52zrGpCY&confirm=t&uuid=006c0437-7ba6-4e1b-9a38-837f586bcb71\n",
            "To: /content/TS1_CAT.zip\n",
            "100% 2.37G/2.37G [00:24<00:00, 95.0MB/s]\n"
          ]
        }
      ],
      "source": [
        "!gdown 1qZz9TX7PmIyuXCxv-4yLnXtL52zrGpCY --output TS1_CAT.zip"
      ]
    },
    {
      "cell_type": "code",
      "source": [
        "!gdown 1kbXp-wI1dlX_9TgPxG9juScrOoBUf5l6 --output TL1_CAT.zip\n",
        "!gdown 1tawhyY-iN3rzw99NZ9678gG-dioYKtmH --output VL1_CAT.zip"
      ],
      "metadata": {
        "colab": {
          "base_uri": "https://localhost:8080/"
        },
        "id": "lNDw3mqeVC56",
        "outputId": "edfa1506-81f2-4e94-adbe-837cb74d5481"
      },
      "execution_count": 3,
      "outputs": [
        {
          "output_type": "stream",
          "name": "stdout",
          "text": [
            "Downloading...\n",
            "From (original): https://drive.google.com/uc?id=1kbXp-wI1dlX_9TgPxG9juScrOoBUf5l6\n",
            "From (redirected): https://drive.google.com/uc?id=1kbXp-wI1dlX_9TgPxG9juScrOoBUf5l6&confirm=t&uuid=6b1cd509-7fe3-45a6-9ed4-3c69def18034\n",
            "To: /content/TL1_CAT.zip\n",
            "100% 6.23M/6.23M [00:00<00:00, 118MB/s]\n",
            "Downloading...\n",
            "From: https://drive.google.com/uc?id=1tawhyY-iN3rzw99NZ9678gG-dioYKtmH\n",
            "To: /content/VL1_CAT.zip\n",
            "100% 761k/761k [00:00<00:00, 132MB/s]\n"
          ]
        }
      ]
    },
    {
      "cell_type": "code",
      "source": [
        "#!file TS1_CAT.zip"
      ],
      "metadata": {
        "id": "I69j4bDtyya1"
      },
      "execution_count": null,
      "outputs": []
    },
    {
      "cell_type": "code",
      "source": [
        "import zipfile\n",
        "\n",
        "zip_file_path = '/content/VL1_CAT.zip'\n",
        "extract_to = '/content/CAT/labels_json/val'\n",
        "\n",
        "with zipfile.ZipFile(zip_file_path, 'r') as zip_ref:\n",
        "    zip_ref.extractall(extract_to)\n",
        "\n",
        "print(\"압축 해제 완료!\")"
      ],
      "metadata": {
        "colab": {
          "base_uri": "https://localhost:8080/"
        },
        "id": "rKFtOnE2w43q",
        "outputId": "100ac778-63d5-4784-88bb-4cf1495ad14b"
      },
      "execution_count": 4,
      "outputs": [
        {
          "output_type": "stream",
          "name": "stdout",
          "text": [
            "압축 해제 완료!\n"
          ]
        }
      ]
    },
    {
      "cell_type": "code",
      "source": [
        "zip_file_path = '/content/VS1_CAT.zip'\n",
        "extract_to = '/content/CAT/images/val'\n",
        "\n",
        "with zipfile.ZipFile(zip_file_path, 'r') as zip_ref:\n",
        "    zip_ref.extractall(extract_to)\n",
        "\n",
        "print(\"압축 해제 완료!\")"
      ],
      "metadata": {
        "colab": {
          "base_uri": "https://localhost:8080/"
        },
        "outputId": "5ef4da55-df0f-450d-af70-e90eaeffcb1f",
        "id": "G2xB1U0aVqDE"
      },
      "execution_count": 5,
      "outputs": [
        {
          "output_type": "stream",
          "name": "stdout",
          "text": [
            "압축 해제 완료!\n"
          ]
        }
      ]
    },
    {
      "cell_type": "code",
      "source": [
        "zip_file_path = '/content/TL1_CAT.zip'\n",
        "extract_to = '/content/CAT/labels_json/train'\n",
        "\n",
        "with zipfile.ZipFile(zip_file_path, 'r') as zip_ref:\n",
        "    zip_ref.extractall(extract_to)\n",
        "\n",
        "print(\"압축 해제 완료!\")"
      ],
      "metadata": {
        "colab": {
          "base_uri": "https://localhost:8080/"
        },
        "outputId": "12fb3a73-2618-4c93-f362-325c3a9ec46f",
        "id": "TazhBoTgVqPn"
      },
      "execution_count": 6,
      "outputs": [
        {
          "output_type": "stream",
          "name": "stdout",
          "text": [
            "압축 해제 완료!\n"
          ]
        }
      ]
    },
    {
      "cell_type": "code",
      "source": [
        "zip_file_path = '/content/TS1_CAT.zip'\n",
        "extract_to = '/content/CAT/images/train'\n",
        "\n",
        "with zipfile.ZipFile(zip_file_path, 'r') as zip_ref:\n",
        "    zip_ref.extractall(extract_to)\n",
        "\n",
        "print(\"압축 해제 완료!\")"
      ],
      "metadata": {
        "colab": {
          "base_uri": "https://localhost:8080/"
        },
        "outputId": "c6f776d2-623a-4c12-83dc-94b2c1e2c177",
        "id": "kEvimIhu0q5v"
      },
      "execution_count": 7,
      "outputs": [
        {
          "output_type": "stream",
          "name": "stdout",
          "text": [
            "압축 해제 완료!\n"
          ]
        }
      ]
    },
    {
      "cell_type": "markdown",
      "source": [
        "# 고양이 질병 훈련"
      ],
      "metadata": {
        "id": "Rnts4QR_1k4l"
      }
    },
    {
      "cell_type": "markdown",
      "source": [
        "### json txt/csv 파일변환\n",
        "- EDA용"
      ],
      "metadata": {
        "id": "-ADC0exB_j2P"
      }
    },
    {
      "cell_type": "code",
      "source": [
        "import os\n",
        "import json\n",
        "\n",
        "input_folder = '/content/train/T_lavels'\n",
        "output_file = '/content/train/t_lavel.txt'\n",
        "\n",
        "with open(output_file, 'w', encoding='utf-8') as out_file:\n",
        "    for filename in sorted(os.listdir(input_folder)):\n",
        "        if filename.endswith('.json'):\n",
        "            file_path = os.path.join(input_folder, filename)\n",
        "            with open(file_path, 'r', encoding='utf-8') as f:\n",
        "                data = json.load(f)\n",
        "                out_file.write(json.dumps(data, ensure_ascii=False) + '\\n')\n"
      ],
      "metadata": {
        "id": "HRMiumSy1qh8"
      },
      "execution_count": null,
      "outputs": []
    },
    {
      "cell_type": "code",
      "source": [
        "import pandas as pd\n",
        "\n",
        "txt_file_path = \"/content/train/t_lavel.txt\"\n",
        "\n",
        "records = []\n",
        "with open(txt_file_path, \"r\", encoding=\"utf-8\") as f:\n",
        "    for line in f:\n",
        "        entry = json.loads(line)\n",
        "        metadata = entry.get(\"metadata\", {})\n",
        "        record = {\n",
        "            \"Patient-id\": metadata.get(\"Birth\", \"\"),\n",
        "            \"Annotation-id\": metadata.get(\"Annotation-id\", \"\"),\n",
        "            \"Sex\": metadata.get(\"Sex\", \"\"),\n",
        "            \"Date\": metadata.get(\"Date\", \"\"),\n",
        "            \"Position\": metadata.get(\"Position\", \"\"),\n",
        "            \"Disease\": metadata.get(\"Disease\", \"\"),\n",
        "            \"Disease-Name\": metadata.get(\"Disease-Name\", \"\"),\n",
        "            \"fileName\": entry.get(\"fileName\", \"\")\n",
        "        }\n",
        "        records.append(record)\n",
        "\n",
        "# 정렬\n",
        "t_lavel_df = pd.DataFrame(records)\n",
        "t_lavel_df = t_lavel_df.sort_values(by=[\"Patient-id\"]).reset_index(drop=True)\n",
        "\n",
        "# CSV 저장\n",
        "csv_path = \"/content/train/t_lavel.csv\"\n",
        "t_lavel_df.to_csv(csv_path, index=False)\n"
      ],
      "metadata": {
        "id": "krdcGP-637vu"
      },
      "execution_count": null,
      "outputs": []
    },
    {
      "cell_type": "markdown",
      "source": [
        "### 라벨링된 JSON 파일을 YOLO 포맷 텍스트 파일로 변환\n",
        "\n",
        "- train/val 각각 result_labels 폴더에 저장됨"
      ],
      "metadata": {
        "id": "9KB_Vj696M3e"
      }
    },
    {
      "cell_type": "code",
      "source": [
        "import os\n",
        "import json\n",
        "from PIL import Image\n",
        "\n",
        "# 기본 경로\n",
        "base_path = \"/content/CAT\"\n",
        "\n",
        "# 경로 딕셔너리\n",
        "sets = {\n",
        "    'train': {\n",
        "        'json_folder': os.path.join(base_path, \"labels_json\", \"train\"),   # JSON 라벨\n",
        "        'image_folder': os.path.join(base_path, \"images\", \"train\"),  # 이미지\n",
        "        'output_folder': os.path.join(base_path, \"labels\", \"train\")  # YOLO 형식 저장될 위치\n",
        "    },\n",
        "    'val': {\n",
        "        'json_folder': os.path.join(base_path, \"labels_json\", \"val\"),\n",
        "        'image_folder': os.path.join(base_path, \"images\", \"val\"),\n",
        "        'output_folder': os.path.join(base_path, \"labels\", \"val\")\n",
        "    }\n",
        "}\n",
        "\n",
        "# 지원 이미지 확장자\n",
        "image_exts = ['.jpg', '.jpeg', '.png']\n",
        "\n",
        "# 변환 함수 정의\n",
        "def convert_to_yolo(json_folder, image_folder, output_folder):\n",
        "    os.makedirs(output_folder, exist_ok=True)\n",
        "\n",
        "    for file in os.listdir(json_folder):\n",
        "        if file.endswith('.json'):\n",
        "            base_name = os.path.splitext(file)[0]\n",
        "\n",
        "            # JSON 로드\n",
        "            with open(os.path.join(json_folder, file), 'r', encoding='utf-8') as f:\n",
        "                data = json.load(f)\n",
        "\n",
        "            # 이미지 찾기\n",
        "            image_path = None\n",
        "            for ext in image_exts:\n",
        "                candidate = os.path.join(image_folder, base_name + ext)\n",
        "                if os.path.exists(candidate):\n",
        "                    image_path = candidate\n",
        "                    break\n",
        "\n",
        "            if not image_path:\n",
        "                print(f\"⚠️ 이미지 없음: {base_name}\")\n",
        "                continue\n",
        "\n",
        "            # 이미지 크기\n",
        "            with Image.open(image_path) as img:\n",
        "                img_width, img_height = img.size\n",
        "\n",
        "            yolo_lines = []\n",
        "            for ann in data.get(\"annotations\", []):\n",
        "                if ann.get(\"shape\") == \"Bounding Box\":\n",
        "                    (x1, y1), (x2, y2) = ann[\"points\"]\n",
        "                    cx = (x1 + x2) / 2 / img_width\n",
        "                    cy = (y1 + y2) / 2 / img_height\n",
        "                    w = abs(x2 - x1) / img_width\n",
        "                    h = abs(y2 - y1) / img_height\n",
        "                    yolo_lines.append(f\"0 {cx:.6f} {cy:.6f} {w:.6f} {h:.6f}\")\n",
        "\n",
        "            # 결과 저장\n",
        "            out_path = os.path.join(output_folder, base_name + \".txt\")\n",
        "            with open(out_path, \"w\", encoding='utf-8') as f:\n",
        "                f.write(\"\\n\".join(yolo_lines))\n",
        "\n",
        "            print(f\"✅ 변환 완료: {base_name}.txt\")\n",
        "\n",
        "# ▶ 각 세트(train, val)에 대해 실행\n",
        "for phase, paths in sets.items():\n",
        "    print(f\"\\n📂 처리 중: {phase}\")\n",
        "    convert_to_yolo(paths['json_folder'], paths['image_folder'], paths['output_folder'])"
      ],
      "metadata": {
        "collapsed": true,
        "id": "EtK0OSxO5Z9e"
      },
      "execution_count": null,
      "outputs": []
    },
    {
      "cell_type": "code",
      "source": [
        "#!mv /content/CAT/images/train/TS1_CAT/* /content/CAT/images/train"
      ],
      "metadata": {
        "id": "01ckfPm-FG5i"
      },
      "execution_count": null,
      "outputs": []
    },
    {
      "cell_type": "markdown",
      "source": [
        "### yaml 파일 제작"
      ],
      "metadata": {
        "id": "PgylV-ttAbYn"
      }
    },
    {
      "cell_type": "code",
      "source": [
        "# YAML 파일 내용\n",
        "yaml_content = \"\"\"\n",
        "train: /content/CAT/images/train\n",
        "val: /content/CAT/images/val\n",
        "\n",
        "nc: 1\n",
        "names: ['cat']\n",
        "\"\"\"\n",
        "\n",
        "# 'cat.yaml' 파일을 지정된 경로에 생성\n",
        "with open('/content/CAT/cat.yaml', 'w') as file:\n",
        "    file.write(yaml_content)\n",
        "\n",
        "print(\"cat.yaml 파일 생성완료.\")"
      ],
      "metadata": {
        "colab": {
          "base_uri": "https://localhost:8080/"
        },
        "id": "hQyXzxKK_2av",
        "outputId": "e61556a8-0778-4026-db57-5773e6471951"
      },
      "execution_count": 9,
      "outputs": [
        {
          "output_type": "stream",
          "name": "stdout",
          "text": [
            "cat.yaml 파일 생성완료.\n"
          ]
        }
      ]
    },
    {
      "cell_type": "markdown",
      "source": [
        "## yolo11m 사용"
      ],
      "metadata": {
        "id": "G9AjLABjBQ2_"
      }
    },
    {
      "cell_type": "code",
      "source": [
        "!git clone https://github.com/ultralytics/yolo11"
      ],
      "metadata": {
        "colab": {
          "base_uri": "https://localhost:8080/"
        },
        "id": "7pnymtl_CDuQ",
        "outputId": "48782f75-c55d-482f-b739-e27d33419d7a"
      },
      "execution_count": 10,
      "outputs": [
        {
          "output_type": "stream",
          "name": "stdout",
          "text": [
            "Cloning into 'yolo11'...\n",
            "fatal: could not read Username for 'https://github.com': No such device or address\n"
          ]
        }
      ]
    },
    {
      "cell_type": "code",
      "source": [
        "!pip install ultralytics"
      ],
      "metadata": {
        "collapsed": true,
        "id": "i2w7T6zWCHKm",
        "colab": {
          "base_uri": "https://localhost:8080/"
        },
        "outputId": "f998ee3b-6572-4935-b8e5-9260dcb742e0"
      },
      "execution_count": 11,
      "outputs": [
        {
          "output_type": "stream",
          "name": "stdout",
          "text": [
            "Collecting ultralytics\n",
            "  Downloading ultralytics-8.3.118-py3-none-any.whl.metadata (37 kB)\n",
            "Requirement already satisfied: numpy<=2.1.1,>=1.23.0 in /usr/local/lib/python3.11/dist-packages (from ultralytics) (2.0.2)\n",
            "Requirement already satisfied: matplotlib>=3.3.0 in /usr/local/lib/python3.11/dist-packages (from ultralytics) (3.10.0)\n",
            "Requirement already satisfied: opencv-python>=4.6.0 in /usr/local/lib/python3.11/dist-packages (from ultralytics) (4.11.0.86)\n",
            "Requirement already satisfied: pillow>=7.1.2 in /usr/local/lib/python3.11/dist-packages (from ultralytics) (11.1.0)\n",
            "Requirement already satisfied: pyyaml>=5.3.1 in /usr/local/lib/python3.11/dist-packages (from ultralytics) (6.0.2)\n",
            "Requirement already satisfied: requests>=2.23.0 in /usr/local/lib/python3.11/dist-packages (from ultralytics) (2.32.3)\n",
            "Requirement already satisfied: scipy>=1.4.1 in /usr/local/lib/python3.11/dist-packages (from ultralytics) (1.14.1)\n",
            "Requirement already satisfied: torch>=1.8.0 in /usr/local/lib/python3.11/dist-packages (from ultralytics) (2.6.0+cu124)\n",
            "Requirement already satisfied: torchvision>=0.9.0 in /usr/local/lib/python3.11/dist-packages (from ultralytics) (0.21.0+cu124)\n",
            "Requirement already satisfied: tqdm>=4.64.0 in /usr/local/lib/python3.11/dist-packages (from ultralytics) (4.67.1)\n",
            "Requirement already satisfied: psutil in /usr/local/lib/python3.11/dist-packages (from ultralytics) (5.9.5)\n",
            "Requirement already satisfied: py-cpuinfo in /usr/local/lib/python3.11/dist-packages (from ultralytics) (9.0.0)\n",
            "Requirement already satisfied: pandas>=1.1.4 in /usr/local/lib/python3.11/dist-packages (from ultralytics) (2.2.2)\n",
            "Requirement already satisfied: seaborn>=0.11.0 in /usr/local/lib/python3.11/dist-packages (from ultralytics) (0.13.2)\n",
            "Collecting ultralytics-thop>=2.0.0 (from ultralytics)\n",
            "  Downloading ultralytics_thop-2.0.14-py3-none-any.whl.metadata (9.4 kB)\n",
            "Requirement already satisfied: contourpy>=1.0.1 in /usr/local/lib/python3.11/dist-packages (from matplotlib>=3.3.0->ultralytics) (1.3.2)\n",
            "Requirement already satisfied: cycler>=0.10 in /usr/local/lib/python3.11/dist-packages (from matplotlib>=3.3.0->ultralytics) (0.12.1)\n",
            "Requirement already satisfied: fonttools>=4.22.0 in /usr/local/lib/python3.11/dist-packages (from matplotlib>=3.3.0->ultralytics) (4.57.0)\n",
            "Requirement already satisfied: kiwisolver>=1.3.1 in /usr/local/lib/python3.11/dist-packages (from matplotlib>=3.3.0->ultralytics) (1.4.8)\n",
            "Requirement already satisfied: packaging>=20.0 in /usr/local/lib/python3.11/dist-packages (from matplotlib>=3.3.0->ultralytics) (24.2)\n",
            "Requirement already satisfied: pyparsing>=2.3.1 in /usr/local/lib/python3.11/dist-packages (from matplotlib>=3.3.0->ultralytics) (3.2.3)\n",
            "Requirement already satisfied: python-dateutil>=2.7 in /usr/local/lib/python3.11/dist-packages (from matplotlib>=3.3.0->ultralytics) (2.8.2)\n",
            "Requirement already satisfied: pytz>=2020.1 in /usr/local/lib/python3.11/dist-packages (from pandas>=1.1.4->ultralytics) (2025.2)\n",
            "Requirement already satisfied: tzdata>=2022.7 in /usr/local/lib/python3.11/dist-packages (from pandas>=1.1.4->ultralytics) (2025.2)\n",
            "Requirement already satisfied: charset-normalizer<4,>=2 in /usr/local/lib/python3.11/dist-packages (from requests>=2.23.0->ultralytics) (3.4.1)\n",
            "Requirement already satisfied: idna<4,>=2.5 in /usr/local/lib/python3.11/dist-packages (from requests>=2.23.0->ultralytics) (3.10)\n",
            "Requirement already satisfied: urllib3<3,>=1.21.1 in /usr/local/lib/python3.11/dist-packages (from requests>=2.23.0->ultralytics) (2.3.0)\n",
            "Requirement already satisfied: certifi>=2017.4.17 in /usr/local/lib/python3.11/dist-packages (from requests>=2.23.0->ultralytics) (2025.1.31)\n",
            "Requirement already satisfied: filelock in /usr/local/lib/python3.11/dist-packages (from torch>=1.8.0->ultralytics) (3.18.0)\n",
            "Requirement already satisfied: typing-extensions>=4.10.0 in /usr/local/lib/python3.11/dist-packages (from torch>=1.8.0->ultralytics) (4.13.2)\n",
            "Requirement already satisfied: networkx in /usr/local/lib/python3.11/dist-packages (from torch>=1.8.0->ultralytics) (3.4.2)\n",
            "Requirement already satisfied: jinja2 in /usr/local/lib/python3.11/dist-packages (from torch>=1.8.0->ultralytics) (3.1.6)\n",
            "Requirement already satisfied: fsspec in /usr/local/lib/python3.11/dist-packages (from torch>=1.8.0->ultralytics) (2025.3.2)\n",
            "Collecting nvidia-cuda-nvrtc-cu12==12.4.127 (from torch>=1.8.0->ultralytics)\n",
            "  Downloading nvidia_cuda_nvrtc_cu12-12.4.127-py3-none-manylinux2014_x86_64.whl.metadata (1.5 kB)\n",
            "Collecting nvidia-cuda-runtime-cu12==12.4.127 (from torch>=1.8.0->ultralytics)\n",
            "  Downloading nvidia_cuda_runtime_cu12-12.4.127-py3-none-manylinux2014_x86_64.whl.metadata (1.5 kB)\n",
            "Collecting nvidia-cuda-cupti-cu12==12.4.127 (from torch>=1.8.0->ultralytics)\n",
            "  Downloading nvidia_cuda_cupti_cu12-12.4.127-py3-none-manylinux2014_x86_64.whl.metadata (1.6 kB)\n",
            "Collecting nvidia-cudnn-cu12==9.1.0.70 (from torch>=1.8.0->ultralytics)\n",
            "  Downloading nvidia_cudnn_cu12-9.1.0.70-py3-none-manylinux2014_x86_64.whl.metadata (1.6 kB)\n",
            "Collecting nvidia-cublas-cu12==12.4.5.8 (from torch>=1.8.0->ultralytics)\n",
            "  Downloading nvidia_cublas_cu12-12.4.5.8-py3-none-manylinux2014_x86_64.whl.metadata (1.5 kB)\n",
            "Collecting nvidia-cufft-cu12==11.2.1.3 (from torch>=1.8.0->ultralytics)\n",
            "  Downloading nvidia_cufft_cu12-11.2.1.3-py3-none-manylinux2014_x86_64.whl.metadata (1.5 kB)\n",
            "Collecting nvidia-curand-cu12==10.3.5.147 (from torch>=1.8.0->ultralytics)\n",
            "  Downloading nvidia_curand_cu12-10.3.5.147-py3-none-manylinux2014_x86_64.whl.metadata (1.5 kB)\n",
            "Collecting nvidia-cusolver-cu12==11.6.1.9 (from torch>=1.8.0->ultralytics)\n",
            "  Downloading nvidia_cusolver_cu12-11.6.1.9-py3-none-manylinux2014_x86_64.whl.metadata (1.6 kB)\n",
            "Collecting nvidia-cusparse-cu12==12.3.1.170 (from torch>=1.8.0->ultralytics)\n",
            "  Downloading nvidia_cusparse_cu12-12.3.1.170-py3-none-manylinux2014_x86_64.whl.metadata (1.6 kB)\n",
            "Requirement already satisfied: nvidia-cusparselt-cu12==0.6.2 in /usr/local/lib/python3.11/dist-packages (from torch>=1.8.0->ultralytics) (0.6.2)\n",
            "Requirement already satisfied: nvidia-nccl-cu12==2.21.5 in /usr/local/lib/python3.11/dist-packages (from torch>=1.8.0->ultralytics) (2.21.5)\n",
            "Requirement already satisfied: nvidia-nvtx-cu12==12.4.127 in /usr/local/lib/python3.11/dist-packages (from torch>=1.8.0->ultralytics) (12.4.127)\n",
            "Collecting nvidia-nvjitlink-cu12==12.4.127 (from torch>=1.8.0->ultralytics)\n",
            "  Downloading nvidia_nvjitlink_cu12-12.4.127-py3-none-manylinux2014_x86_64.whl.metadata (1.5 kB)\n",
            "Requirement already satisfied: triton==3.2.0 in /usr/local/lib/python3.11/dist-packages (from torch>=1.8.0->ultralytics) (3.2.0)\n",
            "Requirement already satisfied: sympy==1.13.1 in /usr/local/lib/python3.11/dist-packages (from torch>=1.8.0->ultralytics) (1.13.1)\n",
            "Requirement already satisfied: mpmath<1.4,>=1.1.0 in /usr/local/lib/python3.11/dist-packages (from sympy==1.13.1->torch>=1.8.0->ultralytics) (1.3.0)\n",
            "Requirement already satisfied: six>=1.5 in /usr/local/lib/python3.11/dist-packages (from python-dateutil>=2.7->matplotlib>=3.3.0->ultralytics) (1.17.0)\n",
            "Requirement already satisfied: MarkupSafe>=2.0 in /usr/local/lib/python3.11/dist-packages (from jinja2->torch>=1.8.0->ultralytics) (3.0.2)\n",
            "Downloading ultralytics-8.3.118-py3-none-any.whl (1.0 MB)\n",
            "\u001b[2K   \u001b[90m━━━━━━━━━━━━━━━━━━━━━━━━━━━━━━━━━━━━━━━━\u001b[0m \u001b[32m1.0/1.0 MB\u001b[0m \u001b[31m32.9 MB/s\u001b[0m eta \u001b[36m0:00:00\u001b[0m\n",
            "\u001b[?25hDownloading nvidia_cublas_cu12-12.4.5.8-py3-none-manylinux2014_x86_64.whl (363.4 MB)\n",
            "\u001b[2K   \u001b[90m━━━━━━━━━━━━━━━━━━━━━━━━━━━━━━━━━━━━━━━━\u001b[0m \u001b[32m363.4/363.4 MB\u001b[0m \u001b[31m3.0 MB/s\u001b[0m eta \u001b[36m0:00:00\u001b[0m\n",
            "\u001b[?25hDownloading nvidia_cuda_cupti_cu12-12.4.127-py3-none-manylinux2014_x86_64.whl (13.8 MB)\n",
            "\u001b[2K   \u001b[90m━━━━━━━━━━━━━━━━━━━━━━━━━━━━━━━━━━━━━━━━\u001b[0m \u001b[32m13.8/13.8 MB\u001b[0m \u001b[31m125.0 MB/s\u001b[0m eta \u001b[36m0:00:00\u001b[0m\n",
            "\u001b[?25hDownloading nvidia_cuda_nvrtc_cu12-12.4.127-py3-none-manylinux2014_x86_64.whl (24.6 MB)\n",
            "\u001b[2K   \u001b[90m━━━━━━━━━━━━━━━━━━━━━━━━━━━━━━━━━━━━━━━━\u001b[0m \u001b[32m24.6/24.6 MB\u001b[0m \u001b[31m95.9 MB/s\u001b[0m eta \u001b[36m0:00:00\u001b[0m\n",
            "\u001b[?25hDownloading nvidia_cuda_runtime_cu12-12.4.127-py3-none-manylinux2014_x86_64.whl (883 kB)\n",
            "\u001b[2K   \u001b[90m━━━━━━━━━━━━━━━━━━━━━━━━━━━━━━━━━━━━━━━━\u001b[0m \u001b[32m883.7/883.7 kB\u001b[0m \u001b[31m51.6 MB/s\u001b[0m eta \u001b[36m0:00:00\u001b[0m\n",
            "\u001b[?25hDownloading nvidia_cudnn_cu12-9.1.0.70-py3-none-manylinux2014_x86_64.whl (664.8 MB)\n",
            "\u001b[2K   \u001b[90m━━━━━━━━━━━━━━━━━━━━━━━━━━━━━━━━━━━━━━━━\u001b[0m \u001b[32m664.8/664.8 MB\u001b[0m \u001b[31m1.7 MB/s\u001b[0m eta \u001b[36m0:00:00\u001b[0m\n",
            "\u001b[?25hDownloading nvidia_cufft_cu12-11.2.1.3-py3-none-manylinux2014_x86_64.whl (211.5 MB)\n",
            "\u001b[2K   \u001b[90m━━━━━━━━━━━━━━━━━━━━━━━━━━━━━━━━━━━━━━━━\u001b[0m \u001b[32m211.5/211.5 MB\u001b[0m \u001b[31m12.0 MB/s\u001b[0m eta \u001b[36m0:00:00\u001b[0m\n",
            "\u001b[?25hDownloading nvidia_curand_cu12-10.3.5.147-py3-none-manylinux2014_x86_64.whl (56.3 MB)\n",
            "\u001b[2K   \u001b[90m━━━━━━━━━━━━━━━━━━━━━━━━━━━━━━━━━━━━━━━━\u001b[0m \u001b[32m56.3/56.3 MB\u001b[0m \u001b[31m44.4 MB/s\u001b[0m eta \u001b[36m0:00:00\u001b[0m\n",
            "\u001b[?25hDownloading nvidia_cusolver_cu12-11.6.1.9-py3-none-manylinux2014_x86_64.whl (127.9 MB)\n",
            "\u001b[2K   \u001b[90m━━━━━━━━━━━━━━━━━━━━━━━━━━━━━━━━━━━━━━━━\u001b[0m \u001b[32m127.9/127.9 MB\u001b[0m \u001b[31m20.1 MB/s\u001b[0m eta \u001b[36m0:00:00\u001b[0m\n",
            "\u001b[?25hDownloading nvidia_cusparse_cu12-12.3.1.170-py3-none-manylinux2014_x86_64.whl (207.5 MB)\n",
            "\u001b[2K   \u001b[90m━━━━━━━━━━━━━━━━━━━━━━━━━━━━━━━━━━━━━━━━\u001b[0m \u001b[32m207.5/207.5 MB\u001b[0m \u001b[31m4.0 MB/s\u001b[0m eta \u001b[36m0:00:00\u001b[0m\n",
            "\u001b[?25hDownloading nvidia_nvjitlink_cu12-12.4.127-py3-none-manylinux2014_x86_64.whl (21.1 MB)\n",
            "\u001b[2K   \u001b[90m━━━━━━━━━━━━━━━━━━━━━━━━━━━━━━━━━━━━━━━━\u001b[0m \u001b[32m21.1/21.1 MB\u001b[0m \u001b[31m107.5 MB/s\u001b[0m eta \u001b[36m0:00:00\u001b[0m\n",
            "\u001b[?25hDownloading ultralytics_thop-2.0.14-py3-none-any.whl (26 kB)\n",
            "Installing collected packages: nvidia-nvjitlink-cu12, nvidia-curand-cu12, nvidia-cufft-cu12, nvidia-cuda-runtime-cu12, nvidia-cuda-nvrtc-cu12, nvidia-cuda-cupti-cu12, nvidia-cublas-cu12, nvidia-cusparse-cu12, nvidia-cudnn-cu12, nvidia-cusolver-cu12, ultralytics-thop, ultralytics\n",
            "  Attempting uninstall: nvidia-nvjitlink-cu12\n",
            "    Found existing installation: nvidia-nvjitlink-cu12 12.5.82\n",
            "    Uninstalling nvidia-nvjitlink-cu12-12.5.82:\n",
            "      Successfully uninstalled nvidia-nvjitlink-cu12-12.5.82\n",
            "  Attempting uninstall: nvidia-curand-cu12\n",
            "    Found existing installation: nvidia-curand-cu12 10.3.6.82\n",
            "    Uninstalling nvidia-curand-cu12-10.3.6.82:\n",
            "      Successfully uninstalled nvidia-curand-cu12-10.3.6.82\n",
            "  Attempting uninstall: nvidia-cufft-cu12\n",
            "    Found existing installation: nvidia-cufft-cu12 11.2.3.61\n",
            "    Uninstalling nvidia-cufft-cu12-11.2.3.61:\n",
            "      Successfully uninstalled nvidia-cufft-cu12-11.2.3.61\n",
            "  Attempting uninstall: nvidia-cuda-runtime-cu12\n",
            "    Found existing installation: nvidia-cuda-runtime-cu12 12.5.82\n",
            "    Uninstalling nvidia-cuda-runtime-cu12-12.5.82:\n",
            "      Successfully uninstalled nvidia-cuda-runtime-cu12-12.5.82\n",
            "  Attempting uninstall: nvidia-cuda-nvrtc-cu12\n",
            "    Found existing installation: nvidia-cuda-nvrtc-cu12 12.5.82\n",
            "    Uninstalling nvidia-cuda-nvrtc-cu12-12.5.82:\n",
            "      Successfully uninstalled nvidia-cuda-nvrtc-cu12-12.5.82\n",
            "  Attempting uninstall: nvidia-cuda-cupti-cu12\n",
            "    Found existing installation: nvidia-cuda-cupti-cu12 12.5.82\n",
            "    Uninstalling nvidia-cuda-cupti-cu12-12.5.82:\n",
            "      Successfully uninstalled nvidia-cuda-cupti-cu12-12.5.82\n",
            "  Attempting uninstall: nvidia-cublas-cu12\n",
            "    Found existing installation: nvidia-cublas-cu12 12.5.3.2\n",
            "    Uninstalling nvidia-cublas-cu12-12.5.3.2:\n",
            "      Successfully uninstalled nvidia-cublas-cu12-12.5.3.2\n",
            "  Attempting uninstall: nvidia-cusparse-cu12\n",
            "    Found existing installation: nvidia-cusparse-cu12 12.5.1.3\n",
            "    Uninstalling nvidia-cusparse-cu12-12.5.1.3:\n",
            "      Successfully uninstalled nvidia-cusparse-cu12-12.5.1.3\n",
            "  Attempting uninstall: nvidia-cudnn-cu12\n",
            "    Found existing installation: nvidia-cudnn-cu12 9.3.0.75\n",
            "    Uninstalling nvidia-cudnn-cu12-9.3.0.75:\n",
            "      Successfully uninstalled nvidia-cudnn-cu12-9.3.0.75\n",
            "  Attempting uninstall: nvidia-cusolver-cu12\n",
            "    Found existing installation: nvidia-cusolver-cu12 11.6.3.83\n",
            "    Uninstalling nvidia-cusolver-cu12-11.6.3.83:\n",
            "      Successfully uninstalled nvidia-cusolver-cu12-11.6.3.83\n",
            "Successfully installed nvidia-cublas-cu12-12.4.5.8 nvidia-cuda-cupti-cu12-12.4.127 nvidia-cuda-nvrtc-cu12-12.4.127 nvidia-cuda-runtime-cu12-12.4.127 nvidia-cudnn-cu12-9.1.0.70 nvidia-cufft-cu12-11.2.1.3 nvidia-curand-cu12-10.3.5.147 nvidia-cusolver-cu12-11.6.1.9 nvidia-cusparse-cu12-12.3.1.170 nvidia-nvjitlink-cu12-12.4.127 ultralytics-8.3.118 ultralytics-thop-2.0.14\n"
          ]
        }
      ]
    },
    {
      "cell_type": "code",
      "source": [
        "!yolo detect train data='/content/CAT/cat.yaml' model=yolo11m.pt epochs=100 imgsz=640 patience=10 batch=-1 seed=42 single_cls=True"
      ],
      "metadata": {
        "colab": {
          "base_uri": "https://localhost:8080/"
        },
        "id": "dpIsZRtCBQYQ",
        "outputId": "ea6a9a49-493d-4358-ce5c-b657912a5503"
      },
      "execution_count": null,
      "outputs": [
        {
          "output_type": "stream",
          "name": "stdout",
          "text": [
            "Creating new Ultralytics Settings v0.0.6 file ✅ \n",
            "View Ultralytics Settings with 'yolo settings' or at '/root/.config/Ultralytics/settings.json'\n",
            "Update Settings with 'yolo settings key=value', i.e. 'yolo settings runs_dir=path/to/dir'. For help see https://docs.ultralytics.com/quickstart/#ultralytics-settings.\n",
            "Downloading https://github.com/ultralytics/assets/releases/download/v8.3.0/yolo11m.pt to 'yolo11m.pt'...\n",
            "100% 38.8M/38.8M [00:00<00:00, 355MB/s]\n",
            "Ultralytics 8.3.116 🚀 Python-3.11.12 torch-2.6.0+cu124 CUDA:0 (NVIDIA A100-SXM4-40GB, 40507MiB)\n",
            "\u001b[34m\u001b[1mengine/trainer: \u001b[0mtask=detect, mode=train, model=yolo11m.pt, data=/content/CAT/cat.yaml, epochs=100, time=None, patience=10, batch=-1, imgsz=640, save=True, save_period=-1, cache=False, device=None, workers=8, project=None, name=train, exist_ok=False, pretrained=True, optimizer=auto, verbose=True, seed=42, deterministic=True, single_cls=True, rect=False, cos_lr=False, close_mosaic=10, resume=False, amp=True, fraction=1.0, profile=False, freeze=None, multi_scale=False, overlap_mask=True, mask_ratio=4, dropout=0.0, val=True, split=val, save_json=False, conf=None, iou=0.7, max_det=300, half=False, dnn=False, plots=True, source=None, vid_stride=1, stream_buffer=False, visualize=False, augment=False, agnostic_nms=False, classes=None, retina_masks=False, embed=None, show=False, save_frames=False, save_txt=False, save_conf=False, save_crop=False, show_labels=True, show_conf=True, show_boxes=True, line_width=None, format=torchscript, keras=False, optimize=False, int8=False, dynamic=False, simplify=True, opset=None, workspace=None, nms=False, lr0=0.01, lrf=0.01, momentum=0.937, weight_decay=0.0005, warmup_epochs=3.0, warmup_momentum=0.8, warmup_bias_lr=0.1, box=7.5, cls=0.5, dfl=1.5, pose=12.0, kobj=1.0, nbs=64, hsv_h=0.015, hsv_s=0.7, hsv_v=0.4, degrees=0.0, translate=0.1, scale=0.5, shear=0.0, perspective=0.0, flipud=0.0, fliplr=0.5, bgr=0.0, mosaic=1.0, mixup=0.0, copy_paste=0.0, copy_paste_mode=flip, auto_augment=randaugment, erasing=0.4, cfg=None, tracker=botsort.yaml, save_dir=runs/detect/train\n",
            "Downloading https://ultralytics.com/assets/Arial.ttf to '/root/.config/Ultralytics/Arial.ttf'...\n",
            "100% 755k/755k [00:00<00:00, 37.6MB/s]\n",
            "Overriding class names with single class.\n",
            "Overriding model.yaml nc=80 with nc=1\n",
            "\n",
            "                   from  n    params  module                                       arguments                     \n",
            "  0                  -1  1      1856  ultralytics.nn.modules.conv.Conv             [3, 64, 3, 2]                 \n",
            "  1                  -1  1     73984  ultralytics.nn.modules.conv.Conv             [64, 128, 3, 2]               \n",
            "  2                  -1  1    111872  ultralytics.nn.modules.block.C3k2            [128, 256, 1, True, 0.25]     \n",
            "  3                  -1  1    590336  ultralytics.nn.modules.conv.Conv             [256, 256, 3, 2]              \n",
            "  4                  -1  1    444928  ultralytics.nn.modules.block.C3k2            [256, 512, 1, True, 0.25]     \n",
            "  5                  -1  1   2360320  ultralytics.nn.modules.conv.Conv             [512, 512, 3, 2]              \n",
            "  6                  -1  1   1380352  ultralytics.nn.modules.block.C3k2            [512, 512, 1, True]           \n",
            "  7                  -1  1   2360320  ultralytics.nn.modules.conv.Conv             [512, 512, 3, 2]              \n",
            "  8                  -1  1   1380352  ultralytics.nn.modules.block.C3k2            [512, 512, 1, True]           \n",
            "  9                  -1  1    656896  ultralytics.nn.modules.block.SPPF            [512, 512, 5]                 \n",
            " 10                  -1  1    990976  ultralytics.nn.modules.block.C2PSA           [512, 512, 1]                 \n",
            " 11                  -1  1         0  torch.nn.modules.upsampling.Upsample         [None, 2, 'nearest']          \n",
            " 12             [-1, 6]  1         0  ultralytics.nn.modules.conv.Concat           [1]                           \n",
            " 13                  -1  1   1642496  ultralytics.nn.modules.block.C3k2            [1024, 512, 1, True]          \n",
            " 14                  -1  1         0  torch.nn.modules.upsampling.Upsample         [None, 2, 'nearest']          \n",
            " 15             [-1, 4]  1         0  ultralytics.nn.modules.conv.Concat           [1]                           \n",
            " 16                  -1  1    542720  ultralytics.nn.modules.block.C3k2            [1024, 256, 1, True]          \n",
            " 17                  -1  1    590336  ultralytics.nn.modules.conv.Conv             [256, 256, 3, 2]              \n",
            " 18            [-1, 13]  1         0  ultralytics.nn.modules.conv.Concat           [1]                           \n",
            " 19                  -1  1   1511424  ultralytics.nn.modules.block.C3k2            [768, 512, 1, True]           \n",
            " 20                  -1  1   2360320  ultralytics.nn.modules.conv.Conv             [512, 512, 3, 2]              \n",
            " 21            [-1, 10]  1         0  ultralytics.nn.modules.conv.Concat           [1]                           \n",
            " 22                  -1  1   1642496  ultralytics.nn.modules.block.C3k2            [1024, 512, 1, True]          \n",
            " 23        [16, 19, 22]  1   1411795  ultralytics.nn.modules.head.Detect           [1, [256, 512, 512]]          \n",
            "YOLO11m summary: 231 layers, 20,053,779 parameters, 20,053,763 gradients, 68.2 GFLOPs\n",
            "\n",
            "Transferred 643/649 items from pretrained weights\n",
            "Freezing layer 'model.23.dfl.conv.weight'\n",
            "\u001b[34m\u001b[1mAMP: \u001b[0mrunning Automatic Mixed Precision (AMP) checks...\n",
            "Downloading https://github.com/ultralytics/assets/releases/download/v8.3.0/yolo11n.pt to 'yolo11n.pt'...\n",
            "100% 5.35M/5.35M [00:00<00:00, 160MB/s]\n",
            "\u001b[34m\u001b[1mAMP: \u001b[0mchecks passed ✅\n",
            "\u001b[34m\u001b[1mtrain: \u001b[0mFast image access ✅ (ping: 0.0±0.0 ms, read: 2350.9±1460.5 MB/s, size: 198.5 KB)\n",
            "\u001b[34m\u001b[1mtrain: \u001b[0mScanning /content/CAT/labels/train... 13081 images, 0 backgrounds, 0 corrupt: 100% 13081/13081 [00:09<00:00, 1332.13it/s]\n",
            "\u001b[34m\u001b[1mtrain: \u001b[0mNew cache created: /content/CAT/labels/train.cache\n",
            "\u001b[34m\u001b[1malbumentations: \u001b[0mBlur(p=0.01, blur_limit=(3, 7)), MedianBlur(p=0.01, blur_limit=(3, 7)), ToGray(p=0.01, num_output_channels=3, method='weighted_average'), CLAHE(p=0.01, clip_limit=(1.0, 4.0), tile_grid_size=(8, 8))\n",
            "\u001b[34m\u001b[1mAutoBatch: \u001b[0mComputing optimal batch size for imgsz=640 at 60.0% CUDA memory utilization.\n",
            "\u001b[34m\u001b[1mAutoBatch: \u001b[0mCUDA:0 (NVIDIA A100-SXM4-40GB) 39.56G total, 0.21G reserved, 0.21G allocated, 39.14G free\n",
            "      Params      GFLOPs  GPU_mem (GB)  forward (ms) backward (ms)                   input                  output\n",
            "    20053779       68.19         1.697            57         271.6        (1, 3, 640, 640)                    list\n",
            "    20053779       136.4         2.301         45.33           125        (2, 3, 640, 640)                    list\n",
            "    20053779       272.8         3.404         45.94         112.8        (4, 3, 640, 640)                    list\n",
            "    20053779       545.5         5.652         51.87         114.3        (8, 3, 640, 640)                    list\n",
            "    20053779        1091         9.708         56.49         124.4       (16, 3, 640, 640)                    list\n",
            "    20053779        2182        18.021         76.14         163.1       (32, 3, 640, 640)                    list\n",
            "    20053779        4364        34.731         154.5         257.5       (64, 3, 640, 640)                    list\n",
            "\u001b[34m\u001b[1mAutoBatch: \u001b[0mUsing batch-size 41 for CUDA:0 23.15G/39.56G (59%) ✅\n",
            "\u001b[34m\u001b[1mtrain: \u001b[0mFast image access ✅ (ping: 0.0±0.0 ms, read: 3383.5±1195.5 MB/s, size: 247.9 KB)\n",
            "\u001b[34m\u001b[1mtrain: \u001b[0mScanning /content/CAT/labels/train.cache... 13081 images, 0 backgrounds, 0 corrupt: 100% 13081/13081 [00:00<?, ?it/s]\n",
            "\u001b[34m\u001b[1malbumentations: \u001b[0mBlur(p=0.01, blur_limit=(3, 7)), MedianBlur(p=0.01, blur_limit=(3, 7)), ToGray(p=0.01, num_output_channels=3, method='weighted_average'), CLAHE(p=0.01, clip_limit=(1.0, 4.0), tile_grid_size=(8, 8))\n",
            "\u001b[34m\u001b[1mval: \u001b[0mFast image access ✅ (ping: 0.0±0.0 ms, read: 1922.3±1426.1 MB/s, size: 206.0 KB)\n",
            "\u001b[34m\u001b[1mval: \u001b[0mScanning /content/CAT/labels/val... 1603 images, 0 backgrounds, 1 corrupt: 100% 1604/1604 [00:01<00:00, 1116.37it/s]\n",
            "\u001b[34m\u001b[1mval: \u001b[0m/content/CAT/images/val/C_62_20010123_CM_0020_NOR_Mu04_20211210_0252.jpg: ignoring corrupt image/label: image file is truncated (6 bytes not processed)\n",
            "\u001b[34m\u001b[1mval: \u001b[0mNew cache created: /content/CAT/labels/val.cache\n",
            "Plotting labels to runs/detect/train/labels.jpg... \n",
            "\u001b[34m\u001b[1moptimizer:\u001b[0m 'optimizer=auto' found, ignoring 'lr0=0.01' and 'momentum=0.937' and determining best 'optimizer', 'lr0' and 'momentum' automatically... \n",
            "\u001b[34m\u001b[1moptimizer:\u001b[0m SGD(lr=0.01, momentum=0.9) with parameter groups 106 weight(decay=0.0), 113 weight(decay=0.000640625), 112 bias(decay=0.0)\n",
            "Image sizes 640 train, 640 val\n",
            "Using 8 dataloader workers\n",
            "Logging results to \u001b[1mruns/detect/train\u001b[0m\n",
            "Starting training for 100 epochs...\n",
            "\n",
            "      Epoch    GPU_mem   box_loss   cls_loss   dfl_loss  Instances       Size\n",
            "      1/100        20G       1.39      1.509      1.625          4        640: 100% 320/320 [01:42<00:00,  3.12it/s]\n",
            "                 Class     Images  Instances      Box(P          R      mAP50  mAP50-95): 100% 20/20 [00:08<00:00,  2.40it/s]\n",
            "                   all       1603       1664      0.416      0.743      0.433      0.235\n",
            "\n",
            "      Epoch    GPU_mem   box_loss   cls_loss   dfl_loss  Instances       Size\n",
            "      2/100      19.9G      1.304      1.133      1.477          5        640: 100% 320/320 [01:42<00:00,  3.14it/s]\n",
            "                 Class     Images  Instances      Box(P          R      mAP50  mAP50-95): 100% 20/20 [00:07<00:00,  2.74it/s]\n",
            "                   all       1603       1664      0.457      0.616      0.463      0.205\n",
            "\n",
            "      Epoch    GPU_mem   box_loss   cls_loss   dfl_loss  Instances       Size\n",
            "      3/100      19.9G      1.377      1.212      1.545          6        640: 100% 320/320 [01:40<00:00,  3.18it/s]\n",
            "                 Class     Images  Instances      Box(P          R      mAP50  mAP50-95): 100% 20/20 [00:07<00:00,  2.69it/s]\n",
            "                   all       1603       1664       0.53      0.633      0.563      0.232\n",
            "\n",
            "      Epoch    GPU_mem   box_loss   cls_loss   dfl_loss  Instances       Size\n",
            "      4/100      19.9G      1.336      1.155      1.517          4        640: 100% 320/320 [01:36<00:00,  3.30it/s]\n",
            "                 Class     Images  Instances      Box(P          R      mAP50  mAP50-95): 100% 20/20 [00:07<00:00,  2.70it/s]\n",
            "                   all       1603       1664      0.459      0.724      0.427       0.22\n",
            "\n",
            "      Epoch    GPU_mem   box_loss   cls_loss   dfl_loss  Instances       Size\n",
            "      5/100      19.9G      1.296      1.111      1.491          6        640: 100% 320/320 [01:37<00:00,  3.30it/s]\n",
            "                 Class     Images  Instances      Box(P          R      mAP50  mAP50-95): 100% 20/20 [00:07<00:00,  2.69it/s]\n",
            "                   all       1603       1664      0.663      0.818      0.748      0.406\n",
            "\n",
            "      Epoch    GPU_mem   box_loss   cls_loss   dfl_loss  Instances       Size\n",
            "      6/100      19.9G      1.267      1.077      1.473          2        640: 100% 320/320 [01:36<00:00,  3.30it/s]\n",
            "                 Class     Images  Instances      Box(P          R      mAP50  mAP50-95): 100% 20/20 [00:07<00:00,  2.77it/s]\n",
            "                   all       1603       1664      0.719      0.802      0.799       0.46\n",
            "\n",
            "      Epoch    GPU_mem   box_loss   cls_loss   dfl_loss  Instances       Size\n",
            "      7/100      19.9G      1.244      1.039      1.453          8        640: 100% 320/320 [01:36<00:00,  3.30it/s]\n",
            "                 Class     Images  Instances      Box(P          R      mAP50  mAP50-95): 100% 20/20 [00:07<00:00,  2.71it/s]\n",
            "                   all       1603       1664      0.505      0.719      0.479      0.225\n",
            "\n",
            "      Epoch    GPU_mem   box_loss   cls_loss   dfl_loss  Instances       Size\n",
            "      8/100      19.9G      1.228      1.023       1.44          2        640: 100% 320/320 [01:37<00:00,  3.30it/s]\n",
            "                 Class     Images  Instances      Box(P          R      mAP50  mAP50-95): 100% 20/20 [00:07<00:00,  2.69it/s]\n",
            "                   all       1603       1664      0.736      0.731      0.815      0.496\n",
            "\n",
            "      Epoch    GPU_mem   box_loss   cls_loss   dfl_loss  Instances       Size\n",
            "      9/100      19.9G      1.213      1.001      1.427          6        640: 100% 320/320 [01:36<00:00,  3.30it/s]\n",
            "                 Class     Images  Instances      Box(P          R      mAP50  mAP50-95): 100% 20/20 [00:07<00:00,  2.75it/s]\n",
            "                   all       1603       1664      0.613      0.784      0.705      0.391\n",
            "\n",
            "      Epoch    GPU_mem   box_loss   cls_loss   dfl_loss  Instances       Size\n",
            "     10/100      19.9G      1.204          1      1.432          5        640: 100% 320/320 [01:36<00:00,  3.30it/s]\n",
            "                 Class     Images  Instances      Box(P          R      mAP50  mAP50-95): 100% 20/20 [00:07<00:00,  2.70it/s]\n",
            "                   all       1603       1664      0.719      0.833      0.834      0.495\n",
            "\n",
            "      Epoch    GPU_mem   box_loss   cls_loss   dfl_loss  Instances       Size\n",
            "     11/100      19.9G      1.194     0.9785      1.417          3        640: 100% 320/320 [01:37<00:00,  3.30it/s]\n",
            "                 Class     Images  Instances      Box(P          R      mAP50  mAP50-95): 100% 20/20 [00:07<00:00,  2.75it/s]\n",
            "                   all       1603       1664      0.735      0.863      0.842      0.506\n",
            "\n",
            "      Epoch    GPU_mem   box_loss   cls_loss   dfl_loss  Instances       Size\n",
            "     12/100      19.9G      1.182     0.9773       1.41          5        640: 100% 320/320 [01:37<00:00,  3.30it/s]\n",
            "                 Class     Images  Instances      Box(P          R      mAP50  mAP50-95): 100% 20/20 [00:07<00:00,  2.74it/s]\n",
            "                   all       1603       1664      0.743      0.883      0.843      0.501\n",
            "\n",
            "      Epoch    GPU_mem   box_loss   cls_loss   dfl_loss  Instances       Size\n",
            "     13/100      19.9G      1.166     0.9566      1.404          3        640: 100% 320/320 [01:37<00:00,  3.30it/s]\n",
            "                 Class     Images  Instances      Box(P          R      mAP50  mAP50-95): 100% 20/20 [00:07<00:00,  2.73it/s]\n",
            "                   all       1603       1664      0.755      0.799      0.856      0.523\n",
            "\n",
            "      Epoch    GPU_mem   box_loss   cls_loss   dfl_loss  Instances       Size\n",
            "     14/100      19.9G      1.162     0.9579      1.394          5        640: 100% 320/320 [01:36<00:00,  3.30it/s]\n",
            "                 Class     Images  Instances      Box(P          R      mAP50  mAP50-95): 100% 20/20 [00:07<00:00,  2.72it/s]\n",
            "                   all       1603       1664      0.678      0.846      0.766      0.452\n",
            "\n",
            "      Epoch    GPU_mem   box_loss   cls_loss   dfl_loss  Instances       Size\n",
            "     15/100      19.9G      1.162     0.9535      1.394          2        640: 100% 320/320 [01:37<00:00,  3.30it/s]\n",
            "                 Class     Images  Instances      Box(P          R      mAP50  mAP50-95): 100% 20/20 [00:07<00:00,  2.71it/s]\n",
            "                   all       1603       1664      0.808      0.763      0.869      0.535\n",
            "\n",
            "      Epoch    GPU_mem   box_loss   cls_loss   dfl_loss  Instances       Size\n",
            "     16/100      19.9G      1.151     0.9349       1.39          5        640: 100% 320/320 [01:36<00:00,  3.30it/s]\n",
            "                 Class     Images  Instances      Box(P          R      mAP50  mAP50-95): 100% 20/20 [00:07<00:00,  2.71it/s]\n",
            "                   all       1603       1664      0.747      0.819      0.851      0.518\n",
            "\n",
            "      Epoch    GPU_mem   box_loss   cls_loss   dfl_loss  Instances       Size\n",
            "     17/100      19.9G      1.148     0.9312      1.385          8        640: 100% 320/320 [01:37<00:00,  3.30it/s]\n",
            "                 Class     Images  Instances      Box(P          R      mAP50  mAP50-95): 100% 20/20 [00:07<00:00,  2.70it/s]\n",
            "                   all       1603       1664      0.712      0.858      0.812      0.492\n",
            "\n",
            "      Epoch    GPU_mem   box_loss   cls_loss   dfl_loss  Instances       Size\n",
            "     18/100      19.9G      1.136      0.924      1.382          8        640: 100% 320/320 [01:37<00:00,  3.29it/s]\n",
            "                 Class     Images  Instances      Box(P          R      mAP50  mAP50-95): 100% 20/20 [00:07<00:00,  2.76it/s]\n",
            "                   all       1603       1664      0.664      0.856      0.747      0.453\n",
            "\n",
            "      Epoch    GPU_mem   box_loss   cls_loss   dfl_loss  Instances       Size\n",
            "     19/100      19.9G      1.133     0.9124      1.378          5        640: 100% 320/320 [01:37<00:00,  3.30it/s]\n",
            "                 Class     Images  Instances      Box(P          R      mAP50  mAP50-95): 100% 20/20 [00:07<00:00,  2.69it/s]\n",
            "                   all       1603       1664      0.747      0.825      0.833      0.505\n",
            "\n",
            "      Epoch    GPU_mem   box_loss   cls_loss   dfl_loss  Instances       Size\n",
            "     20/100      19.9G      1.131     0.9127      1.374          8        640: 100% 320/320 [01:36<00:00,  3.30it/s]\n",
            "                 Class     Images  Instances      Box(P          R      mAP50  mAP50-95): 100% 20/20 [00:07<00:00,  2.74it/s]\n",
            "                   all       1603       1664      0.705      0.854       0.85      0.526\n",
            "\n",
            "      Epoch    GPU_mem   box_loss   cls_loss   dfl_loss  Instances       Size\n",
            "     21/100      19.9G      1.121     0.9191      1.371          2        640: 100% 320/320 [01:36<00:00,  3.30it/s]\n",
            "                 Class     Images  Instances      Box(P          R      mAP50  mAP50-95): 100% 20/20 [00:07<00:00,  2.76it/s]\n",
            "                   all       1603       1664      0.756      0.844       0.87      0.538\n",
            "\n",
            "      Epoch    GPU_mem   box_loss   cls_loss   dfl_loss  Instances       Size\n",
            "     22/100      19.9G       1.13      0.911      1.374          5        640: 100% 320/320 [01:36<00:00,  3.30it/s]\n",
            "                 Class     Images  Instances      Box(P          R      mAP50  mAP50-95): 100% 20/20 [00:07<00:00,  2.72it/s]\n",
            "                   all       1603       1664      0.727      0.857       0.87      0.543\n",
            "\n",
            "      Epoch    GPU_mem   box_loss   cls_loss   dfl_loss  Instances       Size\n",
            "     23/100      19.9G       1.12     0.9034      1.365          6        640: 100% 320/320 [01:37<00:00,  3.29it/s]\n",
            "                 Class     Images  Instances      Box(P          R      mAP50  mAP50-95): 100% 20/20 [00:07<00:00,  2.74it/s]\n",
            "                   all       1603       1664      0.769      0.844      0.876      0.546\n",
            "\n",
            "      Epoch    GPU_mem   box_loss   cls_loss   dfl_loss  Instances       Size\n",
            "     24/100      19.9G      1.111     0.8952      1.364          2        640: 100% 320/320 [01:36<00:00,  3.30it/s]\n",
            "                 Class     Images  Instances      Box(P          R      mAP50  mAP50-95): 100% 20/20 [00:07<00:00,  2.71it/s]\n",
            "                   all       1603       1664      0.653      0.774      0.694      0.407\n",
            "\n",
            "      Epoch    GPU_mem   box_loss   cls_loss   dfl_loss  Instances       Size\n",
            "     25/100      19.9G      1.122     0.8904      1.369          4        640: 100% 320/320 [01:36<00:00,  3.30it/s]\n",
            "                 Class     Images  Instances      Box(P          R      mAP50  mAP50-95): 100% 20/20 [00:07<00:00,  2.74it/s]\n",
            "                   all       1603       1664      0.787       0.76      0.872      0.534\n",
            "\n",
            "      Epoch    GPU_mem   box_loss   cls_loss   dfl_loss  Instances       Size\n",
            "     26/100      19.9G      1.109     0.8923      1.359          7        640: 100% 320/320 [01:36<00:00,  3.31it/s]\n",
            "                 Class     Images  Instances      Box(P          R      mAP50  mAP50-95): 100% 20/20 [00:07<00:00,  2.76it/s]\n",
            "                   all       1603       1664      0.751      0.823      0.859       0.53\n",
            "\n",
            "      Epoch    GPU_mem   box_loss   cls_loss   dfl_loss  Instances       Size\n",
            "     27/100      19.9G      1.108     0.8853      1.357          3        640: 100% 320/320 [01:36<00:00,  3.30it/s]\n",
            "                 Class     Images  Instances      Box(P          R      mAP50  mAP50-95): 100% 20/20 [00:07<00:00,  2.71it/s]\n",
            "                   all       1603       1664      0.755      0.837      0.879      0.553\n",
            "\n",
            "      Epoch    GPU_mem   box_loss   cls_loss   dfl_loss  Instances       Size\n",
            "     28/100      19.9G      1.101     0.8884      1.358          6        640: 100% 320/320 [01:37<00:00,  3.30it/s]\n",
            "                 Class     Images  Instances      Box(P          R      mAP50  mAP50-95): 100% 20/20 [00:07<00:00,  2.73it/s]\n",
            "                   all       1603       1664      0.803      0.785      0.881      0.548\n",
            "\n",
            "      Epoch    GPU_mem   box_loss   cls_loss   dfl_loss  Instances       Size\n",
            "     29/100      19.9G      1.098     0.8725      1.356          5        640: 100% 320/320 [01:37<00:00,  3.30it/s]\n",
            "                 Class     Images  Instances      Box(P          R      mAP50  mAP50-95): 100% 20/20 [00:07<00:00,  2.66it/s]\n",
            "                   all       1603       1664      0.708      0.805      0.778       0.48\n",
            "\n",
            "      Epoch    GPU_mem   box_loss   cls_loss   dfl_loss  Instances       Size\n",
            "     30/100      19.9G      1.094     0.8751      1.351          8        640: 100% 320/320 [01:37<00:00,  3.30it/s]\n",
            "                 Class     Images  Instances      Box(P          R      mAP50  mAP50-95): 100% 20/20 [00:07<00:00,  2.75it/s]\n",
            "                   all       1603       1664      0.737      0.825      0.859      0.531\n",
            "\n",
            "      Epoch    GPU_mem   box_loss   cls_loss   dfl_loss  Instances       Size\n",
            "     31/100      19.9G      1.106     0.8858      1.363          2        640: 100% 320/320 [01:36<00:00,  3.30it/s]\n",
            "                 Class     Images  Instances      Box(P          R      mAP50  mAP50-95): 100% 20/20 [00:07<00:00,  2.74it/s]\n",
            "                   all       1603       1664      0.793       0.88      0.901      0.563\n",
            "\n",
            "      Epoch    GPU_mem   box_loss   cls_loss   dfl_loss  Instances       Size\n",
            "     32/100      19.9G      1.094     0.8704      1.352          2        640: 100% 320/320 [01:36<00:00,  3.30it/s]\n",
            "                 Class     Images  Instances      Box(P          R      mAP50  mAP50-95): 100% 20/20 [00:07<00:00,  2.71it/s]\n",
            "                   all       1603       1664      0.789       0.85       0.89       0.55\n",
            "\n",
            "      Epoch    GPU_mem   box_loss   cls_loss   dfl_loss  Instances       Size\n",
            "     33/100      19.9G      1.086     0.8693      1.349          4        640: 100% 320/320 [01:37<00:00,  3.30it/s]\n",
            "                 Class     Images  Instances      Box(P          R      mAP50  mAP50-95): 100% 20/20 [00:07<00:00,  2.76it/s]\n",
            "                   all       1603       1664      0.793      0.832      0.877      0.553\n",
            "\n",
            "      Epoch    GPU_mem   box_loss   cls_loss   dfl_loss  Instances       Size\n",
            "     34/100      19.9G      1.086     0.8707      1.346          4        640: 100% 320/320 [01:36<00:00,  3.30it/s]\n",
            "                 Class     Images  Instances      Box(P          R      mAP50  mAP50-95): 100% 20/20 [00:07<00:00,  2.70it/s]\n",
            "                   all       1603       1664      0.798      0.844      0.883      0.551\n",
            "\n",
            "      Epoch    GPU_mem   box_loss   cls_loss   dfl_loss  Instances       Size\n",
            "     35/100      19.9G       1.08     0.8623      1.342          4        640: 100% 320/320 [01:37<00:00,  3.29it/s]\n",
            "                 Class     Images  Instances      Box(P          R      mAP50  mAP50-95): 100% 20/20 [00:07<00:00,  2.77it/s]\n",
            "                   all       1603       1664      0.808      0.818       0.89      0.559\n",
            "\n",
            "      Epoch    GPU_mem   box_loss   cls_loss   dfl_loss  Instances       Size\n",
            "     36/100      19.9G       1.09      0.854      1.345          5        640: 100% 320/320 [01:36<00:00,  3.30it/s]\n",
            "                 Class     Images  Instances      Box(P          R      mAP50  mAP50-95): 100% 20/20 [00:07<00:00,  2.71it/s]\n",
            "                   all       1603       1664      0.768      0.785      0.866      0.544\n",
            "\n",
            "      Epoch    GPU_mem   box_loss   cls_loss   dfl_loss  Instances       Size\n",
            "     37/100      19.9G      1.076     0.8478       1.34          4        640: 100% 320/320 [01:36<00:00,  3.31it/s]\n",
            "                 Class     Images  Instances      Box(P          R      mAP50  mAP50-95): 100% 20/20 [00:07<00:00,  2.71it/s]\n",
            "                   all       1603       1664      0.813      0.827      0.904      0.567\n",
            "\n",
            "      Epoch    GPU_mem   box_loss   cls_loss   dfl_loss  Instances       Size\n",
            "     38/100      19.9G      1.073     0.8525      1.342          5        640: 100% 320/320 [01:37<00:00,  3.30it/s]\n",
            "                 Class     Images  Instances      Box(P          R      mAP50  mAP50-95): 100% 20/20 [00:07<00:00,  2.73it/s]\n",
            "                   all       1603       1664      0.802      0.799       0.88      0.548\n",
            "\n",
            "      Epoch    GPU_mem   box_loss   cls_loss   dfl_loss  Instances       Size\n",
            "     39/100      19.9G      1.078     0.8475      1.341          7        640: 100% 320/320 [01:37<00:00,  3.30it/s]\n",
            "                 Class     Images  Instances      Box(P          R      mAP50  mAP50-95): 100% 20/20 [00:07<00:00,  2.74it/s]\n",
            "                   all       1603       1664      0.795      0.775      0.877      0.545\n",
            "\n",
            "      Epoch    GPU_mem   box_loss   cls_loss   dfl_loss  Instances       Size\n",
            "     40/100      19.9G      1.071      0.846      1.334          8        640: 100% 320/320 [01:37<00:00,  3.30it/s]\n",
            "                 Class     Images  Instances      Box(P          R      mAP50  mAP50-95): 100% 20/20 [00:07<00:00,  2.72it/s]\n",
            "                   all       1603       1664       0.79      0.797      0.874      0.544\n",
            "\n",
            "      Epoch    GPU_mem   box_loss   cls_loss   dfl_loss  Instances       Size\n",
            "     41/100      19.9G      1.058     0.8355      1.332          4        640: 100% 320/320 [01:36<00:00,  3.30it/s]\n",
            "                 Class     Images  Instances      Box(P          R      mAP50  mAP50-95): 100% 20/20 [00:07<00:00,  2.70it/s]\n",
            "                   all       1603       1664       0.82      0.808      0.891      0.553\n",
            "\n",
            "      Epoch    GPU_mem   box_loss   cls_loss   dfl_loss  Instances       Size\n",
            "     42/100      19.9G      1.069     0.8387      1.337          9        640: 100% 320/320 [01:37<00:00,  3.30it/s]\n",
            "                 Class     Images  Instances      Box(P          R      mAP50  mAP50-95): 100% 20/20 [00:07<00:00,  2.77it/s]\n",
            "                   all       1603       1664      0.817      0.814      0.892      0.559\n",
            "\n",
            "      Epoch    GPU_mem   box_loss   cls_loss   dfl_loss  Instances       Size\n",
            "     43/100      19.9G      1.061     0.8265      1.334          6        640: 100% 320/320 [01:37<00:00,  3.29it/s]\n",
            "                 Class     Images  Instances      Box(P          R      mAP50  mAP50-95): 100% 20/20 [00:07<00:00,  2.77it/s]\n",
            "                   all       1603       1664      0.827      0.784      0.879      0.548\n",
            "\n",
            "      Epoch    GPU_mem   box_loss   cls_loss   dfl_loss  Instances       Size\n",
            "     44/100      19.9G      1.061     0.8361      1.332          6        640: 100% 320/320 [01:37<00:00,  3.29it/s]\n",
            "                 Class     Images  Instances      Box(P          R      mAP50  mAP50-95): 100% 20/20 [00:07<00:00,  2.73it/s]\n",
            "                   all       1603       1664      0.782      0.847      0.891      0.559\n",
            "\n",
            "      Epoch    GPU_mem   box_loss   cls_loss   dfl_loss  Instances       Size\n",
            "     45/100      19.9G      1.059     0.8341      1.331          6        640: 100% 320/320 [01:36<00:00,  3.30it/s]\n",
            "                 Class     Images  Instances      Box(P          R      mAP50  mAP50-95): 100% 20/20 [00:07<00:00,  2.77it/s]\n",
            "                   all       1603       1664      0.812      0.798      0.887      0.556\n",
            "\n",
            "      Epoch    GPU_mem   box_loss   cls_loss   dfl_loss  Instances       Size\n",
            "     46/100      19.9G      1.059     0.8359      1.329          3        640: 100% 320/320 [01:36<00:00,  3.30it/s]\n",
            "                 Class     Images  Instances      Box(P          R      mAP50  mAP50-95): 100% 20/20 [00:07<00:00,  2.76it/s]\n",
            "                   all       1603       1664      0.834      0.795      0.896      0.561\n",
            "\n",
            "      Epoch    GPU_mem   box_loss   cls_loss   dfl_loss  Instances       Size\n",
            "     47/100      19.8G      1.038     0.7899      1.333        101        640:   7% 23/320 [00:07<01:35,  3.10it/s]\n",
            "Traceback (most recent call last):\n",
            "  File \"/usr/local/bin/yolo\", line 8, in <module>\n",
            "    sys.exit(entrypoint())\n",
            "             ^^^^^^^^^^^^\n",
            "  File \"/usr/local/lib/python3.11/dist-packages/ultralytics/cfg/__init__.py\", line 987, in entrypoint\n",
            "    getattr(model, mode)(**overrides)  # default args from model\n",
            "    ^^^^^^^^^^^^^^^^^^^^^^^^^^^^^^^^^\n",
            "  File \"/usr/local/lib/python3.11/dist-packages/ultralytics/engine/model.py\", line 790, in train\n",
            "    self.trainer.train()\n",
            "  File \"/usr/local/lib/python3.11/dist-packages/ultralytics/engine/trainer.py\", line 210, in train\n",
            "    self._do_train(world_size)\n",
            "  File \"/usr/local/lib/python3.11/dist-packages/ultralytics/engine/trainer.py\", line 397, in _do_train\n",
            "    self.optimizer_step()\n",
            "  File \"/usr/local/lib/python3.11/dist-packages/ultralytics/engine/trainer.py\", line 621, in optimizer_step\n",
            "    self.ema.update(self.model)\n",
            "  File \"/usr/local/lib/python3.11/dist-packages/ultralytics/utils/torch_utils.py\", line 672, in update\n",
            "    v += (1 - d) * msd[k].detach()\n",
            "                   ^^^^^^^^^^^^^^^\n",
            "KeyboardInterrupt\n"
          ]
        }
      ]
    },
    {
      "cell_type": "markdown",
      "source": [
        "### ❗재시작"
      ],
      "metadata": {
        "id": "Is3biBMe4E-3"
      }
    },
    {
      "cell_type": "code",
      "source": [
        "!yolo detect train resume=True model='/content/drive/MyDrive/CAT_RUNS/runs/detect/train/weights/last.pt' epochs=100 imgsz=640 patience=10 batch=-1 seed=42 single_cls=True"
      ],
      "metadata": {
        "colab": {
          "base_uri": "https://localhost:8080/"
        },
        "id": "q-rcgZ9i4EYq",
        "outputId": "2905d321-6481-4014-a848-a53cf67dde8c"
      },
      "execution_count": 12,
      "outputs": [
        {
          "output_type": "stream",
          "name": "stdout",
          "text": [
            "Creating new Ultralytics Settings v0.0.6 file ✅ \n",
            "View Ultralytics Settings with 'yolo settings' or at '/root/.config/Ultralytics/settings.json'\n",
            "Update Settings with 'yolo settings key=value', i.e. 'yolo settings runs_dir=path/to/dir'. For help see https://docs.ultralytics.com/quickstart/#ultralytics-settings.\n",
            "Ultralytics 8.3.118 🚀 Python-3.11.12 torch-2.6.0+cu124 CUDA:0 (NVIDIA A100-SXM4-40GB, 40507MiB)\n",
            "\u001b[34m\u001b[1mengine/trainer: \u001b[0mtask=detect, mode=train, model=/content/drive/MyDrive/CAT_RUNS/runs/detect/train/weights/last.pt, data=/content/CAT/cat.yaml, epochs=100, time=None, patience=10, batch=-1, imgsz=640, save=True, save_period=-1, cache=False, device=None, workers=8, project=None, name=train, exist_ok=False, pretrained=True, optimizer=auto, verbose=True, seed=42, deterministic=True, single_cls=True, rect=False, cos_lr=False, close_mosaic=10, resume=/content/drive/MyDrive/CAT_RUNS/runs/detect/train/weights/last.pt, amp=True, fraction=1.0, profile=False, freeze=None, multi_scale=False, overlap_mask=True, mask_ratio=4, dropout=0.0, val=True, split=val, save_json=False, conf=None, iou=0.7, max_det=300, half=False, dnn=False, plots=True, source=None, vid_stride=1, stream_buffer=False, visualize=False, augment=False, agnostic_nms=False, classes=None, retina_masks=False, embed=None, show=False, save_frames=False, save_txt=False, save_conf=False, save_crop=False, show_labels=True, show_conf=True, show_boxes=True, line_width=None, format=torchscript, keras=False, optimize=False, int8=False, dynamic=False, simplify=True, opset=None, workspace=None, nms=False, lr0=0.01, lrf=0.01, momentum=0.937, weight_decay=0.0005, warmup_epochs=3.0, warmup_momentum=0.8, warmup_bias_lr=0.0, box=7.5, cls=0.5, dfl=1.5, pose=12.0, kobj=1.0, nbs=64, hsv_h=0.015, hsv_s=0.7, hsv_v=0.4, degrees=0.0, translate=0.1, scale=0.5, shear=0.0, perspective=0.0, flipud=0.0, fliplr=0.5, bgr=0.0, mosaic=1.0, mixup=0.0, copy_paste=0.0, copy_paste_mode=flip, auto_augment=randaugment, erasing=0.4, cfg=None, tracker=botsort.yaml, save_dir=runs/detect/train\n",
            "Downloading https://ultralytics.com/assets/Arial.ttf to '/root/.config/Ultralytics/Arial.ttf'...\n",
            "100% 755k/755k [00:00<00:00, 111MB/s]\n",
            "Overriding class names with single class.\n",
            "\n",
            "                   from  n    params  module                                       arguments                     \n",
            "  0                  -1  1      1856  ultralytics.nn.modules.conv.Conv             [3, 64, 3, 2]                 \n",
            "  1                  -1  1     73984  ultralytics.nn.modules.conv.Conv             [64, 128, 3, 2]               \n",
            "  2                  -1  1    111872  ultralytics.nn.modules.block.C3k2            [128, 256, 1, True, 0.25]     \n",
            "  3                  -1  1    590336  ultralytics.nn.modules.conv.Conv             [256, 256, 3, 2]              \n",
            "  4                  -1  1    444928  ultralytics.nn.modules.block.C3k2            [256, 512, 1, True, 0.25]     \n",
            "  5                  -1  1   2360320  ultralytics.nn.modules.conv.Conv             [512, 512, 3, 2]              \n",
            "  6                  -1  1   1380352  ultralytics.nn.modules.block.C3k2            [512, 512, 1, True]           \n",
            "  7                  -1  1   2360320  ultralytics.nn.modules.conv.Conv             [512, 512, 3, 2]              \n",
            "  8                  -1  1   1380352  ultralytics.nn.modules.block.C3k2            [512, 512, 1, True]           \n",
            "  9                  -1  1    656896  ultralytics.nn.modules.block.SPPF            [512, 512, 5]                 \n",
            " 10                  -1  1    990976  ultralytics.nn.modules.block.C2PSA           [512, 512, 1]                 \n",
            " 11                  -1  1         0  torch.nn.modules.upsampling.Upsample         [None, 2, 'nearest']          \n",
            " 12             [-1, 6]  1         0  ultralytics.nn.modules.conv.Concat           [1]                           \n",
            " 13                  -1  1   1642496  ultralytics.nn.modules.block.C3k2            [1024, 512, 1, True]          \n",
            " 14                  -1  1         0  torch.nn.modules.upsampling.Upsample         [None, 2, 'nearest']          \n",
            " 15             [-1, 4]  1         0  ultralytics.nn.modules.conv.Concat           [1]                           \n",
            " 16                  -1  1    542720  ultralytics.nn.modules.block.C3k2            [1024, 256, 1, True]          \n",
            " 17                  -1  1    590336  ultralytics.nn.modules.conv.Conv             [256, 256, 3, 2]              \n",
            " 18            [-1, 13]  1         0  ultralytics.nn.modules.conv.Concat           [1]                           \n",
            " 19                  -1  1   1511424  ultralytics.nn.modules.block.C3k2            [768, 512, 1, True]           \n",
            " 20                  -1  1   2360320  ultralytics.nn.modules.conv.Conv             [512, 512, 3, 2]              \n",
            " 21            [-1, 10]  1         0  ultralytics.nn.modules.conv.Concat           [1]                           \n",
            " 22                  -1  1   1642496  ultralytics.nn.modules.block.C3k2            [1024, 512, 1, True]          \n",
            " 23        [16, 19, 22]  1   1411795  ultralytics.nn.modules.head.Detect           [1, [256, 512, 512]]          \n",
            "YOLO11m summary: 231 layers, 20,053,779 parameters, 20,053,763 gradients, 68.2 GFLOPs\n",
            "\n",
            "Transferred 649/649 items from pretrained weights\n",
            "Freezing layer 'model.23.dfl.conv.weight'\n",
            "\u001b[34m\u001b[1mAMP: \u001b[0mrunning Automatic Mixed Precision (AMP) checks...\n",
            "Downloading https://github.com/ultralytics/assets/releases/download/v8.3.0/yolo11n.pt to 'yolo11n.pt'...\n",
            "100% 5.35M/5.35M [00:00<00:00, 317MB/s]\n",
            "\u001b[34m\u001b[1mAMP: \u001b[0mchecks passed ✅\n",
            "\u001b[34m\u001b[1mtrain: \u001b[0mFast image access ✅ (ping: 0.0±0.0 ms, read: 2297.4±1596.7 MB/s, size: 198.5 KB)\n",
            "\u001b[34m\u001b[1mtrain: \u001b[0mScanning /content/CAT/labels/train... 13081 images, 0 backgrounds, 0 corrupt: 100% 13081/13081 [00:09<00:00, 1344.09it/s]\n",
            "\u001b[34m\u001b[1mtrain: \u001b[0mNew cache created: /content/CAT/labels/train.cache\n",
            "\u001b[34m\u001b[1malbumentations: \u001b[0mBlur(p=0.01, blur_limit=(3, 7)), MedianBlur(p=0.01, blur_limit=(3, 7)), ToGray(p=0.01, num_output_channels=3, method='weighted_average'), CLAHE(p=0.01, clip_limit=(1.0, 4.0), tile_grid_size=(8, 8))\n",
            "\u001b[34m\u001b[1mAutoBatch: \u001b[0mComputing optimal batch size for imgsz=640 at 60.0% CUDA memory utilization.\n",
            "\u001b[34m\u001b[1mAutoBatch: \u001b[0mCUDA:0 (NVIDIA A100-SXM4-40GB) 39.56G total, 0.21G reserved, 0.21G allocated, 39.14G free\n",
            "      Params      GFLOPs  GPU_mem (GB)  forward (ms) backward (ms)                   input                  output\n",
            "    20053779       68.19         1.697         57.91         278.4        (1, 3, 640, 640)                    list\n",
            "    20053779       136.4         2.301         44.29         124.8        (2, 3, 640, 640)                    list\n",
            "    20053779       272.8         3.404         47.98         115.4        (4, 3, 640, 640)                    list\n",
            "    20053779       545.5         5.652         52.91         115.2        (8, 3, 640, 640)                    list\n",
            "    20053779        1091         9.708         56.89         124.4       (16, 3, 640, 640)                    list\n",
            "    20053779        2182        18.021         75.88         165.5       (32, 3, 640, 640)                    list\n",
            "    20053779        4364        34.731         154.2         258.2       (64, 3, 640, 640)                    list\n",
            "\u001b[34m\u001b[1mAutoBatch: \u001b[0mUsing batch-size 41 for CUDA:0 23.15G/39.56G (59%) ✅\n",
            "\u001b[34m\u001b[1mtrain: \u001b[0mFast image access ✅ (ping: 0.0±0.0 ms, read: 3361.6±945.2 MB/s, size: 247.9 KB)\n",
            "\u001b[34m\u001b[1mtrain: \u001b[0mScanning /content/CAT/labels/train.cache... 13081 images, 0 backgrounds, 0 corrupt: 100% 13081/13081 [00:00<?, ?it/s]\n",
            "\u001b[34m\u001b[1malbumentations: \u001b[0mBlur(p=0.01, blur_limit=(3, 7)), MedianBlur(p=0.01, blur_limit=(3, 7)), ToGray(p=0.01, num_output_channels=3, method='weighted_average'), CLAHE(p=0.01, clip_limit=(1.0, 4.0), tile_grid_size=(8, 8))\n",
            "\u001b[34m\u001b[1mval: \u001b[0mFast image access ✅ (ping: 0.0±0.0 ms, read: 2069.9±1658.9 MB/s, size: 206.0 KB)\n",
            "\u001b[34m\u001b[1mval: \u001b[0mScanning /content/CAT/labels/val... 1603 images, 0 backgrounds, 1 corrupt: 100% 1604/1604 [00:01<00:00, 1158.74it/s]\n",
            "\u001b[34m\u001b[1mval: \u001b[0m/content/CAT/images/val/C_62_20010123_CM_0020_NOR_Mu04_20211210_0252.jpg: ignoring corrupt image/label: image file is truncated (6 bytes not processed)\n",
            "\u001b[34m\u001b[1mval: \u001b[0mNew cache created: /content/CAT/labels/val.cache\n",
            "Plotting labels to runs/detect/train/labels.jpg... \n",
            "\u001b[34m\u001b[1moptimizer:\u001b[0m 'optimizer=auto' found, ignoring 'lr0=0.01' and 'momentum=0.937' and determining best 'optimizer', 'lr0' and 'momentum' automatically... \n",
            "\u001b[34m\u001b[1moptimizer:\u001b[0m SGD(lr=0.01, momentum=0.9) with parameter groups 106 weight(decay=0.0), 113 weight(decay=0.000640625), 112 bias(decay=0.0)\n",
            "Resuming training /content/drive/MyDrive/CAT_RUNS/runs/detect/train/weights/last.pt from epoch 47 to 100 total epochs\n",
            "Image sizes 640 train, 640 val\n",
            "Using 8 dataloader workers\n",
            "Logging results to \u001b[1mruns/detect/train\u001b[0m\n",
            "Starting training for 100 epochs...\n",
            "\n",
            "      Epoch    GPU_mem   box_loss   cls_loss   dfl_loss  Instances       Size\n",
            "     47/100        20G      1.049     0.8227      1.325          4        640: 100% 320/320 [01:37<00:00,  3.29it/s]\n",
            "                 Class     Images  Instances      Box(P          R      mAP50  mAP50-95): 100% 20/20 [00:08<00:00,  2.38it/s]\n",
            "                   all       1603       1664      0.811      0.808      0.891      0.562\n",
            "\n",
            "      Epoch    GPU_mem   box_loss   cls_loss   dfl_loss  Instances       Size\n",
            "     48/100      19.9G      1.044     0.8151      1.321          5        640: 100% 320/320 [01:37<00:00,  3.29it/s]\n",
            "                 Class     Images  Instances      Box(P          R      mAP50  mAP50-95): 100% 20/20 [00:07<00:00,  2.69it/s]\n",
            "                   all       1603       1664      0.837      0.782      0.897      0.563\n",
            "\n",
            "      Epoch    GPU_mem   box_loss   cls_loss   dfl_loss  Instances       Size\n",
            "     49/100      19.9G      1.048     0.8174      1.321          6        640: 100% 320/320 [01:37<00:00,  3.29it/s]\n",
            "                 Class     Images  Instances      Box(P          R      mAP50  mAP50-95): 100% 20/20 [00:07<00:00,  2.74it/s]\n",
            "                   all       1603       1664      0.823      0.791      0.889      0.556\n",
            "\n",
            "      Epoch    GPU_mem   box_loss   cls_loss   dfl_loss  Instances       Size\n",
            "     50/100      19.9G      1.045     0.8166      1.321          4        640: 100% 320/320 [01:36<00:00,  3.30it/s]\n",
            "                 Class     Images  Instances      Box(P          R      mAP50  mAP50-95): 100% 20/20 [00:07<00:00,  2.71it/s]\n",
            "                   all       1603       1664      0.802      0.794      0.888      0.557\n",
            "\n",
            "      Epoch    GPU_mem   box_loss   cls_loss   dfl_loss  Instances       Size\n",
            "     51/100      19.9G       1.04     0.8173       1.32          6        640: 100% 320/320 [01:37<00:00,  3.29it/s]\n",
            "                 Class     Images  Instances      Box(P          R      mAP50  mAP50-95): 100% 20/20 [00:07<00:00,  2.76it/s]\n",
            "                   all       1603       1664      0.821      0.793       0.89       0.56\n",
            "\n",
            "      Epoch    GPU_mem   box_loss   cls_loss   dfl_loss  Instances       Size\n",
            "     52/100      19.9G      1.041     0.8167      1.321          2        640: 100% 320/320 [01:37<00:00,  3.30it/s]\n",
            "                 Class     Images  Instances      Box(P          R      mAP50  mAP50-95): 100% 20/20 [00:07<00:00,  2.70it/s]\n",
            "                   all       1603       1664      0.833       0.79      0.885      0.555\n",
            "\n",
            "      Epoch    GPU_mem   box_loss   cls_loss   dfl_loss  Instances       Size\n",
            "     53/100      19.9G      1.039     0.8049      1.316          8        640: 100% 320/320 [01:36<00:00,  3.30it/s]\n",
            "                 Class     Images  Instances      Box(P          R      mAP50  mAP50-95): 100% 20/20 [00:07<00:00,  2.72it/s]\n",
            "                   all       1603       1664      0.825       0.79      0.885      0.559\n",
            "\n",
            "      Epoch    GPU_mem   box_loss   cls_loss   dfl_loss  Instances       Size\n",
            "     54/100      19.9G       1.03     0.8047      1.313          2        640: 100% 320/320 [01:37<00:00,  3.29it/s]\n",
            "                 Class     Images  Instances      Box(P          R      mAP50  mAP50-95): 100% 20/20 [00:07<00:00,  2.74it/s]\n",
            "                   all       1603       1664      0.828      0.784      0.885      0.557\n",
            "\n",
            "      Epoch    GPU_mem   box_loss   cls_loss   dfl_loss  Instances       Size\n",
            "     55/100      19.9G      1.035     0.8045      1.314          6        640: 100% 320/320 [01:37<00:00,  3.29it/s]\n",
            "                 Class     Images  Instances      Box(P          R      mAP50  mAP50-95): 100% 20/20 [00:07<00:00,  2.73it/s]\n",
            "                   all       1603       1664      0.837      0.782       0.89      0.558\n",
            "\n",
            "      Epoch    GPU_mem   box_loss   cls_loss   dfl_loss  Instances       Size\n",
            "     56/100      19.9G      1.038     0.8052      1.319          5        640: 100% 320/320 [01:37<00:00,  3.30it/s]\n",
            "                 Class     Images  Instances      Box(P          R      mAP50  mAP50-95): 100% 20/20 [00:07<00:00,  2.70it/s]\n",
            "                   all       1603       1664      0.813      0.804      0.886      0.555\n",
            "\n",
            "      Epoch    GPU_mem   box_loss   cls_loss   dfl_loss  Instances       Size\n",
            "     57/100      19.9G      1.031     0.8006      1.312          3        640: 100% 320/320 [01:37<00:00,  3.29it/s]\n",
            "                 Class     Images  Instances      Box(P          R      mAP50  mAP50-95): 100% 20/20 [00:07<00:00,  2.69it/s]\n",
            "                   all       1603       1664      0.817      0.803      0.886      0.555\n",
            "\n",
            "      Epoch    GPU_mem   box_loss   cls_loss   dfl_loss  Instances       Size\n",
            "     58/100      19.9G      1.024     0.7965      1.312          5        640: 100% 320/320 [01:37<00:00,  3.30it/s]\n",
            "                 Class     Images  Instances      Box(P          R      mAP50  mAP50-95): 100% 20/20 [00:07<00:00,  2.73it/s]\n",
            "                   all       1603       1664      0.821      0.795      0.887      0.556\n",
            "\u001b[34m\u001b[1mEarlyStopping: \u001b[0mTraining stopped early as no improvement observed in last 10 epochs. Best results observed at epoch 48, best model saved as best.pt.\n",
            "To update EarlyStopping(patience=10) pass a new patience value, i.e. `patience=300` or use `patience=0` to disable EarlyStopping.\n",
            "\n",
            "12 epochs completed in 0.351 hours.\n",
            "Optimizer stripped from runs/detect/train/weights/last.pt, 40.5MB\n",
            "💡 Learn more at https://docs.ultralytics.com/modes/train\n"
          ]
        }
      ]
    },
    {
      "cell_type": "code",
      "source": [
        "#!rm -rf /content/runs/detect/train3"
      ],
      "metadata": {
        "id": "To7PrJITGqTA"
      },
      "execution_count": null,
      "outputs": []
    },
    {
      "cell_type": "code",
      "source": [
        "#이어서 학습\n",
        "!yolo detect train resume=True model='/content/drive/MyDrive/yolo_runs/cat/weights/last.pt'\n"
      ],
      "metadata": {
        "id": "5pJUkoCTtscq"
      },
      "execution_count": null,
      "outputs": []
    },
    {
      "cell_type": "code",
      "source": [
        "#모델 학습 과정 확인\n",
        "%load_ext tensorboard\n",
        "%tensorboard --logdir /content/drive/MyDrive/CAT_RUNS/runs1/detect/train"
      ],
      "metadata": {
        "id": "qHXPlobpD0rf"
      },
      "execution_count": null,
      "outputs": []
    }
  ]
}